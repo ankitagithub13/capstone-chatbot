{
  "nbformat": 4,
  "nbformat_minor": 0,
  "metadata": {
    "accelerator": "GPU",
    "colab": {
      "name": "Vanila_BERT_ChatBot.ipynb",
      "provenance": [],
      "collapsed_sections": [],
      "include_colab_link": true
    },
    "kernelspec": {
      "display_name": "Python 3",
      "language": "python",
      "name": "python3"
    },
    "language_info": {
      "codemirror_mode": {
        "name": "ipython",
        "version": 3
      },
      "file_extension": ".py",
      "mimetype": "text/x-python",
      "name": "python",
      "nbconvert_exporter": "python",
      "pygments_lexer": "ipython3",
      "version": "3.8.3"
    }
  },
  "cells": [
    {
      "cell_type": "markdown",
      "metadata": {
        "id": "view-in-github",
        "colab_type": "text"
      },
      "source": [
        "<a href=\"https://colab.research.google.com/github/ankitagithub13/capstone-chatbot/blob/Modeling/Vanila_BERT_ChatBot.ipynb\" target=\"_parent\"><img src=\"https://colab.research.google.com/assets/colab-badge.svg\" alt=\"Open In Colab\"/></a>"
      ]
    },
    {
      "cell_type": "code",
      "metadata": {
        "colab": {
          "base_uri": "https://localhost:8080/"
        },
        "id": "fIWzyz3ELbCc",
        "outputId": "68ac9630-d983-434a-b871-58d7be0c34af"
      },
      "source": [
        "from google.colab import drive\n",
        "drive.mount(\"/content/gdrive\")"
      ],
      "execution_count": 1,
      "outputs": [
        {
          "output_type": "stream",
          "text": [
            "Mounted at /content/gdrive\n"
          ],
          "name": "stdout"
        }
      ]
    },
    {
      "cell_type": "code",
      "metadata": {
        "id": "Fl2qYm88Lmge"
      },
      "source": [
        "# Setting the current working directory\n",
        "\n",
        "import sys\n",
        "import os\n",
        "\n",
        "py_file_location = \"/content/gdrive/My Drive\"\n",
        "sys.path.append(os.path.abspath(py_file_location))"
      ],
      "execution_count": null,
      "outputs": []
    },
    {
      "cell_type": "code",
      "metadata": {
        "colab": {
          "base_uri": "https://localhost:8080/"
        },
        "id": "esguF0dzLmaR",
        "outputId": "b4b342e9-5dd6-4b2c-c153-08bafd2830b0"
      },
      "source": [
        "import numpy as np\n",
        "import pandas as pd\n",
        "import spacy\n",
        "import nltk\n",
        "import re\n",
        "\n",
        "nltk.download('wordnet')\n",
        "nltk.download('stopwords')\n",
        "nltk.download('punkt')\n",
        "\n",
        "from sklearn.model_selection import train_test_split\n",
        "from sklearn.preprocessing import LabelEncoder\n",
        "from nltk import stem,tokenize\n",
        "from nltk.tokenize import ToktokTokenizer\n",
        "from nltk.util import ngrams\n",
        "from nltk.stem import WordNetLemmatizer,PorterStemmer\n",
        "from wordcloud import WordCloud, STOPWORDS\n",
        "import os\n",
        "from sklearn.feature_extraction.text import TfidfVectorizer\n",
        "from nltk import tokenize,stem\n",
        "from nltk.tokenize import word_tokenize\n",
        "\n",
        "#Import necessary libraries\n",
        "import warnings\n",
        "warnings.filterwarnings('ignore')\n",
        "\n",
        "import matplotlib.pyplot as plt\n",
        "import seaborn as sns"
      ],
      "execution_count": 2,
      "outputs": [
        {
          "output_type": "stream",
          "text": [
            "[nltk_data] Downloading package wordnet to /root/nltk_data...\n",
            "[nltk_data]   Unzipping corpora/wordnet.zip.\n",
            "[nltk_data] Downloading package stopwords to /root/nltk_data...\n",
            "[nltk_data]   Unzipping corpora/stopwords.zip.\n",
            "[nltk_data] Downloading package punkt to /root/nltk_data...\n",
            "[nltk_data]   Unzipping tokenizers/punkt.zip.\n"
          ],
          "name": "stdout"
        }
      ]
    },
    {
      "cell_type": "code",
      "metadata": {
        "id": "Fqsx4IKSLmUD"
      },
      "source": [
        "df = pd.read_csv('/content/gdrive/My Drive/Data Set - industrial_safety_and_health_database_with_accidents_description.csv',index_col=False)"
      ],
      "execution_count": 3,
      "outputs": []
    },
    {
      "cell_type": "code",
      "metadata": {
        "colab": {
          "base_uri": "https://localhost:8080/",
          "height": 425
        },
        "id": "kQ7z7X5GLmRP",
        "outputId": "cbbf5ea0-5f89-418f-c266-344cd6ea69ee"
      },
      "source": [
        "print(df.shape)\n",
        "\n",
        "df.head()"
      ],
      "execution_count": 4,
      "outputs": [
        {
          "output_type": "stream",
          "text": [
            "(425, 11)\n"
          ],
          "name": "stdout"
        },
        {
          "output_type": "execute_result",
          "data": {
            "text/html": [
              "<div>\n",
              "<style scoped>\n",
              "    .dataframe tbody tr th:only-of-type {\n",
              "        vertical-align: middle;\n",
              "    }\n",
              "\n",
              "    .dataframe tbody tr th {\n",
              "        vertical-align: top;\n",
              "    }\n",
              "\n",
              "    .dataframe thead th {\n",
              "        text-align: right;\n",
              "    }\n",
              "</style>\n",
              "<table border=\"1\" class=\"dataframe\">\n",
              "  <thead>\n",
              "    <tr style=\"text-align: right;\">\n",
              "      <th></th>\n",
              "      <th>Unnamed: 0</th>\n",
              "      <th>Data</th>\n",
              "      <th>Countries</th>\n",
              "      <th>Local</th>\n",
              "      <th>Industry Sector</th>\n",
              "      <th>Accident Level</th>\n",
              "      <th>Potential Accident Level</th>\n",
              "      <th>Genre</th>\n",
              "      <th>Employee or Third Party</th>\n",
              "      <th>Critical Risk</th>\n",
              "      <th>Description</th>\n",
              "    </tr>\n",
              "  </thead>\n",
              "  <tbody>\n",
              "    <tr>\n",
              "      <th>0</th>\n",
              "      <td>0</td>\n",
              "      <td>2016-01-01 00:00:00</td>\n",
              "      <td>Country_01</td>\n",
              "      <td>Local_01</td>\n",
              "      <td>Mining</td>\n",
              "      <td>I</td>\n",
              "      <td>IV</td>\n",
              "      <td>Male</td>\n",
              "      <td>Third Party</td>\n",
              "      <td>Pressed</td>\n",
              "      <td>While removing the drill rod of the Jumbo 08 f...</td>\n",
              "    </tr>\n",
              "    <tr>\n",
              "      <th>1</th>\n",
              "      <td>1</td>\n",
              "      <td>2016-01-02 00:00:00</td>\n",
              "      <td>Country_02</td>\n",
              "      <td>Local_02</td>\n",
              "      <td>Mining</td>\n",
              "      <td>I</td>\n",
              "      <td>IV</td>\n",
              "      <td>Male</td>\n",
              "      <td>Employee</td>\n",
              "      <td>Pressurized Systems</td>\n",
              "      <td>During the activation of a sodium sulphide pum...</td>\n",
              "    </tr>\n",
              "    <tr>\n",
              "      <th>2</th>\n",
              "      <td>2</td>\n",
              "      <td>2016-01-06 00:00:00</td>\n",
              "      <td>Country_01</td>\n",
              "      <td>Local_03</td>\n",
              "      <td>Mining</td>\n",
              "      <td>I</td>\n",
              "      <td>III</td>\n",
              "      <td>Male</td>\n",
              "      <td>Third Party (Remote)</td>\n",
              "      <td>Manual Tools</td>\n",
              "      <td>In the sub-station MILPO located at level +170...</td>\n",
              "    </tr>\n",
              "    <tr>\n",
              "      <th>3</th>\n",
              "      <td>3</td>\n",
              "      <td>2016-01-08 00:00:00</td>\n",
              "      <td>Country_01</td>\n",
              "      <td>Local_04</td>\n",
              "      <td>Mining</td>\n",
              "      <td>I</td>\n",
              "      <td>I</td>\n",
              "      <td>Male</td>\n",
              "      <td>Third Party</td>\n",
              "      <td>Others</td>\n",
              "      <td>Being 9:45 am. approximately in the Nv. 1880 C...</td>\n",
              "    </tr>\n",
              "    <tr>\n",
              "      <th>4</th>\n",
              "      <td>4</td>\n",
              "      <td>2016-01-10 00:00:00</td>\n",
              "      <td>Country_01</td>\n",
              "      <td>Local_04</td>\n",
              "      <td>Mining</td>\n",
              "      <td>IV</td>\n",
              "      <td>IV</td>\n",
              "      <td>Male</td>\n",
              "      <td>Third Party</td>\n",
              "      <td>Others</td>\n",
              "      <td>Approximately at 11:45 a.m. in circumstances t...</td>\n",
              "    </tr>\n",
              "  </tbody>\n",
              "</table>\n",
              "</div>"
            ],
            "text/plain": [
              "   Unnamed: 0  ...                                        Description\n",
              "0           0  ...  While removing the drill rod of the Jumbo 08 f...\n",
              "1           1  ...  During the activation of a sodium sulphide pum...\n",
              "2           2  ...  In the sub-station MILPO located at level +170...\n",
              "3           3  ...  Being 9:45 am. approximately in the Nv. 1880 C...\n",
              "4           4  ...  Approximately at 11:45 a.m. in circumstances t...\n",
              "\n",
              "[5 rows x 11 columns]"
            ]
          },
          "metadata": {
            "tags": []
          },
          "execution_count": 4
        }
      ]
    },
    {
      "cell_type": "code",
      "metadata": {
        "colab": {
          "base_uri": "https://localhost:8080/",
          "height": 210
        },
        "id": "2VgBjyp9LmOV",
        "outputId": "5e17eed9-1f0f-484a-b522-0570921b747e"
      },
      "source": [
        "# Drop and Rename Columns \n",
        "df.drop(\"Unnamed: 0\", axis=1, inplace=True)\n",
        "df.rename(columns={'Data':'Date', 'Countries':'Country', 'Genre':'Gender', 'Employee or Third Party':'Employee type'}, inplace=True)\n",
        "df.head(3)"
      ],
      "execution_count": 5,
      "outputs": [
        {
          "output_type": "execute_result",
          "data": {
            "text/html": [
              "<div>\n",
              "<style scoped>\n",
              "    .dataframe tbody tr th:only-of-type {\n",
              "        vertical-align: middle;\n",
              "    }\n",
              "\n",
              "    .dataframe tbody tr th {\n",
              "        vertical-align: top;\n",
              "    }\n",
              "\n",
              "    .dataframe thead th {\n",
              "        text-align: right;\n",
              "    }\n",
              "</style>\n",
              "<table border=\"1\" class=\"dataframe\">\n",
              "  <thead>\n",
              "    <tr style=\"text-align: right;\">\n",
              "      <th></th>\n",
              "      <th>Date</th>\n",
              "      <th>Country</th>\n",
              "      <th>Local</th>\n",
              "      <th>Industry Sector</th>\n",
              "      <th>Accident Level</th>\n",
              "      <th>Potential Accident Level</th>\n",
              "      <th>Gender</th>\n",
              "      <th>Employee type</th>\n",
              "      <th>Critical Risk</th>\n",
              "      <th>Description</th>\n",
              "    </tr>\n",
              "  </thead>\n",
              "  <tbody>\n",
              "    <tr>\n",
              "      <th>0</th>\n",
              "      <td>2016-01-01 00:00:00</td>\n",
              "      <td>Country_01</td>\n",
              "      <td>Local_01</td>\n",
              "      <td>Mining</td>\n",
              "      <td>I</td>\n",
              "      <td>IV</td>\n",
              "      <td>Male</td>\n",
              "      <td>Third Party</td>\n",
              "      <td>Pressed</td>\n",
              "      <td>While removing the drill rod of the Jumbo 08 f...</td>\n",
              "    </tr>\n",
              "    <tr>\n",
              "      <th>1</th>\n",
              "      <td>2016-01-02 00:00:00</td>\n",
              "      <td>Country_02</td>\n",
              "      <td>Local_02</td>\n",
              "      <td>Mining</td>\n",
              "      <td>I</td>\n",
              "      <td>IV</td>\n",
              "      <td>Male</td>\n",
              "      <td>Employee</td>\n",
              "      <td>Pressurized Systems</td>\n",
              "      <td>During the activation of a sodium sulphide pum...</td>\n",
              "    </tr>\n",
              "    <tr>\n",
              "      <th>2</th>\n",
              "      <td>2016-01-06 00:00:00</td>\n",
              "      <td>Country_01</td>\n",
              "      <td>Local_03</td>\n",
              "      <td>Mining</td>\n",
              "      <td>I</td>\n",
              "      <td>III</td>\n",
              "      <td>Male</td>\n",
              "      <td>Third Party (Remote)</td>\n",
              "      <td>Manual Tools</td>\n",
              "      <td>In the sub-station MILPO located at level +170...</td>\n",
              "    </tr>\n",
              "  </tbody>\n",
              "</table>\n",
              "</div>"
            ],
            "text/plain": [
              "                  Date  ...                                        Description\n",
              "0  2016-01-01 00:00:00  ...  While removing the drill rod of the Jumbo 08 f...\n",
              "1  2016-01-02 00:00:00  ...  During the activation of a sodium sulphide pum...\n",
              "2  2016-01-06 00:00:00  ...  In the sub-station MILPO located at level +170...\n",
              "\n",
              "[3 rows x 10 columns]"
            ]
          },
          "metadata": {
            "tags": []
          },
          "execution_count": 5
        }
      ]
    },
    {
      "cell_type": "code",
      "metadata": {
        "colab": {
          "base_uri": "https://localhost:8080/"
        },
        "id": "BmLdyEWJL-G8",
        "outputId": "7938cabe-c150-4898-a247-b52a71b134fb"
      },
      "source": [
        "df.columns"
      ],
      "execution_count": 6,
      "outputs": [
        {
          "output_type": "execute_result",
          "data": {
            "text/plain": [
              "Index(['Date', 'Country', 'Local', 'Industry Sector', 'Accident Level',\n",
              "       'Potential Accident Level', 'Gender', 'Employee type', 'Critical Risk',\n",
              "       'Description'],\n",
              "      dtype='object')"
            ]
          },
          "metadata": {
            "tags": []
          },
          "execution_count": 6
        }
      ]
    },
    {
      "cell_type": "code",
      "metadata": {
        "colab": {
          "base_uri": "https://localhost:8080/"
        },
        "id": "SP2lXb4ML-Jx",
        "outputId": "04b08d75-0bf5-410a-f38a-55f85606f6df"
      },
      "source": [
        "# Check Null Values\n",
        "df.isnull().sum()"
      ],
      "execution_count": 7,
      "outputs": [
        {
          "output_type": "execute_result",
          "data": {
            "text/plain": [
              "Date                        0\n",
              "Country                     0\n",
              "Local                       0\n",
              "Industry Sector             0\n",
              "Accident Level              0\n",
              "Potential Accident Level    0\n",
              "Gender                      0\n",
              "Employee type               0\n",
              "Critical Risk               0\n",
              "Description                 0\n",
              "dtype: int64"
            ]
          },
          "metadata": {
            "tags": []
          },
          "execution_count": 7
        }
      ]
    },
    {
      "cell_type": "markdown",
      "metadata": {
        "id": "P6cFo6b9Dgg0"
      },
      "source": [
        "**Preprocess**"
      ]
    },
    {
      "cell_type": "code",
      "metadata": {
        "id": "1Mlu_vKHL-Mo",
        "colab": {
          "base_uri": "https://localhost:8080/"
        },
        "outputId": "5ac74989-e8e3-4bfc-fc25-99011823e05a"
      },
      "source": [
        "# Add this pre_processor.py file in temp location to execute this\n",
        "import pre_processor\n",
        "from pre_processor import pre_process_data\n",
        "\n",
        "x = pre_process_data()\n",
        "\n",
        "df[\"CleanDescription\"] = x.pre_process(df['Description'], \n",
        "                    lower_flag=1,\n",
        "                    remove_spaces_flag=1, \n",
        "                    remove_new_line_flag=1,\n",
        "                    remove_special_char_flag=1,  \n",
        "                    remove_numbers_flag=1,  \n",
        "                    replace_appos_flag=1,\n",
        "                    remove_stop_words_flag=1,  \n",
        "                    remove_single_letter_word_flag=1,\n",
        "                    remove_two_letter_word_flag=1,\n",
        "                    lemmatize_the_words_flag=0, \n",
        "                    stem_the_words_flag=0)"
      ],
      "execution_count": 9,
      "outputs": [
        {
          "output_type": "stream",
          "text": [
            "[nltk_data] Downloading package wordnet to /root/nltk_data...\n",
            "[nltk_data]   Package wordnet is already up-to-date!\n",
            "[nltk_data] Downloading package stopwords to /root/nltk_data...\n",
            "[nltk_data]   Package stopwords is already up-to-date!\n"
          ],
          "name": "stdout"
        }
      ]
    },
    {
      "cell_type": "code",
      "metadata": {
        "colab": {
          "base_uri": "https://localhost:8080/",
          "height": 204
        },
        "id": "Dk6pRGv5L-Pz",
        "outputId": "fd618b5b-77bf-4ea5-8320-6566bf1bb5f2"
      },
      "source": [
        "df[['Description','CleanDescription']].head()"
      ],
      "execution_count": 10,
      "outputs": [
        {
          "output_type": "execute_result",
          "data": {
            "text/html": [
              "<div>\n",
              "<style scoped>\n",
              "    .dataframe tbody tr th:only-of-type {\n",
              "        vertical-align: middle;\n",
              "    }\n",
              "\n",
              "    .dataframe tbody tr th {\n",
              "        vertical-align: top;\n",
              "    }\n",
              "\n",
              "    .dataframe thead th {\n",
              "        text-align: right;\n",
              "    }\n",
              "</style>\n",
              "<table border=\"1\" class=\"dataframe\">\n",
              "  <thead>\n",
              "    <tr style=\"text-align: right;\">\n",
              "      <th></th>\n",
              "      <th>Description</th>\n",
              "      <th>CleanDescription</th>\n",
              "    </tr>\n",
              "  </thead>\n",
              "  <tbody>\n",
              "    <tr>\n",
              "      <th>0</th>\n",
              "      <td>While removing the drill rod of the Jumbo 08 f...</td>\n",
              "      <td>removing drill rod jumbo maintenance superviso...</td>\n",
              "    </tr>\n",
              "    <tr>\n",
              "      <th>1</th>\n",
              "      <td>During the activation of a sodium sulphide pum...</td>\n",
              "      <td>activation sodium sulphide pump piping uncoupl...</td>\n",
              "    </tr>\n",
              "    <tr>\n",
              "      <th>2</th>\n",
              "      <td>In the sub-station MILPO located at level +170...</td>\n",
              "      <td>substation milpo located level collaborator ex...</td>\n",
              "    </tr>\n",
              "    <tr>\n",
              "      <th>3</th>\n",
              "      <td>Being 9:45 am. approximately in the Nv. 1880 C...</td>\n",
              "      <td>approximately cx personnel begins task unlocki...</td>\n",
              "    </tr>\n",
              "    <tr>\n",
              "      <th>4</th>\n",
              "      <td>Approximately at 11:45 a.m. in circumstances t...</td>\n",
              "      <td>approximately circumstances mechanics anthony ...</td>\n",
              "    </tr>\n",
              "  </tbody>\n",
              "</table>\n",
              "</div>"
            ],
            "text/plain": [
              "                                         Description                                   CleanDescription\n",
              "0  While removing the drill rod of the Jumbo 08 f...  removing drill rod jumbo maintenance superviso...\n",
              "1  During the activation of a sodium sulphide pum...  activation sodium sulphide pump piping uncoupl...\n",
              "2  In the sub-station MILPO located at level +170...  substation milpo located level collaborator ex...\n",
              "3  Being 9:45 am. approximately in the Nv. 1880 C...  approximately cx personnel begins task unlocki...\n",
              "4  Approximately at 11:45 a.m. in circumstances t...  approximately circumstances mechanics anthony ..."
            ]
          },
          "metadata": {
            "tags": []
          },
          "execution_count": 10
        }
      ]
    },
    {
      "cell_type": "code",
      "metadata": {
        "colab": {
          "base_uri": "https://localhost:8080/"
        },
        "id": "PsiF--2bL-SR",
        "outputId": "462777df-458f-4c9e-c94d-f0262f0c54a5"
      },
      "source": [
        "df['Potential Accident Level'].head()"
      ],
      "execution_count": 11,
      "outputs": [
        {
          "output_type": "execute_result",
          "data": {
            "text/plain": [
              "0     IV\n",
              "1     IV\n",
              "2    III\n",
              "3      I\n",
              "4     IV\n",
              "Name: Potential Accident Level, dtype: object"
            ]
          },
          "metadata": {
            "tags": []
          },
          "execution_count": 11
        }
      ]
    },
    {
      "cell_type": "code",
      "metadata": {
        "colab": {
          "base_uri": "https://localhost:8080/"
        },
        "id": "GB3MvARSNiOb",
        "outputId": "3616bbc2-8c28-476e-8b6f-a38abc2749e8"
      },
      "source": [
        "df['Potential Accident Level'].unique()"
      ],
      "execution_count": 12,
      "outputs": [
        {
          "output_type": "execute_result",
          "data": {
            "text/plain": [
              "array(['IV', 'III', 'I', 'II', 'V', 'VI'], dtype=object)"
            ]
          },
          "metadata": {
            "tags": []
          },
          "execution_count": 12
        }
      ]
    },
    {
      "cell_type": "code",
      "metadata": {
        "id": "x4zyhqoVNiRh"
      },
      "source": [
        "df['PAL_label'] = df['Potential Accident Level'].replace({'I' :0, 'II':1, 'III':2, 'IV':3, 'V':4, 'VI':4})"
      ],
      "execution_count": 13,
      "outputs": []
    },
    {
      "cell_type": "code",
      "metadata": {
        "colab": {
          "base_uri": "https://localhost:8080/"
        },
        "id": "o81Sr3ngNiUR",
        "outputId": "feef4930-43ba-4833-b9ad-68f6b88501cf"
      },
      "source": [
        "df.PAL_label.unique()"
      ],
      "execution_count": 14,
      "outputs": [
        {
          "output_type": "execute_result",
          "data": {
            "text/plain": [
              "array([3, 2, 0, 1, 4])"
            ]
          },
          "metadata": {
            "tags": []
          },
          "execution_count": 14
        }
      ]
    },
    {
      "cell_type": "code",
      "metadata": {
        "id": "pdhy9PbfOMz5"
      },
      "source": [
        ""
      ],
      "execution_count": null,
      "outputs": []
    },
    {
      "cell_type": "markdown",
      "metadata": {
        "id": "DjFLpHSuNMF7"
      },
      "source": [
        "***BERT***"
      ]
    },
    {
      "cell_type": "code",
      "metadata": {
        "id": "Xop_4Q7_eEPU"
      },
      "source": [
        "!wget --quiet https://raw.githubusercontent.com/tensorflow/models/master/official/nlp/bert/tokenization.py"
      ],
      "execution_count": 16,
      "outputs": []
    },
    {
      "cell_type": "code",
      "metadata": {
        "colab": {
          "base_uri": "https://localhost:8080/"
        },
        "id": "kzEaop0teuTb",
        "outputId": "2f839acc-04f0-426b-93f4-c74dcd70883f"
      },
      "source": [
        "!pip install sentencepiece"
      ],
      "execution_count": 17,
      "outputs": [
        {
          "output_type": "stream",
          "text": [
            "Collecting sentencepiece\n",
            "  Downloading sentencepiece-0.1.96-cp37-cp37m-manylinux_2_17_x86_64.manylinux2014_x86_64.whl (1.2 MB)\n",
            "\u001b[?25l\r\u001b[K     |▎                               | 10 kB 21.4 MB/s eta 0:00:01\r\u001b[K     |▌                               | 20 kB 26.2 MB/s eta 0:00:01\r\u001b[K     |▉                               | 30 kB 19.7 MB/s eta 0:00:01\r\u001b[K     |█                               | 40 kB 16.2 MB/s eta 0:00:01\r\u001b[K     |█▍                              | 51 kB 9.2 MB/s eta 0:00:01\r\u001b[K     |█▋                              | 61 kB 9.5 MB/s eta 0:00:01\r\u001b[K     |██                              | 71 kB 9.2 MB/s eta 0:00:01\r\u001b[K     |██▏                             | 81 kB 10.3 MB/s eta 0:00:01\r\u001b[K     |██▍                             | 92 kB 10.6 MB/s eta 0:00:01\r\u001b[K     |██▊                             | 102 kB 8.9 MB/s eta 0:00:01\r\u001b[K     |███                             | 112 kB 8.9 MB/s eta 0:00:01\r\u001b[K     |███▎                            | 122 kB 8.9 MB/s eta 0:00:01\r\u001b[K     |███▌                            | 133 kB 8.9 MB/s eta 0:00:01\r\u001b[K     |███▉                            | 143 kB 8.9 MB/s eta 0:00:01\r\u001b[K     |████                            | 153 kB 8.9 MB/s eta 0:00:01\r\u001b[K     |████▎                           | 163 kB 8.9 MB/s eta 0:00:01\r\u001b[K     |████▋                           | 174 kB 8.9 MB/s eta 0:00:01\r\u001b[K     |████▉                           | 184 kB 8.9 MB/s eta 0:00:01\r\u001b[K     |█████▏                          | 194 kB 8.9 MB/s eta 0:00:01\r\u001b[K     |█████▍                          | 204 kB 8.9 MB/s eta 0:00:01\r\u001b[K     |█████▊                          | 215 kB 8.9 MB/s eta 0:00:01\r\u001b[K     |██████                          | 225 kB 8.9 MB/s eta 0:00:01\r\u001b[K     |██████▏                         | 235 kB 8.9 MB/s eta 0:00:01\r\u001b[K     |██████▌                         | 245 kB 8.9 MB/s eta 0:00:01\r\u001b[K     |██████▊                         | 256 kB 8.9 MB/s eta 0:00:01\r\u001b[K     |███████                         | 266 kB 8.9 MB/s eta 0:00:01\r\u001b[K     |███████▎                        | 276 kB 8.9 MB/s eta 0:00:01\r\u001b[K     |███████▋                        | 286 kB 8.9 MB/s eta 0:00:01\r\u001b[K     |███████▉                        | 296 kB 8.9 MB/s eta 0:00:01\r\u001b[K     |████████                        | 307 kB 8.9 MB/s eta 0:00:01\r\u001b[K     |████████▍                       | 317 kB 8.9 MB/s eta 0:00:01\r\u001b[K     |████████▋                       | 327 kB 8.9 MB/s eta 0:00:01\r\u001b[K     |█████████                       | 337 kB 8.9 MB/s eta 0:00:01\r\u001b[K     |█████████▏                      | 348 kB 8.9 MB/s eta 0:00:01\r\u001b[K     |█████████▌                      | 358 kB 8.9 MB/s eta 0:00:01\r\u001b[K     |█████████▊                      | 368 kB 8.9 MB/s eta 0:00:01\r\u001b[K     |██████████                      | 378 kB 8.9 MB/s eta 0:00:01\r\u001b[K     |██████████▎                     | 389 kB 8.9 MB/s eta 0:00:01\r\u001b[K     |██████████▌                     | 399 kB 8.9 MB/s eta 0:00:01\r\u001b[K     |██████████▉                     | 409 kB 8.9 MB/s eta 0:00:01\r\u001b[K     |███████████                     | 419 kB 8.9 MB/s eta 0:00:01\r\u001b[K     |███████████▍                    | 430 kB 8.9 MB/s eta 0:00:01\r\u001b[K     |███████████▋                    | 440 kB 8.9 MB/s eta 0:00:01\r\u001b[K     |███████████▉                    | 450 kB 8.9 MB/s eta 0:00:01\r\u001b[K     |████████████▏                   | 460 kB 8.9 MB/s eta 0:00:01\r\u001b[K     |████████████▍                   | 471 kB 8.9 MB/s eta 0:00:01\r\u001b[K     |████████████▊                   | 481 kB 8.9 MB/s eta 0:00:01\r\u001b[K     |█████████████                   | 491 kB 8.9 MB/s eta 0:00:01\r\u001b[K     |█████████████▎                  | 501 kB 8.9 MB/s eta 0:00:01\r\u001b[K     |█████████████▌                  | 512 kB 8.9 MB/s eta 0:00:01\r\u001b[K     |█████████████▊                  | 522 kB 8.9 MB/s eta 0:00:01\r\u001b[K     |██████████████                  | 532 kB 8.9 MB/s eta 0:00:01\r\u001b[K     |██████████████▎                 | 542 kB 8.9 MB/s eta 0:00:01\r\u001b[K     |██████████████▋                 | 552 kB 8.9 MB/s eta 0:00:01\r\u001b[K     |██████████████▉                 | 563 kB 8.9 MB/s eta 0:00:01\r\u001b[K     |███████████████▏                | 573 kB 8.9 MB/s eta 0:00:01\r\u001b[K     |███████████████▍                | 583 kB 8.9 MB/s eta 0:00:01\r\u001b[K     |███████████████▋                | 593 kB 8.9 MB/s eta 0:00:01\r\u001b[K     |████████████████                | 604 kB 8.9 MB/s eta 0:00:01\r\u001b[K     |████████████████▏               | 614 kB 8.9 MB/s eta 0:00:01\r\u001b[K     |████████████████▌               | 624 kB 8.9 MB/s eta 0:00:01\r\u001b[K     |████████████████▊               | 634 kB 8.9 MB/s eta 0:00:01\r\u001b[K     |█████████████████               | 645 kB 8.9 MB/s eta 0:00:01\r\u001b[K     |█████████████████▎              | 655 kB 8.9 MB/s eta 0:00:01\r\u001b[K     |█████████████████▌              | 665 kB 8.9 MB/s eta 0:00:01\r\u001b[K     |█████████████████▉              | 675 kB 8.9 MB/s eta 0:00:01\r\u001b[K     |██████████████████              | 686 kB 8.9 MB/s eta 0:00:01\r\u001b[K     |██████████████████▍             | 696 kB 8.9 MB/s eta 0:00:01\r\u001b[K     |██████████████████▋             | 706 kB 8.9 MB/s eta 0:00:01\r\u001b[K     |███████████████████             | 716 kB 8.9 MB/s eta 0:00:01\r\u001b[K     |███████████████████▏            | 727 kB 8.9 MB/s eta 0:00:01\r\u001b[K     |███████████████████▍            | 737 kB 8.9 MB/s eta 0:00:01\r\u001b[K     |███████████████████▊            | 747 kB 8.9 MB/s eta 0:00:01\r\u001b[K     |████████████████████            | 757 kB 8.9 MB/s eta 0:00:01\r\u001b[K     |████████████████████▎           | 768 kB 8.9 MB/s eta 0:00:01\r\u001b[K     |████████████████████▌           | 778 kB 8.9 MB/s eta 0:00:01\r\u001b[K     |████████████████████▉           | 788 kB 8.9 MB/s eta 0:00:01\r\u001b[K     |█████████████████████           | 798 kB 8.9 MB/s eta 0:00:01\r\u001b[K     |█████████████████████▎          | 808 kB 8.9 MB/s eta 0:00:01\r\u001b[K     |█████████████████████▋          | 819 kB 8.9 MB/s eta 0:00:01\r\u001b[K     |█████████████████████▉          | 829 kB 8.9 MB/s eta 0:00:01\r\u001b[K     |██████████████████████▏         | 839 kB 8.9 MB/s eta 0:00:01\r\u001b[K     |██████████████████████▍         | 849 kB 8.9 MB/s eta 0:00:01\r\u001b[K     |██████████████████████▊         | 860 kB 8.9 MB/s eta 0:00:01\r\u001b[K     |███████████████████████         | 870 kB 8.9 MB/s eta 0:00:01\r\u001b[K     |███████████████████████▏        | 880 kB 8.9 MB/s eta 0:00:01\r\u001b[K     |███████████████████████▌        | 890 kB 8.9 MB/s eta 0:00:01\r\u001b[K     |███████████████████████▊        | 901 kB 8.9 MB/s eta 0:00:01\r\u001b[K     |████████████████████████        | 911 kB 8.9 MB/s eta 0:00:01\r\u001b[K     |████████████████████████▎       | 921 kB 8.9 MB/s eta 0:00:01\r\u001b[K     |████████████████████████▋       | 931 kB 8.9 MB/s eta 0:00:01\r\u001b[K     |████████████████████████▉       | 942 kB 8.9 MB/s eta 0:00:01\r\u001b[K     |█████████████████████████       | 952 kB 8.9 MB/s eta 0:00:01\r\u001b[K     |█████████████████████████▍      | 962 kB 8.9 MB/s eta 0:00:01\r\u001b[K     |█████████████████████████▋      | 972 kB 8.9 MB/s eta 0:00:01\r\u001b[K     |██████████████████████████      | 983 kB 8.9 MB/s eta 0:00:01\r\u001b[K     |██████████████████████████▏     | 993 kB 8.9 MB/s eta 0:00:01\r\u001b[K     |██████████████████████████▌     | 1.0 MB 8.9 MB/s eta 0:00:01\r\u001b[K     |██████████████████████████▊     | 1.0 MB 8.9 MB/s eta 0:00:01\r\u001b[K     |███████████████████████████     | 1.0 MB 8.9 MB/s eta 0:00:01\r\u001b[K     |███████████████████████████▎    | 1.0 MB 8.9 MB/s eta 0:00:01\r\u001b[K     |███████████████████████████▌    | 1.0 MB 8.9 MB/s eta 0:00:01\r\u001b[K     |███████████████████████████▉    | 1.1 MB 8.9 MB/s eta 0:00:01\r\u001b[K     |████████████████████████████    | 1.1 MB 8.9 MB/s eta 0:00:01\r\u001b[K     |████████████████████████████▍   | 1.1 MB 8.9 MB/s eta 0:00:01\r\u001b[K     |████████████████████████████▋   | 1.1 MB 8.9 MB/s eta 0:00:01\r\u001b[K     |████████████████████████████▉   | 1.1 MB 8.9 MB/s eta 0:00:01\r\u001b[K     |█████████████████████████████▏  | 1.1 MB 8.9 MB/s eta 0:00:01\r\u001b[K     |█████████████████████████████▍  | 1.1 MB 8.9 MB/s eta 0:00:01\r\u001b[K     |█████████████████████████████▊  | 1.1 MB 8.9 MB/s eta 0:00:01\r\u001b[K     |██████████████████████████████  | 1.1 MB 8.9 MB/s eta 0:00:01\r\u001b[K     |██████████████████████████████▎ | 1.1 MB 8.9 MB/s eta 0:00:01\r\u001b[K     |██████████████████████████████▌ | 1.2 MB 8.9 MB/s eta 0:00:01\r\u001b[K     |██████████████████████████████▊ | 1.2 MB 8.9 MB/s eta 0:00:01\r\u001b[K     |███████████████████████████████ | 1.2 MB 8.9 MB/s eta 0:00:01\r\u001b[K     |███████████████████████████████▎| 1.2 MB 8.9 MB/s eta 0:00:01\r\u001b[K     |███████████████████████████████▋| 1.2 MB 8.9 MB/s eta 0:00:01\r\u001b[K     |███████████████████████████████▉| 1.2 MB 8.9 MB/s eta 0:00:01\r\u001b[K     |████████████████████████████████| 1.2 MB 8.9 MB/s \n",
            "\u001b[?25hInstalling collected packages: sentencepiece\n",
            "Successfully installed sentencepiece-0.1.96\n"
          ],
          "name": "stdout"
        }
      ]
    },
    {
      "cell_type": "code",
      "metadata": {
        "id": "iGEkzOwud-MK"
      },
      "source": [
        "import numpy as np\n",
        "import pandas as pd\n",
        "import tensorflow as tf\n",
        "import tensorflow_hub as hub\n",
        "import logging\n",
        "import os\n",
        "import re\n",
        "logging.basicConfig(level=logging.INFO)\n",
        "\n",
        "import matplotlib.pyplot as plt\n"
      ],
      "execution_count": 18,
      "outputs": []
    },
    {
      "cell_type": "markdown",
      "metadata": {
        "id": "7vXucl5JeWGO"
      },
      "source": [
        "## Loading models from TensorFlow Hub\n",
        "\n",
        "Here you can choose which BERT model you will load from TensorFlow Hub and fine-tune. There are multiple BERT models available.\n",
        "\n",
        "  - [BERT-Base](https://tfhub.dev/tensorflow/bert_en_uncased_L-12_H-768_A-12/3), [Uncased](https://tfhub.dev/tensorflow/bert_en_uncased_L-12_H-768_A-12/3) and [seven more models](https://tfhub.dev/google/collections/bert/1) with trained weights released by the original BERT authors.\n",
        "  - [Small BERTs](https://tfhub.dev/google/collections/bert/1) have the same general architecture but fewer and/or smaller Transformer blocks, which lets you explore tradeoffs between speed, size and quality.\n",
        "  - [ALBERT](https://tfhub.dev/google/collections/albert/1): four different sizes of \"A Lite BERT\" that reduces model size (but not computation time) by sharing parameters between layers.\n",
        "  - [BERT Experts](https://tfhub.dev/google/collections/experts/bert/1): eight models that all have the BERT-base architecture but offer a choice between different pre-training domains, to align more closely with the target task.\n",
        "  - [Electra](https://tfhub.dev/google/collections/electra/1) has the same architecture as BERT (in three different sizes), but gets pre-trained as a discriminator in a set-up that resembles a Generative Adversarial Network (GAN).\n",
        "  - BERT with Talking-Heads Attention and Gated GELU [[base](https://tfhub.dev/tensorflow/talkheads_ggelu_bert_en_base/1), [large](https://tfhub.dev/tensorflow/talkheads_ggelu_bert_en_large/1)] has two improvements to the core of the Transformer architecture.\n",
        "\n",
        "The model documentation on TensorFlow Hub has more details and references to the\n",
        "research literature. Follow the links above, or click on the [`tfhub.dev`](http://tfhub.dev) URL\n",
        "printed after the next cell execution.\n",
        "\n",
        "The suggestion is to start with a Small BERT (with fewer parameters) since they are faster to fine-tune. If you like a small model but with higher accuracy, ALBERT might be your next option. If you want even better accuracy, choose\n",
        "one of the classic BERT sizes or their recent refinements like Electra, Talking Heads, or a BERT Expert.\n",
        "\n",
        "Aside from the models available below, there are [multiple versions](https://tfhub.dev/google/collections/transformer_encoders_text/1) of the models that are larger and can yield even better accuracy, but they are too big to be fine-tuned on a single GPU. You will be able to do that on the [Solve GLUE tasks using BERT on a TPU colab](https://www.tensorflow.org/text/tutorials/bert_glue).\n",
        "\n",
        "You'll see in the code below that switching the tfhub.dev URL is enough to try any of these models, because all the differences between them are encapsulated in the SavedModels from TF Hub.\n",
        "\n"
      ]
    },
    {
      "cell_type": "code",
      "metadata": {
        "id": "pNGLMRvTfndu"
      },
      "source": [
        ""
      ],
      "execution_count": null,
      "outputs": []
    },
    {
      "cell_type": "code",
      "metadata": {
        "colab": {
          "base_uri": "https://localhost:8080/"
        },
        "id": "gGWtIqMneXHj",
        "cellView": "form",
        "outputId": "ccbbc263-e5fa-44ea-cd94-8796aa98b270"
      },
      "source": [
        "#@title Choose a BERT model to fine-tune\n",
        "\n",
        "bert_model_name = 'small_bert/bert_en_uncased_L-8_H-768_A-12'  #@param [\"bert_en_uncased_L-12_H-768_A-12\", \"bert_en_cased_L-12_H-768_A-12\", \"bert_multi_cased_L-12_H-768_A-12\", \"small_bert/bert_en_uncased_L-2_H-128_A-2\", \"small_bert/bert_en_uncased_L-2_H-256_A-4\", \"small_bert/bert_en_uncased_L-2_H-512_A-8\", \"small_bert/bert_en_uncased_L-2_H-768_A-12\", \"small_bert/bert_en_uncased_L-4_H-128_A-2\", \"small_bert/bert_en_uncased_L-4_H-256_A-4\", \"small_bert/bert_en_uncased_L-4_H-512_A-8\", \"small_bert/bert_en_uncased_L-4_H-768_A-12\", \"small_bert/bert_en_uncased_L-6_H-128_A-2\", \"small_bert/bert_en_uncased_L-6_H-256_A-4\", \"small_bert/bert_en_uncased_L-6_H-512_A-8\", \"small_bert/bert_en_uncased_L-6_H-768_A-12\", \"small_bert/bert_en_uncased_L-8_H-128_A-2\", \"small_bert/bert_en_uncased_L-8_H-256_A-4\", \"small_bert/bert_en_uncased_L-8_H-512_A-8\", \"small_bert/bert_en_uncased_L-8_H-768_A-12\", \"small_bert/bert_en_uncased_L-10_H-128_A-2\", \"small_bert/bert_en_uncased_L-10_H-256_A-4\", \"small_bert/bert_en_uncased_L-10_H-512_A-8\", \"small_bert/bert_en_uncased_L-10_H-768_A-12\", \"small_bert/bert_en_uncased_L-12_H-128_A-2\", \"small_bert/bert_en_uncased_L-12_H-256_A-4\", \"small_bert/bert_en_uncased_L-12_H-512_A-8\", \"small_bert/bert_en_uncased_L-12_H-768_A-12\", \"albert_en_base\", \"electra_small\", \"electra_base\", \"experts_pubmed\", \"experts_wiki_books\", \"talking-heads_base\"]\n",
        "\n",
        "map_name_to_handle = {\n",
        "    'bert_en_uncased_L-12_H-768_A-12':\n",
        "        'https://tfhub.dev/tensorflow/bert_en_uncased_L-12_H-768_A-12/3',\n",
        "    'bert_en_cased_L-12_H-768_A-12':\n",
        "        'https://tfhub.dev/tensorflow/bert_en_cased_L-12_H-768_A-12/3',\n",
        "    'bert_multi_cased_L-12_H-768_A-12':\n",
        "        'https://tfhub.dev/tensorflow/bert_multi_cased_L-12_H-768_A-12/3',\n",
        "    'small_bert/bert_en_uncased_L-2_H-128_A-2':\n",
        "        'https://tfhub.dev/tensorflow/small_bert/bert_en_uncased_L-2_H-128_A-2/1',\n",
        "    'small_bert/bert_en_uncased_L-2_H-256_A-4':\n",
        "        'https://tfhub.dev/tensorflow/small_bert/bert_en_uncased_L-2_H-256_A-4/1',\n",
        "    'small_bert/bert_en_uncased_L-2_H-512_A-8':\n",
        "        'https://tfhub.dev/tensorflow/small_bert/bert_en_uncased_L-2_H-512_A-8/1',\n",
        "    'small_bert/bert_en_uncased_L-2_H-768_A-12':\n",
        "        'https://tfhub.dev/tensorflow/small_bert/bert_en_uncased_L-2_H-768_A-12/1',\n",
        "    'small_bert/bert_en_uncased_L-4_H-128_A-2':\n",
        "        'https://tfhub.dev/tensorflow/small_bert/bert_en_uncased_L-4_H-128_A-2/1',\n",
        "    'small_bert/bert_en_uncased_L-4_H-256_A-4':\n",
        "        'https://tfhub.dev/tensorflow/small_bert/bert_en_uncased_L-4_H-256_A-4/1',\n",
        "    'small_bert/bert_en_uncased_L-4_H-512_A-8':\n",
        "        'https://tfhub.dev/tensorflow/small_bert/bert_en_uncased_L-4_H-512_A-8/1',\n",
        "    'small_bert/bert_en_uncased_L-4_H-768_A-12':\n",
        "        'https://tfhub.dev/tensorflow/small_bert/bert_en_uncased_L-4_H-768_A-12/1',\n",
        "    'small_bert/bert_en_uncased_L-6_H-128_A-2':\n",
        "        'https://tfhub.dev/tensorflow/small_bert/bert_en_uncased_L-6_H-128_A-2/1',\n",
        "    'small_bert/bert_en_uncased_L-6_H-256_A-4':\n",
        "        'https://tfhub.dev/tensorflow/small_bert/bert_en_uncased_L-6_H-256_A-4/1',\n",
        "    'small_bert/bert_en_uncased_L-6_H-512_A-8':\n",
        "        'https://tfhub.dev/tensorflow/small_bert/bert_en_uncased_L-6_H-512_A-8/1',\n",
        "    'small_bert/bert_en_uncased_L-6_H-768_A-12':\n",
        "        'https://tfhub.dev/tensorflow/small_bert/bert_en_uncased_L-6_H-768_A-12/1',\n",
        "    'small_bert/bert_en_uncased_L-8_H-128_A-2':\n",
        "        'https://tfhub.dev/tensorflow/small_bert/bert_en_uncased_L-8_H-128_A-2/1',\n",
        "    'small_bert/bert_en_uncased_L-8_H-256_A-4':\n",
        "        'https://tfhub.dev/tensorflow/small_bert/bert_en_uncased_L-8_H-256_A-4/1',\n",
        "    'small_bert/bert_en_uncased_L-8_H-512_A-8':\n",
        "        'https://tfhub.dev/tensorflow/small_bert/bert_en_uncased_L-8_H-512_A-8/1',\n",
        "    'small_bert/bert_en_uncased_L-8_H-768_A-12':\n",
        "        'https://tfhub.dev/tensorflow/small_bert/bert_en_uncased_L-8_H-768_A-12/1',\n",
        "    'small_bert/bert_en_uncased_L-10_H-128_A-2':\n",
        "        'https://tfhub.dev/tensorflow/small_bert/bert_en_uncased_L-10_H-128_A-2/1',\n",
        "    'small_bert/bert_en_uncased_L-10_H-256_A-4':\n",
        "        'https://tfhub.dev/tensorflow/small_bert/bert_en_uncased_L-10_H-256_A-4/1',\n",
        "    'small_bert/bert_en_uncased_L-10_H-512_A-8':\n",
        "        'https://tfhub.dev/tensorflow/small_bert/bert_en_uncased_L-10_H-512_A-8/1',\n",
        "    'small_bert/bert_en_uncased_L-10_H-768_A-12':\n",
        "        'https://tfhub.dev/tensorflow/small_bert/bert_en_uncased_L-10_H-768_A-12/1',\n",
        "    'small_bert/bert_en_uncased_L-12_H-128_A-2':\n",
        "        'https://tfhub.dev/tensorflow/small_bert/bert_en_uncased_L-12_H-128_A-2/1',\n",
        "    'small_bert/bert_en_uncased_L-12_H-256_A-4':\n",
        "        'https://tfhub.dev/tensorflow/small_bert/bert_en_uncased_L-12_H-256_A-4/1',\n",
        "    'small_bert/bert_en_uncased_L-12_H-512_A-8':\n",
        "        'https://tfhub.dev/tensorflow/small_bert/bert_en_uncased_L-12_H-512_A-8/1',\n",
        "    'small_bert/bert_en_uncased_L-12_H-768_A-12':\n",
        "        'https://tfhub.dev/tensorflow/small_bert/bert_en_uncased_L-12_H-768_A-12/1',\n",
        "    'albert_en_base':\n",
        "        'https://tfhub.dev/tensorflow/albert_en_base/2',\n",
        "    'electra_small':\n",
        "        'https://tfhub.dev/google/electra_small/2',\n",
        "    'electra_base':\n",
        "        'https://tfhub.dev/google/electra_base/2',\n",
        "    'experts_pubmed':\n",
        "        'https://tfhub.dev/google/experts/bert/pubmed/2',\n",
        "    'experts_wiki_books':\n",
        "        'https://tfhub.dev/google/experts/bert/wiki_books/2',\n",
        "    'talking-heads_base':\n",
        "        'https://tfhub.dev/tensorflow/talkheads_ggelu_bert_en_base/1',\n",
        "}\n",
        "\n",
        "map_model_to_preprocess = {\n",
        "    'bert_en_uncased_L-12_H-768_A-12':\n",
        "        'https://tfhub.dev/tensorflow/bert_en_uncased_preprocess/3',\n",
        "    'bert_en_cased_L-12_H-768_A-12':\n",
        "        'https://tfhub.dev/tensorflow/bert_en_cased_preprocess/3',\n",
        "    'small_bert/bert_en_uncased_L-2_H-128_A-2':\n",
        "        'https://tfhub.dev/tensorflow/bert_en_uncased_preprocess/3',\n",
        "    'small_bert/bert_en_uncased_L-2_H-256_A-4':\n",
        "        'https://tfhub.dev/tensorflow/bert_en_uncased_preprocess/3',\n",
        "    'small_bert/bert_en_uncased_L-2_H-512_A-8':\n",
        "        'https://tfhub.dev/tensorflow/bert_en_uncased_preprocess/3',\n",
        "    'small_bert/bert_en_uncased_L-2_H-768_A-12':\n",
        "        'https://tfhub.dev/tensorflow/bert_en_uncased_preprocess/3',\n",
        "    'small_bert/bert_en_uncased_L-4_H-128_A-2':\n",
        "        'https://tfhub.dev/tensorflow/bert_en_uncased_preprocess/3',\n",
        "    'small_bert/bert_en_uncased_L-4_H-256_A-4':\n",
        "        'https://tfhub.dev/tensorflow/bert_en_uncased_preprocess/3',\n",
        "    'small_bert/bert_en_uncased_L-4_H-512_A-8':\n",
        "        'https://tfhub.dev/tensorflow/bert_en_uncased_preprocess/3',\n",
        "    'small_bert/bert_en_uncased_L-4_H-768_A-12':\n",
        "        'https://tfhub.dev/tensorflow/bert_en_uncased_preprocess/3',\n",
        "    'small_bert/bert_en_uncased_L-6_H-128_A-2':\n",
        "        'https://tfhub.dev/tensorflow/bert_en_uncased_preprocess/3',\n",
        "    'small_bert/bert_en_uncased_L-6_H-256_A-4':\n",
        "        'https://tfhub.dev/tensorflow/bert_en_uncased_preprocess/3',\n",
        "    'small_bert/bert_en_uncased_L-6_H-512_A-8':\n",
        "        'https://tfhub.dev/tensorflow/bert_en_uncased_preprocess/3',\n",
        "    'small_bert/bert_en_uncased_L-6_H-768_A-12':\n",
        "        'https://tfhub.dev/tensorflow/bert_en_uncased_preprocess/3',\n",
        "    'small_bert/bert_en_uncased_L-8_H-128_A-2':\n",
        "        'https://tfhub.dev/tensorflow/bert_en_uncased_preprocess/3',\n",
        "    'small_bert/bert_en_uncased_L-8_H-256_A-4':\n",
        "        'https://tfhub.dev/tensorflow/bert_en_uncased_preprocess/3',\n",
        "    'small_bert/bert_en_uncased_L-8_H-512_A-8':\n",
        "        'https://tfhub.dev/tensorflow/bert_en_uncased_preprocess/3',\n",
        "    'small_bert/bert_en_uncased_L-8_H-768_A-12':\n",
        "        'https://tfhub.dev/tensorflow/bert_en_uncased_preprocess/3',\n",
        "    'small_bert/bert_en_uncased_L-10_H-128_A-2':\n",
        "        'https://tfhub.dev/tensorflow/bert_en_uncased_preprocess/3',\n",
        "    'small_bert/bert_en_uncased_L-10_H-256_A-4':\n",
        "        'https://tfhub.dev/tensorflow/bert_en_uncased_preprocess/3',\n",
        "    'small_bert/bert_en_uncased_L-10_H-512_A-8':\n",
        "        'https://tfhub.dev/tensorflow/bert_en_uncased_preprocess/3',\n",
        "    'small_bert/bert_en_uncased_L-10_H-768_A-12':\n",
        "        'https://tfhub.dev/tensorflow/bert_en_uncased_preprocess/3',\n",
        "    'small_bert/bert_en_uncased_L-12_H-128_A-2':\n",
        "        'https://tfhub.dev/tensorflow/bert_en_uncased_preprocess/3',\n",
        "    'small_bert/bert_en_uncased_L-12_H-256_A-4':\n",
        "        'https://tfhub.dev/tensorflow/bert_en_uncased_preprocess/3',\n",
        "    'small_bert/bert_en_uncased_L-12_H-512_A-8':\n",
        "        'https://tfhub.dev/tensorflow/bert_en_uncased_preprocess/3',\n",
        "    'small_bert/bert_en_uncased_L-12_H-768_A-12':\n",
        "        'https://tfhub.dev/tensorflow/bert_en_uncased_preprocess/3',\n",
        "    'bert_multi_cased_L-12_H-768_A-12':\n",
        "        'https://tfhub.dev/tensorflow/bert_multi_cased_preprocess/3',\n",
        "    'albert_en_base':\n",
        "        'https://tfhub.dev/tensorflow/albert_en_preprocess/3',\n",
        "    'electra_small':\n",
        "        'https://tfhub.dev/tensorflow/bert_en_uncased_preprocess/3',\n",
        "    'electra_base':\n",
        "        'https://tfhub.dev/tensorflow/bert_en_uncased_preprocess/3',\n",
        "    'experts_pubmed':\n",
        "        'https://tfhub.dev/tensorflow/bert_en_uncased_preprocess/3',\n",
        "    'experts_wiki_books':\n",
        "        'https://tfhub.dev/tensorflow/bert_en_uncased_preprocess/3',\n",
        "    'talking-heads_base':\n",
        "        'https://tfhub.dev/tensorflow/bert_en_uncased_preprocess/3',\n",
        "}\n",
        "\n",
        "tfhub_handle_encoder = map_name_to_handle[bert_model_name]\n",
        "tfhub_handle_preprocess = map_model_to_preprocess[bert_model_name]\n",
        "\n",
        "print(f'BERT model selected           : {tfhub_handle_encoder}')\n",
        "print(f'Preprocess model auto-selected: {tfhub_handle_preprocess}')"
      ],
      "execution_count": 36,
      "outputs": [
        {
          "output_type": "stream",
          "text": [
            "BERT model selected           : https://tfhub.dev/tensorflow/small_bert/bert_en_uncased_L-8_H-768_A-12/1\n",
            "Preprocess model auto-selected: https://tfhub.dev/tensorflow/bert_en_uncased_preprocess/3\n"
          ],
          "name": "stdout"
        }
      ]
    },
    {
      "cell_type": "code",
      "metadata": {
        "colab": {
          "base_uri": "https://localhost:8080/"
        },
        "id": "6n-GaT2geU_D",
        "outputId": "d26af945-ec6e-4bcb-f377-fa9ac00bb795"
      },
      "source": [
        "tfhub_handle_encoder = map_name_to_handle[bert_model_name]\n",
        "tfhub_handle_preprocess = map_model_to_preprocess[bert_model_name]\n",
        "\n",
        "print(f'BERT model selected           : {tfhub_handle_encoder}')\n",
        "print(f'Preprocess model auto-selected: {tfhub_handle_preprocess}')"
      ],
      "execution_count": 20,
      "outputs": [
        {
          "output_type": "stream",
          "text": [
            "BERT model selected           : https://tfhub.dev/tensorflow/small_bert/bert_en_uncased_L-8_H-768_A-12/1\n",
            "Preprocess model auto-selected: https://tfhub.dev/tensorflow/bert_en_uncased_preprocess/3\n"
          ],
          "name": "stdout"
        }
      ]
    },
    {
      "cell_type": "code",
      "metadata": {
        "id": "IpAv4BxrePnN",
        "colab": {
          "base_uri": "https://localhost:8080/"
        },
        "outputId": "df8fd330-1075-4712-b53f-859307324492"
      },
      "source": [
        "import tensorflow_hub as hub\n",
        "import tokenization\n",
        "bert_layer = hub.KerasLayer(tfhub_handle_encoder, trainable=True)"
      ],
      "execution_count": 21,
      "outputs": [
        {
          "output_type": "stream",
          "text": [
            "INFO:absl:Using /tmp/tfhub_modules to cache modules.\n",
            "INFO:absl:Downloading TF-Hub Module 'https://tfhub.dev/tensorflow/small_bert/bert_en_uncased_L-8_H-768_A-12/1'.\n",
            "INFO:absl:Downloaded https://tfhub.dev/tensorflow/small_bert/bert_en_uncased_L-8_H-768_A-12/1, Total size: 320.89MB\n",
            "INFO:absl:Downloaded TF-Hub Module 'https://tfhub.dev/tensorflow/small_bert/bert_en_uncased_L-8_H-768_A-12/1'.\n"
          ],
          "name": "stderr"
        }
      ]
    },
    {
      "cell_type": "code",
      "metadata": {
        "id": "KgaeluureJcC"
      },
      "source": [
        "vocab_file = bert_layer.resolved_object.vocab_file.asset_path.numpy()\n",
        "do_lower_case = bert_layer.resolved_object.do_lower_case.numpy()\n",
        "tokenizer = tokenization.FullTokenizer(vocab_file, do_lower_case)\n",
        "\n",
        "def bert_encode(texts, tokenizer, max_len=512):\n",
        "    all_tokens = []\n",
        "    all_masks = []\n",
        "    all_segments = []\n",
        "    \n",
        "    for text in texts:\n",
        "        text = tokenizer.tokenize(text)\n",
        "            \n",
        "        text = text[:max_len-2]\n",
        "        input_sequence = [\"[CLS]\"] + text + [\"[SEP]\"]\n",
        "        pad_len = max_len - len(input_sequence)\n",
        "        \n",
        "        tokens = tokenizer.convert_tokens_to_ids(input_sequence) + [0] * pad_len\n",
        "        pad_masks = [1] * len(input_sequence) + [0] * pad_len\n",
        "        segment_ids = [0] * max_len\n",
        "        \n",
        "        all_tokens.append(tokens)\n",
        "        all_masks.append(pad_masks)\n",
        "        all_segments.append(segment_ids)\n",
        "    \n",
        "    return np.array(all_tokens), np.array(all_masks), np.array(all_segments)"
      ],
      "execution_count": 22,
      "outputs": []
    },
    {
      "cell_type": "code",
      "metadata": {
        "id": "0BuadlrO0qjR"
      },
      "source": [
        "# bert_preprocess_model = hub.KerasLayer(tfhub_handle_preprocess)"
      ],
      "execution_count": null,
      "outputs": []
    },
    {
      "cell_type": "code",
      "metadata": {
        "id": "lG2XXj0jfEJr"
      },
      "source": [
        "def build_model(bert_layer, max_len=512):\n",
        "    input_word_ids = tf.keras.Input(shape=(max_len,), dtype=tf.int32, name=\"input_word_ids\")\n",
        "    input_mask = tf.keras.Input(shape=(max_len,), dtype=tf.int32, name=\"input_mask\")\n",
        "    segment_ids = tf.keras.Input(shape=(max_len,), dtype=tf.int32, name=\"input_type_ids\")\n",
        "\n",
        "    output = bert_layer({'input_word_ids':input_word_ids,\n",
        "                                                 'input_mask': input_mask, \n",
        "                                                 'input_type_ids': segment_ids})\n",
        "    clf_output = output['pooled_output']\n",
        "    net = tf.keras.layers.Dense(64, activation='relu')(clf_output)\n",
        "    net = tf.keras.layers.Dropout(0.2)(net)\n",
        "    net = tf.keras.layers.Dense(32, activation='relu')(net)\n",
        "    net = tf.keras.layers.Dropout(0.2)(net)\n",
        "    out = tf.keras.layers.Dense(5, activation='softmax')(net)\n",
        "    \n",
        "    model = tf.keras.models.Model(inputs=[input_word_ids, input_mask, segment_ids], outputs=out)\n",
        "    model.compile(tf.keras.optimizers.Adam(learning_rate=1e-5), loss='categorical_crossentropy', metrics=['accuracy'])\n",
        "    \n",
        "    return model"
      ],
      "execution_count": 24,
      "outputs": []
    },
    {
      "cell_type": "markdown",
      "metadata": {
        "id": "axDlOadPfWoy"
      },
      "source": [
        "# Load Data"
      ]
    },
    {
      "cell_type": "code",
      "metadata": {
        "id": "Om_QjBEeNiXZ",
        "colab": {
          "base_uri": "https://localhost:8080/"
        },
        "outputId": "ceccd73a-6373-4547-8698-e52e133f0847"
      },
      "source": [
        "from sklearn.model_selection import train_test_split\n",
        "X_train, X_test, y_train, y_test = train_test_split(df.CleanDescription.values, df.PAL_label.values, test_size=0.2, random_state=53)\n",
        "\n",
        "print('training dataset length: {}'.format(X_train.shape[0]))\n",
        "print('test dataset length: {}'.format(X_test.shape[0]))\n",
        "\n",
        "print(\"y_train :\", set(y_train))\n",
        "\n",
        "print('training dataset length: {}'.format(X_train.shape[0]))\n",
        "print('test dataset length: {}'.format(X_test.shape[0]))\n",
        "print('y_train: {}'.format(set(y_train)))"
      ],
      "execution_count": 34,
      "outputs": [
        {
          "output_type": "stream",
          "text": [
            "training dataset length: 340\n",
            "test dataset length: 85\n",
            "y_train : {0, 1, 2, 3, 4}\n",
            "training dataset length: 340\n",
            "test dataset length: 85\n",
            "y_train: {0, 1, 2, 3, 4}\n"
          ],
          "name": "stdout"
        }
      ]
    },
    {
      "cell_type": "code",
      "metadata": {
        "id": "7n98SdIhKYUL",
        "colab": {
          "base_uri": "https://localhost:8080/"
        },
        "outputId": "96639edb-bfb8-4e9d-d1b5-ebeb65085c90"
      },
      "source": [
        "max_len = 100\n",
        "train_input = bert_encode(X_train, tokenizer, max_len=max_len)\n",
        "test_input = bert_encode(X_test, tokenizer, max_len=max_len)\n",
        "train_labels = tf.keras.utils.to_categorical(y_train)\n",
        "\n",
        "model = build_model(bert_layer, max_len=max_len)\n",
        "model.summary()"
      ],
      "execution_count": 35,
      "outputs": [
        {
          "output_type": "stream",
          "text": [
            "Model: \"model_2\"\n",
            "__________________________________________________________________________________________________\n",
            "Layer (type)                    Output Shape         Param #     Connected to                     \n",
            "==================================================================================================\n",
            "input_mask (InputLayer)         [(None, 100)]        0                                            \n",
            "__________________________________________________________________________________________________\n",
            "input_type_ids (InputLayer)     [(None, 100)]        0                                            \n",
            "__________________________________________________________________________________________________\n",
            "input_word_ids (InputLayer)     [(None, 100)]        0                                            \n",
            "__________________________________________________________________________________________________\n",
            "keras_layer (KerasLayer)        {'default': (None, 7 81130753    input_mask[0][0]                 \n",
            "                                                                 input_type_ids[0][0]             \n",
            "                                                                 input_word_ids[0][0]             \n",
            "__________________________________________________________________________________________________\n",
            "dense_6 (Dense)                 (None, 64)           49216       keras_layer[2][9]                \n",
            "__________________________________________________________________________________________________\n",
            "dropout_4 (Dropout)             (None, 64)           0           dense_6[0][0]                    \n",
            "__________________________________________________________________________________________________\n",
            "dense_7 (Dense)                 (None, 32)           2080        dropout_4[0][0]                  \n",
            "__________________________________________________________________________________________________\n",
            "dropout_5 (Dropout)             (None, 32)           0           dense_7[0][0]                    \n",
            "__________________________________________________________________________________________________\n",
            "dense_8 (Dense)                 (None, 5)            165         dropout_5[0][0]                  \n",
            "==================================================================================================\n",
            "Total params: 81,182,214\n",
            "Trainable params: 81,182,213\n",
            "Non-trainable params: 1\n",
            "__________________________________________________________________________________________________\n"
          ],
          "name": "stdout"
        }
      ]
    },
    {
      "cell_type": "code",
      "metadata": {
        "colab": {
          "base_uri": "https://localhost:8080/"
        },
        "id": "b08L7CO2b5SH",
        "outputId": "6c7a2875-74c8-4ad9-ff99-4d004d450dc4"
      },
      "source": [
        "history = model.fit(train_input, train_labels, epochs=20,\n",
        "          validation_split=0.2,\n",
        "          batch_size=32)"
      ],
      "execution_count": null,
      "outputs": [
        {
          "output_type": "stream",
          "text": [
            "Epoch 1/20\n",
            "9/9 [==============================] - 241s 25s/step - loss: 1.7027 - accuracy: 0.2206 - val_loss: 1.5498 - val_accuracy: 0.3529\n",
            "Epoch 2/20\n",
            "9/9 [==============================] - 219s 24s/step - loss: 1.5512 - accuracy: 0.3309 - val_loss: 1.5381 - val_accuracy: 0.3088\n",
            "Epoch 3/20\n",
            "9/9 [==============================] - 223s 25s/step - loss: 1.5528 - accuracy: 0.2904 - val_loss: 1.4788 - val_accuracy: 0.4118\n",
            "Epoch 4/20\n",
            "9/9 [==============================] - 220s 24s/step - loss: 1.4963 - accuracy: 0.3456 - val_loss: 1.4555 - val_accuracy: 0.3235\n",
            "Epoch 5/20\n",
            "9/9 [==============================] - 220s 24s/step - loss: 1.4658 - accuracy: 0.3750 - val_loss: 1.4486 - val_accuracy: 0.3382\n",
            "Epoch 6/20\n",
            "9/9 [==============================] - 220s 24s/step - loss: 1.3951 - accuracy: 0.4338 - val_loss: 1.4261 - val_accuracy: 0.3676\n",
            "Epoch 7/20\n",
            "9/9 [==============================] - 219s 24s/step - loss: 1.4108 - accuracy: 0.3750 - val_loss: 1.4236 - val_accuracy: 0.3382\n",
            "Epoch 8/20\n",
            "9/9 [==============================] - 220s 24s/step - loss: 1.4318 - accuracy: 0.4081 - val_loss: 1.4105 - val_accuracy: 0.4118\n",
            "Epoch 9/20\n",
            "9/9 [==============================] - 224s 25s/step - loss: 1.3206 - accuracy: 0.4412 - val_loss: 1.4189 - val_accuracy: 0.3971\n",
            "Epoch 10/20\n",
            "9/9 [==============================] - 221s 25s/step - loss: 1.2653 - accuracy: 0.5221 - val_loss: 1.4247 - val_accuracy: 0.4118\n",
            "Epoch 11/20\n",
            "9/9 [==============================] - 221s 25s/step - loss: 1.2411 - accuracy: 0.5331 - val_loss: 1.4092 - val_accuracy: 0.4265\n",
            "Epoch 12/20\n",
            "9/9 [==============================] - 226s 25s/step - loss: 1.2601 - accuracy: 0.5110 - val_loss: 1.4141 - val_accuracy: 0.3971\n",
            "Epoch 13/20\n",
            "9/9 [==============================] - 222s 25s/step - loss: 1.0914 - accuracy: 0.6287 - val_loss: 1.4077 - val_accuracy: 0.4265\n",
            "Epoch 14/20\n",
            "9/9 [==============================] - 220s 24s/step - loss: 1.1200 - accuracy: 0.6140 - val_loss: 1.4265 - val_accuracy: 0.3971\n",
            "Epoch 15/20\n",
            "9/9 [==============================] - 220s 25s/step - loss: 1.0206 - accuracy: 0.6581 - val_loss: 1.4410 - val_accuracy: 0.3971\n",
            "Epoch 16/20\n",
            "9/9 [==============================] - 221s 25s/step - loss: 1.0000 - accuracy: 0.6875 - val_loss: 1.4963 - val_accuracy: 0.3971\n",
            "Epoch 17/20\n",
            "9/9 [==============================] - 221s 25s/step - loss: 0.9359 - accuracy: 0.6949 - val_loss: 1.4714 - val_accuracy: 0.4118\n",
            "Epoch 18/20\n",
            "9/9 [==============================] - 221s 25s/step - loss: 0.8462 - accuracy: 0.7390 - val_loss: 1.4695 - val_accuracy: 0.3676\n",
            "Epoch 19/20\n",
            "9/9 [==============================] - 221s 25s/step - loss: 0.7638 - accuracy: 0.7684 - val_loss: 1.5034 - val_accuracy: 0.4706\n",
            "Epoch 20/20\n",
            "9/9 [==============================] - 219s 24s/step - loss: 0.7932 - accuracy: 0.7757 - val_loss: 1.6245 - val_accuracy: 0.3971\n"
          ],
          "name": "stdout"
        }
      ]
    },
    {
      "cell_type": "code",
      "metadata": {
        "colab": {
          "base_uri": "https://localhost:8080/",
          "height": 438
        },
        "id": "AuxrTAdheNim",
        "outputId": "79dc71c2-34bb-4ddf-84a5-9f5709bc7ac8"
      },
      "source": [
        "history_dict = history.history\n",
        "print(history_dict.keys())\n",
        "\n",
        "acc = history_dict['accuracy']\n",
        "val_acc = history_dict['val_accuracy']\n",
        "loss = history_dict['loss']\n",
        "val_loss = history_dict['val_loss']\n",
        "\n",
        "epochs = range(1, len(acc) + 1)\n",
        "fig = plt.figure(figsize=(10, 6))\n",
        "fig.tight_layout()\n",
        "\n",
        "plt.subplot(2, 1, 1)\n",
        "# \"bo\" is for \"blue dot\"\n",
        "plt.plot(epochs, loss, 'r', label='Training loss')\n",
        "# b is for \"solid blue line\"\n",
        "plt.plot(epochs, val_loss, 'b', label='Validation loss')\n",
        "plt.title('Training and validation loss')\n",
        "# plt.xlabel('Epochs')\n",
        "plt.ylabel('Loss')\n",
        "plt.legend()\n",
        "\n",
        "plt.subplot(2, 1, 2)\n",
        "plt.plot(epochs, acc, 'r', label='Training acc')\n",
        "plt.plot(epochs, val_acc, 'b', label='Validation acc')\n",
        "plt.title('Training and validation accuracy')\n",
        "plt.xlabel('Epochs')\n",
        "plt.ylabel('Accuracy')\n",
        "plt.legend(loc='lower right')"
      ],
      "execution_count": null,
      "outputs": [
        {
          "output_type": "stream",
          "text": [
            "dict_keys(['loss', 'accuracy', 'val_loss', 'val_accuracy'])\n"
          ],
          "name": "stdout"
        },
        {
          "output_type": "execute_result",
          "data": {
            "text/plain": [
              "<matplotlib.legend.Legend at 0x7fb5b910ac10>"
            ]
          },
          "metadata": {
            "tags": []
          },
          "execution_count": 83
        },
        {
          "output_type": "display_data",
          "data": {
            "image/png": "[encoded data removed]",
            "text/plain": [
              "<Figure size 720x432 with 2 Axes>"
            ]
          },
          "metadata": {
            "tags": [],
            "needs_background": "light"
          }
        }
      ]
    },
    {
      "cell_type": "code",
      "metadata": {
        "id": "CtCZ3HGakqHC"
      },
      "source": [
        "preds = np.argmax(model.predict(test_input, batch_size=16), axis=1)"
      ],
      "execution_count": null,
      "outputs": []
    },
    {
      "cell_type": "code",
      "metadata": {
        "id": "Y_nooMDqksjr"
      },
      "source": [
        "pred_dict = {'I' :0, 'II':1, 'III':2, 'IV':3, 'V':4, 'VI':4}"
      ],
      "execution_count": null,
      "outputs": []
    },
    {
      "cell_type": "code",
      "metadata": {
        "id": "nm7uLpX9vfgm"
      },
      "source": [
        "# X_train, X_test, y_train, y_test"
      ],
      "execution_count": null,
      "outputs": []
    },
    {
      "cell_type": "code",
      "metadata": {
        "id": "cqzuleCJ72B0"
      },
      "source": [
        "for text, pred, actual in zip(X_test, preds, y_test):\n",
        "  text = text\n",
        "  pred_dict[pred] = pred\n",
        "  pred_dict[actual] = actual "
      ],
      "execution_count": null,
      "outputs": []
    },
    {
      "cell_type": "code",
      "metadata": {
        "colab": {
          "base_uri": "https://localhost:8080/",
          "height": 402
        },
        "id": "lFeak3ONkuj3",
        "outputId": "060a2236-898c-4d0c-c9be-4607fc426290"
      },
      "source": [
        "pd.DataFrame([(text, pred_dict[pred], pred_dict[actual]) for text, pred, actual in zip(X_test, preds, y_test)],\n",
        "             columns=['Sentence', 'Predicted', 'Actual'])"
      ],
      "execution_count": null,
      "outputs": [
        {
          "output_type": "execute_result",
          "data": {
            "text/html": [
              "<div>\n",
              "<style scoped>\n",
              "    .dataframe tbody tr th:only-of-type {\n",
              "        vertical-align: middle;\n",
              "    }\n",
              "\n",
              "    .dataframe tbody tr th {\n",
              "        vertical-align: top;\n",
              "    }\n",
              "\n",
              "    .dataframe thead th {\n",
              "        text-align: right;\n",
              "    }\n",
              "</style>\n",
              "<table border=\"1\" class=\"dataframe\">\n",
              "  <thead>\n",
              "    <tr style=\"text-align: right;\">\n",
              "      <th></th>\n",
              "      <th>Sentence</th>\n",
              "      <th>Predicted</th>\n",
              "      <th>Actual</th>\n",
              "    </tr>\n",
              "  </thead>\n",
              "  <tbody>\n",
              "    <tr>\n",
              "      <th>0</th>\n",
              "      <td>injured collaborators time making hdpe pipe us...</td>\n",
              "      <td>3</td>\n",
              "      <td>2</td>\n",
              "    </tr>\n",
              "    <tr>\n",
              "      <th>1</th>\n",
              "      <td>driver aeq plate dump truck ton heading loadin...</td>\n",
              "      <td>2</td>\n",
              "      <td>3</td>\n",
              "    </tr>\n",
              "    <tr>\n",
              "      <th>2</th>\n",
              "      <td>performing doosan equipment hammer repair empl...</td>\n",
              "      <td>1</td>\n",
              "      <td>2</td>\n",
              "    </tr>\n",
              "    <tr>\n",
              "      <th>3</th>\n",
              "      <td>moments maperu truck plate returned city pasco...</td>\n",
              "      <td>4</td>\n",
              "      <td>3</td>\n",
              "    </tr>\n",
              "    <tr>\n",
              "      <th>4</th>\n",
              "      <td>approx hours luis maintenance team mobile equi...</td>\n",
              "      <td>2</td>\n",
              "      <td>1</td>\n",
              "    </tr>\n",
              "    <tr>\n",
              "      <th>...</th>\n",
              "      <td>...</td>\n",
              "      <td>...</td>\n",
              "      <td>...</td>\n",
              "    </tr>\n",
              "    <tr>\n",
              "      <th>80</th>\n",
              "      <td>level guide wire chamber preparation activity ...</td>\n",
              "      <td>1</td>\n",
              "      <td>3</td>\n",
              "    </tr>\n",
              "    <tr>\n",
              "      <th>81</th>\n",
              "      <td>level unicon plant collaborator shuttering wor...</td>\n",
              "      <td>3</td>\n",
              "      <td>0</td>\n",
              "    </tr>\n",
              "    <tr>\n",
              "      <th>82</th>\n",
              "      <td>employee reports attempting manually ingot zin...</td>\n",
              "      <td>3</td>\n",
              "      <td>3</td>\n",
              "    </tr>\n",
              "    <tr>\n",
              "      <th>83</th>\n",
              "      <td>soil sampling region sta employees rafael dani...</td>\n",
              "      <td>3</td>\n",
              "      <td>0</td>\n",
              "    </tr>\n",
              "    <tr>\n",
              "      <th>84</th>\n",
              "      <td>employees mrcio srgio performed pump pipe clea...</td>\n",
              "      <td>1</td>\n",
              "      <td>4</td>\n",
              "    </tr>\n",
              "  </tbody>\n",
              "</table>\n",
              "<p>85 rows × 3 columns</p>\n",
              "</div>"
            ],
            "text/plain": [
              "                                             Sentence  Predicted  Actual\n",
              "0   injured collaborators time making hdpe pipe us...          3       2\n",
              "1   driver aeq plate dump truck ton heading loadin...          2       3\n",
              "2   performing doosan equipment hammer repair empl...          1       2\n",
              "3   moments maperu truck plate returned city pasco...          4       3\n",
              "4   approx hours luis maintenance team mobile equi...          2       1\n",
              "..                                                ...        ...     ...\n",
              "80  level guide wire chamber preparation activity ...          1       3\n",
              "81  level unicon plant collaborator shuttering wor...          3       0\n",
              "82  employee reports attempting manually ingot zin...          3       3\n",
              "83  soil sampling region sta employees rafael dani...          3       0\n",
              "84  employees mrcio srgio performed pump pipe clea...          1       4\n",
              "\n",
              "[85 rows x 3 columns]"
            ]
          },
          "metadata": {
            "tags": []
          },
          "execution_count": 98
        }
      ]
    },
    {
      "cell_type": "code",
      "metadata": {
        "colab": {
          "base_uri": "https://localhost:8080/"
        },
        "id": "36VIJeLTkw_v",
        "outputId": "e8d4f708-61a9-4d94-f644-f3e6dd76e36d"
      },
      "source": [
        "from sklearn.metrics import confusion_matrix, classification_report\n",
        "import matplotlib.pyplot as plt\n",
        "\n",
        "print(confusion_matrix(y_test, preds))\n",
        "print(classification_report(y_test, preds))"
      ],
      "execution_count": null,
      "outputs": [
        {
          "output_type": "stream",
          "text": [
            "[[ 2  3  2  4  0]\n",
            " [ 0  8  3  3  0]\n",
            " [ 1  6  4 12  0]\n",
            " [ 1  6  4 18  2]\n",
            " [ 0  2  0  4  0]]\n",
            "              precision    recall  f1-score   support\n",
            "\n",
            "           0       0.50      0.18      0.27        11\n",
            "           1       0.32      0.57      0.41        14\n",
            "           2       0.31      0.17      0.22        23\n",
            "           3       0.44      0.58      0.50        31\n",
            "           4       0.00      0.00      0.00         6\n",
            "\n",
            "    accuracy                           0.38        85\n",
            "   macro avg       0.31      0.30      0.28        85\n",
            "weighted avg       0.36      0.38      0.34        85\n",
            "\n"
          ],
          "name": "stdout"
        }
      ]
    },
    {
      "cell_type": "code",
      "metadata": {
        "id": "wBeK3Cbwzi6L"
      },
      "source": [
        ""
      ],
      "execution_count": null,
      "outputs": []
    }
  ]
}