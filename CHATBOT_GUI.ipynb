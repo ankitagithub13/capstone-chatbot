{
  "nbformat": 4,
  "nbformat_minor": 0,
  "metadata": {
    "colab": {
      "name": "CHATBOT_GUI.ipynb",
      "provenance": [],
      "collapsed_sections": [],
      "authorship_tag": "ABX9TyOakMZGQbkl7clEc0+5hpnX",
      "include_colab_link": true
    },
    "kernelspec": {
      "name": "python3",
      "display_name": "Python 3"
    },
    "language_info": {
      "name": "python"
    }
  },
  "cells": [
    {
      "cell_type": "markdown",
      "metadata": {
        "id": "view-in-github",
        "colab_type": "text"
      },
      "source": [
        "<a href=\"https://colab.research.google.com/github/ankitagithub13/capstone-chatbot/blob/gui-chatbot/CHATBOT_GUI.ipynb\" target=\"_parent\"><img src=\"https://colab.research.google.com/assets/colab-badge.svg\" alt=\"Open In Colab\"/></a>"
      ]
    },
    {
      "cell_type": "code",
      "metadata": {
        "id": "BuzvKmWN8uAo"
      },
      "source": [
        ""
      ],
      "execution_count": null,
      "outputs": []
    },
    {
      "cell_type": "markdown",
      "metadata": {
        "id": "bC4unXywDzst"
      },
      "source": [
        "**CHATBOT**"
      ]
    },
    {
      "cell_type": "code",
      "metadata": {
        "id": "AkxpsLjs8upl"
      },
      "source": [
        "# Import model\n",
        "from predict_bot_message import *\n",
        "\n",
        "#Creating GUI with tkinter\n",
        "import tkinter as tk\n",
        "from tkinter import *\n",
        "import random\n",
        "\n",
        "# intents salitation\n",
        "intst = [\n",
        "{'patterns': ['Hi','Hey','How are you','Is anyone there?','Hello','Good day'],\n",
        "  'responses': ['Hey :-) Please enter the incident.', 'Hello, thanks for visiting. Please enter the incident.','Hi there, Please enter the incident.', 'Hi there, Please enter the incident.']},\n",
        "\n",
        "{'patterns': ['Bye', 'See you later', 'Goodbye'],\n",
        "  'responses': ['See you later, thanks for visiting','Have a nice day','Bye! Come back again soon.']},\n",
        "    \n",
        "{'patterns': ['Thanks', 'Thank you', \"That's helpful\", \"Thank's a lot!\"],\n",
        "  'responses': ['Happy to help!', 'Any time!', 'My pleasure']},\n",
        "    \n",
        "{'patterns': ['What you do?'],\n",
        "  'responses': ['I am here to help you :-)']},\n",
        "    \n",
        "{'patterns': ['0'],\n",
        "  'responses': ['Please enter your incident!']}\n",
        "    \n",
        "]\n",
        "\n",
        "# Prediction response\n",
        "predict = {\n",
        "    1 : 'This is Potentential Level 1 incident',\n",
        "    2 : 'This is Potentential Level 2 incident',     \n",
        "    3 : 'This is Potentential Level 3 incident',\n",
        "    4 : 'This is Potentential Level 4 incident',\n",
        "    5 : 'This is Potentential Level 5 incident''\n",
        "        }\n",
        "\n",
        "#Quit Function to exit\n",
        "def client_exit():\n",
        "    base.destroy()\n",
        "\n",
        "\n",
        "#response function\n",
        "def chatbot_response(msg):\n",
        "    \"\"\"\n",
        "    Returns response on user input\n",
        "    \n",
        "    Parameter:\n",
        "    msg: user input from chatbot\n",
        "    \n",
        "    \"\"\"   \n",
        "    result_flag = 0    \n",
        "    for i in range(0,len(intst)):       \n",
        "        if msg in intst[i]['patterns']:\n",
        "            result = random.choice(intst[i]['responses'])\n",
        "            result_flag = 1\n",
        "            break \n",
        "            \n",
        "    if result_flag == 0:        \n",
        "        potential, percentage = predict_message(msg)\n",
        "        result = predict[potential[0]] + \". We are \" + str(percentage[0]) + \"% confident about the prediction\"\n",
        "            \n",
        "    return result\n",
        "\n",
        "#Chat GUI\n",
        "def send():\n",
        "    \"\"\"\n",
        "    Chatbot Command\n",
        "    \"\"\"    \n",
        "    msg = EntryBox.get(\"1.0\",'end-1c').strip()\n",
        "    EntryBox.delete(\"0.0\",END)\n",
        "\n",
        "    if msg != '':\n",
        "        ChatLog.config(state=NORMAL)\n",
        "        ChatLog.insert(END, \"You: \" + msg + '\\n\\n')\n",
        "        ChatLog.config(foreground=\"#442265\", font=(\"Verdana\", 12 ))\n",
        "\n",
        "        res = chatbot_response(msg)\n",
        "        ChatLog.insert(END, \"Bot: \" + res + '\\n\\n')\n",
        "\n",
        "        ChatLog.config(state=DISABLED)\n",
        "        ChatLog.yview(END)\n",
        "\n",
        "BG_GRAY = \"#ABB2B9\"\n",
        "FONT_BOLD = \"Helvetica 13 bold\"\n",
        "FNT_A = \"Arial\"\n",
        "\n",
        "base = Tk()\n",
        "base.title(\"CHATBOT: Predict Potential Accident Level: 'I' , 'II' , 'III' , 'IV' , 'V'\")\n",
        "base.geometry(\"800x500\")\n",
        "base.resizable(width=False, height=False)\n",
        "\n",
        "main_menu = Menu(base)\n",
        "# Create the submenu \n",
        "file_menu = Menu(base)\n",
        "\n",
        "# Add commands to submenu\n",
        "main_menu.add_command(label=\"Quit\",command=client_exit)\n",
        "\n",
        "#Add the rest of the menu options to the main menu\n",
        "base.config(menu=main_menu)\n",
        "\n",
        "#Create Chat window\n",
        "ChatLog = Text(base,bd=0, bg=\"white\", height=\"8\", width=\"50\", font=FNT_A,)\n",
        "ChatLog.insert(tk.END, \"Hi! Enter the incident \\n\\n\")\n",
        "ChatLog.config(cursor=\"arrow\",state=DISABLED)\n",
        "\n",
        "#Bind scrollbar to Chat window\n",
        "scrollbar = Scrollbar(base, command=ChatLog.yview, cursor=\"arrow\")\n",
        "ChatLog['yscrollcommand'] = scrollbar.set\n",
        "\n",
        "#Create Button to send message\n",
        "SendButton = Button(base, font=(\"Verdana\",12,'bold'), text=\"Send\", width=\"20\", height=5,\n",
        "                    bd=0, bg=\"#0080ff\", activebackground=\"#3c9d9b\",fg='#ffffff',\n",
        "                    command=send )\n",
        "\n",
        "#Create the box to enter message\n",
        "EntryBox = Text(base, bd=0, bg=BG_GRAY,width=\"29\", height=\"5\", font=FNT_A)\n",
        "EntryBox.focus()\n",
        "EntryBox.bind(\"<Return>\", send)\n",
        "\n",
        "#Place all components on the screen\n",
        "scrollbar.place(x=781,y=6, height=386)\n",
        "ChatLog.place(x=30,y=9, height=386, width=750)\n",
        "EntryBox.place(x=30, y=401, height=150, width=600)\n",
        "SendButton.place(x=610, y=401, height=100)\n",
        "\n",
        "base.mainloop()"
      ],
      "execution_count": null,
      "outputs": []
    },
    {
      "cell_type": "code",
      "metadata": {
        "id": "GjUqDFDfgG5Y"
      },
      "source": [
        ""
      ],
      "execution_count": null,
      "outputs": []
    },
    {
      "cell_type": "code",
      "metadata": {
        "id": "V4v4LBYogG8n"
      },
      "source": [
        ""
      ],
      "execution_count": null,
      "outputs": []
    }
  ]
}