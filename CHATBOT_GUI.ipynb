{
  "nbformat": 4,
  "nbformat_minor": 0,
  "metadata": {
    "colab": {
      "name": "CHATBOT_GUI.ipynb",
      "provenance": [],
      "collapsed_sections": [],
      "authorship_tag": "ABX9TyPJ4NARih+m2Ovd9hDG23Bn",
      "include_colab_link": true
    },
    "kernelspec": {
      "name": "python3",
      "display_name": "Python 3"
    },
    "language_info": {
      "name": "python"
    }
  },
  "cells": [
    {
      "cell_type": "markdown",
      "metadata": {
        "id": "view-in-github",
        "colab_type": "text"
      },
      "source": [
        "<a href=\"https://colab.research.google.com/github/ankitagithub13/capstone-chatbot/blob/gui-chatbot/CHATBOT_GUI.ipynb\" target=\"_parent\"><img src=\"https://colab.research.google.com/assets/colab-badge.svg\" alt=\"Open In Colab\"/></a>"
      ]
    },
    {
      "cell_type": "code",
      "metadata": {
        "id": "BuzvKmWN8uAo"
      },
      "source": [
        ""
      ],
      "execution_count": null,
      "outputs": []
    },
    {
      "cell_type": "code",
      "metadata": {
        "id": "kJ4qDZoS8umL"
      },
      "source": [
        "# Please run this in jupyter notebook not colab!"
      ],
      "execution_count": null,
      "outputs": []
    },
    {
      "cell_type": "code",
      "metadata": {
        "id": "PmMN_q-7fz1b"
      },
      "source": [
        "#Import model (*Once finalised which model to use for bot including preprocess steps)\n",
        "\n",
        "# import predict_bot_message "
      ],
      "execution_count": 1,
      "outputs": []
    },
    {
      "cell_type": "code",
      "metadata": {
        "id": "AkxpsLjs8upl"
      },
      "source": [
        "#Creating GUI with tkinter\n",
        "\n",
        "import tkinter as tk\n",
        "from tkinter import *\n",
        "import random\n",
        "\n",
        "# intents\n",
        "intst = [\n",
        "{'patterns': ['Hi','Hey','How are you','Is anyone there?','Hello','Good day'],\n",
        "  'responses': ['Hey :-)', 'Hello, thanks for visiting','Hi there, what can I do for you?', 'Hi there, how can I help?']},\n",
        "\n",
        "{'patterns': ['Bye', 'See you later', 'Goodbye'],\n",
        "  'responses': ['See you later, thanks for visiting','Have a nice day','Bye! Come back again soon.']},\n",
        "    \n",
        "{'patterns': ['Thanks', 'Thank you', \"That's helpful\", \"Thank's a lot!\"],\n",
        "  'responses': ['Happy to help!', 'Any time!', 'My pleasure']},\n",
        "    \n",
        "{'patterns': ['What you do?'],\n",
        "  'responses': ['I am here to help you :-)']},\n",
        "    \n",
        "{'patterns': ['2'],\n",
        "  'responses': ['This is medium level 2 incident with probability ~ 0.6. Please take precautions!']},\n",
        "    \n",
        "{'patterns': ['1'],\n",
        "  'responses': ['This is Potentential Level 1 incident']},\n",
        "    \n",
        "{'patterns': ['3'],\n",
        "  'responses': ['This is Potentential Level 3 incident']},\n",
        "    \n",
        "{'patterns': ['4'],\n",
        "  'responses': ['This is Potentential Level 4 incident']},\n",
        "    \n",
        "{'patterns': ['5'],\n",
        "  'responses': ['This is Potentential Level 5 incident']},\n",
        "    \n",
        "{'patterns': ['0'],\n",
        "  'responses': ['This is not an incident. Please connect with your manager! Thank you.  ']}\n",
        "]\n",
        "\n",
        "#response function\n",
        "def chatbot_response(msg):\n",
        "    \"\"\"\n",
        "    Returns response on user input\n",
        "    \n",
        "    Parameter:\n",
        "    msg: user input from chatbot\n",
        "    \n",
        "    \"\"\"\n",
        "#     percentage , potential = predict_message(msg)\n",
        "    potential = '2' # Hardcoding for dev purpose , later add model prediction\n",
        "    percentage = 0.6 # Model output \n",
        "    \n",
        "    for i in range(0,len(intst)):\n",
        "        if potential in intst[i]['patterns']:\n",
        "            result = random.choice(intst[i]['responses'])\n",
        "            break\n",
        "        else:\n",
        "            result = 'Sorry,I do not understand..!'\n",
        "    return result\n",
        "\n",
        "#Chat GUI\n",
        "def send():\n",
        "    \"\"\"\n",
        "    Chatbot Command\n",
        "    \"\"\"\n",
        "    \n",
        "    msg = EntryBox.get(\"1.0\",'end-1c').strip()\n",
        "    EntryBox.delete(\"0.0\",END)\n",
        "\n",
        "    if msg != '':\n",
        "        ChatLog.config(state=NORMAL)\n",
        "        ChatLog.insert(END, \"You: \" + msg + '\\n\\n')\n",
        "        ChatLog.config(foreground=\"#442265\", font=(\"Verdana\", 12 ))\n",
        "\n",
        "        res = chatbot_response(msg)\n",
        "        ChatLog.insert(END, \"Bot: \" + res + '\\n\\n')\n",
        "\n",
        "        ChatLog.config(state=DISABLED)\n",
        "        ChatLog.yview(END)\n",
        "\n",
        "\n",
        "base = Tk()\n",
        "base.title(\"CHATBOT\")\n",
        "base.geometry(\"400x500\")\n",
        "base.resizable(width=True, height=True)\n",
        "\n",
        "main_menu = Menu(base)\n",
        "# Create the submenu \n",
        "file_menu = Menu(base)\n",
        "\n",
        "# Add commands to submenu\n",
        "file_menu.add_command(label=\"New..\")\n",
        "file_menu.add_command(label=\"Save As..\")\n",
        "file_menu.add_command(label=\"Exit\")\n",
        "main_menu.add_cascade(label=\"File\", menu=file_menu)\n",
        "#Add the rest of the menu options to the main menu\n",
        "main_menu.add_command(label=\"Edit\")\n",
        "main_menu.add_command(label=\"Quit\")\n",
        "base.config(menu=main_menu)\n",
        "\n",
        "#Create Chat window\n",
        "ChatLog = Text(base,bd=0, bg=\"white\", height=\"8\", width=\"50\", font=\"Arial\",)\n",
        "ChatLog.insert(tk.END, \"Hi! Enter the incident \\n\\n\")\n",
        "ChatLog.config(cursor=\"arrow\",state=DISABLED)\n",
        "\n",
        "#Bind scrollbar to Chat window\n",
        "scrollbar = Scrollbar(base, command=ChatLog.yview, cursor=\"heart\")\n",
        "ChatLog['yscrollcommand'] = scrollbar.set\n",
        "\n",
        "#Create Button to send message\n",
        "SendButton = Button(base, font=(\"Verdana\",12,'bold'), text=\"Send\", width=\"12\", height=5,\n",
        "                    bd=0, bg=\"#0080ff\", activebackground=\"#3c9d9b\",fg='#ffffff',\n",
        "                    command=send )\n",
        "\n",
        "#Create the box to enter message\n",
        "EntryBox = Text(base, bd=0, bg=\"white\",width=\"29\", height=\"5\", font=\"Arial\")\n",
        "EntryBox.focus()\n",
        "EntryBox.bind(\"<Return>\", send)\n",
        "\n",
        "# head label\n",
        "head = Label(base, text=\"Predict Potential Accident Level: 'I' , 'II' , 'III' , 'IV' , 'V' , 'VI'\", bg=\"red\", fg=\"white\")\n",
        "\n",
        "#Place all components on the screen\n",
        "head.place(x=9,y=9, height=20, width=370)\n",
        "scrollbar.place(x=376,y=6, height=386)\n",
        "ChatLog.place(x=30,y=30, height=386, width=370)\n",
        "EntryBox.place(x=128, y=401, height=90, width=265)\n",
        "SendButton.place(x=6, y=401, height=90)\n",
        "base.mainloop()"
      ],
      "execution_count": null,
      "outputs": []
    },
    {
      "cell_type": "markdown",
      "metadata": {
        "id": "o9RX2JJFgLso"
      },
      "source": [
        "**Feedback**"
      ]
    },
    {
      "cell_type": "markdown",
      "metadata": {
        "id": "FdnERRd5gLlo"
      },
      "source": [
        "* Hard code Head with Potential Incidence-Label displayed by default(ChatLog) - Done\n",
        "* Refreshing- the screen after 5 sec, refresh it again for user to re enter new incident.\n",
        "* Add more meaning and relevant intents as per project, if required and modify existing patterns.\n",
        "* Add main menu file,quit etc.. Add callbacks for main menu.\n",
        "* Add percentatge criteria for the incident."
      ]
    },
    {
      "cell_type": "markdown",
      "metadata": {
        "id": "Y8JkAnfxgWK1"
      },
      "source": [
        "## **Validation**:\n",
        "    On user input, ask user if this is the incident if user reverts (Yes) then return prediction else ask to enter the incident."
      ]
    },
    {
      "cell_type": "code",
      "metadata": {
        "id": "GjUqDFDfgG5Y"
      },
      "source": [
        ""
      ],
      "execution_count": null,
      "outputs": []
    },
    {
      "cell_type": "code",
      "metadata": {
        "id": "V4v4LBYogG8n"
      },
      "source": [
        ""
      ],
      "execution_count": null,
      "outputs": []
    }
  ]
}