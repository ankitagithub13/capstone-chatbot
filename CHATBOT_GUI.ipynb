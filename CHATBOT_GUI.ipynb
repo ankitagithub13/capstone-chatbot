{
  "nbformat": 4,
  "nbformat_minor": 0,
  "metadata": {
    "colab": {
      "name": "CHATBOT_GUI.ipynb",
      "provenance": [],
      "authorship_tag": "ABX9TyPRrUwpFNA7l66uZz0PxYrp",
      "include_colab_link": true
    },
    "kernelspec": {
      "name": "python3",
      "display_name": "Python 3"
    },
    "language_info": {
      "name": "python"
    }
  },
  "cells": [
    {
      "cell_type": "markdown",
      "metadata": {
        "id": "view-in-github",
        "colab_type": "text"
      },
      "source": [
        "<a href=\"https://colab.research.google.com/github/ankitagithub13/capstone-chatbot/blob/gui-chatbot/CHATBOT_GUI.ipynb\" target=\"_parent\"><img src=\"https://colab.research.google.com/assets/colab-badge.svg\" alt=\"Open In Colab\"/></a>"
      ]
    },
    {
      "cell_type": "code",
      "metadata": {
        "id": "BuzvKmWN8uAo"
      },
      "source": [
        ""
      ],
      "execution_count": null,
      "outputs": []
    },
    {
      "cell_type": "code",
      "metadata": {
        "id": "kJ4qDZoS8umL"
      },
      "source": [
        "# Please run tis in jupyter notebook"
      ],
      "execution_count": null,
      "outputs": []
    },
    {
      "cell_type": "code",
      "metadata": {
        "id": "AkxpsLjs8upl"
      },
      "source": [
        "#Creating GUI with tkinter\n",
        "import tkinter as tk\n",
        "from tkinter import *\n",
        "\n",
        "import random\n",
        "\n",
        "# intents\n",
        "intst = [\n",
        " {'patterns': ['Hi','Hey','How are you','Is anyone there?','Hello','Good day'],\n",
        "  'responses': ['Hey :-)', 'Hello, thanks for visiting','Hi there, what can I do for you?', 'Hi there, how can I help?']},\n",
        "\n",
        " {'patterns': ['Bye', 'See you later', 'Goodbye'],\n",
        "  'responses': ['See you later, thanks for visiting','Have a nice day','Bye! Come back again soon.']},\n",
        "    \n",
        " {'patterns': ['Thanks', 'Thank you', \"That's helpful\", \"Thank's a lot!\"],\n",
        "  'responses': ['Happy to help!', 'Any time!', 'My pleasure']},\n",
        "    \n",
        " {'patterns': ['What you do?'],\n",
        "  'responses': ['I am here to help you :-)']}\n",
        "]\n",
        "\n",
        "\n",
        "#response function\n",
        "def chatbot_response(msg):\n",
        "    for i in range(0,len(intst)):\n",
        "        if msg in intst[i]['patterns']:\n",
        "            result = random.choice(intst[i]['responses'])\n",
        "            break\n",
        "        else:\n",
        "            result = 'Sorry,I do not understand..!'\n",
        "    return result\n",
        "\n",
        "#Chat GUI\n",
        "def send():\n",
        "    msg = EntryBox.get(\"1.0\",'end-1c').strip()\n",
        "    EntryBox.delete(\"0.0\",END)\n",
        "\n",
        "    if msg != '':\n",
        "        ChatLog.config(state=NORMAL)\n",
        "        ChatLog.insert(END, \"You: \" + msg + '\\n\\n')\n",
        "        ChatLog.config(foreground=\"#442265\", font=(\"Verdana\", 12 ))\n",
        "\n",
        "        res = chatbot_response(msg)\n",
        "        ChatLog.insert(END, \"Bot: \" + res + '\\n\\n')\n",
        "\n",
        "        ChatLog.config(state=DISABLED)\n",
        "        ChatLog.yview(END)\n",
        "\n",
        "\n",
        "base = Tk()\n",
        "base.title(\"CHATBOT\")\n",
        "base.geometry(\"400x500\")\n",
        "base.resizable(width=True, height=True)\n",
        "\n",
        "#Create Chat window\n",
        "ChatLog = Text(base,bd=0, bg=\"white\", height=\"8\", width=\"50\", font=\"Arial\",)\n",
        "ChatLog.insert(tk.END, \"Hi! I am a chatbot for your service \\n\\n\")\n",
        "ChatLog.config(cursor=\"arrow\",state=DISABLED)\n",
        "\n",
        "#Bind scrollbar to Chat window\n",
        "scrollbar = Scrollbar(base, command=ChatLog.yview, cursor=\"heart\")\n",
        "ChatLog['yscrollcommand'] = scrollbar.set\n",
        "\n",
        "#Create Button to send message\n",
        "SendButton = Button(base, font=(\"Verdana\",12,'bold'), text=\"Send\", width=\"12\", height=5,\n",
        "                    bd=0, bg=\"#0080ff\", activebackground=\"#3c9d9b\",fg='#ffffff',\n",
        "                    command=send )\n",
        "\n",
        "#Create the box to enter message\n",
        "EntryBox = Text(base, bd=0, bg=\"white\",width=\"29\", height=\"5\", font=\"Arial\")\n",
        "EntryBox.focus()\n",
        "# EntryBox.bind(\"<Return>\", send)\n",
        "\n",
        "# head label\n",
        "head = Label(base, text=\"Predict Potential Accident Level: 'I' , 'II' , 'III' , 'IV' , 'V' , 'VI'\", bg=\"red\", fg=\"white\")\n",
        "\n",
        "#Place all components on the screen\n",
        "head.place(x=9,y=9, height=20, width=370)\n",
        "scrollbar.place(x=376,y=6, height=386)\n",
        "ChatLog.place(x=30,y=30, height=386, width=370)\n",
        "EntryBox.place(x=128, y=401, height=90, width=265)\n",
        "SendButton.place(x=6, y=401, height=90)\n",
        "base.mainloop()"
      ],
      "execution_count": null,
      "outputs": []
    }
  ]
}