{
  "nbformat": 4,
  "nbformat_minor": 0,
  "metadata": {
    "colab": {
      "name": "Capstone Project- Concatenated Model.ipynb",
      "provenance": [],
      "collapsed_sections": [],
      "mount_file_id": "1vgU_X02zvwW-iJG9iLeb3XW__zzUobvx",
      "authorship_tag": "ABX9TyPN6kj5P2hxJgskBASRwF18",
      "include_colab_link": true
    },
    "kernelspec": {
      "name": "python3",
      "display_name": "Python 3"
    },
    "language_info": {
      "name": "python"
    },
    "accelerator": "GPU"
  },
  "cells": [
    {
      "cell_type": "markdown",
      "metadata": {
        "id": "view-in-github",
        "colab_type": "text"
      },
      "source": [
        "<a href=\"https://colab.research.google.com/github/ankitagithub13/capstone-chatbot/blob/Modeling/Capstone_Project_Concatenated_Model.ipynb\" target=\"_parent\"><img src=\"https://colab.research.google.com/assets/colab-badge.svg\" alt=\"Open In Colab\"/></a>"
      ]
    },
    {
      "cell_type": "markdown",
      "metadata": {
        "id": "ritXjo8wCzAW"
      },
      "source": [
        "Concatenated Model - Since the model accuracy for predicting the target variable i.e. Potential Risk Indicator is not that high, we will try and incorporate some additional input parameters apart from the text incident description, and create a concatenated model arhictecture to see if the model accuracy can be improved. \n",
        "\n",
        "Based on the prelim. analysis done at the EDA stage, we will incorporate the country, location, time (quarter, week of the day) input variables as predictors in the model, and see if we are able to improve the accuracy score. "
      ]
    },
    {
      "cell_type": "markdown",
      "metadata": {
        "id": "stt19ForSwqR"
      },
      "source": [
        "Convolution Model for other parameters"
      ]
    },
    {
      "cell_type": "code",
      "metadata": {
        "id": "QRZNz_hVYg9X"
      },
      "source": [
        "import tensorflow as tf\n",
        "tf.random.set_seed(100)\n",
        "import pandas as pd\n",
        "import numpy as np\n",
        "from tensorflow import keras \n",
        "\n",
        "from tensorflow.keras.models import Model\n",
        "from tensorflow.keras.layers import Input, Dense, Flatten, Dropout, Embedding, Conv1D, MaxPooling1D, concatenate\n",
        "from tensorflow.keras.models import Model\n",
        "from tensorflow.keras.callbacks import EarlyStopping, ModelCheckpoint \n",
        "from keras.layers.merge import concatenate"
      ],
      "execution_count": 60,
      "outputs": []
    },
    {
      "cell_type": "code",
      "metadata": {
        "id": "kfc2n2dKB4N2"
      },
      "source": [
        "import tensorflow.experimental.numpy as tnp"
      ],
      "execution_count": 4,
      "outputs": []
    },
    {
      "cell_type": "code",
      "metadata": {
        "colab": {
          "base_uri": "https://localhost:8080/",
          "height": 306
        },
        "id": "hsWtAVWuA_1q",
        "outputId": "e7d006c3-e96c-48ef-f1c1-23cb12ac2025"
      },
      "source": [
        "pip install -U numpy==1.19.2"
      ],
      "execution_count": null,
      "outputs": [
        {
          "output_type": "stream",
          "text": [
            "Collecting numpy==1.19.2\n",
            "  Downloading numpy-1.19.2-cp37-cp37m-manylinux2010_x86_64.whl (14.5 MB)\n",
            "\u001b[K     |████████████████████████████████| 14.5 MB 4.3 MB/s \n",
            "\u001b[?25hInstalling collected packages: numpy\n",
            "  Attempting uninstall: numpy\n",
            "    Found existing installation: numpy 1.19.5\n",
            "    Uninstalling numpy-1.19.5:\n",
            "      Successfully uninstalled numpy-1.19.5\n",
            "\u001b[31mERROR: pip's dependency resolver does not currently take into account all the packages that are installed. This behaviour is the source of the following dependency conflicts.\n",
            "datascience 0.10.6 requires folium==0.2.1, but you have folium 0.8.3 which is incompatible.\n",
            "albumentations 0.1.12 requires imgaug<0.2.7,>=0.2.5, but you have imgaug 0.2.9 which is incompatible.\u001b[0m\n",
            "Successfully installed numpy-1.19.2\n"
          ],
          "name": "stdout"
        },
        {
          "output_type": "display_data",
          "data": {
            "application/vnd.colab-display-data+json": {
              "pip_warning": {
                "packages": [
                  "numpy"
                ]
              }
            }
          },
          "metadata": {
            "tags": []
          }
        }
      ]
    },
    {
      "cell_type": "code",
      "metadata": {
        "colab": {
          "base_uri": "https://localhost:8080/"
        },
        "id": "GbiWA5ZHxgA_",
        "outputId": "0d519d92-37c4-4190-ec7e-1f4225e8a00b"
      },
      "source": [
        "%cd /content/drive/My Drive/Capstone Project"
      ],
      "execution_count": 15,
      "outputs": [
        {
          "output_type": "stream",
          "text": [
            "/content/drive/My Drive/Capstone Project\n"
          ],
          "name": "stdout"
        }
      ]
    },
    {
      "cell_type": "code",
      "metadata": {
        "id": "mLhuwrHdwFk2"
      },
      "source": [
        "# let's import the dataset and do the preprocessing\n",
        "input_data=pd.read_csv('Data Set - industrial_safety_and_health_database_with_accidents_description.csv') "
      ],
      "execution_count": 6,
      "outputs": []
    },
    {
      "cell_type": "code",
      "metadata": {
        "colab": {
          "base_uri": "https://localhost:8080/",
          "height": 204
        },
        "id": "PMv5Jgjm7GTI",
        "outputId": "501b9f55-109a-430d-ae1d-e6c53d1e7a10"
      },
      "source": [
        "input_data.head()"
      ],
      "execution_count": 7,
      "outputs": [
        {
          "output_type": "execute_result",
          "data": {
            "text/html": [
              "<div>\n",
              "<style scoped>\n",
              "    .dataframe tbody tr th:only-of-type {\n",
              "        vertical-align: middle;\n",
              "    }\n",
              "\n",
              "    .dataframe tbody tr th {\n",
              "        vertical-align: top;\n",
              "    }\n",
              "\n",
              "    .dataframe thead th {\n",
              "        text-align: right;\n",
              "    }\n",
              "</style>\n",
              "<table border=\"1\" class=\"dataframe\">\n",
              "  <thead>\n",
              "    <tr style=\"text-align: right;\">\n",
              "      <th></th>\n",
              "      <th>Unnamed: 0</th>\n",
              "      <th>Data</th>\n",
              "      <th>Countries</th>\n",
              "      <th>Local</th>\n",
              "      <th>Industry Sector</th>\n",
              "      <th>Accident Level</th>\n",
              "      <th>Potential Accident Level</th>\n",
              "      <th>Genre</th>\n",
              "      <th>Employee or Third Party</th>\n",
              "      <th>Critical Risk</th>\n",
              "      <th>Description</th>\n",
              "    </tr>\n",
              "  </thead>\n",
              "  <tbody>\n",
              "    <tr>\n",
              "      <th>0</th>\n",
              "      <td>0</td>\n",
              "      <td>2016-01-01 00:00:00</td>\n",
              "      <td>Country_01</td>\n",
              "      <td>Local_01</td>\n",
              "      <td>Mining</td>\n",
              "      <td>I</td>\n",
              "      <td>IV</td>\n",
              "      <td>Male</td>\n",
              "      <td>Third Party</td>\n",
              "      <td>Pressed</td>\n",
              "      <td>While removing the drill rod of the Jumbo 08 f...</td>\n",
              "    </tr>\n",
              "    <tr>\n",
              "      <th>1</th>\n",
              "      <td>1</td>\n",
              "      <td>2016-01-02 00:00:00</td>\n",
              "      <td>Country_02</td>\n",
              "      <td>Local_02</td>\n",
              "      <td>Mining</td>\n",
              "      <td>I</td>\n",
              "      <td>IV</td>\n",
              "      <td>Male</td>\n",
              "      <td>Employee</td>\n",
              "      <td>Pressurized Systems</td>\n",
              "      <td>During the activation of a sodium sulphide pum...</td>\n",
              "    </tr>\n",
              "    <tr>\n",
              "      <th>2</th>\n",
              "      <td>2</td>\n",
              "      <td>2016-01-06 00:00:00</td>\n",
              "      <td>Country_01</td>\n",
              "      <td>Local_03</td>\n",
              "      <td>Mining</td>\n",
              "      <td>I</td>\n",
              "      <td>III</td>\n",
              "      <td>Male</td>\n",
              "      <td>Third Party (Remote)</td>\n",
              "      <td>Manual Tools</td>\n",
              "      <td>In the sub-station MILPO located at level +170...</td>\n",
              "    </tr>\n",
              "    <tr>\n",
              "      <th>3</th>\n",
              "      <td>3</td>\n",
              "      <td>2016-01-08 00:00:00</td>\n",
              "      <td>Country_01</td>\n",
              "      <td>Local_04</td>\n",
              "      <td>Mining</td>\n",
              "      <td>I</td>\n",
              "      <td>I</td>\n",
              "      <td>Male</td>\n",
              "      <td>Third Party</td>\n",
              "      <td>Others</td>\n",
              "      <td>Being 9:45 am. approximately in the Nv. 1880 C...</td>\n",
              "    </tr>\n",
              "    <tr>\n",
              "      <th>4</th>\n",
              "      <td>4</td>\n",
              "      <td>2016-01-10 00:00:00</td>\n",
              "      <td>Country_01</td>\n",
              "      <td>Local_04</td>\n",
              "      <td>Mining</td>\n",
              "      <td>IV</td>\n",
              "      <td>IV</td>\n",
              "      <td>Male</td>\n",
              "      <td>Third Party</td>\n",
              "      <td>Others</td>\n",
              "      <td>Approximately at 11:45 a.m. in circumstances t...</td>\n",
              "    </tr>\n",
              "  </tbody>\n",
              "</table>\n",
              "</div>"
            ],
            "text/plain": [
              "   Unnamed: 0  ...                                        Description\n",
              "0           0  ...  While removing the drill rod of the Jumbo 08 f...\n",
              "1           1  ...  During the activation of a sodium sulphide pum...\n",
              "2           2  ...  In the sub-station MILPO located at level +170...\n",
              "3           3  ...  Being 9:45 am. approximately in the Nv. 1880 C...\n",
              "4           4  ...  Approximately at 11:45 a.m. in circumstances t...\n",
              "\n",
              "[5 rows x 11 columns]"
            ]
          },
          "metadata": {
            "tags": []
          },
          "execution_count": 7
        }
      ]
    },
    {
      "cell_type": "code",
      "metadata": {
        "id": "H5DL6v-V7Hao"
      },
      "source": [
        "# Let's drop the Unnamed column \n",
        "input_data1=input_data.drop(columns=['Unnamed: 0'],axis=1)"
      ],
      "execution_count": 8,
      "outputs": []
    },
    {
      "cell_type": "code",
      "metadata": {
        "colab": {
          "base_uri": "https://localhost:8080/",
          "height": 204
        },
        "id": "QsfMLMHV7HdP",
        "outputId": "437dd32b-d84d-4f57-fb16-cd4c0227b161"
      },
      "source": [
        "input_data1.head()"
      ],
      "execution_count": 9,
      "outputs": [
        {
          "output_type": "execute_result",
          "data": {
            "text/html": [
              "<div>\n",
              "<style scoped>\n",
              "    .dataframe tbody tr th:only-of-type {\n",
              "        vertical-align: middle;\n",
              "    }\n",
              "\n",
              "    .dataframe tbody tr th {\n",
              "        vertical-align: top;\n",
              "    }\n",
              "\n",
              "    .dataframe thead th {\n",
              "        text-align: right;\n",
              "    }\n",
              "</style>\n",
              "<table border=\"1\" class=\"dataframe\">\n",
              "  <thead>\n",
              "    <tr style=\"text-align: right;\">\n",
              "      <th></th>\n",
              "      <th>Data</th>\n",
              "      <th>Countries</th>\n",
              "      <th>Local</th>\n",
              "      <th>Industry Sector</th>\n",
              "      <th>Accident Level</th>\n",
              "      <th>Potential Accident Level</th>\n",
              "      <th>Genre</th>\n",
              "      <th>Employee or Third Party</th>\n",
              "      <th>Critical Risk</th>\n",
              "      <th>Description</th>\n",
              "    </tr>\n",
              "  </thead>\n",
              "  <tbody>\n",
              "    <tr>\n",
              "      <th>0</th>\n",
              "      <td>2016-01-01 00:00:00</td>\n",
              "      <td>Country_01</td>\n",
              "      <td>Local_01</td>\n",
              "      <td>Mining</td>\n",
              "      <td>I</td>\n",
              "      <td>IV</td>\n",
              "      <td>Male</td>\n",
              "      <td>Third Party</td>\n",
              "      <td>Pressed</td>\n",
              "      <td>While removing the drill rod of the Jumbo 08 f...</td>\n",
              "    </tr>\n",
              "    <tr>\n",
              "      <th>1</th>\n",
              "      <td>2016-01-02 00:00:00</td>\n",
              "      <td>Country_02</td>\n",
              "      <td>Local_02</td>\n",
              "      <td>Mining</td>\n",
              "      <td>I</td>\n",
              "      <td>IV</td>\n",
              "      <td>Male</td>\n",
              "      <td>Employee</td>\n",
              "      <td>Pressurized Systems</td>\n",
              "      <td>During the activation of a sodium sulphide pum...</td>\n",
              "    </tr>\n",
              "    <tr>\n",
              "      <th>2</th>\n",
              "      <td>2016-01-06 00:00:00</td>\n",
              "      <td>Country_01</td>\n",
              "      <td>Local_03</td>\n",
              "      <td>Mining</td>\n",
              "      <td>I</td>\n",
              "      <td>III</td>\n",
              "      <td>Male</td>\n",
              "      <td>Third Party (Remote)</td>\n",
              "      <td>Manual Tools</td>\n",
              "      <td>In the sub-station MILPO located at level +170...</td>\n",
              "    </tr>\n",
              "    <tr>\n",
              "      <th>3</th>\n",
              "      <td>2016-01-08 00:00:00</td>\n",
              "      <td>Country_01</td>\n",
              "      <td>Local_04</td>\n",
              "      <td>Mining</td>\n",
              "      <td>I</td>\n",
              "      <td>I</td>\n",
              "      <td>Male</td>\n",
              "      <td>Third Party</td>\n",
              "      <td>Others</td>\n",
              "      <td>Being 9:45 am. approximately in the Nv. 1880 C...</td>\n",
              "    </tr>\n",
              "    <tr>\n",
              "      <th>4</th>\n",
              "      <td>2016-01-10 00:00:00</td>\n",
              "      <td>Country_01</td>\n",
              "      <td>Local_04</td>\n",
              "      <td>Mining</td>\n",
              "      <td>IV</td>\n",
              "      <td>IV</td>\n",
              "      <td>Male</td>\n",
              "      <td>Third Party</td>\n",
              "      <td>Others</td>\n",
              "      <td>Approximately at 11:45 a.m. in circumstances t...</td>\n",
              "    </tr>\n",
              "  </tbody>\n",
              "</table>\n",
              "</div>"
            ],
            "text/plain": [
              "                  Data  ...                                        Description\n",
              "0  2016-01-01 00:00:00  ...  While removing the drill rod of the Jumbo 08 f...\n",
              "1  2016-01-02 00:00:00  ...  During the activation of a sodium sulphide pum...\n",
              "2  2016-01-06 00:00:00  ...  In the sub-station MILPO located at level +170...\n",
              "3  2016-01-08 00:00:00  ...  Being 9:45 am. approximately in the Nv. 1880 C...\n",
              "4  2016-01-10 00:00:00  ...  Approximately at 11:45 a.m. in circumstances t...\n",
              "\n",
              "[5 rows x 10 columns]"
            ]
          },
          "metadata": {
            "tags": []
          },
          "execution_count": 9
        }
      ]
    },
    {
      "cell_type": "markdown",
      "metadata": {
        "id": "srbTBl9EmQG9"
      },
      "source": [
        "Although there was some sort of variability caused in the actual accident level by 'day of the week' and 'quarter' as seen in the EDA analysis previously, and no insights/ information gain from the 'month' and 'day' towards the target variable -   Let's look at the impact of the 'day of the week', 'quarter', 'month', 'day', 'week in year' against the potential accident level"
      ]
    },
    {
      "cell_type": "code",
      "metadata": {
        "id": "mN3qDwA_7Hhg"
      },
      "source": [
        "# Let's extract the relevant time/date features from our dataset\n",
        "\n",
        "input_data1.Data = pd.to_datetime(input_data1.Data)\n",
        "\n",
        "input_data1['dayofweek'] =input_data1['Data'].dt.dayofweek\n",
        "input_data1['quarter'] =input_data1['Data'].dt.quarter\n",
        "input_data1['day'] =input_data1['Data'].dt.day\n",
        "input_data1['month'] =input_data1['Data'].dt.month"
      ],
      "execution_count": 27,
      "outputs": []
    },
    {
      "cell_type": "code",
      "metadata": {
        "id": "PZ2y9YMV7Hli"
      },
      "source": [
        "# Let's reorder the data\n",
        "\n",
        "input_data2=input_data1[['dayofweek', 'quarter','day','month','Countries', 'Local','Industry Sector', 'Accident Level', 'Potential Accident Level','Genre', 'Employee or Third Party',\n",
        "                     'Critical Risk','Description']]"
      ],
      "execution_count": 24,
      "outputs": []
    },
    {
      "cell_type": "code",
      "metadata": {
        "colab": {
          "base_uri": "https://localhost:8080/",
          "height": 419
        },
        "id": "kRIv3ycW8Z91",
        "outputId": "73490cc0-89a7-4a9b-9fe5-6fb160b81d0f"
      },
      "source": [
        "input_data2"
      ],
      "execution_count": 25,
      "outputs": [
        {
          "output_type": "execute_result",
          "data": {
            "text/html": [
              "<div>\n",
              "<style scoped>\n",
              "    .dataframe tbody tr th:only-of-type {\n",
              "        vertical-align: middle;\n",
              "    }\n",
              "\n",
              "    .dataframe tbody tr th {\n",
              "        vertical-align: top;\n",
              "    }\n",
              "\n",
              "    .dataframe thead th {\n",
              "        text-align: right;\n",
              "    }\n",
              "</style>\n",
              "<table border=\"1\" class=\"dataframe\">\n",
              "  <thead>\n",
              "    <tr style=\"text-align: right;\">\n",
              "      <th></th>\n",
              "      <th>dayofweek</th>\n",
              "      <th>quarter</th>\n",
              "      <th>day</th>\n",
              "      <th>month</th>\n",
              "      <th>Countries</th>\n",
              "      <th>Local</th>\n",
              "      <th>Industry Sector</th>\n",
              "      <th>Accident Level</th>\n",
              "      <th>Potential Accident Level</th>\n",
              "      <th>Genre</th>\n",
              "      <th>Employee or Third Party</th>\n",
              "      <th>Critical Risk</th>\n",
              "      <th>Description</th>\n",
              "    </tr>\n",
              "  </thead>\n",
              "  <tbody>\n",
              "    <tr>\n",
              "      <th>0</th>\n",
              "      <td>4</td>\n",
              "      <td>1</td>\n",
              "      <td>1</td>\n",
              "      <td>1</td>\n",
              "      <td>Country_01</td>\n",
              "      <td>Local_01</td>\n",
              "      <td>Mining</td>\n",
              "      <td>I</td>\n",
              "      <td>IV</td>\n",
              "      <td>Male</td>\n",
              "      <td>Third Party</td>\n",
              "      <td>Pressed</td>\n",
              "      <td>While removing the drill rod of the Jumbo 08 f...</td>\n",
              "    </tr>\n",
              "    <tr>\n",
              "      <th>1</th>\n",
              "      <td>5</td>\n",
              "      <td>1</td>\n",
              "      <td>2</td>\n",
              "      <td>1</td>\n",
              "      <td>Country_02</td>\n",
              "      <td>Local_02</td>\n",
              "      <td>Mining</td>\n",
              "      <td>I</td>\n",
              "      <td>IV</td>\n",
              "      <td>Male</td>\n",
              "      <td>Employee</td>\n",
              "      <td>Pressurized Systems</td>\n",
              "      <td>During the activation of a sodium sulphide pum...</td>\n",
              "    </tr>\n",
              "    <tr>\n",
              "      <th>2</th>\n",
              "      <td>2</td>\n",
              "      <td>1</td>\n",
              "      <td>6</td>\n",
              "      <td>1</td>\n",
              "      <td>Country_01</td>\n",
              "      <td>Local_03</td>\n",
              "      <td>Mining</td>\n",
              "      <td>I</td>\n",
              "      <td>III</td>\n",
              "      <td>Male</td>\n",
              "      <td>Third Party (Remote)</td>\n",
              "      <td>Manual Tools</td>\n",
              "      <td>In the sub-station MILPO located at level +170...</td>\n",
              "    </tr>\n",
              "    <tr>\n",
              "      <th>3</th>\n",
              "      <td>4</td>\n",
              "      <td>1</td>\n",
              "      <td>8</td>\n",
              "      <td>1</td>\n",
              "      <td>Country_01</td>\n",
              "      <td>Local_04</td>\n",
              "      <td>Mining</td>\n",
              "      <td>I</td>\n",
              "      <td>I</td>\n",
              "      <td>Male</td>\n",
              "      <td>Third Party</td>\n",
              "      <td>Others</td>\n",
              "      <td>Being 9:45 am. approximately in the Nv. 1880 C...</td>\n",
              "    </tr>\n",
              "    <tr>\n",
              "      <th>4</th>\n",
              "      <td>6</td>\n",
              "      <td>1</td>\n",
              "      <td>10</td>\n",
              "      <td>1</td>\n",
              "      <td>Country_01</td>\n",
              "      <td>Local_04</td>\n",
              "      <td>Mining</td>\n",
              "      <td>IV</td>\n",
              "      <td>IV</td>\n",
              "      <td>Male</td>\n",
              "      <td>Third Party</td>\n",
              "      <td>Others</td>\n",
              "      <td>Approximately at 11:45 a.m. in circumstances t...</td>\n",
              "    </tr>\n",
              "    <tr>\n",
              "      <th>...</th>\n",
              "      <td>...</td>\n",
              "      <td>...</td>\n",
              "      <td>...</td>\n",
              "      <td>...</td>\n",
              "      <td>...</td>\n",
              "      <td>...</td>\n",
              "      <td>...</td>\n",
              "      <td>...</td>\n",
              "      <td>...</td>\n",
              "      <td>...</td>\n",
              "      <td>...</td>\n",
              "      <td>...</td>\n",
              "      <td>...</td>\n",
              "    </tr>\n",
              "    <tr>\n",
              "      <th>420</th>\n",
              "      <td>1</td>\n",
              "      <td>3</td>\n",
              "      <td>4</td>\n",
              "      <td>7</td>\n",
              "      <td>Country_01</td>\n",
              "      <td>Local_04</td>\n",
              "      <td>Mining</td>\n",
              "      <td>I</td>\n",
              "      <td>III</td>\n",
              "      <td>Male</td>\n",
              "      <td>Third Party</td>\n",
              "      <td>Others</td>\n",
              "      <td>Being approximately 5:00 a.m. approximately, w...</td>\n",
              "    </tr>\n",
              "    <tr>\n",
              "      <th>421</th>\n",
              "      <td>1</td>\n",
              "      <td>3</td>\n",
              "      <td>4</td>\n",
              "      <td>7</td>\n",
              "      <td>Country_01</td>\n",
              "      <td>Local_03</td>\n",
              "      <td>Mining</td>\n",
              "      <td>I</td>\n",
              "      <td>II</td>\n",
              "      <td>Female</td>\n",
              "      <td>Employee</td>\n",
              "      <td>Others</td>\n",
              "      <td>The collaborator moved from the infrastructure...</td>\n",
              "    </tr>\n",
              "    <tr>\n",
              "      <th>422</th>\n",
              "      <td>2</td>\n",
              "      <td>3</td>\n",
              "      <td>5</td>\n",
              "      <td>7</td>\n",
              "      <td>Country_02</td>\n",
              "      <td>Local_09</td>\n",
              "      <td>Metals</td>\n",
              "      <td>I</td>\n",
              "      <td>II</td>\n",
              "      <td>Male</td>\n",
              "      <td>Employee</td>\n",
              "      <td>Venomous Animals</td>\n",
              "      <td>During the environmental monitoring activity i...</td>\n",
              "    </tr>\n",
              "    <tr>\n",
              "      <th>423</th>\n",
              "      <td>3</td>\n",
              "      <td>3</td>\n",
              "      <td>6</td>\n",
              "      <td>7</td>\n",
              "      <td>Country_02</td>\n",
              "      <td>Local_05</td>\n",
              "      <td>Metals</td>\n",
              "      <td>I</td>\n",
              "      <td>II</td>\n",
              "      <td>Male</td>\n",
              "      <td>Employee</td>\n",
              "      <td>Cut</td>\n",
              "      <td>The Employee performed the activity of strippi...</td>\n",
              "    </tr>\n",
              "    <tr>\n",
              "      <th>424</th>\n",
              "      <td>6</td>\n",
              "      <td>3</td>\n",
              "      <td>9</td>\n",
              "      <td>7</td>\n",
              "      <td>Country_01</td>\n",
              "      <td>Local_04</td>\n",
              "      <td>Mining</td>\n",
              "      <td>I</td>\n",
              "      <td>II</td>\n",
              "      <td>Female</td>\n",
              "      <td>Third Party</td>\n",
              "      <td>Fall prevention (same level)</td>\n",
              "      <td>At 10:00 a.m., when the assistant cleaned the ...</td>\n",
              "    </tr>\n",
              "  </tbody>\n",
              "</table>\n",
              "<p>425 rows × 13 columns</p>\n",
              "</div>"
            ],
            "text/plain": [
              "     dayofweek  ...                                        Description\n",
              "0            4  ...  While removing the drill rod of the Jumbo 08 f...\n",
              "1            5  ...  During the activation of a sodium sulphide pum...\n",
              "2            2  ...  In the sub-station MILPO located at level +170...\n",
              "3            4  ...  Being 9:45 am. approximately in the Nv. 1880 C...\n",
              "4            6  ...  Approximately at 11:45 a.m. in circumstances t...\n",
              "..         ...  ...                                                ...\n",
              "420          1  ...  Being approximately 5:00 a.m. approximately, w...\n",
              "421          1  ...  The collaborator moved from the infrastructure...\n",
              "422          2  ...  During the environmental monitoring activity i...\n",
              "423          3  ...  The Employee performed the activity of strippi...\n",
              "424          6  ...  At 10:00 a.m., when the assistant cleaned the ...\n",
              "\n",
              "[425 rows x 13 columns]"
            ]
          },
          "metadata": {
            "tags": []
          },
          "execution_count": 25
        }
      ]
    },
    {
      "cell_type": "code",
      "metadata": {
        "id": "DpEUYosmSmo7"
      },
      "source": [
        "#'Dayoftheweek' vs. potential accident level Pivot \n",
        "\n",
        "dayofweek_table = pd.pivot_table(input_data2, values=['Genre'],index=['dayofweek'], columns=['Potential Accident Level'], \n",
        "                             aggfunc=np.count_nonzero, margins=True)"
      ],
      "execution_count": 14,
      "outputs": []
    },
    {
      "cell_type": "code",
      "metadata": {
        "colab": {
          "base_uri": "https://localhost:8080/",
          "height": 359
        },
        "id": "dJdxomM0S-da",
        "outputId": "0b100248-23db-48ff-8983-0ccb5b426d7c"
      },
      "source": [
        "# It seems that there were no link/impact on the potential accident level from the day of the week parameter, although risk seems to be highes in levels 2-4, in day3  \n",
        "dayofweek_table"
      ],
      "execution_count": 15,
      "outputs": [
        {
          "output_type": "execute_result",
          "data": {
            "text/html": [
              "<div>\n",
              "<style scoped>\n",
              "    .dataframe tbody tr th:only-of-type {\n",
              "        vertical-align: middle;\n",
              "    }\n",
              "\n",
              "    .dataframe tbody tr th {\n",
              "        vertical-align: top;\n",
              "    }\n",
              "\n",
              "    .dataframe thead tr th {\n",
              "        text-align: left;\n",
              "    }\n",
              "\n",
              "    .dataframe thead tr:last-of-type th {\n",
              "        text-align: right;\n",
              "    }\n",
              "</style>\n",
              "<table border=\"1\" class=\"dataframe\">\n",
              "  <thead>\n",
              "    <tr>\n",
              "      <th></th>\n",
              "      <th colspan=\"7\" halign=\"left\">Genre</th>\n",
              "    </tr>\n",
              "    <tr>\n",
              "      <th>Potential Accident Level</th>\n",
              "      <th>I</th>\n",
              "      <th>II</th>\n",
              "      <th>III</th>\n",
              "      <th>IV</th>\n",
              "      <th>V</th>\n",
              "      <th>VI</th>\n",
              "      <th>All</th>\n",
              "    </tr>\n",
              "    <tr>\n",
              "      <th>dayofweek</th>\n",
              "      <th></th>\n",
              "      <th></th>\n",
              "      <th></th>\n",
              "      <th></th>\n",
              "      <th></th>\n",
              "      <th></th>\n",
              "      <th></th>\n",
              "    </tr>\n",
              "  </thead>\n",
              "  <tbody>\n",
              "    <tr>\n",
              "      <th>0</th>\n",
              "      <td>3.0</td>\n",
              "      <td>13.0</td>\n",
              "      <td>14.0</td>\n",
              "      <td>22.0</td>\n",
              "      <td>1.0</td>\n",
              "      <td>NaN</td>\n",
              "      <td>53</td>\n",
              "    </tr>\n",
              "    <tr>\n",
              "      <th>1</th>\n",
              "      <td>8.0</td>\n",
              "      <td>19.0</td>\n",
              "      <td>16.0</td>\n",
              "      <td>23.0</td>\n",
              "      <td>4.0</td>\n",
              "      <td>NaN</td>\n",
              "      <td>70</td>\n",
              "    </tr>\n",
              "    <tr>\n",
              "      <th>2</th>\n",
              "      <td>13.0</td>\n",
              "      <td>10.0</td>\n",
              "      <td>18.0</td>\n",
              "      <td>16.0</td>\n",
              "      <td>5.0</td>\n",
              "      <td>1.0</td>\n",
              "      <td>63</td>\n",
              "    </tr>\n",
              "    <tr>\n",
              "      <th>3</th>\n",
              "      <td>11.0</td>\n",
              "      <td>21.0</td>\n",
              "      <td>20.0</td>\n",
              "      <td>23.0</td>\n",
              "      <td>4.0</td>\n",
              "      <td>NaN</td>\n",
              "      <td>79</td>\n",
              "    </tr>\n",
              "    <tr>\n",
              "      <th>4</th>\n",
              "      <td>5.0</td>\n",
              "      <td>14.0</td>\n",
              "      <td>13.0</td>\n",
              "      <td>22.0</td>\n",
              "      <td>8.0</td>\n",
              "      <td>NaN</td>\n",
              "      <td>62</td>\n",
              "    </tr>\n",
              "    <tr>\n",
              "      <th>5</th>\n",
              "      <td>8.0</td>\n",
              "      <td>8.0</td>\n",
              "      <td>13.0</td>\n",
              "      <td>20.0</td>\n",
              "      <td>8.0</td>\n",
              "      <td>NaN</td>\n",
              "      <td>57</td>\n",
              "    </tr>\n",
              "    <tr>\n",
              "      <th>6</th>\n",
              "      <td>1.0</td>\n",
              "      <td>10.0</td>\n",
              "      <td>12.0</td>\n",
              "      <td>17.0</td>\n",
              "      <td>1.0</td>\n",
              "      <td>NaN</td>\n",
              "      <td>41</td>\n",
              "    </tr>\n",
              "    <tr>\n",
              "      <th>All</th>\n",
              "      <td>49.0</td>\n",
              "      <td>95.0</td>\n",
              "      <td>106.0</td>\n",
              "      <td>143.0</td>\n",
              "      <td>31.0</td>\n",
              "      <td>1.0</td>\n",
              "      <td>425</td>\n",
              "    </tr>\n",
              "  </tbody>\n",
              "</table>\n",
              "</div>"
            ],
            "text/plain": [
              "                         Genre                                    \n",
              "Potential Accident Level     I    II    III     IV     V   VI  All\n",
              "dayofweek                                                         \n",
              "0                          3.0  13.0   14.0   22.0   1.0  NaN   53\n",
              "1                          8.0  19.0   16.0   23.0   4.0  NaN   70\n",
              "2                         13.0  10.0   18.0   16.0   5.0  1.0   63\n",
              "3                         11.0  21.0   20.0   23.0   4.0  NaN   79\n",
              "4                          5.0  14.0   13.0   22.0   8.0  NaN   62\n",
              "5                          8.0   8.0   13.0   20.0   8.0  NaN   57\n",
              "6                          1.0  10.0   12.0   17.0   1.0  NaN   41\n",
              "All                       49.0  95.0  106.0  143.0  31.0  1.0  425"
            ]
          },
          "metadata": {
            "tags": []
          },
          "execution_count": 15
        }
      ]
    },
    {
      "cell_type": "code",
      "metadata": {
        "id": "u5rS98w9TzCU"
      },
      "source": [
        "#'Quarter' vs. 'potential accident level' Pivot \n",
        "\n",
        "quarter_table = pd.pivot_table(input_data2, values=['Genre'],index=['quarter'], columns=['Potential Accident Level'], \n",
        "                             aggfunc=np.count_nonzero, margins=True)"
      ],
      "execution_count": 16,
      "outputs": []
    },
    {
      "cell_type": "code",
      "metadata": {
        "colab": {
          "base_uri": "https://localhost:8080/",
          "height": 266
        },
        "id": "MD_ibAxKUTtS",
        "outputId": "53f584ca-cc80-4acd-928e-b4a87dac2c27"
      },
      "source": [
        "# Again there seems no particular information gain from the quarter feature, though there seems to be a general decrease in risk of accident levels in the 4th quarter, compared to 1st three quarters \n",
        "\n",
        "quarter_table"
      ],
      "execution_count": 17,
      "outputs": [
        {
          "output_type": "execute_result",
          "data": {
            "text/html": [
              "<div>\n",
              "<style scoped>\n",
              "    .dataframe tbody tr th:only-of-type {\n",
              "        vertical-align: middle;\n",
              "    }\n",
              "\n",
              "    .dataframe tbody tr th {\n",
              "        vertical-align: top;\n",
              "    }\n",
              "\n",
              "    .dataframe thead tr th {\n",
              "        text-align: left;\n",
              "    }\n",
              "\n",
              "    .dataframe thead tr:last-of-type th {\n",
              "        text-align: right;\n",
              "    }\n",
              "</style>\n",
              "<table border=\"1\" class=\"dataframe\">\n",
              "  <thead>\n",
              "    <tr>\n",
              "      <th></th>\n",
              "      <th colspan=\"7\" halign=\"left\">Genre</th>\n",
              "    </tr>\n",
              "    <tr>\n",
              "      <th>Potential Accident Level</th>\n",
              "      <th>I</th>\n",
              "      <th>II</th>\n",
              "      <th>III</th>\n",
              "      <th>IV</th>\n",
              "      <th>V</th>\n",
              "      <th>VI</th>\n",
              "      <th>All</th>\n",
              "    </tr>\n",
              "    <tr>\n",
              "      <th>quarter</th>\n",
              "      <th></th>\n",
              "      <th></th>\n",
              "      <th></th>\n",
              "      <th></th>\n",
              "      <th></th>\n",
              "      <th></th>\n",
              "      <th></th>\n",
              "    </tr>\n",
              "  </thead>\n",
              "  <tbody>\n",
              "    <tr>\n",
              "      <th>1</th>\n",
              "      <td>20.0</td>\n",
              "      <td>24.0</td>\n",
              "      <td>44.0</td>\n",
              "      <td>50.0</td>\n",
              "      <td>15.0</td>\n",
              "      <td>1.0</td>\n",
              "      <td>154</td>\n",
              "    </tr>\n",
              "    <tr>\n",
              "      <th>2</th>\n",
              "      <td>22.0</td>\n",
              "      <td>28.0</td>\n",
              "      <td>36.0</td>\n",
              "      <td>46.0</td>\n",
              "      <td>12.0</td>\n",
              "      <td>NaN</td>\n",
              "      <td>144</td>\n",
              "    </tr>\n",
              "    <tr>\n",
              "      <th>3</th>\n",
              "      <td>5.0</td>\n",
              "      <td>26.0</td>\n",
              "      <td>14.0</td>\n",
              "      <td>22.0</td>\n",
              "      <td>2.0</td>\n",
              "      <td>NaN</td>\n",
              "      <td>69</td>\n",
              "    </tr>\n",
              "    <tr>\n",
              "      <th>4</th>\n",
              "      <td>2.0</td>\n",
              "      <td>17.0</td>\n",
              "      <td>12.0</td>\n",
              "      <td>25.0</td>\n",
              "      <td>2.0</td>\n",
              "      <td>NaN</td>\n",
              "      <td>58</td>\n",
              "    </tr>\n",
              "    <tr>\n",
              "      <th>All</th>\n",
              "      <td>49.0</td>\n",
              "      <td>95.0</td>\n",
              "      <td>106.0</td>\n",
              "      <td>143.0</td>\n",
              "      <td>31.0</td>\n",
              "      <td>1.0</td>\n",
              "      <td>425</td>\n",
              "    </tr>\n",
              "  </tbody>\n",
              "</table>\n",
              "</div>"
            ],
            "text/plain": [
              "                         Genre                                    \n",
              "Potential Accident Level     I    II    III     IV     V   VI  All\n",
              "quarter                                                           \n",
              "1                         20.0  24.0   44.0   50.0  15.0  1.0  154\n",
              "2                         22.0  28.0   36.0   46.0  12.0  NaN  144\n",
              "3                          5.0  26.0   14.0   22.0   2.0  NaN   69\n",
              "4                          2.0  17.0   12.0   25.0   2.0  NaN   58\n",
              "All                       49.0  95.0  106.0  143.0  31.0  1.0  425"
            ]
          },
          "metadata": {
            "tags": []
          },
          "execution_count": 17
        }
      ]
    },
    {
      "cell_type": "code",
      "metadata": {
        "id": "OvT5VEmmnE--"
      },
      "source": [
        "#'day' vs. 'potential accident level' Pivot \n",
        "# Again there seems to be no particular information gain, and the variabality in a couple of cases seems random\n",
        "\n",
        "day_table = pd.pivot_table(input_data2, values=['Genre'],index=['day'], columns=['Potential Accident Level'], \n",
        "                             aggfunc=np.count_nonzero, margins=True)"
      ],
      "execution_count": 20,
      "outputs": []
    },
    {
      "cell_type": "code",
      "metadata": {
        "colab": {
          "base_uri": "https://localhost:8080/",
          "height": 1000
        },
        "id": "6rLKmUbynceF",
        "outputId": "76b90a48-f8aa-4ebf-d310-9f01fb9b24f0"
      },
      "source": [
        "day_table"
      ],
      "execution_count": 19,
      "outputs": [
        {
          "output_type": "execute_result",
          "data": {
            "text/html": [
              "<div>\n",
              "<style scoped>\n",
              "    .dataframe tbody tr th:only-of-type {\n",
              "        vertical-align: middle;\n",
              "    }\n",
              "\n",
              "    .dataframe tbody tr th {\n",
              "        vertical-align: top;\n",
              "    }\n",
              "\n",
              "    .dataframe thead tr th {\n",
              "        text-align: left;\n",
              "    }\n",
              "\n",
              "    .dataframe thead tr:last-of-type th {\n",
              "        text-align: right;\n",
              "    }\n",
              "</style>\n",
              "<table border=\"1\" class=\"dataframe\">\n",
              "  <thead>\n",
              "    <tr>\n",
              "      <th></th>\n",
              "      <th colspan=\"7\" halign=\"left\">Genre</th>\n",
              "    </tr>\n",
              "    <tr>\n",
              "      <th>Potential Accident Level</th>\n",
              "      <th>I</th>\n",
              "      <th>II</th>\n",
              "      <th>III</th>\n",
              "      <th>IV</th>\n",
              "      <th>V</th>\n",
              "      <th>VI</th>\n",
              "      <th>All</th>\n",
              "    </tr>\n",
              "    <tr>\n",
              "      <th>day</th>\n",
              "      <th></th>\n",
              "      <th></th>\n",
              "      <th></th>\n",
              "      <th></th>\n",
              "      <th></th>\n",
              "      <th></th>\n",
              "      <th></th>\n",
              "    </tr>\n",
              "  </thead>\n",
              "  <tbody>\n",
              "    <tr>\n",
              "      <th>1</th>\n",
              "      <td>2.0</td>\n",
              "      <td>1.0</td>\n",
              "      <td>5.0</td>\n",
              "      <td>6.0</td>\n",
              "      <td>2.0</td>\n",
              "      <td>NaN</td>\n",
              "      <td>16</td>\n",
              "    </tr>\n",
              "    <tr>\n",
              "      <th>2</th>\n",
              "      <td>5.0</td>\n",
              "      <td>1.0</td>\n",
              "      <td>5.0</td>\n",
              "      <td>2.0</td>\n",
              "      <td>2.0</td>\n",
              "      <td>NaN</td>\n",
              "      <td>15</td>\n",
              "    </tr>\n",
              "    <tr>\n",
              "      <th>3</th>\n",
              "      <td>NaN</td>\n",
              "      <td>4.0</td>\n",
              "      <td>2.0</td>\n",
              "      <td>3.0</td>\n",
              "      <td>1.0</td>\n",
              "      <td>NaN</td>\n",
              "      <td>10</td>\n",
              "    </tr>\n",
              "    <tr>\n",
              "      <th>4</th>\n",
              "      <td>2.0</td>\n",
              "      <td>2.0</td>\n",
              "      <td>10.0</td>\n",
              "      <td>5.0</td>\n",
              "      <td>3.0</td>\n",
              "      <td>NaN</td>\n",
              "      <td>22</td>\n",
              "    </tr>\n",
              "    <tr>\n",
              "      <th>5</th>\n",
              "      <td>1.0</td>\n",
              "      <td>5.0</td>\n",
              "      <td>5.0</td>\n",
              "      <td>3.0</td>\n",
              "      <td>NaN</td>\n",
              "      <td>NaN</td>\n",
              "      <td>14</td>\n",
              "    </tr>\n",
              "    <tr>\n",
              "      <th>6</th>\n",
              "      <td>1.0</td>\n",
              "      <td>4.0</td>\n",
              "      <td>3.0</td>\n",
              "      <td>3.0</td>\n",
              "      <td>2.0</td>\n",
              "      <td>NaN</td>\n",
              "      <td>13</td>\n",
              "    </tr>\n",
              "    <tr>\n",
              "      <th>7</th>\n",
              "      <td>1.0</td>\n",
              "      <td>3.0</td>\n",
              "      <td>2.0</td>\n",
              "      <td>3.0</td>\n",
              "      <td>2.0</td>\n",
              "      <td>NaN</td>\n",
              "      <td>11</td>\n",
              "    </tr>\n",
              "    <tr>\n",
              "      <th>8</th>\n",
              "      <td>7.0</td>\n",
              "      <td>5.0</td>\n",
              "      <td>5.0</td>\n",
              "      <td>7.0</td>\n",
              "      <td>1.0</td>\n",
              "      <td>NaN</td>\n",
              "      <td>25</td>\n",
              "    </tr>\n",
              "    <tr>\n",
              "      <th>9</th>\n",
              "      <td>NaN</td>\n",
              "      <td>1.0</td>\n",
              "      <td>5.0</td>\n",
              "      <td>4.0</td>\n",
              "      <td>2.0</td>\n",
              "      <td>NaN</td>\n",
              "      <td>12</td>\n",
              "    </tr>\n",
              "    <tr>\n",
              "      <th>10</th>\n",
              "      <td>NaN</td>\n",
              "      <td>4.0</td>\n",
              "      <td>1.0</td>\n",
              "      <td>7.0</td>\n",
              "      <td>1.0</td>\n",
              "      <td>NaN</td>\n",
              "      <td>13</td>\n",
              "    </tr>\n",
              "    <tr>\n",
              "      <th>11</th>\n",
              "      <td>NaN</td>\n",
              "      <td>4.0</td>\n",
              "      <td>2.0</td>\n",
              "      <td>10.0</td>\n",
              "      <td>2.0</td>\n",
              "      <td>NaN</td>\n",
              "      <td>18</td>\n",
              "    </tr>\n",
              "    <tr>\n",
              "      <th>12</th>\n",
              "      <td>1.0</td>\n",
              "      <td>4.0</td>\n",
              "      <td>3.0</td>\n",
              "      <td>3.0</td>\n",
              "      <td>NaN</td>\n",
              "      <td>NaN</td>\n",
              "      <td>11</td>\n",
              "    </tr>\n",
              "    <tr>\n",
              "      <th>13</th>\n",
              "      <td>1.0</td>\n",
              "      <td>6.0</td>\n",
              "      <td>2.0</td>\n",
              "      <td>6.0</td>\n",
              "      <td>NaN</td>\n",
              "      <td>NaN</td>\n",
              "      <td>15</td>\n",
              "    </tr>\n",
              "    <tr>\n",
              "      <th>14</th>\n",
              "      <td>NaN</td>\n",
              "      <td>3.0</td>\n",
              "      <td>3.0</td>\n",
              "      <td>5.0</td>\n",
              "      <td>1.0</td>\n",
              "      <td>NaN</td>\n",
              "      <td>12</td>\n",
              "    </tr>\n",
              "    <tr>\n",
              "      <th>15</th>\n",
              "      <td>4.0</td>\n",
              "      <td>5.0</td>\n",
              "      <td>2.0</td>\n",
              "      <td>4.0</td>\n",
              "      <td>NaN</td>\n",
              "      <td>NaN</td>\n",
              "      <td>15</td>\n",
              "    </tr>\n",
              "    <tr>\n",
              "      <th>16</th>\n",
              "      <td>5.0</td>\n",
              "      <td>4.0</td>\n",
              "      <td>5.0</td>\n",
              "      <td>5.0</td>\n",
              "      <td>NaN</td>\n",
              "      <td>NaN</td>\n",
              "      <td>19</td>\n",
              "    </tr>\n",
              "    <tr>\n",
              "      <th>17</th>\n",
              "      <td>1.0</td>\n",
              "      <td>4.0</td>\n",
              "      <td>4.0</td>\n",
              "      <td>5.0</td>\n",
              "      <td>1.0</td>\n",
              "      <td>NaN</td>\n",
              "      <td>15</td>\n",
              "    </tr>\n",
              "    <tr>\n",
              "      <th>18</th>\n",
              "      <td>2.0</td>\n",
              "      <td>NaN</td>\n",
              "      <td>5.0</td>\n",
              "      <td>7.0</td>\n",
              "      <td>1.0</td>\n",
              "      <td>NaN</td>\n",
              "      <td>15</td>\n",
              "    </tr>\n",
              "    <tr>\n",
              "      <th>19</th>\n",
              "      <td>NaN</td>\n",
              "      <td>2.0</td>\n",
              "      <td>3.0</td>\n",
              "      <td>6.0</td>\n",
              "      <td>NaN</td>\n",
              "      <td>NaN</td>\n",
              "      <td>11</td>\n",
              "    </tr>\n",
              "    <tr>\n",
              "      <th>20</th>\n",
              "      <td>2.0</td>\n",
              "      <td>2.0</td>\n",
              "      <td>3.0</td>\n",
              "      <td>3.0</td>\n",
              "      <td>1.0</td>\n",
              "      <td>NaN</td>\n",
              "      <td>11</td>\n",
              "    </tr>\n",
              "    <tr>\n",
              "      <th>21</th>\n",
              "      <td>3.0</td>\n",
              "      <td>1.0</td>\n",
              "      <td>4.0</td>\n",
              "      <td>1.0</td>\n",
              "      <td>1.0</td>\n",
              "      <td>NaN</td>\n",
              "      <td>10</td>\n",
              "    </tr>\n",
              "    <tr>\n",
              "      <th>22</th>\n",
              "      <td>2.0</td>\n",
              "      <td>3.0</td>\n",
              "      <td>4.0</td>\n",
              "      <td>7.0</td>\n",
              "      <td>1.0</td>\n",
              "      <td>NaN</td>\n",
              "      <td>17</td>\n",
              "    </tr>\n",
              "    <tr>\n",
              "      <th>23</th>\n",
              "      <td>NaN</td>\n",
              "      <td>5.0</td>\n",
              "      <td>4.0</td>\n",
              "      <td>8.0</td>\n",
              "      <td>NaN</td>\n",
              "      <td>NaN</td>\n",
              "      <td>17</td>\n",
              "    </tr>\n",
              "    <tr>\n",
              "      <th>24</th>\n",
              "      <td>1.0</td>\n",
              "      <td>4.0</td>\n",
              "      <td>3.0</td>\n",
              "      <td>5.0</td>\n",
              "      <td>3.0</td>\n",
              "      <td>NaN</td>\n",
              "      <td>16</td>\n",
              "    </tr>\n",
              "    <tr>\n",
              "      <th>25</th>\n",
              "      <td>4.0</td>\n",
              "      <td>2.0</td>\n",
              "      <td>2.0</td>\n",
              "      <td>4.0</td>\n",
              "      <td>2.0</td>\n",
              "      <td>1.0</td>\n",
              "      <td>15</td>\n",
              "    </tr>\n",
              "    <tr>\n",
              "      <th>26</th>\n",
              "      <td>2.0</td>\n",
              "      <td>3.0</td>\n",
              "      <td>1.0</td>\n",
              "      <td>3.0</td>\n",
              "      <td>NaN</td>\n",
              "      <td>NaN</td>\n",
              "      <td>9</td>\n",
              "    </tr>\n",
              "    <tr>\n",
              "      <th>27</th>\n",
              "      <td>NaN</td>\n",
              "      <td>2.0</td>\n",
              "      <td>2.0</td>\n",
              "      <td>4.0</td>\n",
              "      <td>1.0</td>\n",
              "      <td>NaN</td>\n",
              "      <td>9</td>\n",
              "    </tr>\n",
              "    <tr>\n",
              "      <th>28</th>\n",
              "      <td>1.0</td>\n",
              "      <td>1.0</td>\n",
              "      <td>3.0</td>\n",
              "      <td>1.0</td>\n",
              "      <td>NaN</td>\n",
              "      <td>NaN</td>\n",
              "      <td>6</td>\n",
              "    </tr>\n",
              "    <tr>\n",
              "      <th>29</th>\n",
              "      <td>NaN</td>\n",
              "      <td>2.0</td>\n",
              "      <td>4.0</td>\n",
              "      <td>6.0</td>\n",
              "      <td>NaN</td>\n",
              "      <td>NaN</td>\n",
              "      <td>12</td>\n",
              "    </tr>\n",
              "    <tr>\n",
              "      <th>30</th>\n",
              "      <td>1.0</td>\n",
              "      <td>7.0</td>\n",
              "      <td>1.0</td>\n",
              "      <td>4.0</td>\n",
              "      <td>1.0</td>\n",
              "      <td>NaN</td>\n",
              "      <td>14</td>\n",
              "    </tr>\n",
              "    <tr>\n",
              "      <th>31</th>\n",
              "      <td>NaN</td>\n",
              "      <td>1.0</td>\n",
              "      <td>3.0</td>\n",
              "      <td>3.0</td>\n",
              "      <td>NaN</td>\n",
              "      <td>NaN</td>\n",
              "      <td>7</td>\n",
              "    </tr>\n",
              "    <tr>\n",
              "      <th>All</th>\n",
              "      <td>49.0</td>\n",
              "      <td>95.0</td>\n",
              "      <td>106.0</td>\n",
              "      <td>143.0</td>\n",
              "      <td>31.0</td>\n",
              "      <td>1.0</td>\n",
              "      <td>425</td>\n",
              "    </tr>\n",
              "  </tbody>\n",
              "</table>\n",
              "</div>"
            ],
            "text/plain": [
              "                         Genre                                    \n",
              "Potential Accident Level     I    II    III     IV     V   VI  All\n",
              "day                                                               \n",
              "1                          2.0   1.0    5.0    6.0   2.0  NaN   16\n",
              "2                          5.0   1.0    5.0    2.0   2.0  NaN   15\n",
              "3                          NaN   4.0    2.0    3.0   1.0  NaN   10\n",
              "4                          2.0   2.0   10.0    5.0   3.0  NaN   22\n",
              "5                          1.0   5.0    5.0    3.0   NaN  NaN   14\n",
              "6                          1.0   4.0    3.0    3.0   2.0  NaN   13\n",
              "7                          1.0   3.0    2.0    3.0   2.0  NaN   11\n",
              "8                          7.0   5.0    5.0    7.0   1.0  NaN   25\n",
              "9                          NaN   1.0    5.0    4.0   2.0  NaN   12\n",
              "10                         NaN   4.0    1.0    7.0   1.0  NaN   13\n",
              "11                         NaN   4.0    2.0   10.0   2.0  NaN   18\n",
              "12                         1.0   4.0    3.0    3.0   NaN  NaN   11\n",
              "13                         1.0   6.0    2.0    6.0   NaN  NaN   15\n",
              "14                         NaN   3.0    3.0    5.0   1.0  NaN   12\n",
              "15                         4.0   5.0    2.0    4.0   NaN  NaN   15\n",
              "16                         5.0   4.0    5.0    5.0   NaN  NaN   19\n",
              "17                         1.0   4.0    4.0    5.0   1.0  NaN   15\n",
              "18                         2.0   NaN    5.0    7.0   1.0  NaN   15\n",
              "19                         NaN   2.0    3.0    6.0   NaN  NaN   11\n",
              "20                         2.0   2.0    3.0    3.0   1.0  NaN   11\n",
              "21                         3.0   1.0    4.0    1.0   1.0  NaN   10\n",
              "22                         2.0   3.0    4.0    7.0   1.0  NaN   17\n",
              "23                         NaN   5.0    4.0    8.0   NaN  NaN   17\n",
              "24                         1.0   4.0    3.0    5.0   3.0  NaN   16\n",
              "25                         4.0   2.0    2.0    4.0   2.0  1.0   15\n",
              "26                         2.0   3.0    1.0    3.0   NaN  NaN    9\n",
              "27                         NaN   2.0    2.0    4.0   1.0  NaN    9\n",
              "28                         1.0   1.0    3.0    1.0   NaN  NaN    6\n",
              "29                         NaN   2.0    4.0    6.0   NaN  NaN   12\n",
              "30                         1.0   7.0    1.0    4.0   1.0  NaN   14\n",
              "31                         NaN   1.0    3.0    3.0   NaN  NaN    7\n",
              "All                       49.0  95.0  106.0  143.0  31.0  1.0  425"
            ]
          },
          "metadata": {
            "tags": []
          },
          "execution_count": 19
        }
      ]
    },
    {
      "cell_type": "code",
      "metadata": {
        "id": "5j61xTw3n-Bt"
      },
      "source": [
        "#'Month' vs. 'potential accident level' Pivot \n",
        "month_table = pd.pivot_table(input_data2, values=['Genre'],index=['month'], columns=['Potential Accident Level'], \n",
        "                             aggfunc=np.count_nonzero, margins=True)"
      ],
      "execution_count": 21,
      "outputs": []
    },
    {
      "cell_type": "code",
      "metadata": {
        "colab": {
          "base_uri": "https://localhost:8080/",
          "height": 514
        },
        "id": "qwsxtzngoJTU",
        "outputId": "d672966a-54ab-4ea3-9c85-eab0d860e93a"
      },
      "source": [
        "# There seems to be no particular insight, apart from some random variability \n",
        "month_table"
      ],
      "execution_count": 22,
      "outputs": [
        {
          "output_type": "execute_result",
          "data": {
            "text/html": [
              "<div>\n",
              "<style scoped>\n",
              "    .dataframe tbody tr th:only-of-type {\n",
              "        vertical-align: middle;\n",
              "    }\n",
              "\n",
              "    .dataframe tbody tr th {\n",
              "        vertical-align: top;\n",
              "    }\n",
              "\n",
              "    .dataframe thead tr th {\n",
              "        text-align: left;\n",
              "    }\n",
              "\n",
              "    .dataframe thead tr:last-of-type th {\n",
              "        text-align: right;\n",
              "    }\n",
              "</style>\n",
              "<table border=\"1\" class=\"dataframe\">\n",
              "  <thead>\n",
              "    <tr>\n",
              "      <th></th>\n",
              "      <th colspan=\"7\" halign=\"left\">Genre</th>\n",
              "    </tr>\n",
              "    <tr>\n",
              "      <th>Potential Accident Level</th>\n",
              "      <th>I</th>\n",
              "      <th>II</th>\n",
              "      <th>III</th>\n",
              "      <th>IV</th>\n",
              "      <th>V</th>\n",
              "      <th>VI</th>\n",
              "      <th>All</th>\n",
              "    </tr>\n",
              "    <tr>\n",
              "      <th>month</th>\n",
              "      <th></th>\n",
              "      <th></th>\n",
              "      <th></th>\n",
              "      <th></th>\n",
              "      <th></th>\n",
              "      <th></th>\n",
              "      <th></th>\n",
              "    </tr>\n",
              "  </thead>\n",
              "  <tbody>\n",
              "    <tr>\n",
              "      <th>1</th>\n",
              "      <td>5.0</td>\n",
              "      <td>3.0</td>\n",
              "      <td>16.0</td>\n",
              "      <td>15.0</td>\n",
              "      <td>NaN</td>\n",
              "      <td>1.0</td>\n",
              "      <td>40</td>\n",
              "    </tr>\n",
              "    <tr>\n",
              "      <th>2</th>\n",
              "      <td>6.0</td>\n",
              "      <td>14.0</td>\n",
              "      <td>15.0</td>\n",
              "      <td>19.0</td>\n",
              "      <td>7.0</td>\n",
              "      <td>NaN</td>\n",
              "      <td>61</td>\n",
              "    </tr>\n",
              "    <tr>\n",
              "      <th>3</th>\n",
              "      <td>9.0</td>\n",
              "      <td>7.0</td>\n",
              "      <td>13.0</td>\n",
              "      <td>16.0</td>\n",
              "      <td>8.0</td>\n",
              "      <td>NaN</td>\n",
              "      <td>53</td>\n",
              "    </tr>\n",
              "    <tr>\n",
              "      <th>4</th>\n",
              "      <td>4.0</td>\n",
              "      <td>13.0</td>\n",
              "      <td>14.0</td>\n",
              "      <td>15.0</td>\n",
              "      <td>6.0</td>\n",
              "      <td>NaN</td>\n",
              "      <td>52</td>\n",
              "    </tr>\n",
              "    <tr>\n",
              "      <th>5</th>\n",
              "      <td>7.0</td>\n",
              "      <td>6.0</td>\n",
              "      <td>10.0</td>\n",
              "      <td>14.0</td>\n",
              "      <td>4.0</td>\n",
              "      <td>NaN</td>\n",
              "      <td>41</td>\n",
              "    </tr>\n",
              "    <tr>\n",
              "      <th>6</th>\n",
              "      <td>11.0</td>\n",
              "      <td>9.0</td>\n",
              "      <td>12.0</td>\n",
              "      <td>17.0</td>\n",
              "      <td>2.0</td>\n",
              "      <td>NaN</td>\n",
              "      <td>51</td>\n",
              "    </tr>\n",
              "    <tr>\n",
              "      <th>7</th>\n",
              "      <td>NaN</td>\n",
              "      <td>10.0</td>\n",
              "      <td>3.0</td>\n",
              "      <td>9.0</td>\n",
              "      <td>2.0</td>\n",
              "      <td>NaN</td>\n",
              "      <td>24</td>\n",
              "    </tr>\n",
              "    <tr>\n",
              "      <th>8</th>\n",
              "      <td>1.0</td>\n",
              "      <td>7.0</td>\n",
              "      <td>7.0</td>\n",
              "      <td>6.0</td>\n",
              "      <td>NaN</td>\n",
              "      <td>NaN</td>\n",
              "      <td>21</td>\n",
              "    </tr>\n",
              "    <tr>\n",
              "      <th>9</th>\n",
              "      <td>4.0</td>\n",
              "      <td>9.0</td>\n",
              "      <td>4.0</td>\n",
              "      <td>7.0</td>\n",
              "      <td>NaN</td>\n",
              "      <td>NaN</td>\n",
              "      <td>24</td>\n",
              "    </tr>\n",
              "    <tr>\n",
              "      <th>10</th>\n",
              "      <td>NaN</td>\n",
              "      <td>4.0</td>\n",
              "      <td>5.0</td>\n",
              "      <td>12.0</td>\n",
              "      <td>NaN</td>\n",
              "      <td>NaN</td>\n",
              "      <td>21</td>\n",
              "    </tr>\n",
              "    <tr>\n",
              "      <th>11</th>\n",
              "      <td>2.0</td>\n",
              "      <td>5.0</td>\n",
              "      <td>1.0</td>\n",
              "      <td>4.0</td>\n",
              "      <td>1.0</td>\n",
              "      <td>NaN</td>\n",
              "      <td>13</td>\n",
              "    </tr>\n",
              "    <tr>\n",
              "      <th>12</th>\n",
              "      <td>NaN</td>\n",
              "      <td>8.0</td>\n",
              "      <td>6.0</td>\n",
              "      <td>9.0</td>\n",
              "      <td>1.0</td>\n",
              "      <td>NaN</td>\n",
              "      <td>24</td>\n",
              "    </tr>\n",
              "    <tr>\n",
              "      <th>All</th>\n",
              "      <td>49.0</td>\n",
              "      <td>95.0</td>\n",
              "      <td>106.0</td>\n",
              "      <td>143.0</td>\n",
              "      <td>31.0</td>\n",
              "      <td>1.0</td>\n",
              "      <td>425</td>\n",
              "    </tr>\n",
              "  </tbody>\n",
              "</table>\n",
              "</div>"
            ],
            "text/plain": [
              "                         Genre                                    \n",
              "Potential Accident Level     I    II    III     IV     V   VI  All\n",
              "month                                                             \n",
              "1                          5.0   3.0   16.0   15.0   NaN  1.0   40\n",
              "2                          6.0  14.0   15.0   19.0   7.0  NaN   61\n",
              "3                          9.0   7.0   13.0   16.0   8.0  NaN   53\n",
              "4                          4.0  13.0   14.0   15.0   6.0  NaN   52\n",
              "5                          7.0   6.0   10.0   14.0   4.0  NaN   41\n",
              "6                         11.0   9.0   12.0   17.0   2.0  NaN   51\n",
              "7                          NaN  10.0    3.0    9.0   2.0  NaN   24\n",
              "8                          1.0   7.0    7.0    6.0   NaN  NaN   21\n",
              "9                          4.0   9.0    4.0    7.0   NaN  NaN   24\n",
              "10                         NaN   4.0    5.0   12.0   NaN  NaN   21\n",
              "11                         2.0   5.0    1.0    4.0   1.0  NaN   13\n",
              "12                         NaN   8.0    6.0    9.0   1.0  NaN   24\n",
              "All                       49.0  95.0  106.0  143.0  31.0  1.0  425"
            ]
          },
          "metadata": {
            "tags": []
          },
          "execution_count": 22
        }
      ]
    },
    {
      "cell_type": "markdown",
      "metadata": {
        "id": "RcxCkPcCpPyH"
      },
      "source": [
        "As per the exploratory data analysis, we noted that from the time data, only 'day of the week' and 'quarter' had significance, and therefore we will only use those 2 parameters for our 2nd model which will be concatenated with the text classification model."
      ]
    },
    {
      "cell_type": "code",
      "metadata": {
        "id": "qiAxxQ1S8K9D"
      },
      "source": [
        "# As per our EDA analysis  we are only going to use 4 variable for the augmented model - Day of week, quarter, Countries and Local - we can drop the other variables\n",
        "\n",
        "input_data3=input_data2[['dayofweek','quarter','Countries','Local']]"
      ],
      "execution_count": 28,
      "outputs": []
    },
    {
      "cell_type": "code",
      "metadata": {
        "colab": {
          "base_uri": "https://localhost:8080/",
          "height": 204
        },
        "id": "-uyvhWpg9V9h",
        "outputId": "02c7f227-32b0-491e-b11d-8014b68e96d9"
      },
      "source": [
        "input_data3.head()"
      ],
      "execution_count": 29,
      "outputs": [
        {
          "output_type": "execute_result",
          "data": {
            "text/html": [
              "<div>\n",
              "<style scoped>\n",
              "    .dataframe tbody tr th:only-of-type {\n",
              "        vertical-align: middle;\n",
              "    }\n",
              "\n",
              "    .dataframe tbody tr th {\n",
              "        vertical-align: top;\n",
              "    }\n",
              "\n",
              "    .dataframe thead th {\n",
              "        text-align: right;\n",
              "    }\n",
              "</style>\n",
              "<table border=\"1\" class=\"dataframe\">\n",
              "  <thead>\n",
              "    <tr style=\"text-align: right;\">\n",
              "      <th></th>\n",
              "      <th>dayofweek</th>\n",
              "      <th>quarter</th>\n",
              "      <th>Countries</th>\n",
              "      <th>Local</th>\n",
              "    </tr>\n",
              "  </thead>\n",
              "  <tbody>\n",
              "    <tr>\n",
              "      <th>0</th>\n",
              "      <td>4</td>\n",
              "      <td>1</td>\n",
              "      <td>Country_01</td>\n",
              "      <td>Local_01</td>\n",
              "    </tr>\n",
              "    <tr>\n",
              "      <th>1</th>\n",
              "      <td>5</td>\n",
              "      <td>1</td>\n",
              "      <td>Country_02</td>\n",
              "      <td>Local_02</td>\n",
              "    </tr>\n",
              "    <tr>\n",
              "      <th>2</th>\n",
              "      <td>2</td>\n",
              "      <td>1</td>\n",
              "      <td>Country_01</td>\n",
              "      <td>Local_03</td>\n",
              "    </tr>\n",
              "    <tr>\n",
              "      <th>3</th>\n",
              "      <td>4</td>\n",
              "      <td>1</td>\n",
              "      <td>Country_01</td>\n",
              "      <td>Local_04</td>\n",
              "    </tr>\n",
              "    <tr>\n",
              "      <th>4</th>\n",
              "      <td>6</td>\n",
              "      <td>1</td>\n",
              "      <td>Country_01</td>\n",
              "      <td>Local_04</td>\n",
              "    </tr>\n",
              "  </tbody>\n",
              "</table>\n",
              "</div>"
            ],
            "text/plain": [
              "   dayofweek  quarter   Countries     Local\n",
              "0          4        1  Country_01  Local_01\n",
              "1          5        1  Country_02  Local_02\n",
              "2          2        1  Country_01  Local_03\n",
              "3          4        1  Country_01  Local_04\n",
              "4          6        1  Country_01  Local_04"
            ]
          },
          "metadata": {
            "tags": []
          },
          "execution_count": 29
        }
      ]
    },
    {
      "cell_type": "code",
      "metadata": {
        "id": "PW-d2fLm8zlR"
      },
      "source": [
        "X1=input_data3"
      ],
      "execution_count": 30,
      "outputs": []
    },
    {
      "cell_type": "code",
      "metadata": {
        "id": "cDEVUkET840Y"
      },
      "source": [
        "# Let's extract the target variable which is the \n",
        "y1=pd.DataFrame(input_data2['Potential Accident Level'])"
      ],
      "execution_count": 31,
      "outputs": []
    },
    {
      "cell_type": "code",
      "metadata": {
        "colab": {
          "base_uri": "https://localhost:8080/"
        },
        "id": "SnQv_15P9mui",
        "outputId": "98947555-417b-4fbc-a195-f6dfb90407c2"
      },
      "source": [
        "print(X1.shape)\n",
        "print(y1.shape)"
      ],
      "execution_count": 32,
      "outputs": [
        {
          "output_type": "stream",
          "text": [
            "(425, 4)\n",
            "(425, 1)\n"
          ],
          "name": "stdout"
        }
      ]
    },
    {
      "cell_type": "code",
      "metadata": {
        "id": "eJnkDZ9OQVWa"
      },
      "source": [
        "# let's convert the country and local columns in the dataset into one-hot encoded values before splitting the data\n",
        "cat_cols=['Countries','Local']\n",
        "X2= pd.get_dummies(X1, columns = cat_cols)"
      ],
      "execution_count": 33,
      "outputs": []
    },
    {
      "cell_type": "code",
      "metadata": {
        "colab": {
          "base_uri": "https://localhost:8080/",
          "height": 456
        },
        "id": "76fdws_0hl3D",
        "outputId": "8a2f4728-2476-4718-f8a2-a5d5f03150c1"
      },
      "source": [
        "print(X2.shape)\n",
        "X2"
      ],
      "execution_count": 34,
      "outputs": [
        {
          "output_type": "stream",
          "text": [
            "(425, 17)\n"
          ],
          "name": "stdout"
        },
        {
          "output_type": "execute_result",
          "data": {
            "text/html": [
              "<div>\n",
              "<style scoped>\n",
              "    .dataframe tbody tr th:only-of-type {\n",
              "        vertical-align: middle;\n",
              "    }\n",
              "\n",
              "    .dataframe tbody tr th {\n",
              "        vertical-align: top;\n",
              "    }\n",
              "\n",
              "    .dataframe thead th {\n",
              "        text-align: right;\n",
              "    }\n",
              "</style>\n",
              "<table border=\"1\" class=\"dataframe\">\n",
              "  <thead>\n",
              "    <tr style=\"text-align: right;\">\n",
              "      <th></th>\n",
              "      <th>dayofweek</th>\n",
              "      <th>quarter</th>\n",
              "      <th>Countries_Country_01</th>\n",
              "      <th>Countries_Country_02</th>\n",
              "      <th>Countries_Country_03</th>\n",
              "      <th>Local_Local_01</th>\n",
              "      <th>Local_Local_02</th>\n",
              "      <th>Local_Local_03</th>\n",
              "      <th>Local_Local_04</th>\n",
              "      <th>Local_Local_05</th>\n",
              "      <th>Local_Local_06</th>\n",
              "      <th>Local_Local_07</th>\n",
              "      <th>Local_Local_08</th>\n",
              "      <th>Local_Local_09</th>\n",
              "      <th>Local_Local_10</th>\n",
              "      <th>Local_Local_11</th>\n",
              "      <th>Local_Local_12</th>\n",
              "    </tr>\n",
              "  </thead>\n",
              "  <tbody>\n",
              "    <tr>\n",
              "      <th>0</th>\n",
              "      <td>4</td>\n",
              "      <td>1</td>\n",
              "      <td>1</td>\n",
              "      <td>0</td>\n",
              "      <td>0</td>\n",
              "      <td>1</td>\n",
              "      <td>0</td>\n",
              "      <td>0</td>\n",
              "      <td>0</td>\n",
              "      <td>0</td>\n",
              "      <td>0</td>\n",
              "      <td>0</td>\n",
              "      <td>0</td>\n",
              "      <td>0</td>\n",
              "      <td>0</td>\n",
              "      <td>0</td>\n",
              "      <td>0</td>\n",
              "    </tr>\n",
              "    <tr>\n",
              "      <th>1</th>\n",
              "      <td>5</td>\n",
              "      <td>1</td>\n",
              "      <td>0</td>\n",
              "      <td>1</td>\n",
              "      <td>0</td>\n",
              "      <td>0</td>\n",
              "      <td>1</td>\n",
              "      <td>0</td>\n",
              "      <td>0</td>\n",
              "      <td>0</td>\n",
              "      <td>0</td>\n",
              "      <td>0</td>\n",
              "      <td>0</td>\n",
              "      <td>0</td>\n",
              "      <td>0</td>\n",
              "      <td>0</td>\n",
              "      <td>0</td>\n",
              "    </tr>\n",
              "    <tr>\n",
              "      <th>2</th>\n",
              "      <td>2</td>\n",
              "      <td>1</td>\n",
              "      <td>1</td>\n",
              "      <td>0</td>\n",
              "      <td>0</td>\n",
              "      <td>0</td>\n",
              "      <td>0</td>\n",
              "      <td>1</td>\n",
              "      <td>0</td>\n",
              "      <td>0</td>\n",
              "      <td>0</td>\n",
              "      <td>0</td>\n",
              "      <td>0</td>\n",
              "      <td>0</td>\n",
              "      <td>0</td>\n",
              "      <td>0</td>\n",
              "      <td>0</td>\n",
              "    </tr>\n",
              "    <tr>\n",
              "      <th>3</th>\n",
              "      <td>4</td>\n",
              "      <td>1</td>\n",
              "      <td>1</td>\n",
              "      <td>0</td>\n",
              "      <td>0</td>\n",
              "      <td>0</td>\n",
              "      <td>0</td>\n",
              "      <td>0</td>\n",
              "      <td>1</td>\n",
              "      <td>0</td>\n",
              "      <td>0</td>\n",
              "      <td>0</td>\n",
              "      <td>0</td>\n",
              "      <td>0</td>\n",
              "      <td>0</td>\n",
              "      <td>0</td>\n",
              "      <td>0</td>\n",
              "    </tr>\n",
              "    <tr>\n",
              "      <th>4</th>\n",
              "      <td>6</td>\n",
              "      <td>1</td>\n",
              "      <td>1</td>\n",
              "      <td>0</td>\n",
              "      <td>0</td>\n",
              "      <td>0</td>\n",
              "      <td>0</td>\n",
              "      <td>0</td>\n",
              "      <td>1</td>\n",
              "      <td>0</td>\n",
              "      <td>0</td>\n",
              "      <td>0</td>\n",
              "      <td>0</td>\n",
              "      <td>0</td>\n",
              "      <td>0</td>\n",
              "      <td>0</td>\n",
              "      <td>0</td>\n",
              "    </tr>\n",
              "    <tr>\n",
              "      <th>...</th>\n",
              "      <td>...</td>\n",
              "      <td>...</td>\n",
              "      <td>...</td>\n",
              "      <td>...</td>\n",
              "      <td>...</td>\n",
              "      <td>...</td>\n",
              "      <td>...</td>\n",
              "      <td>...</td>\n",
              "      <td>...</td>\n",
              "      <td>...</td>\n",
              "      <td>...</td>\n",
              "      <td>...</td>\n",
              "      <td>...</td>\n",
              "      <td>...</td>\n",
              "      <td>...</td>\n",
              "      <td>...</td>\n",
              "      <td>...</td>\n",
              "    </tr>\n",
              "    <tr>\n",
              "      <th>420</th>\n",
              "      <td>1</td>\n",
              "      <td>3</td>\n",
              "      <td>1</td>\n",
              "      <td>0</td>\n",
              "      <td>0</td>\n",
              "      <td>0</td>\n",
              "      <td>0</td>\n",
              "      <td>0</td>\n",
              "      <td>1</td>\n",
              "      <td>0</td>\n",
              "      <td>0</td>\n",
              "      <td>0</td>\n",
              "      <td>0</td>\n",
              "      <td>0</td>\n",
              "      <td>0</td>\n",
              "      <td>0</td>\n",
              "      <td>0</td>\n",
              "    </tr>\n",
              "    <tr>\n",
              "      <th>421</th>\n",
              "      <td>1</td>\n",
              "      <td>3</td>\n",
              "      <td>1</td>\n",
              "      <td>0</td>\n",
              "      <td>0</td>\n",
              "      <td>0</td>\n",
              "      <td>0</td>\n",
              "      <td>1</td>\n",
              "      <td>0</td>\n",
              "      <td>0</td>\n",
              "      <td>0</td>\n",
              "      <td>0</td>\n",
              "      <td>0</td>\n",
              "      <td>0</td>\n",
              "      <td>0</td>\n",
              "      <td>0</td>\n",
              "      <td>0</td>\n",
              "    </tr>\n",
              "    <tr>\n",
              "      <th>422</th>\n",
              "      <td>2</td>\n",
              "      <td>3</td>\n",
              "      <td>0</td>\n",
              "      <td>1</td>\n",
              "      <td>0</td>\n",
              "      <td>0</td>\n",
              "      <td>0</td>\n",
              "      <td>0</td>\n",
              "      <td>0</td>\n",
              "      <td>0</td>\n",
              "      <td>0</td>\n",
              "      <td>0</td>\n",
              "      <td>0</td>\n",
              "      <td>1</td>\n",
              "      <td>0</td>\n",
              "      <td>0</td>\n",
              "      <td>0</td>\n",
              "    </tr>\n",
              "    <tr>\n",
              "      <th>423</th>\n",
              "      <td>3</td>\n",
              "      <td>3</td>\n",
              "      <td>0</td>\n",
              "      <td>1</td>\n",
              "      <td>0</td>\n",
              "      <td>0</td>\n",
              "      <td>0</td>\n",
              "      <td>0</td>\n",
              "      <td>0</td>\n",
              "      <td>1</td>\n",
              "      <td>0</td>\n",
              "      <td>0</td>\n",
              "      <td>0</td>\n",
              "      <td>0</td>\n",
              "      <td>0</td>\n",
              "      <td>0</td>\n",
              "      <td>0</td>\n",
              "    </tr>\n",
              "    <tr>\n",
              "      <th>424</th>\n",
              "      <td>6</td>\n",
              "      <td>3</td>\n",
              "      <td>1</td>\n",
              "      <td>0</td>\n",
              "      <td>0</td>\n",
              "      <td>0</td>\n",
              "      <td>0</td>\n",
              "      <td>0</td>\n",
              "      <td>1</td>\n",
              "      <td>0</td>\n",
              "      <td>0</td>\n",
              "      <td>0</td>\n",
              "      <td>0</td>\n",
              "      <td>0</td>\n",
              "      <td>0</td>\n",
              "      <td>0</td>\n",
              "      <td>0</td>\n",
              "    </tr>\n",
              "  </tbody>\n",
              "</table>\n",
              "<p>425 rows × 17 columns</p>\n",
              "</div>"
            ],
            "text/plain": [
              "     dayofweek  quarter  ...  Local_Local_11  Local_Local_12\n",
              "0            4        1  ...               0               0\n",
              "1            5        1  ...               0               0\n",
              "2            2        1  ...               0               0\n",
              "3            4        1  ...               0               0\n",
              "4            6        1  ...               0               0\n",
              "..         ...      ...  ...             ...             ...\n",
              "420          1        3  ...               0               0\n",
              "421          1        3  ...               0               0\n",
              "422          2        3  ...               0               0\n",
              "423          3        3  ...               0               0\n",
              "424          6        3  ...               0               0\n",
              "\n",
              "[425 rows x 17 columns]"
            ]
          },
          "metadata": {
            "tags": []
          },
          "execution_count": 34
        }
      ]
    },
    {
      "cell_type": "code",
      "metadata": {
        "colab": {
          "base_uri": "https://localhost:8080/",
          "height": 419
        },
        "id": "iI5-RI-gVkcQ",
        "outputId": "2be1cf3c-516a-4178-d6f6-3b9ec33ffa9e"
      },
      "source": [
        "y1"
      ],
      "execution_count": 29,
      "outputs": [
        {
          "output_type": "execute_result",
          "data": {
            "text/html": [
              "<div>\n",
              "<style scoped>\n",
              "    .dataframe tbody tr th:only-of-type {\n",
              "        vertical-align: middle;\n",
              "    }\n",
              "\n",
              "    .dataframe tbody tr th {\n",
              "        vertical-align: top;\n",
              "    }\n",
              "\n",
              "    .dataframe thead th {\n",
              "        text-align: right;\n",
              "    }\n",
              "</style>\n",
              "<table border=\"1\" class=\"dataframe\">\n",
              "  <thead>\n",
              "    <tr style=\"text-align: right;\">\n",
              "      <th></th>\n",
              "      <th>Potential Accident Level</th>\n",
              "    </tr>\n",
              "  </thead>\n",
              "  <tbody>\n",
              "    <tr>\n",
              "      <th>0</th>\n",
              "      <td>IV</td>\n",
              "    </tr>\n",
              "    <tr>\n",
              "      <th>1</th>\n",
              "      <td>IV</td>\n",
              "    </tr>\n",
              "    <tr>\n",
              "      <th>2</th>\n",
              "      <td>III</td>\n",
              "    </tr>\n",
              "    <tr>\n",
              "      <th>3</th>\n",
              "      <td>I</td>\n",
              "    </tr>\n",
              "    <tr>\n",
              "      <th>4</th>\n",
              "      <td>IV</td>\n",
              "    </tr>\n",
              "    <tr>\n",
              "      <th>...</th>\n",
              "      <td>...</td>\n",
              "    </tr>\n",
              "    <tr>\n",
              "      <th>420</th>\n",
              "      <td>III</td>\n",
              "    </tr>\n",
              "    <tr>\n",
              "      <th>421</th>\n",
              "      <td>II</td>\n",
              "    </tr>\n",
              "    <tr>\n",
              "      <th>422</th>\n",
              "      <td>II</td>\n",
              "    </tr>\n",
              "    <tr>\n",
              "      <th>423</th>\n",
              "      <td>II</td>\n",
              "    </tr>\n",
              "    <tr>\n",
              "      <th>424</th>\n",
              "      <td>II</td>\n",
              "    </tr>\n",
              "  </tbody>\n",
              "</table>\n",
              "<p>425 rows × 1 columns</p>\n",
              "</div>"
            ],
            "text/plain": [
              "    Potential Accident Level\n",
              "0                         IV\n",
              "1                         IV\n",
              "2                        III\n",
              "3                          I\n",
              "4                         IV\n",
              "..                       ...\n",
              "420                      III\n",
              "421                       II\n",
              "422                       II\n",
              "423                       II\n",
              "424                       II\n",
              "\n",
              "[425 rows x 1 columns]"
            ]
          },
          "metadata": {
            "tags": []
          },
          "execution_count": 29
        }
      ]
    },
    {
      "cell_type": "code",
      "metadata": {
        "id": "fWKDJ5PTVhTd"
      },
      "source": [
        "y1['label'] = y1['Potential Accident Level'].replace({'I':0, 'II':1, 'III':2, 'IV':3, 'V':4, 'VI':4})"
      ],
      "execution_count": 35,
      "outputs": []
    },
    {
      "cell_type": "code",
      "metadata": {
        "id": "3zD-7MxdV2Me"
      },
      "source": [
        "y=y1['label']"
      ],
      "execution_count": 40,
      "outputs": []
    },
    {
      "cell_type": "code",
      "metadata": {
        "colab": {
          "base_uri": "https://localhost:8080/"
        },
        "id": "kFVQayRYXIV4",
        "outputId": "38f1f05d-7fd7-4892-d74d-c6626413e70f"
      },
      "source": [
        "y.unique()"
      ],
      "execution_count": 43,
      "outputs": [
        {
          "output_type": "execute_result",
          "data": {
            "text/plain": [
              "array([3, 2, 0, 1, 4])"
            ]
          },
          "metadata": {
            "tags": []
          },
          "execution_count": 43
        }
      ]
    },
    {
      "cell_type": "code",
      "metadata": {
        "id": "Z1Rq52hYcrIz"
      },
      "source": [
        "# Since the target labels are non-binary and we will use categorical crossentropy followed by softmax layer to compile the model, we need to convert the label encoded values to categorial using the keras function\n",
        "from tensorflow.keras.utils import to_categorical\n",
        "\n",
        "y2 = to_categorical(y)"
      ],
      "execution_count": 44,
      "outputs": []
    },
    {
      "cell_type": "code",
      "metadata": {
        "colab": {
          "base_uri": "https://localhost:8080/"
        },
        "id": "yt_2VYdqWpXM",
        "outputId": "81563a63-5f4d-4bb1-e9eb-7649cd440a74"
      },
      "source": [
        "y2"
      ],
      "execution_count": 47,
      "outputs": [
        {
          "output_type": "execute_result",
          "data": {
            "text/plain": [
              "array([[0., 0., 0., 1., 0.],\n",
              "       [0., 0., 0., 1., 0.],\n",
              "       [0., 0., 1., 0., 0.],\n",
              "       ...,\n",
              "       [0., 1., 0., 0., 0.],\n",
              "       [0., 1., 0., 0., 0.],\n",
              "       [0., 1., 0., 0., 0.]], dtype=float32)"
            ]
          },
          "metadata": {
            "tags": []
          },
          "execution_count": 47
        }
      ]
    },
    {
      "cell_type": "code",
      "metadata": {
        "colab": {
          "base_uri": "https://localhost:8080/"
        },
        "id": "acKEmLQakiqf",
        "outputId": "2aaca095-b2b8-4864-d9bb-87201b316c13"
      },
      "source": [
        "y2.shape"
      ],
      "execution_count": 48,
      "outputs": [
        {
          "output_type": "execute_result",
          "data": {
            "text/plain": [
              "(425, 5)"
            ]
          },
          "metadata": {
            "tags": []
          },
          "execution_count": 48
        }
      ]
    },
    {
      "cell_type": "code",
      "metadata": {
        "id": "94j_dX0CfaSD"
      },
      "source": [
        "from sklearn.model_selection import train_test_split"
      ],
      "execution_count": 49,
      "outputs": []
    },
    {
      "cell_type": "code",
      "metadata": {
        "id": "h8ryleq6fMTj"
      },
      "source": [
        "x_train1, x_test1, y_train1, y_test1 = train_test_split(X2, y2, test_size=0.25, random_state=100)"
      ],
      "execution_count": 54,
      "outputs": []
    },
    {
      "cell_type": "code",
      "metadata": {
        "colab": {
          "base_uri": "https://localhost:8080/"
        },
        "id": "ZTmnf_GyfkPP",
        "outputId": "f172928f-a92c-41b6-eaaf-d8da321191f3"
      },
      "source": [
        "print(x_train1.shape)\n",
        "print(x_test1.shape)"
      ],
      "execution_count": 55,
      "outputs": [
        {
          "output_type": "stream",
          "text": [
            "(318, 17)\n",
            "(107, 17)\n"
          ],
          "name": "stdout"
        }
      ]
    },
    {
      "cell_type": "code",
      "metadata": {
        "colab": {
          "base_uri": "https://localhost:8080/"
        },
        "id": "xD_zAC_IfsZP",
        "outputId": "18396f3a-d737-4b4a-d433-600d36ddfacf"
      },
      "source": [
        "print(y_train1.shape)\n",
        "print(y_test1.shape)"
      ],
      "execution_count": 56,
      "outputs": [
        {
          "output_type": "stream",
          "text": [
            "(318, 5)\n",
            "(107, 5)\n"
          ],
          "name": "stdout"
        }
      ]
    },
    {
      "cell_type": "code",
      "metadata": {
        "colab": {
          "base_uri": "https://localhost:8080/",
          "height": 224
        },
        "id": "qhnfFF8xfwSy",
        "outputId": "24beb68c-f72e-41d7-b66c-0379ff134c3f"
      },
      "source": [
        "# We will need to convert the Countries and Local variaables to one-hot encoded values \n",
        "x_train1.head()"
      ],
      "execution_count": 57,
      "outputs": [
        {
          "output_type": "execute_result",
          "data": {
            "text/html": [
              "<div>\n",
              "<style scoped>\n",
              "    .dataframe tbody tr th:only-of-type {\n",
              "        vertical-align: middle;\n",
              "    }\n",
              "\n",
              "    .dataframe tbody tr th {\n",
              "        vertical-align: top;\n",
              "    }\n",
              "\n",
              "    .dataframe thead th {\n",
              "        text-align: right;\n",
              "    }\n",
              "</style>\n",
              "<table border=\"1\" class=\"dataframe\">\n",
              "  <thead>\n",
              "    <tr style=\"text-align: right;\">\n",
              "      <th></th>\n",
              "      <th>dayofweek</th>\n",
              "      <th>quarter</th>\n",
              "      <th>Countries_Country_01</th>\n",
              "      <th>Countries_Country_02</th>\n",
              "      <th>Countries_Country_03</th>\n",
              "      <th>Local_Local_01</th>\n",
              "      <th>Local_Local_02</th>\n",
              "      <th>Local_Local_03</th>\n",
              "      <th>Local_Local_04</th>\n",
              "      <th>Local_Local_05</th>\n",
              "      <th>Local_Local_06</th>\n",
              "      <th>Local_Local_07</th>\n",
              "      <th>Local_Local_08</th>\n",
              "      <th>Local_Local_09</th>\n",
              "      <th>Local_Local_10</th>\n",
              "      <th>Local_Local_11</th>\n",
              "      <th>Local_Local_12</th>\n",
              "    </tr>\n",
              "  </thead>\n",
              "  <tbody>\n",
              "    <tr>\n",
              "      <th>358</th>\n",
              "      <td>2</td>\n",
              "      <td>1</td>\n",
              "      <td>1</td>\n",
              "      <td>0</td>\n",
              "      <td>0</td>\n",
              "      <td>0</td>\n",
              "      <td>0</td>\n",
              "      <td>0</td>\n",
              "      <td>0</td>\n",
              "      <td>0</td>\n",
              "      <td>1</td>\n",
              "      <td>0</td>\n",
              "      <td>0</td>\n",
              "      <td>0</td>\n",
              "      <td>0</td>\n",
              "      <td>0</td>\n",
              "      <td>0</td>\n",
              "    </tr>\n",
              "    <tr>\n",
              "      <th>319</th>\n",
              "      <td>2</td>\n",
              "      <td>1</td>\n",
              "      <td>0</td>\n",
              "      <td>1</td>\n",
              "      <td>0</td>\n",
              "      <td>0</td>\n",
              "      <td>0</td>\n",
              "      <td>0</td>\n",
              "      <td>0</td>\n",
              "      <td>0</td>\n",
              "      <td>0</td>\n",
              "      <td>0</td>\n",
              "      <td>1</td>\n",
              "      <td>0</td>\n",
              "      <td>0</td>\n",
              "      <td>0</td>\n",
              "      <td>0</td>\n",
              "    </tr>\n",
              "    <tr>\n",
              "      <th>351</th>\n",
              "      <td>2</td>\n",
              "      <td>1</td>\n",
              "      <td>1</td>\n",
              "      <td>0</td>\n",
              "      <td>0</td>\n",
              "      <td>1</td>\n",
              "      <td>0</td>\n",
              "      <td>0</td>\n",
              "      <td>0</td>\n",
              "      <td>0</td>\n",
              "      <td>0</td>\n",
              "      <td>0</td>\n",
              "      <td>0</td>\n",
              "      <td>0</td>\n",
              "      <td>0</td>\n",
              "      <td>0</td>\n",
              "      <td>0</td>\n",
              "    </tr>\n",
              "    <tr>\n",
              "      <th>361</th>\n",
              "      <td>4</td>\n",
              "      <td>1</td>\n",
              "      <td>0</td>\n",
              "      <td>1</td>\n",
              "      <td>0</td>\n",
              "      <td>0</td>\n",
              "      <td>0</td>\n",
              "      <td>0</td>\n",
              "      <td>0</td>\n",
              "      <td>1</td>\n",
              "      <td>0</td>\n",
              "      <td>0</td>\n",
              "      <td>0</td>\n",
              "      <td>0</td>\n",
              "      <td>0</td>\n",
              "      <td>0</td>\n",
              "      <td>0</td>\n",
              "    </tr>\n",
              "    <tr>\n",
              "      <th>404</th>\n",
              "      <td>6</td>\n",
              "      <td>2</td>\n",
              "      <td>1</td>\n",
              "      <td>0</td>\n",
              "      <td>0</td>\n",
              "      <td>0</td>\n",
              "      <td>0</td>\n",
              "      <td>0</td>\n",
              "      <td>1</td>\n",
              "      <td>0</td>\n",
              "      <td>0</td>\n",
              "      <td>0</td>\n",
              "      <td>0</td>\n",
              "      <td>0</td>\n",
              "      <td>0</td>\n",
              "      <td>0</td>\n",
              "      <td>0</td>\n",
              "    </tr>\n",
              "  </tbody>\n",
              "</table>\n",
              "</div>"
            ],
            "text/plain": [
              "     dayofweek  quarter  ...  Local_Local_11  Local_Local_12\n",
              "358          2        1  ...               0               0\n",
              "319          2        1  ...               0               0\n",
              "351          2        1  ...               0               0\n",
              "361          4        1  ...               0               0\n",
              "404          6        2  ...               0               0\n",
              "\n",
              "[5 rows x 17 columns]"
            ]
          },
          "metadata": {
            "tags": []
          },
          "execution_count": 57
        }
      ]
    },
    {
      "cell_type": "code",
      "metadata": {
        "colab": {
          "base_uri": "https://localhost:8080/",
          "height": 224
        },
        "id": "KCnfJbrlh82m",
        "outputId": "39601104-8019-4ef9-d525-4bd907b9b352"
      },
      "source": [
        "x_test1.head()"
      ],
      "execution_count": 58,
      "outputs": [
        {
          "output_type": "execute_result",
          "data": {
            "text/html": [
              "<div>\n",
              "<style scoped>\n",
              "    .dataframe tbody tr th:only-of-type {\n",
              "        vertical-align: middle;\n",
              "    }\n",
              "\n",
              "    .dataframe tbody tr th {\n",
              "        vertical-align: top;\n",
              "    }\n",
              "\n",
              "    .dataframe thead th {\n",
              "        text-align: right;\n",
              "    }\n",
              "</style>\n",
              "<table border=\"1\" class=\"dataframe\">\n",
              "  <thead>\n",
              "    <tr style=\"text-align: right;\">\n",
              "      <th></th>\n",
              "      <th>dayofweek</th>\n",
              "      <th>quarter</th>\n",
              "      <th>Countries_Country_01</th>\n",
              "      <th>Countries_Country_02</th>\n",
              "      <th>Countries_Country_03</th>\n",
              "      <th>Local_Local_01</th>\n",
              "      <th>Local_Local_02</th>\n",
              "      <th>Local_Local_03</th>\n",
              "      <th>Local_Local_04</th>\n",
              "      <th>Local_Local_05</th>\n",
              "      <th>Local_Local_06</th>\n",
              "      <th>Local_Local_07</th>\n",
              "      <th>Local_Local_08</th>\n",
              "      <th>Local_Local_09</th>\n",
              "      <th>Local_Local_10</th>\n",
              "      <th>Local_Local_11</th>\n",
              "      <th>Local_Local_12</th>\n",
              "    </tr>\n",
              "  </thead>\n",
              "  <tbody>\n",
              "    <tr>\n",
              "      <th>315</th>\n",
              "      <td>6</td>\n",
              "      <td>1</td>\n",
              "      <td>0</td>\n",
              "      <td>0</td>\n",
              "      <td>1</td>\n",
              "      <td>0</td>\n",
              "      <td>0</td>\n",
              "      <td>0</td>\n",
              "      <td>0</td>\n",
              "      <td>0</td>\n",
              "      <td>0</td>\n",
              "      <td>0</td>\n",
              "      <td>0</td>\n",
              "      <td>0</td>\n",
              "      <td>1</td>\n",
              "      <td>0</td>\n",
              "      <td>0</td>\n",
              "    </tr>\n",
              "    <tr>\n",
              "      <th>271</th>\n",
              "      <td>0</td>\n",
              "      <td>4</td>\n",
              "      <td>0</td>\n",
              "      <td>1</td>\n",
              "      <td>0</td>\n",
              "      <td>0</td>\n",
              "      <td>0</td>\n",
              "      <td>0</td>\n",
              "      <td>0</td>\n",
              "      <td>1</td>\n",
              "      <td>0</td>\n",
              "      <td>0</td>\n",
              "      <td>0</td>\n",
              "      <td>0</td>\n",
              "      <td>0</td>\n",
              "      <td>0</td>\n",
              "      <td>0</td>\n",
              "    </tr>\n",
              "    <tr>\n",
              "      <th>406</th>\n",
              "      <td>6</td>\n",
              "      <td>2</td>\n",
              "      <td>1</td>\n",
              "      <td>0</td>\n",
              "      <td>0</td>\n",
              "      <td>1</td>\n",
              "      <td>0</td>\n",
              "      <td>0</td>\n",
              "      <td>0</td>\n",
              "      <td>0</td>\n",
              "      <td>0</td>\n",
              "      <td>0</td>\n",
              "      <td>0</td>\n",
              "      <td>0</td>\n",
              "      <td>0</td>\n",
              "      <td>0</td>\n",
              "      <td>0</td>\n",
              "    </tr>\n",
              "    <tr>\n",
              "      <th>300</th>\n",
              "      <td>4</td>\n",
              "      <td>1</td>\n",
              "      <td>1</td>\n",
              "      <td>0</td>\n",
              "      <td>0</td>\n",
              "      <td>0</td>\n",
              "      <td>0</td>\n",
              "      <td>0</td>\n",
              "      <td>0</td>\n",
              "      <td>0</td>\n",
              "      <td>1</td>\n",
              "      <td>0</td>\n",
              "      <td>0</td>\n",
              "      <td>0</td>\n",
              "      <td>0</td>\n",
              "      <td>0</td>\n",
              "      <td>0</td>\n",
              "    </tr>\n",
              "    <tr>\n",
              "      <th>23</th>\n",
              "      <td>0</td>\n",
              "      <td>1</td>\n",
              "      <td>0</td>\n",
              "      <td>1</td>\n",
              "      <td>0</td>\n",
              "      <td>0</td>\n",
              "      <td>1</td>\n",
              "      <td>0</td>\n",
              "      <td>0</td>\n",
              "      <td>0</td>\n",
              "      <td>0</td>\n",
              "      <td>0</td>\n",
              "      <td>0</td>\n",
              "      <td>0</td>\n",
              "      <td>0</td>\n",
              "      <td>0</td>\n",
              "      <td>0</td>\n",
              "    </tr>\n",
              "  </tbody>\n",
              "</table>\n",
              "</div>"
            ],
            "text/plain": [
              "     dayofweek  quarter  ...  Local_Local_11  Local_Local_12\n",
              "315          6        1  ...               0               0\n",
              "271          0        4  ...               0               0\n",
              "406          6        2  ...               0               0\n",
              "300          4        1  ...               0               0\n",
              "23           0        1  ...               0               0\n",
              "\n",
              "[5 rows x 17 columns]"
            ]
          },
          "metadata": {
            "tags": []
          },
          "execution_count": 58
        }
      ]
    },
    {
      "cell_type": "code",
      "metadata": {
        "colab": {
          "base_uri": "https://localhost:8080/"
        },
        "id": "jAM2XFMtiwtz",
        "outputId": "d2adffc1-d243-455b-ca28-84120ff12ce0"
      },
      "source": [
        "y_train1"
      ],
      "execution_count": 59,
      "outputs": [
        {
          "output_type": "execute_result",
          "data": {
            "text/plain": [
              "array([[0., 0., 0., 0., 1.],\n",
              "       [0., 1., 0., 0., 0.],\n",
              "       [0., 0., 0., 0., 1.],\n",
              "       ...,\n",
              "       [0., 0., 0., 0., 1.],\n",
              "       [0., 0., 1., 0., 0.],\n",
              "       [0., 0., 0., 1., 0.]], dtype=float32)"
            ]
          },
          "metadata": {
            "tags": []
          },
          "execution_count": 59
        }
      ]
    },
    {
      "cell_type": "code",
      "metadata": {
        "colab": {
          "base_uri": "https://localhost:8080/"
        },
        "id": "UhiScamaGTbI",
        "outputId": "aa9a0bda-d337-4182-8f2c-eee18d015aac"
      },
      "source": [
        "y_test1"
      ],
      "execution_count": 60,
      "outputs": [
        {
          "output_type": "execute_result",
          "data": {
            "text/plain": [
              "array([[0., 1., 0., 0., 0.],\n",
              "       [0., 1., 0., 0., 0.],\n",
              "       [0., 0., 0., 1., 0.],\n",
              "       [0., 0., 0., 1., 0.],\n",
              "       [0., 1., 0., 0., 0.],\n",
              "       [0., 0., 1., 0., 0.],\n",
              "       [0., 0., 0., 1., 0.],\n",
              "       [0., 0., 0., 1., 0.],\n",
              "       [0., 0., 1., 0., 0.],\n",
              "       [0., 0., 1., 0., 0.],\n",
              "       [1., 0., 0., 0., 0.],\n",
              "       [0., 0., 1., 0., 0.],\n",
              "       [0., 0., 1., 0., 0.],\n",
              "       [0., 0., 0., 1., 0.],\n",
              "       [0., 0., 0., 1., 0.],\n",
              "       [1., 0., 0., 0., 0.],\n",
              "       [0., 0., 1., 0., 0.],\n",
              "       [0., 0., 0., 1., 0.],\n",
              "       [0., 0., 1., 0., 0.],\n",
              "       [0., 1., 0., 0., 0.],\n",
              "       [0., 1., 0., 0., 0.],\n",
              "       [0., 0., 1., 0., 0.],\n",
              "       [0., 1., 0., 0., 0.],\n",
              "       [0., 1., 0., 0., 0.],\n",
              "       [0., 1., 0., 0., 0.],\n",
              "       [0., 0., 1., 0., 0.],\n",
              "       [0., 1., 0., 0., 0.],\n",
              "       [0., 0., 0., 1., 0.],\n",
              "       [1., 0., 0., 0., 0.],\n",
              "       [1., 0., 0., 0., 0.],\n",
              "       [0., 1., 0., 0., 0.],\n",
              "       [1., 0., 0., 0., 0.],\n",
              "       [0., 0., 1., 0., 0.],\n",
              "       [0., 0., 0., 1., 0.],\n",
              "       [0., 1., 0., 0., 0.],\n",
              "       [0., 0., 0., 1., 0.],\n",
              "       [0., 1., 0., 0., 0.],\n",
              "       [0., 0., 0., 1., 0.],\n",
              "       [0., 0., 0., 1., 0.],\n",
              "       [0., 1., 0., 0., 0.],\n",
              "       [0., 0., 1., 0., 0.],\n",
              "       [0., 1., 0., 0., 0.],\n",
              "       [0., 0., 1., 0., 0.],\n",
              "       [0., 0., 1., 0., 0.],\n",
              "       [0., 0., 0., 1., 0.],\n",
              "       [0., 0., 1., 0., 0.],\n",
              "       [0., 1., 0., 0., 0.],\n",
              "       [0., 1., 0., 0., 0.],\n",
              "       [0., 0., 0., 0., 1.],\n",
              "       [0., 1., 0., 0., 0.],\n",
              "       [0., 0., 0., 1., 0.],\n",
              "       [0., 1., 0., 0., 0.],\n",
              "       [0., 0., 1., 0., 0.],\n",
              "       [0., 1., 0., 0., 0.],\n",
              "       [0., 1., 0., 0., 0.],\n",
              "       [0., 0., 0., 1., 0.],\n",
              "       [0., 0., 0., 1., 0.],\n",
              "       [0., 1., 0., 0., 0.],\n",
              "       [0., 1., 0., 0., 0.],\n",
              "       [0., 0., 0., 1., 0.],\n",
              "       [0., 0., 0., 1., 0.],\n",
              "       [0., 0., 0., 1., 0.],\n",
              "       [0., 0., 0., 0., 1.],\n",
              "       [0., 0., 1., 0., 0.],\n",
              "       [0., 0., 1., 0., 0.],\n",
              "       [0., 0., 0., 1., 0.],\n",
              "       [0., 0., 0., 1., 0.],\n",
              "       [0., 0., 0., 1., 0.],\n",
              "       [0., 0., 0., 1., 0.],\n",
              "       [1., 0., 0., 0., 0.],\n",
              "       [0., 1., 0., 0., 0.],\n",
              "       [0., 0., 1., 0., 0.],\n",
              "       [0., 1., 0., 0., 0.],\n",
              "       [0., 0., 0., 1., 0.],\n",
              "       [1., 0., 0., 0., 0.],\n",
              "       [1., 0., 0., 0., 0.],\n",
              "       [0., 0., 0., 1., 0.],\n",
              "       [1., 0., 0., 0., 0.],\n",
              "       [0., 0., 0., 1., 0.],\n",
              "       [0., 0., 1., 0., 0.],\n",
              "       [0., 0., 0., 1., 0.],\n",
              "       [0., 0., 0., 1., 0.],\n",
              "       [0., 0., 1., 0., 0.],\n",
              "       [0., 1., 0., 0., 0.],\n",
              "       [0., 0., 0., 1., 0.],\n",
              "       [0., 1., 0., 0., 0.],\n",
              "       [0., 0., 1., 0., 0.],\n",
              "       [0., 1., 0., 0., 0.],\n",
              "       [0., 0., 0., 0., 1.],\n",
              "       [0., 1., 0., 0., 0.],\n",
              "       [0., 0., 0., 1., 0.],\n",
              "       [0., 0., 0., 1., 0.],\n",
              "       [1., 0., 0., 0., 0.],\n",
              "       [1., 0., 0., 0., 0.],\n",
              "       [0., 0., 1., 0., 0.],\n",
              "       [0., 0., 0., 1., 0.],\n",
              "       [1., 0., 0., 0., 0.],\n",
              "       [0., 1., 0., 0., 0.],\n",
              "       [0., 0., 1., 0., 0.],\n",
              "       [0., 0., 0., 0., 1.],\n",
              "       [0., 0., 0., 1., 0.],\n",
              "       [0., 0., 0., 1., 0.],\n",
              "       [0., 1., 0., 0., 0.],\n",
              "       [0., 0., 0., 1., 0.],\n",
              "       [1., 0., 0., 0., 0.],\n",
              "       [0., 0., 1., 0., 0.],\n",
              "       [1., 0., 0., 0., 0.]], dtype=float32)"
            ]
          },
          "metadata": {
            "tags": []
          },
          "execution_count": 60
        }
      ]
    },
    {
      "cell_type": "markdown",
      "metadata": {
        "id": "5eYB1Y61qFus"
      },
      "source": [
        "We will try building two models in isolation first to see how it performs and then, pick the better performing model for the concatenation."
      ]
    },
    {
      "cell_type": "markdown",
      "metadata": {
        "id": "r-CM6fMtqSkh"
      },
      "source": [
        "# First let's try a Conv1D model, and then a vanilla neural network model."
      ]
    },
    {
      "cell_type": "code",
      "metadata": {
        "id": "eVqvq9vha-lS"
      },
      "source": [
        "# As per our x_train data, We will include 4 aspects - 1) Day of the week, 2) Quarter of the year 3) Country and 4) Location \n",
        "# However, since the Categories - Country and Local have been converted to onehot encoded values, the no. of columns have increased from 4 to 17 as seen above \n",
        "# Model 1\n",
        "\n",
        "Length =17\n",
        "\n",
        "#from tensorflow.python.framework.ops import disable_eager_execution\n",
        "#disable_eager_execution()\n",
        "\n",
        "\n",
        "input_aug= Input(shape=(Length,)) \n",
        "input_aug1= tf.expand_dims(input_aug, axis=-1)  #  to add another dimension \n",
        "\n",
        "conv1= Conv1D(64, kernel_size=4,activation='relu')(input_aug1)\n",
        "#drop1=Dropout(0.15)(conv1) ---> did not add any/ much value to the model accuracy, and so excluded from model acrhitecture \n",
        "conv2= Conv1D(128, kernel_size=10,activation='relu')(conv1)\n",
        "#drop2=Dropout(0.15)(conv2)--->did not add any/ much  value to the model accuracy, and so excluded from model acrhitecture \n",
        "flat1 = Flatten()(conv2)\n",
        "dense1= Dense(100,activation='relu')(flat1)\n",
        "output= Dense(5, activation='softmax')(dense1)\n",
        "\n",
        "aug_model = Model(inputs=input_aug, outputs=output)\n",
        "aug_model.compile(loss='categorical_crossentropy', optimizer='adam', metrics=['acc'])"
      ],
      "execution_count": 62,
      "outputs": []
    },
    {
      "cell_type": "code",
      "metadata": {
        "colab": {
          "base_uri": "https://localhost:8080/"
        },
        "id": "DyaxE1Xs9vVp",
        "outputId": "3a2a8e24-530a-4211-a9fe-f8209581f765"
      },
      "source": [
        "# Let's look at the model summary \n",
        "print(aug_model.summary())"
      ],
      "execution_count": 63,
      "outputs": [
        {
          "output_type": "stream",
          "text": [
            "Model: \"model_1\"\n",
            "_________________________________________________________________\n",
            "Layer (type)                 Output Shape              Param #   \n",
            "=================================================================\n",
            "input_2 (InputLayer)         [(None, 17)]              0         \n",
            "_________________________________________________________________\n",
            "tf_op_layer_ExpandDims_1 (Te [(None, 17, 1)]           0         \n",
            "_________________________________________________________________\n",
            "conv1d_2 (Conv1D)            (None, 14, 64)            320       \n",
            "_________________________________________________________________\n",
            "conv1d_3 (Conv1D)            (None, 5, 128)            82048     \n",
            "_________________________________________________________________\n",
            "flatten_1 (Flatten)          (None, 640)               0         \n",
            "_________________________________________________________________\n",
            "dense_2 (Dense)              (None, 100)               64100     \n",
            "_________________________________________________________________\n",
            "dense_3 (Dense)              (None, 5)                 505       \n",
            "=================================================================\n",
            "Total params: 146,973\n",
            "Trainable params: 146,973\n",
            "Non-trainable params: 0\n",
            "_________________________________________________________________\n",
            "None\n"
          ],
          "name": "stdout"
        }
      ]
    },
    {
      "cell_type": "code",
      "metadata": {
        "id": "gu2Ub3m529K4"
      },
      "source": [
        "es = EarlyStopping(monitor='val_loss',verbose=1, patience=50)\n",
        "mc = ModelCheckpoint('best_model.h5',save_best_only=True,save_weights_only=True)"
      ],
      "execution_count": 64,
      "outputs": []
    },
    {
      "cell_type": "code",
      "metadata": {
        "colab": {
          "base_uri": "https://localhost:8080/"
        },
        "id": "MUTgPIRT9vYi",
        "outputId": "fc4e07d3-020b-45c9-e10f-84452eb10432"
      },
      "source": [
        "# As noted below the training accuracy for validation is not great i.e. ~ 53% just above randomness, and the validation accuracy is unacceptable and lesser than what a random coin toss would be able to predict \n",
        "# i.e. ~37%\n",
        "\n",
        "history =aug_model.fit(x_train1,y_train1,epochs=200,batch_size=150,validation_data=[x_test1,y_test1],callbacks=[es,mc])"
      ],
      "execution_count": 66,
      "outputs": [
        {
          "output_type": "stream",
          "text": [
            "Train on 318 samples, validate on 107 samples\n",
            "Epoch 1/200\n",
            "150/318 [=============>................] - ETA: 0s - loss: 1.6171 - acc: 0.1667"
          ],
          "name": "stdout"
        },
        {
          "output_type": "stream",
          "text": [
            "/usr/local/lib/python3.7/dist-packages/tensorflow/python/keras/engine/training.py:2426: UserWarning: `Model.state_updates` will be removed in a future version. This property should not be used in TensorFlow 2.0, as `updates` are applied automatically.\n",
            "  warnings.warn('`Model.state_updates` will be removed in a future version. '\n"
          ],
          "name": "stderr"
        },
        {
          "output_type": "stream",
          "text": [
            "318/318 [==============================] - 2s 5ms/sample - loss: 1.6037 - acc: 0.2358 - val_loss: 1.5383 - val_acc: 0.4112\n",
            "Epoch 2/200\n",
            "318/318 [==============================] - 0s 115us/sample - loss: 1.5203 - acc: 0.4245 - val_loss: 1.4622 - val_acc: 0.3645\n",
            "Epoch 3/200\n",
            "318/318 [==============================] - 0s 108us/sample - loss: 1.4410 - acc: 0.3931 - val_loss: 1.4025 - val_acc: 0.3551\n",
            "Epoch 4/200\n",
            "318/318 [==============================] - 0s 104us/sample - loss: 1.3783 - acc: 0.3805 - val_loss: 1.3614 - val_acc: 0.3925\n",
            "Epoch 5/200\n",
            "318/318 [==============================] - 0s 108us/sample - loss: 1.3512 - acc: 0.4245 - val_loss: 1.3309 - val_acc: 0.4393\n",
            "Epoch 6/200\n",
            "318/318 [==============================] - 0s 126us/sample - loss: 1.3250 - acc: 0.4465 - val_loss: 1.3213 - val_acc: 0.4673\n",
            "Epoch 7/200\n",
            "318/318 [==============================] - 0s 68us/sample - loss: 1.2912 - acc: 0.4528 - val_loss: 1.3416 - val_acc: 0.4486\n",
            "Epoch 8/200\n",
            "318/318 [==============================] - 0s 45us/sample - loss: 1.2812 - acc: 0.4560 - val_loss: 1.3511 - val_acc: 0.4486\n",
            "Epoch 9/200\n",
            "318/318 [==============================] - 0s 49us/sample - loss: 1.2756 - acc: 0.4497 - val_loss: 1.3637 - val_acc: 0.4579\n",
            "Epoch 10/200\n",
            "318/318 [==============================] - 0s 53us/sample - loss: 1.2677 - acc: 0.4528 - val_loss: 1.3681 - val_acc: 0.4486\n",
            "Epoch 11/200\n",
            "318/318 [==============================] - 0s 58us/sample - loss: 1.2552 - acc: 0.4560 - val_loss: 1.3524 - val_acc: 0.4393\n",
            "Epoch 12/200\n",
            "318/318 [==============================] - 0s 48us/sample - loss: 1.2465 - acc: 0.4654 - val_loss: 1.3411 - val_acc: 0.4393\n",
            "Epoch 13/200\n",
            "318/318 [==============================] - 0s 53us/sample - loss: 1.2418 - acc: 0.4748 - val_loss: 1.3482 - val_acc: 0.4393\n",
            "Epoch 14/200\n",
            "318/318 [==============================] - 0s 43us/sample - loss: 1.2340 - acc: 0.4717 - val_loss: 1.3675 - val_acc: 0.4206\n",
            "Epoch 15/200\n",
            "318/318 [==============================] - 0s 49us/sample - loss: 1.2261 - acc: 0.4717 - val_loss: 1.3764 - val_acc: 0.4206\n",
            "Epoch 16/200\n",
            "318/318 [==============================] - 0s 54us/sample - loss: 1.2225 - acc: 0.4686 - val_loss: 1.3916 - val_acc: 0.4206\n",
            "Epoch 17/200\n",
            "318/318 [==============================] - 0s 53us/sample - loss: 1.2252 - acc: 0.4623 - val_loss: 1.3928 - val_acc: 0.4019\n",
            "Epoch 18/200\n",
            "318/318 [==============================] - 0s 55us/sample - loss: 1.2164 - acc: 0.4717 - val_loss: 1.3831 - val_acc: 0.4112\n",
            "Epoch 19/200\n",
            "318/318 [==============================] - 0s 47us/sample - loss: 1.2034 - acc: 0.4717 - val_loss: 1.3696 - val_acc: 0.4486\n",
            "Epoch 20/200\n",
            "318/318 [==============================] - 0s 56us/sample - loss: 1.2091 - acc: 0.4717 - val_loss: 1.3629 - val_acc: 0.4486\n",
            "Epoch 21/200\n",
            "318/318 [==============================] - 0s 55us/sample - loss: 1.2082 - acc: 0.4623 - val_loss: 1.3551 - val_acc: 0.4579\n",
            "Epoch 22/200\n",
            "318/318 [==============================] - 0s 53us/sample - loss: 1.1993 - acc: 0.4811 - val_loss: 1.3645 - val_acc: 0.4393\n",
            "Epoch 23/200\n",
            "318/318 [==============================] - 0s 44us/sample - loss: 1.1896 - acc: 0.4874 - val_loss: 1.3830 - val_acc: 0.4673\n",
            "Epoch 24/200\n",
            "318/318 [==============================] - 0s 77us/sample - loss: 1.1812 - acc: 0.4843 - val_loss: 1.4213 - val_acc: 0.4393\n",
            "Epoch 25/200\n",
            "318/318 [==============================] - 0s 55us/sample - loss: 1.1778 - acc: 0.4937 - val_loss: 1.4595 - val_acc: 0.3925\n",
            "Epoch 26/200\n",
            "318/318 [==============================] - 0s 59us/sample - loss: 1.1787 - acc: 0.4843 - val_loss: 1.4595 - val_acc: 0.4206\n",
            "Epoch 27/200\n",
            "318/318 [==============================] - 0s 68us/sample - loss: 1.1712 - acc: 0.4937 - val_loss: 1.4390 - val_acc: 0.4579\n",
            "Epoch 28/200\n",
            "318/318 [==============================] - 0s 54us/sample - loss: 1.1680 - acc: 0.5031 - val_loss: 1.4221 - val_acc: 0.4673\n",
            "Epoch 29/200\n",
            "318/318 [==============================] - 0s 43us/sample - loss: 1.1686 - acc: 0.5000 - val_loss: 1.4280 - val_acc: 0.4486\n",
            "Epoch 30/200\n",
            "318/318 [==============================] - 0s 67us/sample - loss: 1.1664 - acc: 0.4937 - val_loss: 1.4499 - val_acc: 0.3925\n",
            "Epoch 31/200\n",
            "318/318 [==============================] - 0s 60us/sample - loss: 1.1607 - acc: 0.5000 - val_loss: 1.4500 - val_acc: 0.4206\n",
            "Epoch 32/200\n",
            "318/318 [==============================] - 0s 46us/sample - loss: 1.1548 - acc: 0.5094 - val_loss: 1.4462 - val_acc: 0.4206\n",
            "Epoch 33/200\n",
            "318/318 [==============================] - 0s 53us/sample - loss: 1.1571 - acc: 0.4906 - val_loss: 1.4516 - val_acc: 0.4206\n",
            "Epoch 34/200\n",
            "318/318 [==============================] - 0s 65us/sample - loss: 1.1594 - acc: 0.5094 - val_loss: 1.4655 - val_acc: 0.4112\n",
            "Epoch 35/200\n",
            "318/318 [==============================] - 0s 56us/sample - loss: 1.1532 - acc: 0.5031 - val_loss: 1.4968 - val_acc: 0.3832\n",
            "Epoch 36/200\n",
            "318/318 [==============================] - 0s 80us/sample - loss: 1.1543 - acc: 0.5031 - val_loss: 1.5116 - val_acc: 0.3925\n",
            "Epoch 37/200\n",
            "318/318 [==============================] - 0s 43us/sample - loss: 1.1482 - acc: 0.4937 - val_loss: 1.4974 - val_acc: 0.3832\n",
            "Epoch 38/200\n",
            "318/318 [==============================] - 0s 58us/sample - loss: 1.1479 - acc: 0.5031 - val_loss: 1.4864 - val_acc: 0.4206\n",
            "Epoch 39/200\n",
            "318/318 [==============================] - 0s 58us/sample - loss: 1.1461 - acc: 0.5189 - val_loss: 1.4827 - val_acc: 0.4206\n",
            "Epoch 40/200\n",
            "318/318 [==============================] - 0s 50us/sample - loss: 1.1339 - acc: 0.5283 - val_loss: 1.4957 - val_acc: 0.3925\n",
            "Epoch 41/200\n",
            "318/318 [==============================] - 0s 62us/sample - loss: 1.1276 - acc: 0.5440 - val_loss: 1.5032 - val_acc: 0.4019\n",
            "Epoch 42/200\n",
            "318/318 [==============================] - 0s 49us/sample - loss: 1.1204 - acc: 0.5283 - val_loss: 1.5109 - val_acc: 0.4019\n",
            "Epoch 43/200\n",
            "318/318 [==============================] - 0s 72us/sample - loss: 1.1200 - acc: 0.5283 - val_loss: 1.5250 - val_acc: 0.4112\n",
            "Epoch 44/200\n",
            "318/318 [==============================] - 0s 54us/sample - loss: 1.1198 - acc: 0.5283 - val_loss: 1.5426 - val_acc: 0.4019\n",
            "Epoch 45/200\n",
            "318/318 [==============================] - 0s 64us/sample - loss: 1.1136 - acc: 0.5189 - val_loss: 1.5618 - val_acc: 0.4019\n",
            "Epoch 46/200\n",
            "318/318 [==============================] - 0s 48us/sample - loss: 1.1148 - acc: 0.5283 - val_loss: 1.5591 - val_acc: 0.3925\n",
            "Epoch 47/200\n",
            "318/318 [==============================] - 0s 56us/sample - loss: 1.1126 - acc: 0.5126 - val_loss: 1.5249 - val_acc: 0.3738\n",
            "Epoch 48/200\n",
            "318/318 [==============================] - 0s 57us/sample - loss: 1.1058 - acc: 0.5220 - val_loss: 1.5087 - val_acc: 0.3925\n",
            "Epoch 49/200\n",
            "318/318 [==============================] - 0s 56us/sample - loss: 1.1071 - acc: 0.5063 - val_loss: 1.5210 - val_acc: 0.3832\n",
            "Epoch 50/200\n",
            "318/318 [==============================] - 0s 83us/sample - loss: 1.1014 - acc: 0.5063 - val_loss: 1.5350 - val_acc: 0.3832\n",
            "Epoch 51/200\n",
            "318/318 [==============================] - 0s 48us/sample - loss: 1.0965 - acc: 0.5094 - val_loss: 1.5588 - val_acc: 0.3738\n",
            "Epoch 52/200\n",
            "318/318 [==============================] - 0s 59us/sample - loss: 1.0898 - acc: 0.5189 - val_loss: 1.5778 - val_acc: 0.3738\n",
            "Epoch 53/200\n",
            "318/318 [==============================] - 0s 49us/sample - loss: 1.0825 - acc: 0.5314 - val_loss: 1.6027 - val_acc: 0.3645\n",
            "Epoch 54/200\n",
            "318/318 [==============================] - 0s 62us/sample - loss: 1.0863 - acc: 0.5409 - val_loss: 1.6122 - val_acc: 0.3645\n",
            "Epoch 55/200\n",
            "318/318 [==============================] - 0s 53us/sample - loss: 1.0858 - acc: 0.5440 - val_loss: 1.6198 - val_acc: 0.3925\n",
            "Epoch 56/200\n",
            "318/318 [==============================] - 0s 47us/sample - loss: 1.0947 - acc: 0.5252 - val_loss: 1.6271 - val_acc: 0.3645\n",
            "Epoch 00056: early stopping\n"
          ],
          "name": "stdout"
        }
      ]
    },
    {
      "cell_type": "markdown",
      "metadata": {
        "id": "szW-LumLrQjU"
      },
      "source": [
        "# Now let's try a vanilla Neural Network model to see if we can determine better accuracy"
      ]
    },
    {
      "cell_type": "code",
      "metadata": {
        "id": "ZCDARsNx5JPc"
      },
      "source": [
        "# let's try a normal Dense model \n",
        "\n",
        "Length =17\n",
        "\n",
        "input1_aug= Input(shape=(Length,))\n",
        "\n",
        "dense1= Dense(50,activation='relu')(input1_aug)\n",
        "#drop1=Dropout(0.15)(conv1) ---> did not add any/ much value to the model ac accuracy  \n",
        "dense2= Dense(50,activation='relu')(dense1)\n",
        "#drop2=Dropout(0.20)(dense2) --->did not add any/ much  value to the model \n",
        "#dense3= Dense(100,activation='relu')(dense2) --->did not add any/ much  value to the model\n",
        "#dense4= Dense(50,activation='relu')(dense2) --->did not add any/ much  value to the model\n",
        "dense5= Dense(25,activation='relu')(dense2)\n",
        "#drop2=Dropout(0.30)(dense5) #--->did not add any/ much  value to the model \n",
        "output= Dense(5, activation='softmax')(dense5)\n",
        "\n",
        "aug_model1 = Model(inputs=input1_aug, outputs=output)\n",
        "aug_model1.compile(loss='categorical_crossentropy', optimizer='adam', metrics=['acc'])"
      ],
      "execution_count": 67,
      "outputs": []
    },
    {
      "cell_type": "code",
      "metadata": {
        "id": "2SVaJ0id6B6u"
      },
      "source": [
        "es1= EarlyStopping(monitor='val_loss',verbose=1, patience=75)\n",
        "mc1= ModelCheckpoint('best_model1.h5',save_best_only=True,save_weights_only=True)"
      ],
      "execution_count": 68,
      "outputs": []
    },
    {
      "cell_type": "code",
      "metadata": {
        "colab": {
          "base_uri": "https://localhost:8080/"
        },
        "id": "TtHS10aC6CHq",
        "outputId": "8bb2d137-7a9b-44ca-e903-3d0c7735fa71"
      },
      "source": [
        "history1 =aug_model1.fit(x_train1,y_train1,epochs=200,batch_size=150,validation_data=[x_test1,y_test1],callbacks=[es1,mc1])"
      ],
      "execution_count": 69,
      "outputs": [
        {
          "output_type": "stream",
          "text": [
            "Train on 318 samples, validate on 107 samples\n",
            "Epoch 1/200\n",
            "\r150/318 [=============>................] - ETA: 0s - loss: 1.6877 - acc: 0.0933"
          ],
          "name": "stdout"
        },
        {
          "output_type": "stream",
          "text": [
            "/usr/local/lib/python3.7/dist-packages/tensorflow/python/keras/engine/training.py:2426: UserWarning: `Model.state_updates` will be removed in a future version. This property should not be used in TensorFlow 2.0, as `updates` are applied automatically.\n",
            "  warnings.warn('`Model.state_updates` will be removed in a future version. '\n"
          ],
          "name": "stderr"
        },
        {
          "output_type": "stream",
          "text": [
            "318/318 [==============================] - 1s 2ms/sample - loss: 1.6742 - acc: 0.1289 - val_loss: 1.6178 - val_acc: 0.1963\n",
            "Epoch 2/200\n",
            "318/318 [==============================] - 0s 113us/sample - loss: 1.6041 - acc: 0.2704 - val_loss: 1.5777 - val_acc: 0.2523\n",
            "Epoch 3/200\n",
            "318/318 [==============================] - 0s 85us/sample - loss: 1.5694 - acc: 0.3302 - val_loss: 1.5393 - val_acc: 0.2523\n",
            "Epoch 4/200\n",
            "318/318 [==============================] - 0s 89us/sample - loss: 1.5433 - acc: 0.2987 - val_loss: 1.5049 - val_acc: 0.2804\n",
            "Epoch 5/200\n",
            "318/318 [==============================] - 0s 92us/sample - loss: 1.5243 - acc: 0.3050 - val_loss: 1.4810 - val_acc: 0.2897\n",
            "Epoch 6/200\n",
            "318/318 [==============================] - 0s 87us/sample - loss: 1.5063 - acc: 0.3145 - val_loss: 1.4652 - val_acc: 0.2897\n",
            "Epoch 7/200\n",
            "318/318 [==============================] - 0s 84us/sample - loss: 1.4944 - acc: 0.3145 - val_loss: 1.4541 - val_acc: 0.2617\n",
            "Epoch 8/200\n",
            "318/318 [==============================] - 0s 88us/sample - loss: 1.4818 - acc: 0.3239 - val_loss: 1.4386 - val_acc: 0.2710\n",
            "Epoch 9/200\n",
            "318/318 [==============================] - 0s 99us/sample - loss: 1.4668 - acc: 0.3365 - val_loss: 1.4211 - val_acc: 0.2991\n",
            "Epoch 10/200\n",
            "318/318 [==============================] - 0s 93us/sample - loss: 1.4526 - acc: 0.3365 - val_loss: 1.4077 - val_acc: 0.3458\n",
            "Epoch 11/200\n",
            "318/318 [==============================] - 0s 88us/sample - loss: 1.4388 - acc: 0.3805 - val_loss: 1.3964 - val_acc: 0.3925\n",
            "Epoch 12/200\n",
            "318/318 [==============================] - 0s 87us/sample - loss: 1.4265 - acc: 0.4088 - val_loss: 1.3897 - val_acc: 0.4112\n",
            "Epoch 13/200\n",
            "318/318 [==============================] - 0s 84us/sample - loss: 1.4149 - acc: 0.4277 - val_loss: 1.3842 - val_acc: 0.4112\n",
            "Epoch 14/200\n",
            "318/318 [==============================] - 0s 94us/sample - loss: 1.4028 - acc: 0.4245 - val_loss: 1.3796 - val_acc: 0.4019\n",
            "Epoch 15/200\n",
            "318/318 [==============================] - 0s 91us/sample - loss: 1.3911 - acc: 0.4245 - val_loss: 1.3767 - val_acc: 0.4019\n",
            "Epoch 16/200\n",
            "318/318 [==============================] - 0s 92us/sample - loss: 1.3825 - acc: 0.4151 - val_loss: 1.3751 - val_acc: 0.4112\n",
            "Epoch 17/200\n",
            "318/318 [==============================] - 0s 118us/sample - loss: 1.3757 - acc: 0.4151 - val_loss: 1.3719 - val_acc: 0.4112\n",
            "Epoch 18/200\n",
            "318/318 [==============================] - 0s 111us/sample - loss: 1.3653 - acc: 0.4214 - val_loss: 1.3627 - val_acc: 0.4112\n",
            "Epoch 19/200\n",
            "318/318 [==============================] - 0s 105us/sample - loss: 1.3529 - acc: 0.4245 - val_loss: 1.3544 - val_acc: 0.4206\n",
            "Epoch 20/200\n",
            "318/318 [==============================] - 0s 102us/sample - loss: 1.3437 - acc: 0.4340 - val_loss: 1.3487 - val_acc: 0.4206\n",
            "Epoch 21/200\n",
            "318/318 [==============================] - 0s 112us/sample - loss: 1.3356 - acc: 0.4434 - val_loss: 1.3456 - val_acc: 0.4206\n",
            "Epoch 22/200\n",
            "318/318 [==============================] - 0s 52us/sample - loss: 1.3284 - acc: 0.4403 - val_loss: 1.3465 - val_acc: 0.4112\n",
            "Epoch 23/200\n",
            "318/318 [==============================] - 0s 43us/sample - loss: 1.3214 - acc: 0.4214 - val_loss: 1.3490 - val_acc: 0.4112\n",
            "Epoch 24/200\n",
            "318/318 [==============================] - 0s 40us/sample - loss: 1.3140 - acc: 0.4245 - val_loss: 1.3578 - val_acc: 0.4112\n",
            "Epoch 25/200\n",
            "318/318 [==============================] - 0s 42us/sample - loss: 1.3091 - acc: 0.4214 - val_loss: 1.3685 - val_acc: 0.4299\n",
            "Epoch 26/200\n",
            "318/318 [==============================] - 0s 43us/sample - loss: 1.3047 - acc: 0.4214 - val_loss: 1.3712 - val_acc: 0.4299\n",
            "Epoch 27/200\n",
            "318/318 [==============================] - 0s 38us/sample - loss: 1.2994 - acc: 0.4308 - val_loss: 1.3684 - val_acc: 0.4393\n",
            "Epoch 28/200\n",
            "318/318 [==============================] - 0s 41us/sample - loss: 1.2920 - acc: 0.4308 - val_loss: 1.3640 - val_acc: 0.4299\n",
            "Epoch 29/200\n",
            "318/318 [==============================] - 0s 41us/sample - loss: 1.2925 - acc: 0.4340 - val_loss: 1.3646 - val_acc: 0.4206\n",
            "Epoch 30/200\n",
            "318/318 [==============================] - 0s 40us/sample - loss: 1.2912 - acc: 0.4403 - val_loss: 1.3604 - val_acc: 0.4206\n",
            "Epoch 31/200\n",
            "318/318 [==============================] - 0s 44us/sample - loss: 1.2824 - acc: 0.4465 - val_loss: 1.3619 - val_acc: 0.4299\n",
            "Epoch 32/200\n",
            "318/318 [==============================] - 0s 41us/sample - loss: 1.2749 - acc: 0.4371 - val_loss: 1.3738 - val_acc: 0.4112\n",
            "Epoch 33/200\n",
            "318/318 [==============================] - 0s 38us/sample - loss: 1.2782 - acc: 0.4497 - val_loss: 1.3883 - val_acc: 0.3551\n",
            "Epoch 34/200\n",
            "318/318 [==============================] - 0s 43us/sample - loss: 1.2788 - acc: 0.4371 - val_loss: 1.3805 - val_acc: 0.3925\n",
            "Epoch 35/200\n",
            "318/318 [==============================] - 0s 49us/sample - loss: 1.2708 - acc: 0.4686 - val_loss: 1.3656 - val_acc: 0.4019\n",
            "Epoch 36/200\n",
            "318/318 [==============================] - 0s 49us/sample - loss: 1.2641 - acc: 0.4686 - val_loss: 1.3651 - val_acc: 0.4299\n",
            "Epoch 37/200\n",
            "318/318 [==============================] - 0s 48us/sample - loss: 1.2678 - acc: 0.4843 - val_loss: 1.3719 - val_acc: 0.4206\n",
            "Epoch 38/200\n",
            "318/318 [==============================] - 0s 37us/sample - loss: 1.2648 - acc: 0.4906 - val_loss: 1.3716 - val_acc: 0.4206\n",
            "Epoch 39/200\n",
            "318/318 [==============================] - 0s 63us/sample - loss: 1.2569 - acc: 0.4906 - val_loss: 1.3692 - val_acc: 0.4206\n",
            "Epoch 40/200\n",
            "318/318 [==============================] - 0s 38us/sample - loss: 1.2519 - acc: 0.4906 - val_loss: 1.3714 - val_acc: 0.3925\n",
            "Epoch 41/200\n",
            "318/318 [==============================] - 0s 41us/sample - loss: 1.2483 - acc: 0.4906 - val_loss: 1.3748 - val_acc: 0.3925\n",
            "Epoch 42/200\n",
            "318/318 [==============================] - 0s 51us/sample - loss: 1.2472 - acc: 0.4937 - val_loss: 1.3746 - val_acc: 0.4019\n",
            "Epoch 43/200\n",
            "318/318 [==============================] - 0s 42us/sample - loss: 1.2448 - acc: 0.5126 - val_loss: 1.3687 - val_acc: 0.4019\n",
            "Epoch 44/200\n",
            "318/318 [==============================] - 0s 37us/sample - loss: 1.2377 - acc: 0.4874 - val_loss: 1.3619 - val_acc: 0.4299\n",
            "Epoch 45/200\n",
            "318/318 [==============================] - 0s 50us/sample - loss: 1.2403 - acc: 0.4843 - val_loss: 1.3676 - val_acc: 0.4393\n",
            "Epoch 46/200\n",
            "318/318 [==============================] - 0s 39us/sample - loss: 1.2494 - acc: 0.4748 - val_loss: 1.3704 - val_acc: 0.4299\n",
            "Epoch 47/200\n",
            "318/318 [==============================] - 0s 38us/sample - loss: 1.2469 - acc: 0.4780 - val_loss: 1.3625 - val_acc: 0.4206\n",
            "Epoch 48/200\n",
            "318/318 [==============================] - 0s 44us/sample - loss: 1.2323 - acc: 0.4874 - val_loss: 1.3632 - val_acc: 0.4112\n",
            "Epoch 49/200\n",
            "318/318 [==============================] - 0s 37us/sample - loss: 1.2229 - acc: 0.4811 - val_loss: 1.3745 - val_acc: 0.4112\n",
            "Epoch 50/200\n",
            "318/318 [==============================] - 0s 43us/sample - loss: 1.2227 - acc: 0.4906 - val_loss: 1.4053 - val_acc: 0.3832\n",
            "Epoch 51/200\n",
            "318/318 [==============================] - 0s 42us/sample - loss: 1.2267 - acc: 0.5031 - val_loss: 1.4292 - val_acc: 0.3832\n",
            "Epoch 52/200\n",
            "318/318 [==============================] - 0s 60us/sample - loss: 1.2282 - acc: 0.4811 - val_loss: 1.4315 - val_acc: 0.3738\n",
            "Epoch 53/200\n",
            "318/318 [==============================] - 0s 53us/sample - loss: 1.2198 - acc: 0.4937 - val_loss: 1.4221 - val_acc: 0.3925\n",
            "Epoch 54/200\n",
            "318/318 [==============================] - 0s 45us/sample - loss: 1.2155 - acc: 0.4843 - val_loss: 1.4192 - val_acc: 0.3925\n",
            "Epoch 55/200\n",
            "318/318 [==============================] - 0s 49us/sample - loss: 1.2106 - acc: 0.4843 - val_loss: 1.4108 - val_acc: 0.3925\n",
            "Epoch 56/200\n",
            "318/318 [==============================] - 0s 44us/sample - loss: 1.2072 - acc: 0.4969 - val_loss: 1.4058 - val_acc: 0.4019\n",
            "Epoch 57/200\n",
            "318/318 [==============================] - 0s 38us/sample - loss: 1.2059 - acc: 0.5031 - val_loss: 1.4094 - val_acc: 0.4206\n",
            "Epoch 58/200\n",
            "318/318 [==============================] - 0s 38us/sample - loss: 1.2039 - acc: 0.5126 - val_loss: 1.4109 - val_acc: 0.3925\n",
            "Epoch 59/200\n",
            "318/318 [==============================] - 0s 37us/sample - loss: 1.2006 - acc: 0.4969 - val_loss: 1.4171 - val_acc: 0.4112\n",
            "Epoch 60/200\n",
            "318/318 [==============================] - 0s 44us/sample - loss: 1.1985 - acc: 0.5063 - val_loss: 1.4173 - val_acc: 0.4299\n",
            "Epoch 61/200\n",
            "318/318 [==============================] - 0s 41us/sample - loss: 1.1957 - acc: 0.4969 - val_loss: 1.4214 - val_acc: 0.4112\n",
            "Epoch 62/200\n",
            "318/318 [==============================] - 0s 40us/sample - loss: 1.1917 - acc: 0.5157 - val_loss: 1.4337 - val_acc: 0.4299\n",
            "Epoch 63/200\n",
            "318/318 [==============================] - 0s 78us/sample - loss: 1.1920 - acc: 0.5157 - val_loss: 1.4403 - val_acc: 0.3738\n",
            "Epoch 64/200\n",
            "318/318 [==============================] - 0s 62us/sample - loss: 1.1953 - acc: 0.5063 - val_loss: 1.4366 - val_acc: 0.4299\n",
            "Epoch 65/200\n",
            "318/318 [==============================] - 0s 40us/sample - loss: 1.1865 - acc: 0.5126 - val_loss: 1.4222 - val_acc: 0.4112\n",
            "Epoch 66/200\n",
            "318/318 [==============================] - 0s 39us/sample - loss: 1.1796 - acc: 0.5063 - val_loss: 1.4149 - val_acc: 0.4299\n",
            "Epoch 67/200\n",
            "318/318 [==============================] - 0s 41us/sample - loss: 1.1864 - acc: 0.5031 - val_loss: 1.4206 - val_acc: 0.4019\n",
            "Epoch 68/200\n",
            "318/318 [==============================] - 0s 48us/sample - loss: 1.1839 - acc: 0.4969 - val_loss: 1.4266 - val_acc: 0.4206\n",
            "Epoch 69/200\n",
            "318/318 [==============================] - 0s 47us/sample - loss: 1.1760 - acc: 0.5220 - val_loss: 1.4383 - val_acc: 0.4112\n",
            "Epoch 70/200\n",
            "318/318 [==============================] - 0s 47us/sample - loss: 1.1764 - acc: 0.5157 - val_loss: 1.4470 - val_acc: 0.4019\n",
            "Epoch 71/200\n",
            "318/318 [==============================] - 0s 37us/sample - loss: 1.1776 - acc: 0.5063 - val_loss: 1.4412 - val_acc: 0.4019\n",
            "Epoch 72/200\n",
            "318/318 [==============================] - 0s 38us/sample - loss: 1.1743 - acc: 0.5189 - val_loss: 1.4302 - val_acc: 0.4299\n",
            "Epoch 73/200\n",
            "318/318 [==============================] - 0s 37us/sample - loss: 1.1692 - acc: 0.5063 - val_loss: 1.4260 - val_acc: 0.4579\n",
            "Epoch 74/200\n",
            "318/318 [==============================] - 0s 53us/sample - loss: 1.1659 - acc: 0.5189 - val_loss: 1.4453 - val_acc: 0.4206\n",
            "Epoch 75/200\n",
            "318/318 [==============================] - 0s 43us/sample - loss: 1.1749 - acc: 0.5031 - val_loss: 1.4606 - val_acc: 0.4206\n",
            "Epoch 76/200\n",
            "318/318 [==============================] - 0s 41us/sample - loss: 1.1757 - acc: 0.5031 - val_loss: 1.4536 - val_acc: 0.4299\n",
            "Epoch 77/200\n",
            "318/318 [==============================] - 0s 47us/sample - loss: 1.1629 - acc: 0.5126 - val_loss: 1.4486 - val_acc: 0.4673\n",
            "Epoch 78/200\n",
            "318/318 [==============================] - 0s 50us/sample - loss: 1.1565 - acc: 0.5252 - val_loss: 1.4522 - val_acc: 0.4019\n",
            "Epoch 79/200\n",
            "318/318 [==============================] - 0s 49us/sample - loss: 1.1637 - acc: 0.5220 - val_loss: 1.4526 - val_acc: 0.3925\n",
            "Epoch 80/200\n",
            "318/318 [==============================] - 0s 39us/sample - loss: 1.1624 - acc: 0.5189 - val_loss: 1.4565 - val_acc: 0.3832\n",
            "Epoch 81/200\n",
            "318/318 [==============================] - 0s 47us/sample - loss: 1.1570 - acc: 0.5126 - val_loss: 1.4625 - val_acc: 0.3925\n",
            "Epoch 82/200\n",
            "318/318 [==============================] - 0s 37us/sample - loss: 1.1505 - acc: 0.5094 - val_loss: 1.4662 - val_acc: 0.4393\n",
            "Epoch 83/200\n",
            "318/318 [==============================] - 0s 39us/sample - loss: 1.1479 - acc: 0.5157 - val_loss: 1.4686 - val_acc: 0.4299\n",
            "Epoch 84/200\n",
            "318/318 [==============================] - 0s 39us/sample - loss: 1.1476 - acc: 0.5157 - val_loss: 1.4692 - val_acc: 0.4393\n",
            "Epoch 85/200\n",
            "318/318 [==============================] - 0s 48us/sample - loss: 1.1450 - acc: 0.5189 - val_loss: 1.4701 - val_acc: 0.4299\n",
            "Epoch 86/200\n",
            "318/318 [==============================] - 0s 53us/sample - loss: 1.1408 - acc: 0.5252 - val_loss: 1.4750 - val_acc: 0.4299\n",
            "Epoch 87/200\n",
            "318/318 [==============================] - 0s 50us/sample - loss: 1.1358 - acc: 0.5252 - val_loss: 1.4815 - val_acc: 0.4486\n",
            "Epoch 88/200\n",
            "318/318 [==============================] - 0s 37us/sample - loss: 1.1335 - acc: 0.5409 - val_loss: 1.4975 - val_acc: 0.4486\n",
            "Epoch 89/200\n",
            "318/318 [==============================] - 0s 39us/sample - loss: 1.1353 - acc: 0.5409 - val_loss: 1.5149 - val_acc: 0.4299\n",
            "Epoch 90/200\n",
            "318/318 [==============================] - 0s 42us/sample - loss: 1.1361 - acc: 0.5314 - val_loss: 1.5347 - val_acc: 0.4019\n",
            "Epoch 91/200\n",
            "318/318 [==============================] - 0s 41us/sample - loss: 1.1375 - acc: 0.5094 - val_loss: 1.5438 - val_acc: 0.3832\n",
            "Epoch 92/200\n",
            "318/318 [==============================] - 0s 54us/sample - loss: 1.1394 - acc: 0.5189 - val_loss: 1.5421 - val_acc: 0.4112\n",
            "Epoch 93/200\n",
            "318/318 [==============================] - 0s 45us/sample - loss: 1.1330 - acc: 0.5252 - val_loss: 1.5349 - val_acc: 0.4112\n",
            "Epoch 94/200\n",
            "318/318 [==============================] - 0s 90us/sample - loss: 1.1291 - acc: 0.5440 - val_loss: 1.5198 - val_acc: 0.4112\n",
            "Epoch 95/200\n",
            "318/318 [==============================] - 0s 52us/sample - loss: 1.1312 - acc: 0.5314 - val_loss: 1.5036 - val_acc: 0.4112\n",
            "Epoch 96/200\n",
            "318/318 [==============================] - 0s 52us/sample - loss: 1.1300 - acc: 0.5314 - val_loss: 1.4858 - val_acc: 0.4299\n",
            "Epoch 00096: early stopping\n"
          ],
          "name": "stdout"
        }
      ]
    },
    {
      "cell_type": "markdown",
      "metadata": {
        "id": "CBdp3H8CrqJM"
      },
      "source": [
        "Observation - As seen above while the training accuracy of both the models are almost the same i.e. ~ 53%, the validation accuracy of the vanilla neural network model is slightly better at ~43% in the case of Neural network model and hence we will select that model architecture for our concatenated model."
      ]
    },
    {
      "cell_type": "markdown",
      "metadata": {
        "id": "h04U5GctsR8M"
      },
      "source": [
        "For the concatenated model to expirement, we will have two of the below models and see if there is any value addition and improvement in accuracy: \n",
        "\n",
        "1) The bert model will serve as the classifier for the text input i.e. incident description\n",
        "\n",
        "2) The Neural network model as evidneced from above, will be used to evaluate additional parameters such as 'quarter','day of week', 'country' and 'local'"
      ]
    },
    {
      "cell_type": "markdown",
      "metadata": {
        "id": "Q4228e27d5Pc"
      },
      "source": [
        "Let's add the Bert Model"
      ]
    },
    {
      "cell_type": "code",
      "metadata": {
        "id": "wTgZPeMLd2ZQ"
      },
      "source": [
        "# Bert tokenization class\n",
        "\n",
        "!wget --quiet https://raw.githubusercontent.com/tensorflow/models/master/official/nlp/bert/tokenization.py"
      ],
      "execution_count": 6,
      "outputs": []
    },
    {
      "cell_type": "code",
      "metadata": {
        "id": "xHQDKdJqqMEL"
      },
      "source": [
        "# his API will offer the encoding, decoding and training of Sentencepiece\n",
        "#!pip install sentencepiece"
      ],
      "execution_count": 78,
      "outputs": []
    },
    {
      "cell_type": "code",
      "metadata": {
        "colab": {
          "base_uri": "https://localhost:8080/"
        },
        "id": "ppW4tdvNd2iA",
        "outputId": "a36d7582-8b76-4673-adae-beaf4ca48621"
      },
      "source": [
        "\n",
        "bert_model_name = 'small_bert/bert_en_uncased_L-8_H-768_A-12'  #@param [\"bert_en_uncased_L-12_H-768_A-12\", \"bert_en_cased_L-12_H-768_A-12\", \"bert_multi_cased_L-12_H-768_A-12\", \"small_bert/bert_en_uncased_L-2_H-128_A-2\", \"small_bert/bert_en_uncased_L-2_H-256_A-4\", \"small_bert/bert_en_uncased_L-2_H-512_A-8\", \"small_bert/bert_en_uncased_L-2_H-768_A-12\", \"small_bert/bert_en_uncased_L-4_H-128_A-2\", \"small_bert/bert_en_uncased_L-4_H-256_A-4\", \"small_bert/bert_en_uncased_L-4_H-512_A-8\", \"small_bert/bert_en_uncased_L-4_H-768_A-12\", \"small_bert/bert_en_uncased_L-6_H-128_A-2\", \"small_bert/bert_en_uncased_L-6_H-256_A-4\", \"small_bert/bert_en_uncased_L-6_H-512_A-8\", \"small_bert/bert_en_uncased_L-6_H-768_A-12\", \"small_bert/bert_en_uncased_L-8_H-128_A-2\", \"small_bert/bert_en_uncased_L-8_H-256_A-4\", \"small_bert/bert_en_uncased_L-8_H-512_A-8\", \"small_bert/bert_en_uncased_L-8_H-768_A-12\", \"small_bert/bert_en_uncased_L-10_H-128_A-2\", \"small_bert/bert_en_uncased_L-10_H-256_A-4\", \"small_bert/bert_en_uncased_L-10_H-512_A-8\", \"small_bert/bert_en_uncased_L-10_H-768_A-12\", \"small_bert/bert_en_uncased_L-12_H-128_A-2\", \"small_bert/bert_en_uncased_L-12_H-256_A-4\", \"small_bert/bert_en_uncased_L-12_H-512_A-8\", \"small_bert/bert_en_uncased_L-12_H-768_A-12\", \"albert_en_base\", \"electra_small\", \"electra_base\", \"experts_pubmed\", \"experts_wiki_books\", \"talking-heads_base\"]\n",
        "\n",
        "map_name_to_handle = {\n",
        "    'bert_en_uncased_L-12_H-768_A-12':\n",
        "        'https://tfhub.dev/tensorflow/bert_en_uncased_L-12_H-768_A-12/3',\n",
        "    'bert_en_cased_L-12_H-768_A-12':\n",
        "        'https://tfhub.dev/tensorflow/bert_en_cased_L-12_H-768_A-12/3',\n",
        "    'bert_multi_cased_L-12_H-768_A-12':\n",
        "        'https://tfhub.dev/tensorflow/bert_multi_cased_L-12_H-768_A-12/3',\n",
        "    'small_bert/bert_en_uncased_L-2_H-128_A-2':\n",
        "        'https://tfhub.dev/tensorflow/small_bert/bert_en_uncased_L-2_H-128_A-2/1',\n",
        "    'small_bert/bert_en_uncased_L-2_H-256_A-4':\n",
        "        'https://tfhub.dev/tensorflow/small_bert/bert_en_uncased_L-2_H-256_A-4/1',\n",
        "    'small_bert/bert_en_uncased_L-2_H-512_A-8':\n",
        "        'https://tfhub.dev/tensorflow/small_bert/bert_en_uncased_L-2_H-512_A-8/1',\n",
        "    'small_bert/bert_en_uncased_L-2_H-768_A-12':\n",
        "        'https://tfhub.dev/tensorflow/small_bert/bert_en_uncased_L-2_H-768_A-12/1',\n",
        "    'small_bert/bert_en_uncased_L-4_H-128_A-2':\n",
        "        'https://tfhub.dev/tensorflow/small_bert/bert_en_uncased_L-4_H-128_A-2/1',\n",
        "    'small_bert/bert_en_uncased_L-4_H-256_A-4':\n",
        "        'https://tfhub.dev/tensorflow/small_bert/bert_en_uncased_L-4_H-256_A-4/1',\n",
        "    'small_bert/bert_en_uncased_L-4_H-512_A-8':\n",
        "        'https://tfhub.dev/tensorflow/small_bert/bert_en_uncased_L-4_H-512_A-8/1',\n",
        "    'small_bert/bert_en_uncased_L-4_H-768_A-12':\n",
        "        'https://tfhub.dev/tensorflow/small_bert/bert_en_uncased_L-4_H-768_A-12/1',\n",
        "    'small_bert/bert_en_uncased_L-6_H-128_A-2':\n",
        "        'https://tfhub.dev/tensorflow/small_bert/bert_en_uncased_L-6_H-128_A-2/1',\n",
        "    'small_bert/bert_en_uncased_L-6_H-256_A-4':\n",
        "        'https://tfhub.dev/tensorflow/small_bert/bert_en_uncased_L-6_H-256_A-4/1',\n",
        "    'small_bert/bert_en_uncased_L-6_H-512_A-8':\n",
        "        'https://tfhub.dev/tensorflow/small_bert/bert_en_uncased_L-6_H-512_A-8/1',\n",
        "    'small_bert/bert_en_uncased_L-6_H-768_A-12':\n",
        "        'https://tfhub.dev/tensorflow/small_bert/bert_en_uncased_L-6_H-768_A-12/1',\n",
        "    'small_bert/bert_en_uncased_L-8_H-128_A-2':\n",
        "        'https://tfhub.dev/tensorflow/small_bert/bert_en_uncased_L-8_H-128_A-2/1',\n",
        "    'small_bert/bert_en_uncased_L-8_H-256_A-4':\n",
        "        'https://tfhub.dev/tensorflow/small_bert/bert_en_uncased_L-8_H-256_A-4/1',\n",
        "    'small_bert/bert_en_uncased_L-8_H-512_A-8':\n",
        "        'https://tfhub.dev/tensorflow/small_bert/bert_en_uncased_L-8_H-512_A-8/1',\n",
        "    'small_bert/bert_en_uncased_L-8_H-768_A-12':\n",
        "        'https://tfhub.dev/tensorflow/small_bert/bert_en_uncased_L-8_H-768_A-12/1',\n",
        "    'small_bert/bert_en_uncased_L-10_H-128_A-2':\n",
        "        'https://tfhub.dev/tensorflow/small_bert/bert_en_uncased_L-10_H-128_A-2/1',\n",
        "    'small_bert/bert_en_uncased_L-10_H-256_A-4':\n",
        "        'https://tfhub.dev/tensorflow/small_bert/bert_en_uncased_L-10_H-256_A-4/1',\n",
        "    'small_bert/bert_en_uncased_L-10_H-512_A-8':\n",
        "        'https://tfhub.dev/tensorflow/small_bert/bert_en_uncased_L-10_H-512_A-8/1',\n",
        "    'small_bert/bert_en_uncased_L-10_H-768_A-12':\n",
        "        'https://tfhub.dev/tensorflow/small_bert/bert_en_uncased_L-10_H-768_A-12/1',\n",
        "    'small_bert/bert_en_uncased_L-12_H-128_A-2':\n",
        "        'https://tfhub.dev/tensorflow/small_bert/bert_en_uncased_L-12_H-128_A-2/1',\n",
        "    'small_bert/bert_en_uncased_L-12_H-256_A-4':\n",
        "        'https://tfhub.dev/tensorflow/small_bert/bert_en_uncased_L-12_H-256_A-4/1',\n",
        "    'small_bert/bert_en_uncased_L-12_H-512_A-8':\n",
        "        'https://tfhub.dev/tensorflow/small_bert/bert_en_uncased_L-12_H-512_A-8/1',\n",
        "    'small_bert/bert_en_uncased_L-12_H-768_A-12':\n",
        "        'https://tfhub.dev/tensorflow/small_bert/bert_en_uncased_L-12_H-768_A-12/1',\n",
        "    'albert_en_base':\n",
        "        'https://tfhub.dev/tensorflow/albert_en_base/2',\n",
        "    'electra_small':\n",
        "        'https://tfhub.dev/google/electra_small/2',\n",
        "    'electra_base':\n",
        "        'https://tfhub.dev/google/electra_base/2',\n",
        "    'experts_pubmed':\n",
        "        'https://tfhub.dev/google/experts/bert/pubmed/2',\n",
        "    'experts_wiki_books':\n",
        "        'https://tfhub.dev/google/experts/bert/wiki_books/2',\n",
        "    'talking-heads_base':\n",
        "        'https://tfhub.dev/tensorflow/talkheads_ggelu_bert_en_base/1',\n",
        "}\n",
        "\n",
        "map_model_to_preprocess = {\n",
        "    'bert_en_uncased_L-12_H-768_A-12':\n",
        "        'https://tfhub.dev/tensorflow/bert_en_uncased_preprocess/3',\n",
        "    'bert_en_cased_L-12_H-768_A-12':\n",
        "        'https://tfhub.dev/tensorflow/bert_en_cased_preprocess/3',\n",
        "    'small_bert/bert_en_uncased_L-2_H-128_A-2':\n",
        "        'https://tfhub.dev/tensorflow/bert_en_uncased_preprocess/3',\n",
        "    'small_bert/bert_en_uncased_L-2_H-256_A-4':\n",
        "        'https://tfhub.dev/tensorflow/bert_en_uncased_preprocess/3',\n",
        "    'small_bert/bert_en_uncased_L-2_H-512_A-8':\n",
        "        'https://tfhub.dev/tensorflow/bert_en_uncased_preprocess/3',\n",
        "    'small_bert/bert_en_uncased_L-2_H-768_A-12':\n",
        "        'https://tfhub.dev/tensorflow/bert_en_uncased_preprocess/3',\n",
        "    'small_bert/bert_en_uncased_L-4_H-128_A-2':\n",
        "        'https://tfhub.dev/tensorflow/bert_en_uncased_preprocess/3',\n",
        "    'small_bert/bert_en_uncased_L-4_H-256_A-4':\n",
        "        'https://tfhub.dev/tensorflow/bert_en_uncased_preprocess/3',\n",
        "    'small_bert/bert_en_uncased_L-4_H-512_A-8':\n",
        "        'https://tfhub.dev/tensorflow/bert_en_uncased_preprocess/3',\n",
        "    'small_bert/bert_en_uncased_L-4_H-768_A-12':\n",
        "        'https://tfhub.dev/tensorflow/bert_en_uncased_preprocess/3',\n",
        "    'small_bert/bert_en_uncased_L-6_H-128_A-2':\n",
        "        'https://tfhub.dev/tensorflow/bert_en_uncased_preprocess/3',\n",
        "    'small_bert/bert_en_uncased_L-6_H-256_A-4':\n",
        "        'https://tfhub.dev/tensorflow/bert_en_uncased_preprocess/3',\n",
        "    'small_bert/bert_en_uncased_L-6_H-512_A-8':\n",
        "        'https://tfhub.dev/tensorflow/bert_en_uncased_preprocess/3',\n",
        "    'small_bert/bert_en_uncased_L-6_H-768_A-12':\n",
        "        'https://tfhub.dev/tensorflow/bert_en_uncased_preprocess/3',\n",
        "    'small_bert/bert_en_uncased_L-8_H-128_A-2':\n",
        "        'https://tfhub.dev/tensorflow/bert_en_uncased_preprocess/3',\n",
        "    'small_bert/bert_en_uncased_L-8_H-256_A-4':\n",
        "        'https://tfhub.dev/tensorflow/bert_en_uncased_preprocess/3',\n",
        "    'small_bert/bert_en_uncased_L-8_H-512_A-8':\n",
        "        'https://tfhub.dev/tensorflow/bert_en_uncased_preprocess/3',\n",
        "    'small_bert/bert_en_uncased_L-8_H-768_A-12':\n",
        "        'https://tfhub.dev/tensorflow/bert_en_uncased_preprocess/3',\n",
        "    'small_bert/bert_en_uncased_L-10_H-128_A-2':\n",
        "        'https://tfhub.dev/tensorflow/bert_en_uncased_preprocess/3',\n",
        "    'small_bert/bert_en_uncased_L-10_H-256_A-4':\n",
        "        'https://tfhub.dev/tensorflow/bert_en_uncased_preprocess/3',\n",
        "    'small_bert/bert_en_uncased_L-10_H-512_A-8':\n",
        "        'https://tfhub.dev/tensorflow/bert_en_uncased_preprocess/3',\n",
        "    'small_bert/bert_en_uncased_L-10_H-768_A-12':\n",
        "        'https://tfhub.dev/tensorflow/bert_en_uncased_preprocess/3',\n",
        "    'small_bert/bert_en_uncased_L-12_H-128_A-2':\n",
        "        'https://tfhub.dev/tensorflow/bert_en_uncased_preprocess/3',\n",
        "    'small_bert/bert_en_uncased_L-12_H-256_A-4':\n",
        "        'https://tfhub.dev/tensorflow/bert_en_uncased_preprocess/3',\n",
        "    'small_bert/bert_en_uncased_L-12_H-512_A-8':\n",
        "        'https://tfhub.dev/tensorflow/bert_en_uncased_preprocess/3',\n",
        "    'small_bert/bert_en_uncased_L-12_H-768_A-12':\n",
        "        'https://tfhub.dev/tensorflow/bert_en_uncased_preprocess/3',\n",
        "    'bert_multi_cased_L-12_H-768_A-12':\n",
        "        'https://tfhub.dev/tensorflow/bert_multi_cased_preprocess/3',\n",
        "    'albert_en_base':\n",
        "        'https://tfhub.dev/tensorflow/albert_en_preprocess/3',\n",
        "    'electra_small':\n",
        "        'https://tfhub.dev/tensorflow/bert_en_uncased_preprocess/3',\n",
        "    'electra_base':\n",
        "        'https://tfhub.dev/tensorflow/bert_en_uncased_preprocess/3',\n",
        "    'experts_pubmed':\n",
        "        'https://tfhub.dev/tensorflow/bert_en_uncased_preprocess/3',\n",
        "    'experts_wiki_books':\n",
        "        'https://tfhub.dev/tensorflow/bert_en_uncased_preprocess/3',\n",
        "    'talking-heads_base':\n",
        "        'https://tfhub.dev/tensorflow/bert_en_uncased_preprocess/3',\n",
        "}\n",
        "\n",
        "tfhub_handle_encoder = map_name_to_handle[bert_model_name]\n",
        "tfhub_handle_preprocess = map_model_to_preprocess[bert_model_name]\n",
        "\n",
        "print(f'BERT model selected           : {tfhub_handle_encoder}')\n",
        "print(f'Preprocess model auto-selected: {tfhub_handle_preprocess}')"
      ],
      "execution_count": 72,
      "outputs": [
        {
          "output_type": "stream",
          "text": [
            "BERT model selected           : https://tfhub.dev/tensorflow/small_bert/bert_en_uncased_L-8_H-768_A-12/1\n",
            "Preprocess model auto-selected: https://tfhub.dev/tensorflow/bert_en_uncased_preprocess/3\n"
          ],
          "name": "stdout"
        }
      ]
    },
    {
      "cell_type": "code",
      "metadata": {
        "colab": {
          "base_uri": "https://localhost:8080/"
        },
        "id": "_gOS_E7cd2qB",
        "outputId": "b153afe0-48de-4fcb-b4bd-6b9a91dc1a8f"
      },
      "source": [
        "tfhub_handle_encoder = map_name_to_handle[bert_model_name]\n",
        "tfhub_handle_preprocess = map_model_to_preprocess[bert_model_name]\n",
        "\n",
        "print(f'BERT model selected           : {tfhub_handle_encoder}')\n",
        "print(f'Preprocess model auto-selected: {tfhub_handle_preprocess}')"
      ],
      "execution_count": 73,
      "outputs": [
        {
          "output_type": "stream",
          "text": [
            "BERT model selected           : https://tfhub.dev/tensorflow/small_bert/bert_en_uncased_L-8_H-768_A-12/1\n",
            "Preprocess model auto-selected: https://tfhub.dev/tensorflow/bert_en_uncased_preprocess/3\n"
          ],
          "name": "stdout"
        }
      ]
    },
    {
      "cell_type": "code",
      "metadata": {
        "id": "bH-L-GB0CAvW"
      },
      "source": [
        "import tensorflow  as tf "
      ],
      "execution_count": 1,
      "outputs": []
    },
    {
      "cell_type": "code",
      "metadata": {
        "colab": {
          "base_uri": "https://localhost:8080/"
        },
        "id": "Zv8x-rL1DMvj",
        "outputId": "312ff51f-bbe4-4ca6-bd1d-955472624fef"
      },
      "source": [
        "tf.executing_eagerly()"
      ],
      "execution_count": 2,
      "outputs": [
        {
          "output_type": "execute_result",
          "data": {
            "text/plain": [
              "True"
            ]
          },
          "metadata": {
            "tags": []
          },
          "execution_count": 2
        }
      ]
    },
    {
      "cell_type": "code",
      "metadata": {
        "colab": {
          "base_uri": "https://localhost:8080/"
        },
        "id": "A_lDEaydd20a",
        "outputId": "9c7a8240-7c20-456f-923d-8253301192f2"
      },
      "source": [
        "!pip install bert-tensorflow"
      ],
      "execution_count": 3,
      "outputs": [
        {
          "output_type": "stream",
          "text": [
            "Requirement already satisfied: bert-tensorflow in /usr/local/lib/python3.7/dist-packages (1.0.4)\n",
            "Requirement already satisfied: six in /usr/local/lib/python3.7/dist-packages (from bert-tensorflow) (1.15.0)\n"
          ],
          "name": "stdout"
        }
      ]
    },
    {
      "cell_type": "code",
      "metadata": {
        "colab": {
          "base_uri": "https://localhost:8080/"
        },
        "id": "Lm858quzBDdO",
        "outputId": "3b0f243a-29e8-4c0b-8202-1728fa1e3f9c"
      },
      "source": [
        "!pip install --upgrade tensorflow_hub"
      ],
      "execution_count": 4,
      "outputs": [
        {
          "output_type": "stream",
          "text": [
            "Requirement already satisfied: tensorflow_hub in /usr/local/lib/python3.7/dist-packages (0.12.0)\n",
            "Requirement already satisfied: numpy>=1.12.0 in /usr/local/lib/python3.7/dist-packages (from tensorflow_hub) (1.19.5)\n",
            "Requirement already satisfied: protobuf>=3.8.0 in /usr/local/lib/python3.7/dist-packages (from tensorflow_hub) (3.17.3)\n",
            "Requirement already satisfied: six>=1.9 in /usr/local/lib/python3.7/dist-packages (from protobuf>=3.8.0->tensorflow_hub) (1.15.0)\n"
          ],
          "name": "stdout"
        }
      ]
    },
    {
      "cell_type": "code",
      "metadata": {
        "id": "Ll-hWzSld2vp"
      },
      "source": [
        "import tensorflow_hub as hub\n",
        "import bert\n",
        "import tokenization\n",
        "bert_layer = hub.KerasLayer('https://tfhub.dev/tensorflow/small_bert/bert_en_uncased_L-8_H-768_A-12/1', trainable=True)"
      ],
      "execution_count": 7,
      "outputs": []
    },
    {
      "cell_type": "code",
      "metadata": {
        "id": "HI98i36Ud24F"
      },
      "source": [
        "vocab_file = bert_layer.resolved_object.vocab_file.asset_path.numpy()\n",
        "do_lower_case = bert_layer.resolved_object.do_lower_case.numpy()\n",
        "tokenizer = tokenization.FullTokenizer(vocab_file, do_lower_case)\n",
        "\n",
        "def bert_encode(texts, tokenizer, max_len=512):\n",
        "    all_tokens = []\n",
        "    all_masks = []\n",
        "    all_segments = []\n",
        "    \n",
        "    for text in texts:\n",
        "        text = tokenizer.tokenize(text)\n",
        "            \n",
        "        text = text[:max_len-2]\n",
        "        input_sequence = [\"[CLS]\"] + text + [\"[SEP]\"]\n",
        "        pad_len = max_len - len(input_sequence)\n",
        "        \n",
        "        tokens = tokenizer.convert_tokens_to_ids(input_sequence) + [0] * pad_len\n",
        "        pad_masks = [1] * len(input_sequence) + [0] * pad_len\n",
        "        segment_ids = [0] * max_len\n",
        "        \n",
        "        all_tokens.append(tokens)\n",
        "        all_masks.append(pad_masks)\n",
        "        all_segments.append(segment_ids)\n",
        "    \n",
        "    return np.array(all_tokens), np.array(all_masks), np.array(all_segments)"
      ],
      "execution_count": 8,
      "outputs": []
    },
    {
      "cell_type": "code",
      "metadata": {
        "id": "np-9XNyqd2_z"
      },
      "source": [
        "def build_model(bert_layer, max_len=512):\n",
        "    input_word_ids = tf.keras.Input(shape=(max_len,), dtype=tf.int32, name=\"input_word_ids\")\n",
        "    input_mask = tf.keras.Input(shape=(max_len,), dtype=tf.int32, name=\"input_mask\")\n",
        "    segment_ids = tf.keras.Input(shape=(max_len,), dtype=tf.int32, name=\"input_type_ids\")\n",
        "\n",
        "    output = bert_layer({'input_word_ids':input_word_ids,\n",
        "                                                 'input_mask': input_mask, \n",
        "                                                 'input_type_ids': segment_ids})\n",
        "    clf_output = output['pooled_output']\n",
        "    net = tf.keras.layers.Dense(64, activation='relu')(clf_output)\n",
        "    net = tf.keras.layers.Dropout(0.2)(net)\n",
        "    net = tf.keras.layers.Dense(32, activation='relu')(net)\n",
        "    net = tf.keras.layers.Dropout(0.2)(net)\n",
        "    out = tf.keras.layers.Dense(5, activation='softmax')(net)\n",
        "    \n",
        "    model = tf.keras.models.Model(inputs=[input_word_ids, input_mask, segment_ids], outputs=out)\n",
        "    model.compile(tf.keras.optimizers.Adam(learning_rate=1e-5), loss='categorical_crossentropy', metrics=['accuracy'])\n",
        "    \n",
        "    return model"
      ],
      "execution_count": 10,
      "outputs": []
    },
    {
      "cell_type": "code",
      "metadata": {
        "id": "wyjqlTZXd3De"
      },
      "source": [
        "# let's load the data \n",
        "concat_inputdata =pd.read_csv('Data Set - industrial_safety_and_health_database_with_accidents_description.csv')"
      ],
      "execution_count": 16,
      "outputs": []
    },
    {
      "cell_type": "code",
      "metadata": {
        "id": "5IdjZ6bpuItg"
      },
      "source": [
        "# As mentioned above, during the data analysis, we noted that from the time data, only 'day of the week' and 'quarter' had significance, and therefore we will only use those 2 parameters for our model augmentation  \n",
        "\n",
        "concat_inputdata.Data = pd.to_datetime(concat_inputdata.Data)\n",
        "\n",
        "concat_inputdata['dayofweek']=concat_inputdata['Data'].dt.dayofweek\n",
        "concat_inputdata['quarter']=concat_inputdata['Data'].dt.quarter"
      ],
      "execution_count": 17,
      "outputs": []
    },
    {
      "cell_type": "code",
      "metadata": {
        "id": "zdxC6NeZvFGQ"
      },
      "source": [
        "# Let's reorder the data\n",
        "\n",
        "concat_inputdata1=concat_inputdata[['dayofweek', 'quarter','Countries', 'Local','Industry Sector', 'Accident Level', 'Potential Accident Level','Genre', 'Employee or Third Party',\n",
        "                     'Critical Risk','Description']]"
      ],
      "execution_count": 18,
      "outputs": []
    },
    {
      "cell_type": "code",
      "metadata": {
        "colab": {
          "base_uri": "https://localhost:8080/",
          "height": 204
        },
        "id": "4xYHX57Rvgvj",
        "outputId": "1cb6e047-544b-4f2f-a49d-742ad6f77350"
      },
      "source": [
        "concat_inputdata1.head()"
      ],
      "execution_count": 19,
      "outputs": [
        {
          "output_type": "execute_result",
          "data": {
            "text/html": [
              "<div>\n",
              "<style scoped>\n",
              "    .dataframe tbody tr th:only-of-type {\n",
              "        vertical-align: middle;\n",
              "    }\n",
              "\n",
              "    .dataframe tbody tr th {\n",
              "        vertical-align: top;\n",
              "    }\n",
              "\n",
              "    .dataframe thead th {\n",
              "        text-align: right;\n",
              "    }\n",
              "</style>\n",
              "<table border=\"1\" class=\"dataframe\">\n",
              "  <thead>\n",
              "    <tr style=\"text-align: right;\">\n",
              "      <th></th>\n",
              "      <th>dayofweek</th>\n",
              "      <th>quarter</th>\n",
              "      <th>Countries</th>\n",
              "      <th>Local</th>\n",
              "      <th>Industry Sector</th>\n",
              "      <th>Accident Level</th>\n",
              "      <th>Potential Accident Level</th>\n",
              "      <th>Genre</th>\n",
              "      <th>Employee or Third Party</th>\n",
              "      <th>Critical Risk</th>\n",
              "      <th>Description</th>\n",
              "    </tr>\n",
              "  </thead>\n",
              "  <tbody>\n",
              "    <tr>\n",
              "      <th>0</th>\n",
              "      <td>4</td>\n",
              "      <td>1</td>\n",
              "      <td>Country_01</td>\n",
              "      <td>Local_01</td>\n",
              "      <td>Mining</td>\n",
              "      <td>I</td>\n",
              "      <td>IV</td>\n",
              "      <td>Male</td>\n",
              "      <td>Third Party</td>\n",
              "      <td>Pressed</td>\n",
              "      <td>While removing the drill rod of the Jumbo 08 f...</td>\n",
              "    </tr>\n",
              "    <tr>\n",
              "      <th>1</th>\n",
              "      <td>5</td>\n",
              "      <td>1</td>\n",
              "      <td>Country_02</td>\n",
              "      <td>Local_02</td>\n",
              "      <td>Mining</td>\n",
              "      <td>I</td>\n",
              "      <td>IV</td>\n",
              "      <td>Male</td>\n",
              "      <td>Employee</td>\n",
              "      <td>Pressurized Systems</td>\n",
              "      <td>During the activation of a sodium sulphide pum...</td>\n",
              "    </tr>\n",
              "    <tr>\n",
              "      <th>2</th>\n",
              "      <td>2</td>\n",
              "      <td>1</td>\n",
              "      <td>Country_01</td>\n",
              "      <td>Local_03</td>\n",
              "      <td>Mining</td>\n",
              "      <td>I</td>\n",
              "      <td>III</td>\n",
              "      <td>Male</td>\n",
              "      <td>Third Party (Remote)</td>\n",
              "      <td>Manual Tools</td>\n",
              "      <td>In the sub-station MILPO located at level +170...</td>\n",
              "    </tr>\n",
              "    <tr>\n",
              "      <th>3</th>\n",
              "      <td>4</td>\n",
              "      <td>1</td>\n",
              "      <td>Country_01</td>\n",
              "      <td>Local_04</td>\n",
              "      <td>Mining</td>\n",
              "      <td>I</td>\n",
              "      <td>I</td>\n",
              "      <td>Male</td>\n",
              "      <td>Third Party</td>\n",
              "      <td>Others</td>\n",
              "      <td>Being 9:45 am. approximately in the Nv. 1880 C...</td>\n",
              "    </tr>\n",
              "    <tr>\n",
              "      <th>4</th>\n",
              "      <td>6</td>\n",
              "      <td>1</td>\n",
              "      <td>Country_01</td>\n",
              "      <td>Local_04</td>\n",
              "      <td>Mining</td>\n",
              "      <td>IV</td>\n",
              "      <td>IV</td>\n",
              "      <td>Male</td>\n",
              "      <td>Third Party</td>\n",
              "      <td>Others</td>\n",
              "      <td>Approximately at 11:45 a.m. in circumstances t...</td>\n",
              "    </tr>\n",
              "  </tbody>\n",
              "</table>\n",
              "</div>"
            ],
            "text/plain": [
              "   dayofweek  ...                                        Description\n",
              "0          4  ...  While removing the drill rod of the Jumbo 08 f...\n",
              "1          5  ...  During the activation of a sodium sulphide pum...\n",
              "2          2  ...  In the sub-station MILPO located at level +170...\n",
              "3          4  ...  Being 9:45 am. approximately in the Nv. 1880 C...\n",
              "4          6  ...  Approximately at 11:45 a.m. in circumstances t...\n",
              "\n",
              "[5 rows x 11 columns]"
            ]
          },
          "metadata": {
            "tags": []
          },
          "execution_count": 19
        }
      ]
    },
    {
      "cell_type": "code",
      "metadata": {
        "id": "u6RBf3rivjQy"
      },
      "source": [
        "# we Will need to first split the predictor and label variables; predictor variables can be split into two sets- i.e. 1 with the sentence group and the other with the augmented variables for pre-processing  \n",
        "\n",
        "X_concat1=pd.DataFrame(concat_inputdata1['Description'])\n",
        "X_concat2=pd.DataFrame(concat_inputdata1[['dayofweek','quarter','Countries','Local']])\n",
        "Y1=pd.DataFrame(concat_inputdata1['Potential Accident Level'])"
      ],
      "execution_count": 20,
      "outputs": []
    },
    {
      "cell_type": "code",
      "metadata": {
        "colab": {
          "base_uri": "https://localhost:8080/",
          "height": 419
        },
        "id": "slO5Vvhl3wZY",
        "outputId": "ac4ca7bb-59be-4502-c2e3-43fd4dcfe233"
      },
      "source": [
        "X_concat1"
      ],
      "execution_count": 21,
      "outputs": [
        {
          "output_type": "execute_result",
          "data": {
            "text/html": [
              "<div>\n",
              "<style scoped>\n",
              "    .dataframe tbody tr th:only-of-type {\n",
              "        vertical-align: middle;\n",
              "    }\n",
              "\n",
              "    .dataframe tbody tr th {\n",
              "        vertical-align: top;\n",
              "    }\n",
              "\n",
              "    .dataframe thead th {\n",
              "        text-align: right;\n",
              "    }\n",
              "</style>\n",
              "<table border=\"1\" class=\"dataframe\">\n",
              "  <thead>\n",
              "    <tr style=\"text-align: right;\">\n",
              "      <th></th>\n",
              "      <th>Description</th>\n",
              "    </tr>\n",
              "  </thead>\n",
              "  <tbody>\n",
              "    <tr>\n",
              "      <th>0</th>\n",
              "      <td>While removing the drill rod of the Jumbo 08 f...</td>\n",
              "    </tr>\n",
              "    <tr>\n",
              "      <th>1</th>\n",
              "      <td>During the activation of a sodium sulphide pum...</td>\n",
              "    </tr>\n",
              "    <tr>\n",
              "      <th>2</th>\n",
              "      <td>In the sub-station MILPO located at level +170...</td>\n",
              "    </tr>\n",
              "    <tr>\n",
              "      <th>3</th>\n",
              "      <td>Being 9:45 am. approximately in the Nv. 1880 C...</td>\n",
              "    </tr>\n",
              "    <tr>\n",
              "      <th>4</th>\n",
              "      <td>Approximately at 11:45 a.m. in circumstances t...</td>\n",
              "    </tr>\n",
              "    <tr>\n",
              "      <th>...</th>\n",
              "      <td>...</td>\n",
              "    </tr>\n",
              "    <tr>\n",
              "      <th>420</th>\n",
              "      <td>Being approximately 5:00 a.m. approximately, w...</td>\n",
              "    </tr>\n",
              "    <tr>\n",
              "      <th>421</th>\n",
              "      <td>The collaborator moved from the infrastructure...</td>\n",
              "    </tr>\n",
              "    <tr>\n",
              "      <th>422</th>\n",
              "      <td>During the environmental monitoring activity i...</td>\n",
              "    </tr>\n",
              "    <tr>\n",
              "      <th>423</th>\n",
              "      <td>The Employee performed the activity of strippi...</td>\n",
              "    </tr>\n",
              "    <tr>\n",
              "      <th>424</th>\n",
              "      <td>At 10:00 a.m., when the assistant cleaned the ...</td>\n",
              "    </tr>\n",
              "  </tbody>\n",
              "</table>\n",
              "<p>425 rows × 1 columns</p>\n",
              "</div>"
            ],
            "text/plain": [
              "                                           Description\n",
              "0    While removing the drill rod of the Jumbo 08 f...\n",
              "1    During the activation of a sodium sulphide pum...\n",
              "2    In the sub-station MILPO located at level +170...\n",
              "3    Being 9:45 am. approximately in the Nv. 1880 C...\n",
              "4    Approximately at 11:45 a.m. in circumstances t...\n",
              "..                                                 ...\n",
              "420  Being approximately 5:00 a.m. approximately, w...\n",
              "421  The collaborator moved from the infrastructure...\n",
              "422  During the environmental monitoring activity i...\n",
              "423  The Employee performed the activity of strippi...\n",
              "424  At 10:00 a.m., when the assistant cleaned the ...\n",
              "\n",
              "[425 rows x 1 columns]"
            ]
          },
          "metadata": {
            "tags": []
          },
          "execution_count": 21
        }
      ]
    },
    {
      "cell_type": "code",
      "metadata": {
        "colab": {
          "base_uri": "https://localhost:8080/",
          "height": 204
        },
        "id": "5C8w2Myg2Ve9",
        "outputId": "789ee3b2-20a5-4548-9e6f-530afa5c472a"
      },
      "source": [
        "Y1.head()"
      ],
      "execution_count": 23,
      "outputs": [
        {
          "output_type": "execute_result",
          "data": {
            "text/html": [
              "<div>\n",
              "<style scoped>\n",
              "    .dataframe tbody tr th:only-of-type {\n",
              "        vertical-align: middle;\n",
              "    }\n",
              "\n",
              "    .dataframe tbody tr th {\n",
              "        vertical-align: top;\n",
              "    }\n",
              "\n",
              "    .dataframe thead th {\n",
              "        text-align: right;\n",
              "    }\n",
              "</style>\n",
              "<table border=\"1\" class=\"dataframe\">\n",
              "  <thead>\n",
              "    <tr style=\"text-align: right;\">\n",
              "      <th></th>\n",
              "      <th>Potential Accident Level</th>\n",
              "    </tr>\n",
              "  </thead>\n",
              "  <tbody>\n",
              "    <tr>\n",
              "      <th>0</th>\n",
              "      <td>IV</td>\n",
              "    </tr>\n",
              "    <tr>\n",
              "      <th>1</th>\n",
              "      <td>IV</td>\n",
              "    </tr>\n",
              "    <tr>\n",
              "      <th>2</th>\n",
              "      <td>III</td>\n",
              "    </tr>\n",
              "    <tr>\n",
              "      <th>3</th>\n",
              "      <td>I</td>\n",
              "    </tr>\n",
              "    <tr>\n",
              "      <th>4</th>\n",
              "      <td>IV</td>\n",
              "    </tr>\n",
              "  </tbody>\n",
              "</table>\n",
              "</div>"
            ],
            "text/plain": [
              "  Potential Accident Level\n",
              "0                       IV\n",
              "1                       IV\n",
              "2                      III\n",
              "3                        I\n",
              "4                       IV"
            ]
          },
          "metadata": {
            "tags": []
          },
          "execution_count": 23
        }
      ]
    },
    {
      "cell_type": "code",
      "metadata": {
        "id": "0aBbtDgQ4NR2"
      },
      "source": [
        "# Let's convert the labels to numeric values, and combin the 6 category risk values with 5 as there are very few values \n",
        "\n",
        "Y1['label'] = Y1['Potential Accident Level'].replace({'I' :0, 'II':1, 'III':2, 'IV':3, 'V':4, 'VI':4})"
      ],
      "execution_count": 24,
      "outputs": []
    },
    {
      "cell_type": "code",
      "metadata": {
        "colab": {
          "base_uri": "https://localhost:8080/"
        },
        "id": "Wv0MLcNU5HZ7",
        "outputId": "2ef41bc3-3551-4862-82a2-5993496cd28b"
      },
      "source": [
        "Y2=Y1['label']\n",
        "Y2.head()"
      ],
      "execution_count": 25,
      "outputs": [
        {
          "output_type": "execute_result",
          "data": {
            "text/plain": [
              "0    3\n",
              "1    3\n",
              "2    2\n",
              "3    0\n",
              "4    3\n",
              "Name: label, dtype: int64"
            ]
          },
          "metadata": {
            "tags": []
          },
          "execution_count": 25
        }
      ]
    },
    {
      "cell_type": "code",
      "metadata": {
        "colab": {
          "base_uri": "https://localhost:8080/",
          "height": 419
        },
        "id": "fISN237e5M0J",
        "outputId": "a60bf9eb-acc2-460a-d52e-b6794fc2e350"
      },
      "source": [
        "# Let's convert the labels to_categorical formal to run the model\n",
        "\n",
        "from tensorflow.keras.utils import to_categorical\n",
        "Y2=pd.DataFrame(to_categorical(Y2))\n",
        "Y2"
      ],
      "execution_count": 26,
      "outputs": [
        {
          "output_type": "execute_result",
          "data": {
            "text/html": [
              "<div>\n",
              "<style scoped>\n",
              "    .dataframe tbody tr th:only-of-type {\n",
              "        vertical-align: middle;\n",
              "    }\n",
              "\n",
              "    .dataframe tbody tr th {\n",
              "        vertical-align: top;\n",
              "    }\n",
              "\n",
              "    .dataframe thead th {\n",
              "        text-align: right;\n",
              "    }\n",
              "</style>\n",
              "<table border=\"1\" class=\"dataframe\">\n",
              "  <thead>\n",
              "    <tr style=\"text-align: right;\">\n",
              "      <th></th>\n",
              "      <th>0</th>\n",
              "      <th>1</th>\n",
              "      <th>2</th>\n",
              "      <th>3</th>\n",
              "      <th>4</th>\n",
              "    </tr>\n",
              "  </thead>\n",
              "  <tbody>\n",
              "    <tr>\n",
              "      <th>0</th>\n",
              "      <td>0.0</td>\n",
              "      <td>0.0</td>\n",
              "      <td>0.0</td>\n",
              "      <td>1.0</td>\n",
              "      <td>0.0</td>\n",
              "    </tr>\n",
              "    <tr>\n",
              "      <th>1</th>\n",
              "      <td>0.0</td>\n",
              "      <td>0.0</td>\n",
              "      <td>0.0</td>\n",
              "      <td>1.0</td>\n",
              "      <td>0.0</td>\n",
              "    </tr>\n",
              "    <tr>\n",
              "      <th>2</th>\n",
              "      <td>0.0</td>\n",
              "      <td>0.0</td>\n",
              "      <td>1.0</td>\n",
              "      <td>0.0</td>\n",
              "      <td>0.0</td>\n",
              "    </tr>\n",
              "    <tr>\n",
              "      <th>3</th>\n",
              "      <td>1.0</td>\n",
              "      <td>0.0</td>\n",
              "      <td>0.0</td>\n",
              "      <td>0.0</td>\n",
              "      <td>0.0</td>\n",
              "    </tr>\n",
              "    <tr>\n",
              "      <th>4</th>\n",
              "      <td>0.0</td>\n",
              "      <td>0.0</td>\n",
              "      <td>0.0</td>\n",
              "      <td>1.0</td>\n",
              "      <td>0.0</td>\n",
              "    </tr>\n",
              "    <tr>\n",
              "      <th>...</th>\n",
              "      <td>...</td>\n",
              "      <td>...</td>\n",
              "      <td>...</td>\n",
              "      <td>...</td>\n",
              "      <td>...</td>\n",
              "    </tr>\n",
              "    <tr>\n",
              "      <th>420</th>\n",
              "      <td>0.0</td>\n",
              "      <td>0.0</td>\n",
              "      <td>1.0</td>\n",
              "      <td>0.0</td>\n",
              "      <td>0.0</td>\n",
              "    </tr>\n",
              "    <tr>\n",
              "      <th>421</th>\n",
              "      <td>0.0</td>\n",
              "      <td>1.0</td>\n",
              "      <td>0.0</td>\n",
              "      <td>0.0</td>\n",
              "      <td>0.0</td>\n",
              "    </tr>\n",
              "    <tr>\n",
              "      <th>422</th>\n",
              "      <td>0.0</td>\n",
              "      <td>1.0</td>\n",
              "      <td>0.0</td>\n",
              "      <td>0.0</td>\n",
              "      <td>0.0</td>\n",
              "    </tr>\n",
              "    <tr>\n",
              "      <th>423</th>\n",
              "      <td>0.0</td>\n",
              "      <td>1.0</td>\n",
              "      <td>0.0</td>\n",
              "      <td>0.0</td>\n",
              "      <td>0.0</td>\n",
              "    </tr>\n",
              "    <tr>\n",
              "      <th>424</th>\n",
              "      <td>0.0</td>\n",
              "      <td>1.0</td>\n",
              "      <td>0.0</td>\n",
              "      <td>0.0</td>\n",
              "      <td>0.0</td>\n",
              "    </tr>\n",
              "  </tbody>\n",
              "</table>\n",
              "<p>425 rows × 5 columns</p>\n",
              "</div>"
            ],
            "text/plain": [
              "       0    1    2    3    4\n",
              "0    0.0  0.0  0.0  1.0  0.0\n",
              "1    0.0  0.0  0.0  1.0  0.0\n",
              "2    0.0  0.0  1.0  0.0  0.0\n",
              "3    1.0  0.0  0.0  0.0  0.0\n",
              "4    0.0  0.0  0.0  1.0  0.0\n",
              "..   ...  ...  ...  ...  ...\n",
              "420  0.0  0.0  1.0  0.0  0.0\n",
              "421  0.0  1.0  0.0  0.0  0.0\n",
              "422  0.0  1.0  0.0  0.0  0.0\n",
              "423  0.0  1.0  0.0  0.0  0.0\n",
              "424  0.0  1.0  0.0  0.0  0.0\n",
              "\n",
              "[425 rows x 5 columns]"
            ]
          },
          "metadata": {
            "tags": []
          },
          "execution_count": 26
        }
      ]
    },
    {
      "cell_type": "code",
      "metadata": {
        "id": "BZlWTBte2SZ8"
      },
      "source": [
        "import sys\n",
        "import os\n",
        "\n",
        "py_file_location = \"/content/drive/My Drive/Capstone Project\"\n",
        "sys.path.append(os.path.abspath(py_file_location))"
      ],
      "execution_count": 22,
      "outputs": []
    },
    {
      "cell_type": "code",
      "metadata": {
        "colab": {
          "base_uri": "https://localhost:8080/"
        },
        "id": "8LxMUDHXxfyi",
        "outputId": "a0085b17-bbf7-4628-f508-848aba659870"
      },
      "source": [
        "# Let's import the pre_processor.py file which contains the functions for removing spaces, stop words, special charceters, etc..\n",
        "\n",
        "import pre_processor\n",
        "from pre_processor import pre_process_data"
      ],
      "execution_count": 27,
      "outputs": [
        {
          "output_type": "stream",
          "text": [
            "[nltk_data] Downloading package wordnet to /root/nltk_data...\n",
            "[nltk_data]   Unzipping corpora/wordnet.zip.\n",
            "[nltk_data] Downloading package stopwords to /root/nltk_data...\n",
            "[nltk_data]   Unzipping corpora/stopwords.zip.\n"
          ],
          "name": "stdout"
        }
      ]
    },
    {
      "cell_type": "code",
      "metadata": {
        "id": "PbrTXhvS3NOM"
      },
      "source": [
        "# Let's run the pre_process function on the text data\n",
        "\n",
        "x= pre_process_data()\n",
        "\n",
        "X_concat1[\"CleanDescription\"] = x.pre_process(X_concat1['Description'], \n",
        "                    lower_flag=1,\n",
        "                    remove_spaces_flag=1, \n",
        "                    remove_new_line_flag=1,\n",
        "                    remove_special_char_flag=1,  \n",
        "                    remove_numbers_flag=1,  \n",
        "                    replace_appos_flag=1,\n",
        "                    remove_stop_words_flag=1,  \n",
        "                    remove_single_letter_word_flag=1,\n",
        "                    remove_two_letter_word_flag=1,\n",
        "                    lemmatize_the_words_flag=0, \n",
        "                    stem_the_words_flag=0)"
      ],
      "execution_count": 30,
      "outputs": []
    },
    {
      "cell_type": "code",
      "metadata": {
        "colab": {
          "base_uri": "https://localhost:8080/",
          "height": 204
        },
        "id": "HJBOvuTD3-cz",
        "outputId": "094ddc09-0430-42fc-d2ca-8de6dc14bd9a"
      },
      "source": [
        "X_concat1.head()"
      ],
      "execution_count": 31,
      "outputs": [
        {
          "output_type": "execute_result",
          "data": {
            "text/html": [
              "<div>\n",
              "<style scoped>\n",
              "    .dataframe tbody tr th:only-of-type {\n",
              "        vertical-align: middle;\n",
              "    }\n",
              "\n",
              "    .dataframe tbody tr th {\n",
              "        vertical-align: top;\n",
              "    }\n",
              "\n",
              "    .dataframe thead th {\n",
              "        text-align: right;\n",
              "    }\n",
              "</style>\n",
              "<table border=\"1\" class=\"dataframe\">\n",
              "  <thead>\n",
              "    <tr style=\"text-align: right;\">\n",
              "      <th></th>\n",
              "      <th>Description</th>\n",
              "      <th>CleanDescription</th>\n",
              "    </tr>\n",
              "  </thead>\n",
              "  <tbody>\n",
              "    <tr>\n",
              "      <th>0</th>\n",
              "      <td>While removing the drill rod of the Jumbo 08 f...</td>\n",
              "      <td>removing drill rod jumbo maintenance superviso...</td>\n",
              "    </tr>\n",
              "    <tr>\n",
              "      <th>1</th>\n",
              "      <td>During the activation of a sodium sulphide pum...</td>\n",
              "      <td>activation sodium sulphide pump piping uncoupl...</td>\n",
              "    </tr>\n",
              "    <tr>\n",
              "      <th>2</th>\n",
              "      <td>In the sub-station MILPO located at level +170...</td>\n",
              "      <td>substation milpo located level collaborator ex...</td>\n",
              "    </tr>\n",
              "    <tr>\n",
              "      <th>3</th>\n",
              "      <td>Being 9:45 am. approximately in the Nv. 1880 C...</td>\n",
              "      <td>approximately cx personnel begins task unlocki...</td>\n",
              "    </tr>\n",
              "    <tr>\n",
              "      <th>4</th>\n",
              "      <td>Approximately at 11:45 a.m. in circumstances t...</td>\n",
              "      <td>approximately circumstances mechanics anthony ...</td>\n",
              "    </tr>\n",
              "  </tbody>\n",
              "</table>\n",
              "</div>"
            ],
            "text/plain": [
              "                                         Description                                   CleanDescription\n",
              "0  While removing the drill rod of the Jumbo 08 f...  removing drill rod jumbo maintenance superviso...\n",
              "1  During the activation of a sodium sulphide pum...  activation sodium sulphide pump piping uncoupl...\n",
              "2  In the sub-station MILPO located at level +170...  substation milpo located level collaborator ex...\n",
              "3  Being 9:45 am. approximately in the Nv. 1880 C...  approximately cx personnel begins task unlocki...\n",
              "4  Approximately at 11:45 a.m. in circumstances t...  approximately circumstances mechanics anthony ..."
            ]
          },
          "metadata": {
            "tags": []
          },
          "execution_count": 31
        }
      ]
    },
    {
      "cell_type": "code",
      "metadata": {
        "id": "qXZ8NZQZ52lq"
      },
      "source": [
        "# let's save the clean text as 1st input variable\n",
        "input1_contact=pd.DataFrame(X_concat1.CleanDescription)"
      ],
      "execution_count": 32,
      "outputs": []
    },
    {
      "cell_type": "code",
      "metadata": {
        "colab": {
          "base_uri": "https://localhost:8080/",
          "height": 204
        },
        "id": "CcjjezFS55aF",
        "outputId": "47ed057d-022b-4bfc-bf59-23996fad1fe7"
      },
      "source": [
        "input1_contact.head()"
      ],
      "execution_count": 33,
      "outputs": [
        {
          "output_type": "execute_result",
          "data": {
            "text/html": [
              "<div>\n",
              "<style scoped>\n",
              "    .dataframe tbody tr th:only-of-type {\n",
              "        vertical-align: middle;\n",
              "    }\n",
              "\n",
              "    .dataframe tbody tr th {\n",
              "        vertical-align: top;\n",
              "    }\n",
              "\n",
              "    .dataframe thead th {\n",
              "        text-align: right;\n",
              "    }\n",
              "</style>\n",
              "<table border=\"1\" class=\"dataframe\">\n",
              "  <thead>\n",
              "    <tr style=\"text-align: right;\">\n",
              "      <th></th>\n",
              "      <th>CleanDescription</th>\n",
              "    </tr>\n",
              "  </thead>\n",
              "  <tbody>\n",
              "    <tr>\n",
              "      <th>0</th>\n",
              "      <td>removing drill rod jumbo maintenance superviso...</td>\n",
              "    </tr>\n",
              "    <tr>\n",
              "      <th>1</th>\n",
              "      <td>activation sodium sulphide pump piping uncoupl...</td>\n",
              "    </tr>\n",
              "    <tr>\n",
              "      <th>2</th>\n",
              "      <td>substation milpo located level collaborator ex...</td>\n",
              "    </tr>\n",
              "    <tr>\n",
              "      <th>3</th>\n",
              "      <td>approximately cx personnel begins task unlocki...</td>\n",
              "    </tr>\n",
              "    <tr>\n",
              "      <th>4</th>\n",
              "      <td>approximately circumstances mechanics anthony ...</td>\n",
              "    </tr>\n",
              "  </tbody>\n",
              "</table>\n",
              "</div>"
            ],
            "text/plain": [
              "                                    CleanDescription\n",
              "0  removing drill rod jumbo maintenance superviso...\n",
              "1  activation sodium sulphide pump piping uncoupl...\n",
              "2  substation milpo located level collaborator ex...\n",
              "3  approximately cx personnel begins task unlocki...\n",
              "4  approximately circumstances mechanics anthony ..."
            ]
          },
          "metadata": {
            "tags": []
          },
          "execution_count": 33
        }
      ]
    },
    {
      "cell_type": "code",
      "metadata": {
        "id": "k0wKf_5755j3"
      },
      "source": [
        "# Let's precprocess the 2nd type of input \n",
        "# let's convert the country and local columns in the dataset into one-hot encoded values before splitting the data, to feed into the model \n",
        "\n",
        "cat_cols1=['Countries','Local']\n",
        "input2_contact= pd.get_dummies(X_concat2, columns = cat_cols1)"
      ],
      "execution_count": 34,
      "outputs": []
    },
    {
      "cell_type": "code",
      "metadata": {
        "colab": {
          "base_uri": "https://localhost:8080/",
          "height": 224
        },
        "id": "LYvB9Liq55n0",
        "outputId": "e6d77943-c640-4ca1-efad-e60e734989de"
      },
      "source": [
        "input2_contact.head()"
      ],
      "execution_count": 35,
      "outputs": [
        {
          "output_type": "execute_result",
          "data": {
            "text/html": [
              "<div>\n",
              "<style scoped>\n",
              "    .dataframe tbody tr th:only-of-type {\n",
              "        vertical-align: middle;\n",
              "    }\n",
              "\n",
              "    .dataframe tbody tr th {\n",
              "        vertical-align: top;\n",
              "    }\n",
              "\n",
              "    .dataframe thead th {\n",
              "        text-align: right;\n",
              "    }\n",
              "</style>\n",
              "<table border=\"1\" class=\"dataframe\">\n",
              "  <thead>\n",
              "    <tr style=\"text-align: right;\">\n",
              "      <th></th>\n",
              "      <th>dayofweek</th>\n",
              "      <th>quarter</th>\n",
              "      <th>Countries_Country_01</th>\n",
              "      <th>Countries_Country_02</th>\n",
              "      <th>Countries_Country_03</th>\n",
              "      <th>Local_Local_01</th>\n",
              "      <th>Local_Local_02</th>\n",
              "      <th>Local_Local_03</th>\n",
              "      <th>Local_Local_04</th>\n",
              "      <th>Local_Local_05</th>\n",
              "      <th>Local_Local_06</th>\n",
              "      <th>Local_Local_07</th>\n",
              "      <th>Local_Local_08</th>\n",
              "      <th>Local_Local_09</th>\n",
              "      <th>Local_Local_10</th>\n",
              "      <th>Local_Local_11</th>\n",
              "      <th>Local_Local_12</th>\n",
              "    </tr>\n",
              "  </thead>\n",
              "  <tbody>\n",
              "    <tr>\n",
              "      <th>0</th>\n",
              "      <td>4</td>\n",
              "      <td>1</td>\n",
              "      <td>1</td>\n",
              "      <td>0</td>\n",
              "      <td>0</td>\n",
              "      <td>1</td>\n",
              "      <td>0</td>\n",
              "      <td>0</td>\n",
              "      <td>0</td>\n",
              "      <td>0</td>\n",
              "      <td>0</td>\n",
              "      <td>0</td>\n",
              "      <td>0</td>\n",
              "      <td>0</td>\n",
              "      <td>0</td>\n",
              "      <td>0</td>\n",
              "      <td>0</td>\n",
              "    </tr>\n",
              "    <tr>\n",
              "      <th>1</th>\n",
              "      <td>5</td>\n",
              "      <td>1</td>\n",
              "      <td>0</td>\n",
              "      <td>1</td>\n",
              "      <td>0</td>\n",
              "      <td>0</td>\n",
              "      <td>1</td>\n",
              "      <td>0</td>\n",
              "      <td>0</td>\n",
              "      <td>0</td>\n",
              "      <td>0</td>\n",
              "      <td>0</td>\n",
              "      <td>0</td>\n",
              "      <td>0</td>\n",
              "      <td>0</td>\n",
              "      <td>0</td>\n",
              "      <td>0</td>\n",
              "    </tr>\n",
              "    <tr>\n",
              "      <th>2</th>\n",
              "      <td>2</td>\n",
              "      <td>1</td>\n",
              "      <td>1</td>\n",
              "      <td>0</td>\n",
              "      <td>0</td>\n",
              "      <td>0</td>\n",
              "      <td>0</td>\n",
              "      <td>1</td>\n",
              "      <td>0</td>\n",
              "      <td>0</td>\n",
              "      <td>0</td>\n",
              "      <td>0</td>\n",
              "      <td>0</td>\n",
              "      <td>0</td>\n",
              "      <td>0</td>\n",
              "      <td>0</td>\n",
              "      <td>0</td>\n",
              "    </tr>\n",
              "    <tr>\n",
              "      <th>3</th>\n",
              "      <td>4</td>\n",
              "      <td>1</td>\n",
              "      <td>1</td>\n",
              "      <td>0</td>\n",
              "      <td>0</td>\n",
              "      <td>0</td>\n",
              "      <td>0</td>\n",
              "      <td>0</td>\n",
              "      <td>1</td>\n",
              "      <td>0</td>\n",
              "      <td>0</td>\n",
              "      <td>0</td>\n",
              "      <td>0</td>\n",
              "      <td>0</td>\n",
              "      <td>0</td>\n",
              "      <td>0</td>\n",
              "      <td>0</td>\n",
              "    </tr>\n",
              "    <tr>\n",
              "      <th>4</th>\n",
              "      <td>6</td>\n",
              "      <td>1</td>\n",
              "      <td>1</td>\n",
              "      <td>0</td>\n",
              "      <td>0</td>\n",
              "      <td>0</td>\n",
              "      <td>0</td>\n",
              "      <td>0</td>\n",
              "      <td>1</td>\n",
              "      <td>0</td>\n",
              "      <td>0</td>\n",
              "      <td>0</td>\n",
              "      <td>0</td>\n",
              "      <td>0</td>\n",
              "      <td>0</td>\n",
              "      <td>0</td>\n",
              "      <td>0</td>\n",
              "    </tr>\n",
              "  </tbody>\n",
              "</table>\n",
              "</div>"
            ],
            "text/plain": [
              "   dayofweek  quarter  ...  Local_Local_11  Local_Local_12\n",
              "0          4        1  ...               0               0\n",
              "1          5        1  ...               0               0\n",
              "2          2        1  ...               0               0\n",
              "3          4        1  ...               0               0\n",
              "4          6        1  ...               0               0\n",
              "\n",
              "[5 rows x 17 columns]"
            ]
          },
          "metadata": {
            "tags": []
          },
          "execution_count": 35
        }
      ]
    },
    {
      "cell_type": "code",
      "metadata": {
        "id": "vlme15zS55rr"
      },
      "source": [
        "# let's concatenate the predictor variables i.e. X and then split the data into test and training data so that the sequence is retained. \n",
        "input_combined=input1_contact.join(input2_contact)"
      ],
      "execution_count": 36,
      "outputs": []
    },
    {
      "cell_type": "code",
      "metadata": {
        "colab": {
          "base_uri": "https://localhost:8080/",
          "height": 411
        },
        "id": "9aLPrs4h8AFd",
        "outputId": "4446a1b3-7bf5-4792-ffb3-58105e653ea3"
      },
      "source": [
        "input_combined.head()"
      ],
      "execution_count": 37,
      "outputs": [
        {
          "output_type": "execute_result",
          "data": {
            "text/html": [
              "<div>\n",
              "<style scoped>\n",
              "    .dataframe tbody tr th:only-of-type {\n",
              "        vertical-align: middle;\n",
              "    }\n",
              "\n",
              "    .dataframe tbody tr th {\n",
              "        vertical-align: top;\n",
              "    }\n",
              "\n",
              "    .dataframe thead th {\n",
              "        text-align: right;\n",
              "    }\n",
              "</style>\n",
              "<table border=\"1\" class=\"dataframe\">\n",
              "  <thead>\n",
              "    <tr style=\"text-align: right;\">\n",
              "      <th></th>\n",
              "      <th>CleanDescription</th>\n",
              "      <th>dayofweek</th>\n",
              "      <th>quarter</th>\n",
              "      <th>Countries_Country_01</th>\n",
              "      <th>Countries_Country_02</th>\n",
              "      <th>Countries_Country_03</th>\n",
              "      <th>Local_Local_01</th>\n",
              "      <th>Local_Local_02</th>\n",
              "      <th>Local_Local_03</th>\n",
              "      <th>Local_Local_04</th>\n",
              "      <th>Local_Local_05</th>\n",
              "      <th>Local_Local_06</th>\n",
              "      <th>Local_Local_07</th>\n",
              "      <th>Local_Local_08</th>\n",
              "      <th>Local_Local_09</th>\n",
              "      <th>Local_Local_10</th>\n",
              "      <th>Local_Local_11</th>\n",
              "      <th>Local_Local_12</th>\n",
              "    </tr>\n",
              "  </thead>\n",
              "  <tbody>\n",
              "    <tr>\n",
              "      <th>0</th>\n",
              "      <td>removing drill rod jumbo maintenance superviso...</td>\n",
              "      <td>4</td>\n",
              "      <td>1</td>\n",
              "      <td>1</td>\n",
              "      <td>0</td>\n",
              "      <td>0</td>\n",
              "      <td>1</td>\n",
              "      <td>0</td>\n",
              "      <td>0</td>\n",
              "      <td>0</td>\n",
              "      <td>0</td>\n",
              "      <td>0</td>\n",
              "      <td>0</td>\n",
              "      <td>0</td>\n",
              "      <td>0</td>\n",
              "      <td>0</td>\n",
              "      <td>0</td>\n",
              "      <td>0</td>\n",
              "    </tr>\n",
              "    <tr>\n",
              "      <th>1</th>\n",
              "      <td>activation sodium sulphide pump piping uncoupl...</td>\n",
              "      <td>5</td>\n",
              "      <td>1</td>\n",
              "      <td>0</td>\n",
              "      <td>1</td>\n",
              "      <td>0</td>\n",
              "      <td>0</td>\n",
              "      <td>1</td>\n",
              "      <td>0</td>\n",
              "      <td>0</td>\n",
              "      <td>0</td>\n",
              "      <td>0</td>\n",
              "      <td>0</td>\n",
              "      <td>0</td>\n",
              "      <td>0</td>\n",
              "      <td>0</td>\n",
              "      <td>0</td>\n",
              "      <td>0</td>\n",
              "    </tr>\n",
              "    <tr>\n",
              "      <th>2</th>\n",
              "      <td>substation milpo located level collaborator ex...</td>\n",
              "      <td>2</td>\n",
              "      <td>1</td>\n",
              "      <td>1</td>\n",
              "      <td>0</td>\n",
              "      <td>0</td>\n",
              "      <td>0</td>\n",
              "      <td>0</td>\n",
              "      <td>1</td>\n",
              "      <td>0</td>\n",
              "      <td>0</td>\n",
              "      <td>0</td>\n",
              "      <td>0</td>\n",
              "      <td>0</td>\n",
              "      <td>0</td>\n",
              "      <td>0</td>\n",
              "      <td>0</td>\n",
              "      <td>0</td>\n",
              "    </tr>\n",
              "    <tr>\n",
              "      <th>3</th>\n",
              "      <td>approximately cx personnel begins task unlocki...</td>\n",
              "      <td>4</td>\n",
              "      <td>1</td>\n",
              "      <td>1</td>\n",
              "      <td>0</td>\n",
              "      <td>0</td>\n",
              "      <td>0</td>\n",
              "      <td>0</td>\n",
              "      <td>0</td>\n",
              "      <td>1</td>\n",
              "      <td>0</td>\n",
              "      <td>0</td>\n",
              "      <td>0</td>\n",
              "      <td>0</td>\n",
              "      <td>0</td>\n",
              "      <td>0</td>\n",
              "      <td>0</td>\n",
              "      <td>0</td>\n",
              "    </tr>\n",
              "    <tr>\n",
              "      <th>4</th>\n",
              "      <td>approximately circumstances mechanics anthony ...</td>\n",
              "      <td>6</td>\n",
              "      <td>1</td>\n",
              "      <td>1</td>\n",
              "      <td>0</td>\n",
              "      <td>0</td>\n",
              "      <td>0</td>\n",
              "      <td>0</td>\n",
              "      <td>0</td>\n",
              "      <td>1</td>\n",
              "      <td>0</td>\n",
              "      <td>0</td>\n",
              "      <td>0</td>\n",
              "      <td>0</td>\n",
              "      <td>0</td>\n",
              "      <td>0</td>\n",
              "      <td>0</td>\n",
              "      <td>0</td>\n",
              "    </tr>\n",
              "  </tbody>\n",
              "</table>\n",
              "</div>"
            ],
            "text/plain": [
              "                                    CleanDescription  ...  Local_Local_12\n",
              "0  removing drill rod jumbo maintenance superviso...  ...               0\n",
              "1  activation sodium sulphide pump piping uncoupl...  ...               0\n",
              "2  substation milpo located level collaborator ex...  ...               0\n",
              "3  approximately cx personnel begins task unlocki...  ...               0\n",
              "4  approximately circumstances mechanics anthony ...  ...               0\n",
              "\n",
              "[5 rows x 18 columns]"
            ]
          },
          "metadata": {
            "tags": []
          },
          "execution_count": 37
        }
      ]
    },
    {
      "cell_type": "code",
      "metadata": {
        "id": "KxNhsYLc8DcI"
      },
      "source": [
        "# Let's split the dataset\n",
        "\n",
        "from sklearn.model_selection import train_test_split\n",
        "\n",
        "x_train21, X_test21, y_train21, y_test21 = train_test_split(input_combined,Y2, test_size=0.25, random_state=200)"
      ],
      "execution_count": 38,
      "outputs": []
    },
    {
      "cell_type": "code",
      "metadata": {
        "colab": {
          "base_uri": "https://localhost:8080/"
        },
        "id": "irmWno-_8fXN",
        "outputId": "96d3fe46-e0d5-4533-ce66-ed0cbc1e0257"
      },
      "source": [
        "print(x_train21.shape)\n",
        "print(X_test21.shape)"
      ],
      "execution_count": 39,
      "outputs": [
        {
          "output_type": "stream",
          "text": [
            "(318, 18)\n",
            "(107, 18)\n"
          ],
          "name": "stdout"
        }
      ]
    },
    {
      "cell_type": "code",
      "metadata": {
        "colab": {
          "base_uri": "https://localhost:8080/"
        },
        "id": "u1zziupB8nS6",
        "outputId": "8bcb7131-cc84-4716-bfc0-ac82ff053ece"
      },
      "source": [
        "print(y_train21.shape)\n",
        "print(y_test21.shape)"
      ],
      "execution_count": 40,
      "outputs": [
        {
          "output_type": "stream",
          "text": [
            "(318, 5)\n",
            "(107, 5)\n"
          ],
          "name": "stdout"
        }
      ]
    },
    {
      "cell_type": "code",
      "metadata": {
        "colab": {
          "base_uri": "https://localhost:8080/"
        },
        "id": "vVMTbOYm9D9q",
        "outputId": "3fa7508a-de9e-43d9-c322-30ab4036695f"
      },
      "source": [
        "x_train21.columns"
      ],
      "execution_count": 41,
      "outputs": [
        {
          "output_type": "execute_result",
          "data": {
            "text/plain": [
              "Index(['CleanDescription', 'dayofweek', 'quarter', 'Countries_Country_01',\n",
              "       'Countries_Country_02', 'Countries_Country_03', 'Local_Local_01',\n",
              "       'Local_Local_02', 'Local_Local_03', 'Local_Local_04', 'Local_Local_05',\n",
              "       'Local_Local_06', 'Local_Local_07', 'Local_Local_08', 'Local_Local_09',\n",
              "       'Local_Local_10', 'Local_Local_11', 'Local_Local_12'],\n",
              "      dtype='object')"
            ]
          },
          "metadata": {
            "tags": []
          },
          "execution_count": 41
        }
      ]
    },
    {
      "cell_type": "code",
      "metadata": {
        "id": "7CwmsunD87OW"
      },
      "source": [
        "#split the input training data into the two input categories i.e. 1) Text 2) Country, Location, Time of week and quarter \n",
        "\n",
        "xtrain_input1=x_train21['CleanDescription']\n",
        "xtrain_input2=x_train21.drop('CleanDescription',axis=1,inplace=False)"
      ],
      "execution_count": 42,
      "outputs": []
    },
    {
      "cell_type": "code",
      "metadata": {
        "id": "On7yaGA19jru"
      },
      "source": [
        "#split the input testing data into the two input categories i.e. 1) Text 2) Country, Location, Time of week and quarter \n",
        "\n",
        "xtest_input1=X_test21['CleanDescription']\n",
        "xtest_input2=X_test21.drop('CleanDescription',axis=1,inplace=False)"
      ],
      "execution_count": 43,
      "outputs": []
    },
    {
      "cell_type": "code",
      "metadata": {
        "id": "T_ohaUBcAADh"
      },
      "source": [
        "# Let's set the max length to 100 as majority of the data has sentences within 100 word limit, and transform the 1st input train and test data to align with the bert model\n",
        "max_len = 100\n",
        "train_input =bert_encode(xtrain_input1, tokenizer, max_len=max_len)"
      ],
      "execution_count": 45,
      "outputs": []
    },
    {
      "cell_type": "code",
      "metadata": {
        "id": "fA41S04GAl0Q"
      },
      "source": [
        "test_input = bert_encode(xtest_input1, tokenizer, max_len=max_len)"
      ],
      "execution_count": 46,
      "outputs": []
    },
    {
      "cell_type": "code",
      "metadata": {
        "id": "WTnDDIY0COx6"
      },
      "source": [
        "# Let's create the Bert model structure \n",
        "\n",
        "input_word_ids =tf.keras.Input(shape=(max_len,), dtype=tf.int32, name=\"input_word_ids\")\n",
        "input_mask = tf.keras.Input(shape=(max_len,), dtype=tf.int32, name=\"input_mask\")\n",
        "segment_ids =tf.keras.Input(shape=(max_len,), dtype=tf.int32, name=\"input_type_ids\")\n",
        "\n",
        "output = bert_layer({'input_word_ids':input_word_ids,'input_mask': input_mask,'input_type_ids': segment_ids})\n",
        "clf_output = output['pooled_output']\n",
        "net = tf.keras.layers.Dense(64, activation='relu')(clf_output)"
      ],
      "execution_count": 50,
      "outputs": []
    },
    {
      "cell_type": "code",
      "metadata": {
        "id": "o-uaAaIVBBwW"
      },
      "source": [
        "#Length1=100\n",
        "#input1= Input(shape=(Length1,))\n",
        "input1=[input_word_ids, input_mask, segment_ids]"
      ],
      "execution_count": 51,
      "outputs": []
    },
    {
      "cell_type": "code",
      "metadata": {
        "id": "eME_WBR4-Gt4"
      },
      "source": [
        "# We will use the vanilla neural network as it does seem to perform slightly better than the conv1d network, as tested and seen above. \n",
        "\n",
        "Length2 =17\n",
        "\n",
        "input2= Input(shape=(Length2,))\n",
        "\n",
        "dense11= Dense(50,activation='relu')(input2) \n",
        "dense21= Dense(50,activation='relu')(dense11)\n",
        "dense31= Dense(25,activation='relu')(dense21)"
      ],
      "execution_count": 52,
      "outputs": []
    },
    {
      "cell_type": "code",
      "metadata": {
        "id": "Wr696nc3_B0i"
      },
      "source": [
        "from keras.layers.merge import Concatenate"
      ],
      "execution_count": 53,
      "outputs": []
    },
    {
      "cell_type": "code",
      "metadata": {
        "id": "ReRKFHjOHTO-"
      },
      "source": [
        "#Let's create the Concat model structure \n",
        "\n",
        "concat_layer = Concatenate()([net,dense31])\n",
        "dense_layer= Dense(50, activation='relu')(concat_layer)\n",
        "output = Dense(5, activation='softmax')(dense_layer)\n",
        "\n",
        "model = Model(inputs=[input1,input2], outputs=output)"
      ],
      "execution_count": 54,
      "outputs": []
    },
    {
      "cell_type": "code",
      "metadata": {
        "id": "azBtXasmHTRe"
      },
      "source": [
        "# Let's compile the model \n",
        "model.compile(loss='categorical_crossentropy', optimizer='adam', metrics=['acc'])"
      ],
      "execution_count": 55,
      "outputs": []
    },
    {
      "cell_type": "code",
      "metadata": {
        "id": "H1wzp2ARHTT2",
        "colab": {
          "base_uri": "https://localhost:8080/"
        },
        "outputId": "719bf746-abfc-4986-fff6-0df6aac0b2eb"
      },
      "source": [
        "# Let's look at the model summary \n",
        "print(model.summary())"
      ],
      "execution_count": 56,
      "outputs": [
        {
          "output_type": "stream",
          "text": [
            "Model: \"model\"\n",
            "__________________________________________________________________________________________________\n",
            "Layer (type)                    Output Shape         Param #     Connected to                     \n",
            "==================================================================================================\n",
            "input_1 (InputLayer)            [(None, 17)]         0                                            \n",
            "__________________________________________________________________________________________________\n",
            "input_mask (InputLayer)         [(None, 100)]        0                                            \n",
            "__________________________________________________________________________________________________\n",
            "input_type_ids (InputLayer)     [(None, 100)]        0                                            \n",
            "__________________________________________________________________________________________________\n",
            "input_word_ids (InputLayer)     [(None, 100)]        0                                            \n",
            "__________________________________________________________________________________________________\n",
            "dense_1 (Dense)                 (None, 50)           900         input_1[0][0]                    \n",
            "__________________________________________________________________________________________________\n",
            "keras_layer (KerasLayer)        {'pooled_output': (N 81130753    input_mask[0][0]                 \n",
            "                                                                 input_type_ids[0][0]             \n",
            "                                                                 input_word_ids[0][0]             \n",
            "__________________________________________________________________________________________________\n",
            "dense_2 (Dense)                 (None, 50)           2550        dense_1[0][0]                    \n",
            "__________________________________________________________________________________________________\n",
            "dense (Dense)                   (None, 64)           49216       keras_layer[1][9]                \n",
            "__________________________________________________________________________________________________\n",
            "dense_3 (Dense)                 (None, 25)           1275        dense_2[0][0]                    \n",
            "__________________________________________________________________________________________________\n",
            "tf.concat (TFOpLambda)          (None, 89)           0           dense[0][0]                      \n",
            "                                                                 dense_3[0][0]                    \n",
            "__________________________________________________________________________________________________\n",
            "dense_4 (Dense)                 (None, 50)           4500        tf.concat[0][0]                  \n",
            "__________________________________________________________________________________________________\n",
            "dense_5 (Dense)                 (None, 5)            255         dense_4[0][0]                    \n",
            "==================================================================================================\n",
            "Total params: 81,189,449\n",
            "Trainable params: 81,189,448\n",
            "Non-trainable params: 1\n",
            "__________________________________________________________________________________________________\n",
            "None\n"
          ],
          "name": "stdout"
        }
      ]
    },
    {
      "cell_type": "code",
      "metadata": {
        "id": "k5yLtdfNQBIj"
      },
      "source": [
        "es2 = EarlyStopping(monitor='val_loss',verbose=1, patience=25)"
      ],
      "execution_count": 61,
      "outputs": []
    },
    {
      "cell_type": "code",
      "metadata": {
        "id": "6Ved0qqEHTWQ",
        "colab": {
          "base_uri": "https://localhost:8080/"
        },
        "outputId": "43d24bed-423c-41af-e483-5a78a1478abe"
      },
      "source": [
        "# Let's fit the concat model\n",
        "history = model.fit(x=[train_input,xtrain_input2], y=y_train21, epochs=50, verbose=1, validation_split=0.2,callbacks=es2)"
      ],
      "execution_count": 62,
      "outputs": [
        {
          "output_type": "stream",
          "text": [
            "Epoch 1/50\n",
            "8/8 [==============================] - 5s 338ms/step - loss: 1.0000 - acc: 0.5748 - val_loss: 1.3931 - val_acc: 0.4062\n",
            "Epoch 2/50\n",
            "8/8 [==============================] - 2s 288ms/step - loss: 1.0015 - acc: 0.5906 - val_loss: 1.3788 - val_acc: 0.4375\n",
            "Epoch 3/50\n",
            "8/8 [==============================] - 2s 288ms/step - loss: 0.9920 - acc: 0.5787 - val_loss: 1.3775 - val_acc: 0.4219\n",
            "Epoch 4/50\n",
            "8/8 [==============================] - 2s 287ms/step - loss: 0.9882 - acc: 0.5866 - val_loss: 1.3867 - val_acc: 0.4531\n",
            "Epoch 5/50\n",
            "8/8 [==============================] - 2s 287ms/step - loss: 0.9906 - acc: 0.5787 - val_loss: 1.3856 - val_acc: 0.4531\n",
            "Epoch 6/50\n",
            "8/8 [==============================] - 2s 286ms/step - loss: 0.9831 - acc: 0.5945 - val_loss: 1.3989 - val_acc: 0.4375\n",
            "Epoch 7/50\n",
            "8/8 [==============================] - 2s 289ms/step - loss: 0.9827 - acc: 0.5906 - val_loss: 1.4349 - val_acc: 0.4375\n",
            "Epoch 8/50\n",
            "8/8 [==============================] - 2s 291ms/step - loss: 0.9781 - acc: 0.5866 - val_loss: 1.3846 - val_acc: 0.4531\n",
            "Epoch 9/50\n",
            "8/8 [==============================] - 2s 289ms/step - loss: 0.9780 - acc: 0.5906 - val_loss: 1.4098 - val_acc: 0.4844\n",
            "Epoch 10/50\n",
            "8/8 [==============================] - 2s 288ms/step - loss: 0.9677 - acc: 0.6024 - val_loss: 1.4041 - val_acc: 0.4375\n",
            "Epoch 11/50\n",
            "8/8 [==============================] - 2s 288ms/step - loss: 0.9784 - acc: 0.5945 - val_loss: 1.4334 - val_acc: 0.4531\n",
            "Epoch 12/50\n",
            "8/8 [==============================] - 2s 288ms/step - loss: 0.9932 - acc: 0.5787 - val_loss: 1.3925 - val_acc: 0.4062\n",
            "Epoch 13/50\n",
            "8/8 [==============================] - 2s 289ms/step - loss: 0.9832 - acc: 0.5787 - val_loss: 1.4202 - val_acc: 0.4844\n",
            "Epoch 14/50\n",
            "8/8 [==============================] - 2s 307ms/step - loss: 0.9678 - acc: 0.5787 - val_loss: 1.3944 - val_acc: 0.4375\n",
            "Epoch 15/50\n",
            "8/8 [==============================] - 2s 289ms/step - loss: 0.9794 - acc: 0.5866 - val_loss: 1.4159 - val_acc: 0.3906\n",
            "Epoch 16/50\n",
            "8/8 [==============================] - 2s 290ms/step - loss: 0.9675 - acc: 0.5984 - val_loss: 1.4459 - val_acc: 0.4531\n",
            "Epoch 17/50\n",
            "8/8 [==============================] - 2s 288ms/step - loss: 0.9555 - acc: 0.6024 - val_loss: 1.4235 - val_acc: 0.4688\n",
            "Epoch 18/50\n",
            "8/8 [==============================] - 2s 290ms/step - loss: 0.9482 - acc: 0.6024 - val_loss: 1.4440 - val_acc: 0.4062\n",
            "Epoch 19/50\n",
            "8/8 [==============================] - 2s 288ms/step - loss: 0.9615 - acc: 0.5945 - val_loss: 1.4491 - val_acc: 0.4688\n",
            "Epoch 20/50\n",
            "8/8 [==============================] - 2s 288ms/step - loss: 0.9564 - acc: 0.5827 - val_loss: 1.4624 - val_acc: 0.4531\n",
            "Epoch 21/50\n",
            "8/8 [==============================] - 2s 288ms/step - loss: 0.9422 - acc: 0.5866 - val_loss: 1.4436 - val_acc: 0.4688\n",
            "Epoch 22/50\n",
            "8/8 [==============================] - 2s 288ms/step - loss: 0.9455 - acc: 0.5984 - val_loss: 1.4730 - val_acc: 0.4375\n",
            "Epoch 23/50\n",
            "8/8 [==============================] - 2s 289ms/step - loss: 0.9479 - acc: 0.5827 - val_loss: 1.4226 - val_acc: 0.4375\n",
            "Epoch 24/50\n",
            "8/8 [==============================] - 2s 288ms/step - loss: 0.9448 - acc: 0.6142 - val_loss: 1.4772 - val_acc: 0.4375\n",
            "Epoch 25/50\n",
            "8/8 [==============================] - 2s 289ms/step - loss: 0.9350 - acc: 0.6024 - val_loss: 1.4670 - val_acc: 0.4219\n",
            "Epoch 26/50\n",
            "8/8 [==============================] - 2s 288ms/step - loss: 0.9380 - acc: 0.5984 - val_loss: 1.5096 - val_acc: 0.4531\n",
            "Epoch 27/50\n",
            "8/8 [==============================] - 2s 288ms/step - loss: 0.9378 - acc: 0.6102 - val_loss: 1.4903 - val_acc: 0.4531\n",
            "Epoch 28/50\n",
            "8/8 [==============================] - 2s 288ms/step - loss: 0.9395 - acc: 0.5984 - val_loss: 1.5069 - val_acc: 0.4219\n",
            "Epoch 00028: early stopping\n"
          ],
          "name": "stdout"
        }
      ]
    },
    {
      "cell_type": "code",
      "metadata": {
        "id": "5cKmn1jtHTYZ",
        "colab": {
          "base_uri": "https://localhost:8080/",
          "height": 421
        },
        "outputId": "08ca228f-1d45-4352-bad4-32d176234de7"
      },
      "source": [
        "# Let's look at the training/testing accuracy and loss\n",
        "\n",
        "import matplotlib.pyplot as plt\n",
        "\n",
        "history_ref = history.history\n",
        "\n",
        "acc = history_ref['acc']\n",
        "val_acc = history_ref['val_acc']\n",
        "loss = history_ref['loss']\n",
        "val_loss = history_ref['val_loss']\n",
        "\n",
        "epoch= range(1, len(acc) + 1)\n",
        "fig = plt.figure(figsize=(10, 6))\n",
        "fig.tight_layout()\n",
        "\n",
        "plt.subplot(2, 1, 1)\n",
        "plt.plot(epoch, loss, 'r', label='Training loss')\n",
        "plt.plot(epoch, val_loss, 'b', label='Validation loss')\n",
        "plt.title('Training and validation loss')\n",
        "plt.ylabel('Loss')\n",
        "plt.legend()\n",
        "\n",
        "plt.subplot(2, 1, 2)\n",
        "plt.plot(epoch, acc, 'r', label='Training acc')\n",
        "plt.plot(epoch, val_acc, 'b', label='Validation acc')\n",
        "plt.title('Training and validation accuracy')\n",
        "plt.xlabel('Epochs')\n",
        "plt.ylabel('Accuracy')\n",
        "plt.legend(loc='lower right')"
      ],
      "execution_count": 65,
      "outputs": [
        {
          "output_type": "execute_result",
          "data": {
            "text/plain": [
              "<matplotlib.legend.Legend at 0x7fd6c2329310>"
            ]
          },
          "metadata": {
            "tags": []
          },
          "execution_count": 65
        },
        {
          "output_type": "display_data",
          "data": {
            "image/png": "[encoded data removed]",
            "text/plain": [
              "<Figure size 720x432 with 2 Axes>"
            ]
          },
          "metadata": {
            "tags": [],
            "needs_background": "light"
          }
        }
      ]
    },
    {
      "cell_type": "markdown",
      "metadata": {
        "id": "BW6UIL-WPTtK"
      },
      "source": [
        "We note that the accuracy of the concatenated model, while for training is slightly better for testing remains below 50% (i.e. random coin toss), and therefore we sill drop the augmented / additional features from the model - i.e. day of the week, quarter, Country and Location and not go for a concatenated model, rather a model which only has a text classifier based on the incident description inputted.\n"
      ]
    },
    {
      "cell_type": "code",
      "metadata": {
        "id": "a2CSG5pcRTAK"
      },
      "source": [
        ""
      ],
      "execution_count": null,
      "outputs": []
    }
  ]
}