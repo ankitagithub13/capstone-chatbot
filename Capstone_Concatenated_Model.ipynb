{
  "nbformat": 4,
  "nbformat_minor": 0,
  "metadata": {
    "colab": {
      "name": "Capstone - Concatenated Model.ipynb",
      "provenance": [],
      "collapsed_sections": [],
      "mount_file_id": "1vgU_X02zvwW-iJG9iLeb3XW__zzUobvx",
      "authorship_tag": "ABX9TyPz3kHuPbPIsShFGjbdcrCk",
      "include_colab_link": true
    },
    "kernelspec": {
      "name": "python3",
      "display_name": "Python 3"
    },
    "language_info": {
      "name": "python"
    },
    "accelerator": "GPU"
  },
  "cells": [
    {
      "cell_type": "markdown",
      "metadata": {
        "id": "view-in-github",
        "colab_type": "text"
      },
      "source": [
        "<a href=\"https://colab.research.google.com/github/ankitagithub13/capstone-chatbot/blob/Modeling/Capstone_Concatenated_Model.ipynb\" target=\"_parent\"><img src=\"https://colab.research.google.com/assets/colab-badge.svg\" alt=\"Open In Colab\"/></a>"
      ]
    },
    {
      "cell_type": "markdown",
      "metadata": {
        "id": "dzep-yfe4zn-"
      },
      "source": [
        "Simulation for Country and Location "
      ]
    },
    {
      "cell_type": "code",
      "metadata": {
        "id": "WqksXD4VzVp3"
      },
      "source": [
        "Country_loc = {'Country_01':'Local_01', 'Country_01':'Local_03', 'Country_01':'Local_04', 'Country_01':'Local_06', 'Country_01':'Local_11',\n",
        "             'Country_02':'Local_02', 'Country_02':'Local_05', 'Country_02':'Local_07', 'Country_02':'Local_08', 'Country_02':'Local_09', 'Country_02':'Local_12',\n",
        "             'Country_03':'Local_10'}"
      ],
      "execution_count": null,
      "outputs": []
    },
    {
      "cell_type": "code",
      "metadata": {
        "colab": {
          "base_uri": "https://localhost:8080/"
        },
        "id": "1_QkBZ7MCJ7x",
        "outputId": "06e5445a-dd65-4085-d138-f5611acd5b85"
      },
      "source": [
        "import random\n",
        "random.choice(list(Country_loc.items()))"
      ],
      "execution_count": null,
      "outputs": [
        {
          "output_type": "execute_result",
          "data": {
            "text/plain": [
              "('Country_01', 'Local_11')"
            ]
          },
          "metadata": {
            "tags": []
          },
          "execution_count": 2
        }
      ]
    },
    {
      "cell_type": "markdown",
      "metadata": {
        "id": "ritXjo8wCzAW"
      },
      "source": [
        "Function to extract day and quarter of the week from python"
      ]
    },
    {
      "cell_type": "code",
      "metadata": {
        "id": "rwiktBixFd2J"
      },
      "source": [
        "import datetime\n",
        "from datetime import timedelta\n",
        "import math\n",
        "import pandas as pd\n",
        "\n",
        "start_date = datetime.date(2021,1,1)\n",
        "end_date = datetime.date(2021,12,30)"
      ],
      "execution_count": null,
      "outputs": []
    },
    {
      "cell_type": "code",
      "metadata": {
        "id": "Dc79g4nOF5Fs"
      },
      "source": [
        "time_between_dates = end_date - start_date\n",
        "days_between_dates = time_between_dates.days\n",
        "random_number_of_days = random.randrange(days_between_dates)\n",
        "random_date = start_date + datetime.timedelta(days=random_number_of_days)"
      ],
      "execution_count": null,
      "outputs": []
    },
    {
      "cell_type": "code",
      "metadata": {
        "colab": {
          "base_uri": "https://localhost:8080/"
        },
        "id": "0mXucc2nF7tL",
        "outputId": "adce3c8f-9c08-4e80-e01d-fb706a354791"
      },
      "source": [
        "print(random_date)"
      ],
      "execution_count": null,
      "outputs": [
        {
          "output_type": "stream",
          "text": [
            "2021-12-14\n"
          ],
          "name": "stdout"
        }
      ]
    },
    {
      "cell_type": "code",
      "metadata": {
        "colab": {
          "base_uri": "https://localhost:8080/"
        },
        "id": "0_R2O91jCyXP",
        "outputId": "a7783606-d421-4eb4-9017-dd3f8dd90c55"
      },
      "source": [
        "def get_quarter(d):\n",
        "  return \"Q%d\" % (math.ceil(d.month/3))\n",
        "d=random_date\n",
        "print(get_quarter(d))"
      ],
      "execution_count": null,
      "outputs": [
        {
          "output_type": "stream",
          "text": [
            "Q4\n"
          ],
          "name": "stdout"
        }
      ]
    },
    {
      "cell_type": "code",
      "metadata": {
        "colab": {
          "base_uri": "https://localhost:8080/"
        },
        "id": "4X42EDTRG3DH",
        "outputId": "fcc90803-839d-4d04-f4b2-ed27dc3e18da"
      },
      "source": [
        "df = pd.Timestamp(random_date)\n",
        "print(df.dayofweek)"
      ],
      "execution_count": null,
      "outputs": [
        {
          "output_type": "stream",
          "text": [
            "1\n"
          ],
          "name": "stdout"
        }
      ]
    },
    {
      "cell_type": "markdown",
      "metadata": {
        "id": "stt19ForSwqR"
      },
      "source": [
        "Convolution Model for other parameters"
      ]
    },
    {
      "cell_type": "code",
      "metadata": {
        "id": "QRZNz_hVYg9X"
      },
      "source": [
        "import tensorflow as tf\n",
        "tf.random.set_seed(100)\n",
        "import pandas as pd\n",
        "import numpy as np\n",
        "from tensorflow import keras \n",
        "\n",
        "from tensorflow.keras.models import Model\n",
        "from tensorflow.keras.layers import Input, Dense, Flatten, Dropout, Embedding, Conv1D, MaxPooling1D, concatenate\n",
        "from tensorflow.keras.models import Model\n",
        "from tensorflow.keras.callbacks import EarlyStopping, ModelCheckpoint \n",
        "from keras.layers.merge import concatenate"
      ],
      "execution_count": 119,
      "outputs": []
    },
    {
      "cell_type": "code",
      "metadata": {
        "colab": {
          "base_uri": "https://localhost:8080/"
        },
        "id": "593QfXcaAzn2",
        "outputId": "cbe4a159-27f1-4094-e084-e67c38793981"
      },
      "source": [
        "print(tf.__version__)"
      ],
      "execution_count": 2,
      "outputs": [
        {
          "output_type": "stream",
          "text": [
            "2.5.0\n"
          ],
          "name": "stdout"
        }
      ]
    },
    {
      "cell_type": "code",
      "metadata": {
        "id": "kfc2n2dKB4N2"
      },
      "source": [
        "import tensorflow.experimental.numpy as tnp"
      ],
      "execution_count": 3,
      "outputs": []
    },
    {
      "cell_type": "code",
      "metadata": {
        "id": "R4bFG71l9D3s"
      },
      "source": [
        "#pip install numpy==1.19"
      ],
      "execution_count": null,
      "outputs": []
    },
    {
      "cell_type": "code",
      "metadata": {
        "colab": {
          "base_uri": "https://localhost:8080/",
          "height": 306
        },
        "id": "hsWtAVWuA_1q",
        "outputId": "e7d006c3-e96c-48ef-f1c1-23cb12ac2025"
      },
      "source": [
        "pip install -U numpy==1.19.2"
      ],
      "execution_count": null,
      "outputs": [
        {
          "output_type": "stream",
          "text": [
            "Collecting numpy==1.19.2\n",
            "  Downloading numpy-1.19.2-cp37-cp37m-manylinux2010_x86_64.whl (14.5 MB)\n",
            "\u001b[K     |████████████████████████████████| 14.5 MB 4.3 MB/s \n",
            "\u001b[?25hInstalling collected packages: numpy\n",
            "  Attempting uninstall: numpy\n",
            "    Found existing installation: numpy 1.19.5\n",
            "    Uninstalling numpy-1.19.5:\n",
            "      Successfully uninstalled numpy-1.19.5\n",
            "\u001b[31mERROR: pip's dependency resolver does not currently take into account all the packages that are installed. This behaviour is the source of the following dependency conflicts.\n",
            "datascience 0.10.6 requires folium==0.2.1, but you have folium 0.8.3 which is incompatible.\n",
            "albumentations 0.1.12 requires imgaug<0.2.7,>=0.2.5, but you have imgaug 0.2.9 which is incompatible.\u001b[0m\n",
            "Successfully installed numpy-1.19.2\n"
          ],
          "name": "stdout"
        },
        {
          "output_type": "display_data",
          "data": {
            "application/vnd.colab-display-data+json": {
              "pip_warning": {
                "packages": [
                  "numpy"
                ]
              }
            }
          },
          "metadata": {
            "tags": []
          }
        }
      ]
    },
    {
      "cell_type": "code",
      "metadata": {
        "colab": {
          "base_uri": "https://localhost:8080/"
        },
        "id": "GbiWA5ZHxgA_",
        "outputId": "a117fe60-17ca-4ff9-83c4-79beea1f5c4d"
      },
      "source": [
        "%cd /content/drive/My Drive/Capstone Project"
      ],
      "execution_count": 4,
      "outputs": [
        {
          "output_type": "stream",
          "text": [
            "/content/drive/My Drive/Capstone Project\n"
          ],
          "name": "stdout"
        }
      ]
    },
    {
      "cell_type": "code",
      "metadata": {
        "id": "mLhuwrHdwFk2"
      },
      "source": [
        "# let's import the dataset and do the preprocessing\n",
        "input_data=pd.read_csv('Data Set - industrial_safety_and_health_database_with_accidents_description.csv') "
      ],
      "execution_count": 5,
      "outputs": []
    },
    {
      "cell_type": "code",
      "metadata": {
        "colab": {
          "base_uri": "https://localhost:8080/",
          "height": 204
        },
        "id": "PMv5Jgjm7GTI",
        "outputId": "b4f3cc7c-0e49-4eac-faa5-00e65bf533b1"
      },
      "source": [
        "input_data.head()"
      ],
      "execution_count": 6,
      "outputs": [
        {
          "output_type": "execute_result",
          "data": {
            "text/html": [
              "<div>\n",
              "<style scoped>\n",
              "    .dataframe tbody tr th:only-of-type {\n",
              "        vertical-align: middle;\n",
              "    }\n",
              "\n",
              "    .dataframe tbody tr th {\n",
              "        vertical-align: top;\n",
              "    }\n",
              "\n",
              "    .dataframe thead th {\n",
              "        text-align: right;\n",
              "    }\n",
              "</style>\n",
              "<table border=\"1\" class=\"dataframe\">\n",
              "  <thead>\n",
              "    <tr style=\"text-align: right;\">\n",
              "      <th></th>\n",
              "      <th>Unnamed: 0</th>\n",
              "      <th>Data</th>\n",
              "      <th>Countries</th>\n",
              "      <th>Local</th>\n",
              "      <th>Industry Sector</th>\n",
              "      <th>Accident Level</th>\n",
              "      <th>Potential Accident Level</th>\n",
              "      <th>Genre</th>\n",
              "      <th>Employee or Third Party</th>\n",
              "      <th>Critical Risk</th>\n",
              "      <th>Description</th>\n",
              "    </tr>\n",
              "  </thead>\n",
              "  <tbody>\n",
              "    <tr>\n",
              "      <th>0</th>\n",
              "      <td>0</td>\n",
              "      <td>2016-01-01 00:00:00</td>\n",
              "      <td>Country_01</td>\n",
              "      <td>Local_01</td>\n",
              "      <td>Mining</td>\n",
              "      <td>I</td>\n",
              "      <td>IV</td>\n",
              "      <td>Male</td>\n",
              "      <td>Third Party</td>\n",
              "      <td>Pressed</td>\n",
              "      <td>While removing the drill rod of the Jumbo 08 f...</td>\n",
              "    </tr>\n",
              "    <tr>\n",
              "      <th>1</th>\n",
              "      <td>1</td>\n",
              "      <td>2016-01-02 00:00:00</td>\n",
              "      <td>Country_02</td>\n",
              "      <td>Local_02</td>\n",
              "      <td>Mining</td>\n",
              "      <td>I</td>\n",
              "      <td>IV</td>\n",
              "      <td>Male</td>\n",
              "      <td>Employee</td>\n",
              "      <td>Pressurized Systems</td>\n",
              "      <td>During the activation of a sodium sulphide pum...</td>\n",
              "    </tr>\n",
              "    <tr>\n",
              "      <th>2</th>\n",
              "      <td>2</td>\n",
              "      <td>2016-01-06 00:00:00</td>\n",
              "      <td>Country_01</td>\n",
              "      <td>Local_03</td>\n",
              "      <td>Mining</td>\n",
              "      <td>I</td>\n",
              "      <td>III</td>\n",
              "      <td>Male</td>\n",
              "      <td>Third Party (Remote)</td>\n",
              "      <td>Manual Tools</td>\n",
              "      <td>In the sub-station MILPO located at level +170...</td>\n",
              "    </tr>\n",
              "    <tr>\n",
              "      <th>3</th>\n",
              "      <td>3</td>\n",
              "      <td>2016-01-08 00:00:00</td>\n",
              "      <td>Country_01</td>\n",
              "      <td>Local_04</td>\n",
              "      <td>Mining</td>\n",
              "      <td>I</td>\n",
              "      <td>I</td>\n",
              "      <td>Male</td>\n",
              "      <td>Third Party</td>\n",
              "      <td>Others</td>\n",
              "      <td>Being 9:45 am. approximately in the Nv. 1880 C...</td>\n",
              "    </tr>\n",
              "    <tr>\n",
              "      <th>4</th>\n",
              "      <td>4</td>\n",
              "      <td>2016-01-10 00:00:00</td>\n",
              "      <td>Country_01</td>\n",
              "      <td>Local_04</td>\n",
              "      <td>Mining</td>\n",
              "      <td>IV</td>\n",
              "      <td>IV</td>\n",
              "      <td>Male</td>\n",
              "      <td>Third Party</td>\n",
              "      <td>Others</td>\n",
              "      <td>Approximately at 11:45 a.m. in circumstances t...</td>\n",
              "    </tr>\n",
              "  </tbody>\n",
              "</table>\n",
              "</div>"
            ],
            "text/plain": [
              "   Unnamed: 0  ...                                        Description\n",
              "0           0  ...  While removing the drill rod of the Jumbo 08 f...\n",
              "1           1  ...  During the activation of a sodium sulphide pum...\n",
              "2           2  ...  In the sub-station MILPO located at level +170...\n",
              "3           3  ...  Being 9:45 am. approximately in the Nv. 1880 C...\n",
              "4           4  ...  Approximately at 11:45 a.m. in circumstances t...\n",
              "\n",
              "[5 rows x 11 columns]"
            ]
          },
          "metadata": {
            "tags": []
          },
          "execution_count": 6
        }
      ]
    },
    {
      "cell_type": "code",
      "metadata": {
        "id": "H5DL6v-V7Hao"
      },
      "source": [
        "# Let's drop the Unnamed column \n",
        "input_data1=input_data.drop(columns=['Unnamed: 0'],axis=1)"
      ],
      "execution_count": 7,
      "outputs": []
    },
    {
      "cell_type": "code",
      "metadata": {
        "colab": {
          "base_uri": "https://localhost:8080/",
          "height": 204
        },
        "id": "QsfMLMHV7HdP",
        "outputId": "5d7a562e-d3ae-414f-9353-6632d599e9b1"
      },
      "source": [
        "input_data1.head()"
      ],
      "execution_count": 8,
      "outputs": [
        {
          "output_type": "execute_result",
          "data": {
            "text/html": [
              "<div>\n",
              "<style scoped>\n",
              "    .dataframe tbody tr th:only-of-type {\n",
              "        vertical-align: middle;\n",
              "    }\n",
              "\n",
              "    .dataframe tbody tr th {\n",
              "        vertical-align: top;\n",
              "    }\n",
              "\n",
              "    .dataframe thead th {\n",
              "        text-align: right;\n",
              "    }\n",
              "</style>\n",
              "<table border=\"1\" class=\"dataframe\">\n",
              "  <thead>\n",
              "    <tr style=\"text-align: right;\">\n",
              "      <th></th>\n",
              "      <th>Data</th>\n",
              "      <th>Countries</th>\n",
              "      <th>Local</th>\n",
              "      <th>Industry Sector</th>\n",
              "      <th>Accident Level</th>\n",
              "      <th>Potential Accident Level</th>\n",
              "      <th>Genre</th>\n",
              "      <th>Employee or Third Party</th>\n",
              "      <th>Critical Risk</th>\n",
              "      <th>Description</th>\n",
              "    </tr>\n",
              "  </thead>\n",
              "  <tbody>\n",
              "    <tr>\n",
              "      <th>0</th>\n",
              "      <td>2016-01-01 00:00:00</td>\n",
              "      <td>Country_01</td>\n",
              "      <td>Local_01</td>\n",
              "      <td>Mining</td>\n",
              "      <td>I</td>\n",
              "      <td>IV</td>\n",
              "      <td>Male</td>\n",
              "      <td>Third Party</td>\n",
              "      <td>Pressed</td>\n",
              "      <td>While removing the drill rod of the Jumbo 08 f...</td>\n",
              "    </tr>\n",
              "    <tr>\n",
              "      <th>1</th>\n",
              "      <td>2016-01-02 00:00:00</td>\n",
              "      <td>Country_02</td>\n",
              "      <td>Local_02</td>\n",
              "      <td>Mining</td>\n",
              "      <td>I</td>\n",
              "      <td>IV</td>\n",
              "      <td>Male</td>\n",
              "      <td>Employee</td>\n",
              "      <td>Pressurized Systems</td>\n",
              "      <td>During the activation of a sodium sulphide pum...</td>\n",
              "    </tr>\n",
              "    <tr>\n",
              "      <th>2</th>\n",
              "      <td>2016-01-06 00:00:00</td>\n",
              "      <td>Country_01</td>\n",
              "      <td>Local_03</td>\n",
              "      <td>Mining</td>\n",
              "      <td>I</td>\n",
              "      <td>III</td>\n",
              "      <td>Male</td>\n",
              "      <td>Third Party (Remote)</td>\n",
              "      <td>Manual Tools</td>\n",
              "      <td>In the sub-station MILPO located at level +170...</td>\n",
              "    </tr>\n",
              "    <tr>\n",
              "      <th>3</th>\n",
              "      <td>2016-01-08 00:00:00</td>\n",
              "      <td>Country_01</td>\n",
              "      <td>Local_04</td>\n",
              "      <td>Mining</td>\n",
              "      <td>I</td>\n",
              "      <td>I</td>\n",
              "      <td>Male</td>\n",
              "      <td>Third Party</td>\n",
              "      <td>Others</td>\n",
              "      <td>Being 9:45 am. approximately in the Nv. 1880 C...</td>\n",
              "    </tr>\n",
              "    <tr>\n",
              "      <th>4</th>\n",
              "      <td>2016-01-10 00:00:00</td>\n",
              "      <td>Country_01</td>\n",
              "      <td>Local_04</td>\n",
              "      <td>Mining</td>\n",
              "      <td>IV</td>\n",
              "      <td>IV</td>\n",
              "      <td>Male</td>\n",
              "      <td>Third Party</td>\n",
              "      <td>Others</td>\n",
              "      <td>Approximately at 11:45 a.m. in circumstances t...</td>\n",
              "    </tr>\n",
              "  </tbody>\n",
              "</table>\n",
              "</div>"
            ],
            "text/plain": [
              "                  Data  ...                                        Description\n",
              "0  2016-01-01 00:00:00  ...  While removing the drill rod of the Jumbo 08 f...\n",
              "1  2016-01-02 00:00:00  ...  During the activation of a sodium sulphide pum...\n",
              "2  2016-01-06 00:00:00  ...  In the sub-station MILPO located at level +170...\n",
              "3  2016-01-08 00:00:00  ...  Being 9:45 am. approximately in the Nv. 1880 C...\n",
              "4  2016-01-10 00:00:00  ...  Approximately at 11:45 a.m. in circumstances t...\n",
              "\n",
              "[5 rows x 10 columns]"
            ]
          },
          "metadata": {
            "tags": []
          },
          "execution_count": 8
        }
      ]
    },
    {
      "cell_type": "code",
      "metadata": {
        "id": "mN3qDwA_7Hhg"
      },
      "source": [
        "# As per the exploratory data analysis, we noted that from the time data, only 'day of the week' and 'quarter' had significance, and therefore we will only use those 2 parameters for our model augmentation  \n",
        "\n",
        "input_data1.Data = pd.to_datetime(input_data1.Data)\n",
        "\n",
        "input_data1['dayofweek'] =input_data1['Data'].dt.dayofweek\n",
        "input_data1['quarter'] =input_data1['Data'].dt.quarter"
      ],
      "execution_count": 9,
      "outputs": []
    },
    {
      "cell_type": "code",
      "metadata": {
        "id": "PZ2y9YMV7Hli"
      },
      "source": [
        "# Let's reorder the data\n",
        "\n",
        "input_data2=input_data1[['dayofweek', 'quarter','Countries', 'Local','Industry Sector', 'Accident Level', 'Potential Accident Level','Genre', 'Employee or Third Party',\n",
        "                     'Critical Risk','Description']]"
      ],
      "execution_count": 10,
      "outputs": []
    },
    {
      "cell_type": "code",
      "metadata": {
        "colab": {
          "base_uri": "https://localhost:8080/",
          "height": 419
        },
        "id": "kRIv3ycW8Z91",
        "outputId": "57cfe4bc-2efa-453f-95ba-12e69b861911"
      },
      "source": [
        "input_data2"
      ],
      "execution_count": 11,
      "outputs": [
        {
          "output_type": "execute_result",
          "data": {
            "text/html": [
              "<div>\n",
              "<style scoped>\n",
              "    .dataframe tbody tr th:only-of-type {\n",
              "        vertical-align: middle;\n",
              "    }\n",
              "\n",
              "    .dataframe tbody tr th {\n",
              "        vertical-align: top;\n",
              "    }\n",
              "\n",
              "    .dataframe thead th {\n",
              "        text-align: right;\n",
              "    }\n",
              "</style>\n",
              "<table border=\"1\" class=\"dataframe\">\n",
              "  <thead>\n",
              "    <tr style=\"text-align: right;\">\n",
              "      <th></th>\n",
              "      <th>dayofweek</th>\n",
              "      <th>quarter</th>\n",
              "      <th>Countries</th>\n",
              "      <th>Local</th>\n",
              "      <th>Industry Sector</th>\n",
              "      <th>Accident Level</th>\n",
              "      <th>Potential Accident Level</th>\n",
              "      <th>Genre</th>\n",
              "      <th>Employee or Third Party</th>\n",
              "      <th>Critical Risk</th>\n",
              "      <th>Description</th>\n",
              "    </tr>\n",
              "  </thead>\n",
              "  <tbody>\n",
              "    <tr>\n",
              "      <th>0</th>\n",
              "      <td>4</td>\n",
              "      <td>1</td>\n",
              "      <td>Country_01</td>\n",
              "      <td>Local_01</td>\n",
              "      <td>Mining</td>\n",
              "      <td>I</td>\n",
              "      <td>IV</td>\n",
              "      <td>Male</td>\n",
              "      <td>Third Party</td>\n",
              "      <td>Pressed</td>\n",
              "      <td>While removing the drill rod of the Jumbo 08 f...</td>\n",
              "    </tr>\n",
              "    <tr>\n",
              "      <th>1</th>\n",
              "      <td>5</td>\n",
              "      <td>1</td>\n",
              "      <td>Country_02</td>\n",
              "      <td>Local_02</td>\n",
              "      <td>Mining</td>\n",
              "      <td>I</td>\n",
              "      <td>IV</td>\n",
              "      <td>Male</td>\n",
              "      <td>Employee</td>\n",
              "      <td>Pressurized Systems</td>\n",
              "      <td>During the activation of a sodium sulphide pum...</td>\n",
              "    </tr>\n",
              "    <tr>\n",
              "      <th>2</th>\n",
              "      <td>2</td>\n",
              "      <td>1</td>\n",
              "      <td>Country_01</td>\n",
              "      <td>Local_03</td>\n",
              "      <td>Mining</td>\n",
              "      <td>I</td>\n",
              "      <td>III</td>\n",
              "      <td>Male</td>\n",
              "      <td>Third Party (Remote)</td>\n",
              "      <td>Manual Tools</td>\n",
              "      <td>In the sub-station MILPO located at level +170...</td>\n",
              "    </tr>\n",
              "    <tr>\n",
              "      <th>3</th>\n",
              "      <td>4</td>\n",
              "      <td>1</td>\n",
              "      <td>Country_01</td>\n",
              "      <td>Local_04</td>\n",
              "      <td>Mining</td>\n",
              "      <td>I</td>\n",
              "      <td>I</td>\n",
              "      <td>Male</td>\n",
              "      <td>Third Party</td>\n",
              "      <td>Others</td>\n",
              "      <td>Being 9:45 am. approximately in the Nv. 1880 C...</td>\n",
              "    </tr>\n",
              "    <tr>\n",
              "      <th>4</th>\n",
              "      <td>6</td>\n",
              "      <td>1</td>\n",
              "      <td>Country_01</td>\n",
              "      <td>Local_04</td>\n",
              "      <td>Mining</td>\n",
              "      <td>IV</td>\n",
              "      <td>IV</td>\n",
              "      <td>Male</td>\n",
              "      <td>Third Party</td>\n",
              "      <td>Others</td>\n",
              "      <td>Approximately at 11:45 a.m. in circumstances t...</td>\n",
              "    </tr>\n",
              "    <tr>\n",
              "      <th>...</th>\n",
              "      <td>...</td>\n",
              "      <td>...</td>\n",
              "      <td>...</td>\n",
              "      <td>...</td>\n",
              "      <td>...</td>\n",
              "      <td>...</td>\n",
              "      <td>...</td>\n",
              "      <td>...</td>\n",
              "      <td>...</td>\n",
              "      <td>...</td>\n",
              "      <td>...</td>\n",
              "    </tr>\n",
              "    <tr>\n",
              "      <th>420</th>\n",
              "      <td>1</td>\n",
              "      <td>3</td>\n",
              "      <td>Country_01</td>\n",
              "      <td>Local_04</td>\n",
              "      <td>Mining</td>\n",
              "      <td>I</td>\n",
              "      <td>III</td>\n",
              "      <td>Male</td>\n",
              "      <td>Third Party</td>\n",
              "      <td>Others</td>\n",
              "      <td>Being approximately 5:00 a.m. approximately, w...</td>\n",
              "    </tr>\n",
              "    <tr>\n",
              "      <th>421</th>\n",
              "      <td>1</td>\n",
              "      <td>3</td>\n",
              "      <td>Country_01</td>\n",
              "      <td>Local_03</td>\n",
              "      <td>Mining</td>\n",
              "      <td>I</td>\n",
              "      <td>II</td>\n",
              "      <td>Female</td>\n",
              "      <td>Employee</td>\n",
              "      <td>Others</td>\n",
              "      <td>The collaborator moved from the infrastructure...</td>\n",
              "    </tr>\n",
              "    <tr>\n",
              "      <th>422</th>\n",
              "      <td>2</td>\n",
              "      <td>3</td>\n",
              "      <td>Country_02</td>\n",
              "      <td>Local_09</td>\n",
              "      <td>Metals</td>\n",
              "      <td>I</td>\n",
              "      <td>II</td>\n",
              "      <td>Male</td>\n",
              "      <td>Employee</td>\n",
              "      <td>Venomous Animals</td>\n",
              "      <td>During the environmental monitoring activity i...</td>\n",
              "    </tr>\n",
              "    <tr>\n",
              "      <th>423</th>\n",
              "      <td>3</td>\n",
              "      <td>3</td>\n",
              "      <td>Country_02</td>\n",
              "      <td>Local_05</td>\n",
              "      <td>Metals</td>\n",
              "      <td>I</td>\n",
              "      <td>II</td>\n",
              "      <td>Male</td>\n",
              "      <td>Employee</td>\n",
              "      <td>Cut</td>\n",
              "      <td>The Employee performed the activity of strippi...</td>\n",
              "    </tr>\n",
              "    <tr>\n",
              "      <th>424</th>\n",
              "      <td>6</td>\n",
              "      <td>3</td>\n",
              "      <td>Country_01</td>\n",
              "      <td>Local_04</td>\n",
              "      <td>Mining</td>\n",
              "      <td>I</td>\n",
              "      <td>II</td>\n",
              "      <td>Female</td>\n",
              "      <td>Third Party</td>\n",
              "      <td>Fall prevention (same level)</td>\n",
              "      <td>At 10:00 a.m., when the assistant cleaned the ...</td>\n",
              "    </tr>\n",
              "  </tbody>\n",
              "</table>\n",
              "<p>425 rows × 11 columns</p>\n",
              "</div>"
            ],
            "text/plain": [
              "     dayofweek  ...                                        Description\n",
              "0            4  ...  While removing the drill rod of the Jumbo 08 f...\n",
              "1            5  ...  During the activation of a sodium sulphide pum...\n",
              "2            2  ...  In the sub-station MILPO located at level +170...\n",
              "3            4  ...  Being 9:45 am. approximately in the Nv. 1880 C...\n",
              "4            6  ...  Approximately at 11:45 a.m. in circumstances t...\n",
              "..         ...  ...                                                ...\n",
              "420          1  ...  Being approximately 5:00 a.m. approximately, w...\n",
              "421          1  ...  The collaborator moved from the infrastructure...\n",
              "422          2  ...  During the environmental monitoring activity i...\n",
              "423          3  ...  The Employee performed the activity of strippi...\n",
              "424          6  ...  At 10:00 a.m., when the assistant cleaned the ...\n",
              "\n",
              "[425 rows x 11 columns]"
            ]
          },
          "metadata": {
            "tags": []
          },
          "execution_count": 11
        }
      ]
    },
    {
      "cell_type": "code",
      "metadata": {
        "id": "DpEUYosmSmo7"
      },
      "source": [
        "# Although there was some sort of variability caused in the actual accident level by 'day of the week' and 'quarter' as seen in the EDA analysis previously;\n",
        "# Let's look at the impact of the 'day of the week' and 'quarter' against the potential accident level\n",
        "\n",
        "dayofweek_table = pd.pivot_table(input_data2, values=['Genre'],index=['dayofweek'], columns=['Potential Accident Level'], \n",
        "                             aggfunc=np.count_nonzero, margins=True)"
      ],
      "execution_count": 13,
      "outputs": []
    },
    {
      "cell_type": "code",
      "metadata": {
        "colab": {
          "base_uri": "https://localhost:8080/",
          "height": 359
        },
        "id": "dJdxomM0S-da",
        "outputId": "63d1a9f0-0fa9-49fb-bd7c-98661a79da3b"
      },
      "source": [
        "# It seems that there were no link/impact on the potential accident level from the day of the week parameter, although risk seems to be highes in levels 2-4, in day3  \n",
        "dayofweek_table"
      ],
      "execution_count": 15,
      "outputs": [
        {
          "output_type": "execute_result",
          "data": {
            "text/html": [
              "<div>\n",
              "<style scoped>\n",
              "    .dataframe tbody tr th:only-of-type {\n",
              "        vertical-align: middle;\n",
              "    }\n",
              "\n",
              "    .dataframe tbody tr th {\n",
              "        vertical-align: top;\n",
              "    }\n",
              "\n",
              "    .dataframe thead tr th {\n",
              "        text-align: left;\n",
              "    }\n",
              "\n",
              "    .dataframe thead tr:last-of-type th {\n",
              "        text-align: right;\n",
              "    }\n",
              "</style>\n",
              "<table border=\"1\" class=\"dataframe\">\n",
              "  <thead>\n",
              "    <tr>\n",
              "      <th></th>\n",
              "      <th colspan=\"7\" halign=\"left\">Genre</th>\n",
              "    </tr>\n",
              "    <tr>\n",
              "      <th>Potential Accident Level</th>\n",
              "      <th>I</th>\n",
              "      <th>II</th>\n",
              "      <th>III</th>\n",
              "      <th>IV</th>\n",
              "      <th>V</th>\n",
              "      <th>VI</th>\n",
              "      <th>All</th>\n",
              "    </tr>\n",
              "    <tr>\n",
              "      <th>dayofweek</th>\n",
              "      <th></th>\n",
              "      <th></th>\n",
              "      <th></th>\n",
              "      <th></th>\n",
              "      <th></th>\n",
              "      <th></th>\n",
              "      <th></th>\n",
              "    </tr>\n",
              "  </thead>\n",
              "  <tbody>\n",
              "    <tr>\n",
              "      <th>0</th>\n",
              "      <td>3.0</td>\n",
              "      <td>13.0</td>\n",
              "      <td>14.0</td>\n",
              "      <td>22.0</td>\n",
              "      <td>1.0</td>\n",
              "      <td>NaN</td>\n",
              "      <td>53</td>\n",
              "    </tr>\n",
              "    <tr>\n",
              "      <th>1</th>\n",
              "      <td>8.0</td>\n",
              "      <td>19.0</td>\n",
              "      <td>16.0</td>\n",
              "      <td>23.0</td>\n",
              "      <td>4.0</td>\n",
              "      <td>NaN</td>\n",
              "      <td>70</td>\n",
              "    </tr>\n",
              "    <tr>\n",
              "      <th>2</th>\n",
              "      <td>13.0</td>\n",
              "      <td>10.0</td>\n",
              "      <td>18.0</td>\n",
              "      <td>16.0</td>\n",
              "      <td>5.0</td>\n",
              "      <td>1.0</td>\n",
              "      <td>63</td>\n",
              "    </tr>\n",
              "    <tr>\n",
              "      <th>3</th>\n",
              "      <td>11.0</td>\n",
              "      <td>21.0</td>\n",
              "      <td>20.0</td>\n",
              "      <td>23.0</td>\n",
              "      <td>4.0</td>\n",
              "      <td>NaN</td>\n",
              "      <td>79</td>\n",
              "    </tr>\n",
              "    <tr>\n",
              "      <th>4</th>\n",
              "      <td>5.0</td>\n",
              "      <td>14.0</td>\n",
              "      <td>13.0</td>\n",
              "      <td>22.0</td>\n",
              "      <td>8.0</td>\n",
              "      <td>NaN</td>\n",
              "      <td>62</td>\n",
              "    </tr>\n",
              "    <tr>\n",
              "      <th>5</th>\n",
              "      <td>8.0</td>\n",
              "      <td>8.0</td>\n",
              "      <td>13.0</td>\n",
              "      <td>20.0</td>\n",
              "      <td>8.0</td>\n",
              "      <td>NaN</td>\n",
              "      <td>57</td>\n",
              "    </tr>\n",
              "    <tr>\n",
              "      <th>6</th>\n",
              "      <td>1.0</td>\n",
              "      <td>10.0</td>\n",
              "      <td>12.0</td>\n",
              "      <td>17.0</td>\n",
              "      <td>1.0</td>\n",
              "      <td>NaN</td>\n",
              "      <td>41</td>\n",
              "    </tr>\n",
              "    <tr>\n",
              "      <th>All</th>\n",
              "      <td>49.0</td>\n",
              "      <td>95.0</td>\n",
              "      <td>106.0</td>\n",
              "      <td>143.0</td>\n",
              "      <td>31.0</td>\n",
              "      <td>1.0</td>\n",
              "      <td>425</td>\n",
              "    </tr>\n",
              "  </tbody>\n",
              "</table>\n",
              "</div>"
            ],
            "text/plain": [
              "                         Genre                                    \n",
              "Potential Accident Level     I    II    III     IV     V   VI  All\n",
              "dayofweek                                                         \n",
              "0                          3.0  13.0   14.0   22.0   1.0  NaN   53\n",
              "1                          8.0  19.0   16.0   23.0   4.0  NaN   70\n",
              "2                         13.0  10.0   18.0   16.0   5.0  1.0   63\n",
              "3                         11.0  21.0   20.0   23.0   4.0  NaN   79\n",
              "4                          5.0  14.0   13.0   22.0   8.0  NaN   62\n",
              "5                          8.0   8.0   13.0   20.0   8.0  NaN   57\n",
              "6                          1.0  10.0   12.0   17.0   1.0  NaN   41\n",
              "All                       49.0  95.0  106.0  143.0  31.0  1.0  425"
            ]
          },
          "metadata": {
            "tags": []
          },
          "execution_count": 15
        }
      ]
    },
    {
      "cell_type": "code",
      "metadata": {
        "id": "u5rS98w9TzCU"
      },
      "source": [
        "quarter_table = pd.pivot_table(input_data2, values=['Genre'],index=['quarter'], columns=['Potential Accident Level'], \n",
        "                             aggfunc=np.count_nonzero, margins=True)"
      ],
      "execution_count": 17,
      "outputs": []
    },
    {
      "cell_type": "code",
      "metadata": {
        "colab": {
          "base_uri": "https://localhost:8080/",
          "height": 266
        },
        "id": "MD_ibAxKUTtS",
        "outputId": "a0c1dd92-8399-46d9-d1d5-b546008a9b87"
      },
      "source": [
        "# Again there seems no particular information gain from the quarter feature, though there seems to be a general decrease in risk of accident levels in the 4th quarter, compared to 1st three quarters \n",
        "\n",
        "quarter_table"
      ],
      "execution_count": 18,
      "outputs": [
        {
          "output_type": "execute_result",
          "data": {
            "text/html": [
              "<div>\n",
              "<style scoped>\n",
              "    .dataframe tbody tr th:only-of-type {\n",
              "        vertical-align: middle;\n",
              "    }\n",
              "\n",
              "    .dataframe tbody tr th {\n",
              "        vertical-align: top;\n",
              "    }\n",
              "\n",
              "    .dataframe thead tr th {\n",
              "        text-align: left;\n",
              "    }\n",
              "\n",
              "    .dataframe thead tr:last-of-type th {\n",
              "        text-align: right;\n",
              "    }\n",
              "</style>\n",
              "<table border=\"1\" class=\"dataframe\">\n",
              "  <thead>\n",
              "    <tr>\n",
              "      <th></th>\n",
              "      <th colspan=\"7\" halign=\"left\">Genre</th>\n",
              "    </tr>\n",
              "    <tr>\n",
              "      <th>Potential Accident Level</th>\n",
              "      <th>I</th>\n",
              "      <th>II</th>\n",
              "      <th>III</th>\n",
              "      <th>IV</th>\n",
              "      <th>V</th>\n",
              "      <th>VI</th>\n",
              "      <th>All</th>\n",
              "    </tr>\n",
              "    <tr>\n",
              "      <th>quarter</th>\n",
              "      <th></th>\n",
              "      <th></th>\n",
              "      <th></th>\n",
              "      <th></th>\n",
              "      <th></th>\n",
              "      <th></th>\n",
              "      <th></th>\n",
              "    </tr>\n",
              "  </thead>\n",
              "  <tbody>\n",
              "    <tr>\n",
              "      <th>1</th>\n",
              "      <td>20.0</td>\n",
              "      <td>24.0</td>\n",
              "      <td>44.0</td>\n",
              "      <td>50.0</td>\n",
              "      <td>15.0</td>\n",
              "      <td>1.0</td>\n",
              "      <td>154</td>\n",
              "    </tr>\n",
              "    <tr>\n",
              "      <th>2</th>\n",
              "      <td>22.0</td>\n",
              "      <td>28.0</td>\n",
              "      <td>36.0</td>\n",
              "      <td>46.0</td>\n",
              "      <td>12.0</td>\n",
              "      <td>NaN</td>\n",
              "      <td>144</td>\n",
              "    </tr>\n",
              "    <tr>\n",
              "      <th>3</th>\n",
              "      <td>5.0</td>\n",
              "      <td>26.0</td>\n",
              "      <td>14.0</td>\n",
              "      <td>22.0</td>\n",
              "      <td>2.0</td>\n",
              "      <td>NaN</td>\n",
              "      <td>69</td>\n",
              "    </tr>\n",
              "    <tr>\n",
              "      <th>4</th>\n",
              "      <td>2.0</td>\n",
              "      <td>17.0</td>\n",
              "      <td>12.0</td>\n",
              "      <td>25.0</td>\n",
              "      <td>2.0</td>\n",
              "      <td>NaN</td>\n",
              "      <td>58</td>\n",
              "    </tr>\n",
              "    <tr>\n",
              "      <th>All</th>\n",
              "      <td>49.0</td>\n",
              "      <td>95.0</td>\n",
              "      <td>106.0</td>\n",
              "      <td>143.0</td>\n",
              "      <td>31.0</td>\n",
              "      <td>1.0</td>\n",
              "      <td>425</td>\n",
              "    </tr>\n",
              "  </tbody>\n",
              "</table>\n",
              "</div>"
            ],
            "text/plain": [
              "                         Genre                                    \n",
              "Potential Accident Level     I    II    III     IV     V   VI  All\n",
              "quarter                                                           \n",
              "1                         20.0  24.0   44.0   50.0  15.0  1.0  154\n",
              "2                         22.0  28.0   36.0   46.0  12.0  NaN  144\n",
              "3                          5.0  26.0   14.0   22.0   2.0  NaN   69\n",
              "4                          2.0  17.0   12.0   25.0   2.0  NaN   58\n",
              "All                       49.0  95.0  106.0  143.0  31.0  1.0  425"
            ]
          },
          "metadata": {
            "tags": []
          },
          "execution_count": 18
        }
      ]
    },
    {
      "cell_type": "code",
      "metadata": {
        "id": "qiAxxQ1S8K9D"
      },
      "source": [
        "# Since we are only going to use 4 variable for the augmented model - Day of week, quarter, Countries and Local - we can drop the other variables\n",
        "\n",
        "input_data3=input_data2[['dayofweek','quarter','Countries','Local']]"
      ],
      "execution_count": 19,
      "outputs": []
    },
    {
      "cell_type": "code",
      "metadata": {
        "colab": {
          "base_uri": "https://localhost:8080/",
          "height": 204
        },
        "id": "-uyvhWpg9V9h",
        "outputId": "3c87af12-b377-4440-f9c1-e3bf51f74cdf"
      },
      "source": [
        "input_data3.head()"
      ],
      "execution_count": 20,
      "outputs": [
        {
          "output_type": "execute_result",
          "data": {
            "text/html": [
              "<div>\n",
              "<style scoped>\n",
              "    .dataframe tbody tr th:only-of-type {\n",
              "        vertical-align: middle;\n",
              "    }\n",
              "\n",
              "    .dataframe tbody tr th {\n",
              "        vertical-align: top;\n",
              "    }\n",
              "\n",
              "    .dataframe thead th {\n",
              "        text-align: right;\n",
              "    }\n",
              "</style>\n",
              "<table border=\"1\" class=\"dataframe\">\n",
              "  <thead>\n",
              "    <tr style=\"text-align: right;\">\n",
              "      <th></th>\n",
              "      <th>dayofweek</th>\n",
              "      <th>quarter</th>\n",
              "      <th>Countries</th>\n",
              "      <th>Local</th>\n",
              "    </tr>\n",
              "  </thead>\n",
              "  <tbody>\n",
              "    <tr>\n",
              "      <th>0</th>\n",
              "      <td>4</td>\n",
              "      <td>1</td>\n",
              "      <td>Country_01</td>\n",
              "      <td>Local_01</td>\n",
              "    </tr>\n",
              "    <tr>\n",
              "      <th>1</th>\n",
              "      <td>5</td>\n",
              "      <td>1</td>\n",
              "      <td>Country_02</td>\n",
              "      <td>Local_02</td>\n",
              "    </tr>\n",
              "    <tr>\n",
              "      <th>2</th>\n",
              "      <td>2</td>\n",
              "      <td>1</td>\n",
              "      <td>Country_01</td>\n",
              "      <td>Local_03</td>\n",
              "    </tr>\n",
              "    <tr>\n",
              "      <th>3</th>\n",
              "      <td>4</td>\n",
              "      <td>1</td>\n",
              "      <td>Country_01</td>\n",
              "      <td>Local_04</td>\n",
              "    </tr>\n",
              "    <tr>\n",
              "      <th>4</th>\n",
              "      <td>6</td>\n",
              "      <td>1</td>\n",
              "      <td>Country_01</td>\n",
              "      <td>Local_04</td>\n",
              "    </tr>\n",
              "  </tbody>\n",
              "</table>\n",
              "</div>"
            ],
            "text/plain": [
              "   dayofweek  quarter   Countries     Local\n",
              "0          4        1  Country_01  Local_01\n",
              "1          5        1  Country_02  Local_02\n",
              "2          2        1  Country_01  Local_03\n",
              "3          4        1  Country_01  Local_04\n",
              "4          6        1  Country_01  Local_04"
            ]
          },
          "metadata": {
            "tags": []
          },
          "execution_count": 20
        }
      ]
    },
    {
      "cell_type": "code",
      "metadata": {
        "id": "PW-d2fLm8zlR"
      },
      "source": [
        "X1=input_data3"
      ],
      "execution_count": 21,
      "outputs": []
    },
    {
      "cell_type": "code",
      "metadata": {
        "id": "cDEVUkET840Y"
      },
      "source": [
        "# Let's extract the target variable which is the \n",
        "y1=pd.DataFrame(input_data2['Potential Accident Level'])"
      ],
      "execution_count": 28,
      "outputs": []
    },
    {
      "cell_type": "code",
      "metadata": {
        "colab": {
          "base_uri": "https://localhost:8080/"
        },
        "id": "SnQv_15P9mui",
        "outputId": "a091e7b6-7247-4129-a5c5-dedaf43964a8"
      },
      "source": [
        "print(X1.shape)\n",
        "print(y1.shape)"
      ],
      "execution_count": 23,
      "outputs": [
        {
          "output_type": "stream",
          "text": [
            "(425, 4)\n",
            "(425,)\n"
          ],
          "name": "stdout"
        }
      ]
    },
    {
      "cell_type": "code",
      "metadata": {
        "id": "eJnkDZ9OQVWa"
      },
      "source": [
        "# let's convert the country and local columns in the dataset into one-hot encoded values before splitting the data\n",
        "cat_cols=['Countries','Local']\n",
        "X2= pd.get_dummies(X1, columns = cat_cols)"
      ],
      "execution_count": 24,
      "outputs": []
    },
    {
      "cell_type": "code",
      "metadata": {
        "colab": {
          "base_uri": "https://localhost:8080/",
          "height": 456
        },
        "id": "76fdws_0hl3D",
        "outputId": "dcf761e3-9e71-420d-ea5c-d5dff6f4dbe4"
      },
      "source": [
        "print(X2.shape)\n",
        "X2"
      ],
      "execution_count": 25,
      "outputs": [
        {
          "output_type": "stream",
          "text": [
            "(425, 17)\n"
          ],
          "name": "stdout"
        },
        {
          "output_type": "execute_result",
          "data": {
            "text/html": [
              "<div>\n",
              "<style scoped>\n",
              "    .dataframe tbody tr th:only-of-type {\n",
              "        vertical-align: middle;\n",
              "    }\n",
              "\n",
              "    .dataframe tbody tr th {\n",
              "        vertical-align: top;\n",
              "    }\n",
              "\n",
              "    .dataframe thead th {\n",
              "        text-align: right;\n",
              "    }\n",
              "</style>\n",
              "<table border=\"1\" class=\"dataframe\">\n",
              "  <thead>\n",
              "    <tr style=\"text-align: right;\">\n",
              "      <th></th>\n",
              "      <th>dayofweek</th>\n",
              "      <th>quarter</th>\n",
              "      <th>Countries_Country_01</th>\n",
              "      <th>Countries_Country_02</th>\n",
              "      <th>Countries_Country_03</th>\n",
              "      <th>Local_Local_01</th>\n",
              "      <th>Local_Local_02</th>\n",
              "      <th>Local_Local_03</th>\n",
              "      <th>Local_Local_04</th>\n",
              "      <th>Local_Local_05</th>\n",
              "      <th>Local_Local_06</th>\n",
              "      <th>Local_Local_07</th>\n",
              "      <th>Local_Local_08</th>\n",
              "      <th>Local_Local_09</th>\n",
              "      <th>Local_Local_10</th>\n",
              "      <th>Local_Local_11</th>\n",
              "      <th>Local_Local_12</th>\n",
              "    </tr>\n",
              "  </thead>\n",
              "  <tbody>\n",
              "    <tr>\n",
              "      <th>0</th>\n",
              "      <td>4</td>\n",
              "      <td>1</td>\n",
              "      <td>1</td>\n",
              "      <td>0</td>\n",
              "      <td>0</td>\n",
              "      <td>1</td>\n",
              "      <td>0</td>\n",
              "      <td>0</td>\n",
              "      <td>0</td>\n",
              "      <td>0</td>\n",
              "      <td>0</td>\n",
              "      <td>0</td>\n",
              "      <td>0</td>\n",
              "      <td>0</td>\n",
              "      <td>0</td>\n",
              "      <td>0</td>\n",
              "      <td>0</td>\n",
              "    </tr>\n",
              "    <tr>\n",
              "      <th>1</th>\n",
              "      <td>5</td>\n",
              "      <td>1</td>\n",
              "      <td>0</td>\n",
              "      <td>1</td>\n",
              "      <td>0</td>\n",
              "      <td>0</td>\n",
              "      <td>1</td>\n",
              "      <td>0</td>\n",
              "      <td>0</td>\n",
              "      <td>0</td>\n",
              "      <td>0</td>\n",
              "      <td>0</td>\n",
              "      <td>0</td>\n",
              "      <td>0</td>\n",
              "      <td>0</td>\n",
              "      <td>0</td>\n",
              "      <td>0</td>\n",
              "    </tr>\n",
              "    <tr>\n",
              "      <th>2</th>\n",
              "      <td>2</td>\n",
              "      <td>1</td>\n",
              "      <td>1</td>\n",
              "      <td>0</td>\n",
              "      <td>0</td>\n",
              "      <td>0</td>\n",
              "      <td>0</td>\n",
              "      <td>1</td>\n",
              "      <td>0</td>\n",
              "      <td>0</td>\n",
              "      <td>0</td>\n",
              "      <td>0</td>\n",
              "      <td>0</td>\n",
              "      <td>0</td>\n",
              "      <td>0</td>\n",
              "      <td>0</td>\n",
              "      <td>0</td>\n",
              "    </tr>\n",
              "    <tr>\n",
              "      <th>3</th>\n",
              "      <td>4</td>\n",
              "      <td>1</td>\n",
              "      <td>1</td>\n",
              "      <td>0</td>\n",
              "      <td>0</td>\n",
              "      <td>0</td>\n",
              "      <td>0</td>\n",
              "      <td>0</td>\n",
              "      <td>1</td>\n",
              "      <td>0</td>\n",
              "      <td>0</td>\n",
              "      <td>0</td>\n",
              "      <td>0</td>\n",
              "      <td>0</td>\n",
              "      <td>0</td>\n",
              "      <td>0</td>\n",
              "      <td>0</td>\n",
              "    </tr>\n",
              "    <tr>\n",
              "      <th>4</th>\n",
              "      <td>6</td>\n",
              "      <td>1</td>\n",
              "      <td>1</td>\n",
              "      <td>0</td>\n",
              "      <td>0</td>\n",
              "      <td>0</td>\n",
              "      <td>0</td>\n",
              "      <td>0</td>\n",
              "      <td>1</td>\n",
              "      <td>0</td>\n",
              "      <td>0</td>\n",
              "      <td>0</td>\n",
              "      <td>0</td>\n",
              "      <td>0</td>\n",
              "      <td>0</td>\n",
              "      <td>0</td>\n",
              "      <td>0</td>\n",
              "    </tr>\n",
              "    <tr>\n",
              "      <th>...</th>\n",
              "      <td>...</td>\n",
              "      <td>...</td>\n",
              "      <td>...</td>\n",
              "      <td>...</td>\n",
              "      <td>...</td>\n",
              "      <td>...</td>\n",
              "      <td>...</td>\n",
              "      <td>...</td>\n",
              "      <td>...</td>\n",
              "      <td>...</td>\n",
              "      <td>...</td>\n",
              "      <td>...</td>\n",
              "      <td>...</td>\n",
              "      <td>...</td>\n",
              "      <td>...</td>\n",
              "      <td>...</td>\n",
              "      <td>...</td>\n",
              "    </tr>\n",
              "    <tr>\n",
              "      <th>420</th>\n",
              "      <td>1</td>\n",
              "      <td>3</td>\n",
              "      <td>1</td>\n",
              "      <td>0</td>\n",
              "      <td>0</td>\n",
              "      <td>0</td>\n",
              "      <td>0</td>\n",
              "      <td>0</td>\n",
              "      <td>1</td>\n",
              "      <td>0</td>\n",
              "      <td>0</td>\n",
              "      <td>0</td>\n",
              "      <td>0</td>\n",
              "      <td>0</td>\n",
              "      <td>0</td>\n",
              "      <td>0</td>\n",
              "      <td>0</td>\n",
              "    </tr>\n",
              "    <tr>\n",
              "      <th>421</th>\n",
              "      <td>1</td>\n",
              "      <td>3</td>\n",
              "      <td>1</td>\n",
              "      <td>0</td>\n",
              "      <td>0</td>\n",
              "      <td>0</td>\n",
              "      <td>0</td>\n",
              "      <td>1</td>\n",
              "      <td>0</td>\n",
              "      <td>0</td>\n",
              "      <td>0</td>\n",
              "      <td>0</td>\n",
              "      <td>0</td>\n",
              "      <td>0</td>\n",
              "      <td>0</td>\n",
              "      <td>0</td>\n",
              "      <td>0</td>\n",
              "    </tr>\n",
              "    <tr>\n",
              "      <th>422</th>\n",
              "      <td>2</td>\n",
              "      <td>3</td>\n",
              "      <td>0</td>\n",
              "      <td>1</td>\n",
              "      <td>0</td>\n",
              "      <td>0</td>\n",
              "      <td>0</td>\n",
              "      <td>0</td>\n",
              "      <td>0</td>\n",
              "      <td>0</td>\n",
              "      <td>0</td>\n",
              "      <td>0</td>\n",
              "      <td>0</td>\n",
              "      <td>1</td>\n",
              "      <td>0</td>\n",
              "      <td>0</td>\n",
              "      <td>0</td>\n",
              "    </tr>\n",
              "    <tr>\n",
              "      <th>423</th>\n",
              "      <td>3</td>\n",
              "      <td>3</td>\n",
              "      <td>0</td>\n",
              "      <td>1</td>\n",
              "      <td>0</td>\n",
              "      <td>0</td>\n",
              "      <td>0</td>\n",
              "      <td>0</td>\n",
              "      <td>0</td>\n",
              "      <td>1</td>\n",
              "      <td>0</td>\n",
              "      <td>0</td>\n",
              "      <td>0</td>\n",
              "      <td>0</td>\n",
              "      <td>0</td>\n",
              "      <td>0</td>\n",
              "      <td>0</td>\n",
              "    </tr>\n",
              "    <tr>\n",
              "      <th>424</th>\n",
              "      <td>6</td>\n",
              "      <td>3</td>\n",
              "      <td>1</td>\n",
              "      <td>0</td>\n",
              "      <td>0</td>\n",
              "      <td>0</td>\n",
              "      <td>0</td>\n",
              "      <td>0</td>\n",
              "      <td>1</td>\n",
              "      <td>0</td>\n",
              "      <td>0</td>\n",
              "      <td>0</td>\n",
              "      <td>0</td>\n",
              "      <td>0</td>\n",
              "      <td>0</td>\n",
              "      <td>0</td>\n",
              "      <td>0</td>\n",
              "    </tr>\n",
              "  </tbody>\n",
              "</table>\n",
              "<p>425 rows × 17 columns</p>\n",
              "</div>"
            ],
            "text/plain": [
              "     dayofweek  quarter  ...  Local_Local_11  Local_Local_12\n",
              "0            4        1  ...               0               0\n",
              "1            5        1  ...               0               0\n",
              "2            2        1  ...               0               0\n",
              "3            4        1  ...               0               0\n",
              "4            6        1  ...               0               0\n",
              "..         ...      ...  ...             ...             ...\n",
              "420          1        3  ...               0               0\n",
              "421          1        3  ...               0               0\n",
              "422          2        3  ...               0               0\n",
              "423          3        3  ...               0               0\n",
              "424          6        3  ...               0               0\n",
              "\n",
              "[425 rows x 17 columns]"
            ]
          },
          "metadata": {
            "tags": []
          },
          "execution_count": 25
        }
      ]
    },
    {
      "cell_type": "code",
      "metadata": {
        "colab": {
          "base_uri": "https://localhost:8080/",
          "height": 419
        },
        "id": "iI5-RI-gVkcQ",
        "outputId": "2be1cf3c-516a-4178-d6f6-3b9ec33ffa9e"
      },
      "source": [
        "y1"
      ],
      "execution_count": 29,
      "outputs": [
        {
          "output_type": "execute_result",
          "data": {
            "text/html": [
              "<div>\n",
              "<style scoped>\n",
              "    .dataframe tbody tr th:only-of-type {\n",
              "        vertical-align: middle;\n",
              "    }\n",
              "\n",
              "    .dataframe tbody tr th {\n",
              "        vertical-align: top;\n",
              "    }\n",
              "\n",
              "    .dataframe thead th {\n",
              "        text-align: right;\n",
              "    }\n",
              "</style>\n",
              "<table border=\"1\" class=\"dataframe\">\n",
              "  <thead>\n",
              "    <tr style=\"text-align: right;\">\n",
              "      <th></th>\n",
              "      <th>Potential Accident Level</th>\n",
              "    </tr>\n",
              "  </thead>\n",
              "  <tbody>\n",
              "    <tr>\n",
              "      <th>0</th>\n",
              "      <td>IV</td>\n",
              "    </tr>\n",
              "    <tr>\n",
              "      <th>1</th>\n",
              "      <td>IV</td>\n",
              "    </tr>\n",
              "    <tr>\n",
              "      <th>2</th>\n",
              "      <td>III</td>\n",
              "    </tr>\n",
              "    <tr>\n",
              "      <th>3</th>\n",
              "      <td>I</td>\n",
              "    </tr>\n",
              "    <tr>\n",
              "      <th>4</th>\n",
              "      <td>IV</td>\n",
              "    </tr>\n",
              "    <tr>\n",
              "      <th>...</th>\n",
              "      <td>...</td>\n",
              "    </tr>\n",
              "    <tr>\n",
              "      <th>420</th>\n",
              "      <td>III</td>\n",
              "    </tr>\n",
              "    <tr>\n",
              "      <th>421</th>\n",
              "      <td>II</td>\n",
              "    </tr>\n",
              "    <tr>\n",
              "      <th>422</th>\n",
              "      <td>II</td>\n",
              "    </tr>\n",
              "    <tr>\n",
              "      <th>423</th>\n",
              "      <td>II</td>\n",
              "    </tr>\n",
              "    <tr>\n",
              "      <th>424</th>\n",
              "      <td>II</td>\n",
              "    </tr>\n",
              "  </tbody>\n",
              "</table>\n",
              "<p>425 rows × 1 columns</p>\n",
              "</div>"
            ],
            "text/plain": [
              "    Potential Accident Level\n",
              "0                         IV\n",
              "1                         IV\n",
              "2                        III\n",
              "3                          I\n",
              "4                         IV\n",
              "..                       ...\n",
              "420                      III\n",
              "421                       II\n",
              "422                       II\n",
              "423                       II\n",
              "424                       II\n",
              "\n",
              "[425 rows x 1 columns]"
            ]
          },
          "metadata": {
            "tags": []
          },
          "execution_count": 29
        }
      ]
    },
    {
      "cell_type": "code",
      "metadata": {
        "id": "fWKDJ5PTVhTd"
      },
      "source": [
        "y1['label'] = y1['Potential Accident Level'].replace({'I':0, 'II':1, 'III':2, 'IV':3, 'V':4, 'VI':4})"
      ],
      "execution_count": 77,
      "outputs": []
    },
    {
      "cell_type": "code",
      "metadata": {
        "id": "3zD-7MxdV2Me"
      },
      "source": [
        "y=y1['label']"
      ],
      "execution_count": 78,
      "outputs": []
    },
    {
      "cell_type": "code",
      "metadata": {
        "colab": {
          "base_uri": "https://localhost:8080/"
        },
        "id": "meiYuugAY4p_",
        "outputId": "49022f1c-9232-4388-dcba-fa5ec195dafc"
      },
      "source": [
        "y.shape"
      ],
      "execution_count": 79,
      "outputs": [
        {
          "output_type": "execute_result",
          "data": {
            "text/plain": [
              "(425,)"
            ]
          },
          "metadata": {
            "tags": []
          },
          "execution_count": 79
        }
      ]
    },
    {
      "cell_type": "code",
      "metadata": {
        "id": "LMJaFPU8cYl_"
      },
      "source": [
        "y2=pd.DataFrame(y1.label)"
      ],
      "execution_count": 52,
      "outputs": []
    },
    {
      "cell_type": "code",
      "metadata": {
        "colab": {
          "base_uri": "https://localhost:8080/",
          "height": 204
        },
        "id": "2EJRWiq9W-mL",
        "outputId": "6984b4d8-be0b-4669-c1c7-1b3e4c00c1d3"
      },
      "source": [
        "y2.head()"
      ],
      "execution_count": 53,
      "outputs": [
        {
          "output_type": "execute_result",
          "data": {
            "text/html": [
              "<div>\n",
              "<style scoped>\n",
              "    .dataframe tbody tr th:only-of-type {\n",
              "        vertical-align: middle;\n",
              "    }\n",
              "\n",
              "    .dataframe tbody tr th {\n",
              "        vertical-align: top;\n",
              "    }\n",
              "\n",
              "    .dataframe thead th {\n",
              "        text-align: right;\n",
              "    }\n",
              "</style>\n",
              "<table border=\"1\" class=\"dataframe\">\n",
              "  <thead>\n",
              "    <tr style=\"text-align: right;\">\n",
              "      <th></th>\n",
              "      <th>label</th>\n",
              "    </tr>\n",
              "  </thead>\n",
              "  <tbody>\n",
              "    <tr>\n",
              "      <th>0</th>\n",
              "      <td>3</td>\n",
              "    </tr>\n",
              "    <tr>\n",
              "      <th>1</th>\n",
              "      <td>3</td>\n",
              "    </tr>\n",
              "    <tr>\n",
              "      <th>2</th>\n",
              "      <td>2</td>\n",
              "    </tr>\n",
              "    <tr>\n",
              "      <th>3</th>\n",
              "      <td>0</td>\n",
              "    </tr>\n",
              "    <tr>\n",
              "      <th>4</th>\n",
              "      <td>3</td>\n",
              "    </tr>\n",
              "  </tbody>\n",
              "</table>\n",
              "</div>"
            ],
            "text/plain": [
              "   label\n",
              "0      3\n",
              "1      3\n",
              "2      2\n",
              "3      0\n",
              "4      3"
            ]
          },
          "metadata": {
            "tags": []
          },
          "execution_count": 53
        }
      ]
    },
    {
      "cell_type": "code",
      "metadata": {
        "colab": {
          "base_uri": "https://localhost:8080/"
        },
        "id": "kFVQayRYXIV4",
        "outputId": "e124af66-3ff0-4bfc-b6ed-4634b76a7551"
      },
      "source": [
        "y2['label'].unique()"
      ],
      "execution_count": 54,
      "outputs": [
        {
          "output_type": "execute_result",
          "data": {
            "text/plain": [
              "array([3, 2, 0, 1, 4])"
            ]
          },
          "metadata": {
            "tags": []
          },
          "execution_count": 54
        }
      ]
    },
    {
      "cell_type": "code",
      "metadata": {
        "id": "Z1Rq52hYcrIz"
      },
      "source": [
        "# Since the target labels are non-binary and we will use categorical crossentropy followed by softmax layer to compile the model, we need to convert the label encoded values to categorial using the keras function\n",
        "from tensorflow.keras.utils import to_categorical\n",
        "\n",
        "y2 = to_categorical(y2)"
      ],
      "execution_count": 55,
      "outputs": []
    },
    {
      "cell_type": "code",
      "metadata": {
        "colab": {
          "base_uri": "https://localhost:8080/"
        },
        "id": "yt_2VYdqWpXM",
        "outputId": "b52471e4-3ce7-47df-8176-50670287aaee"
      },
      "source": [
        "y2"
      ],
      "execution_count": 58,
      "outputs": [
        {
          "output_type": "execute_result",
          "data": {
            "text/plain": [
              "array([[0., 0., 0., 1., 0.],\n",
              "       [0., 0., 0., 1., 0.],\n",
              "       [0., 0., 1., 0., 0.],\n",
              "       ...,\n",
              "       [0., 1., 0., 0., 0.],\n",
              "       [0., 1., 0., 0., 0.],\n",
              "       [0., 1., 0., 0., 0.]], dtype=float32)"
            ]
          },
          "metadata": {
            "tags": []
          },
          "execution_count": 58
        }
      ]
    },
    {
      "cell_type": "code",
      "metadata": {
        "colab": {
          "base_uri": "https://localhost:8080/"
        },
        "id": "acKEmLQakiqf",
        "outputId": "0b11618f-f792-4698-8483-eb41757c5508"
      },
      "source": [
        "y2.shape"
      ],
      "execution_count": 59,
      "outputs": [
        {
          "output_type": "execute_result",
          "data": {
            "text/plain": [
              "(425, 5)"
            ]
          },
          "metadata": {
            "tags": []
          },
          "execution_count": 59
        }
      ]
    },
    {
      "cell_type": "code",
      "metadata": {
        "id": "94j_dX0CfaSD"
      },
      "source": [
        "from sklearn.model_selection import train_test_split"
      ],
      "execution_count": 60,
      "outputs": []
    },
    {
      "cell_type": "code",
      "metadata": {
        "id": "h8ryleq6fMTj"
      },
      "source": [
        "x_train1, x_test1, y_train1, y_test1 = train_test_split(X2, y, test_size=0.25, random_state=100)"
      ],
      "execution_count": 80,
      "outputs": []
    },
    {
      "cell_type": "code",
      "metadata": {
        "colab": {
          "base_uri": "https://localhost:8080/"
        },
        "id": "ZTmnf_GyfkPP",
        "outputId": "aa8207b4-4ea4-4178-d17a-9a48bff9dd4a"
      },
      "source": [
        "print(x_train1.shape)\n",
        "print(x_test1.shape)"
      ],
      "execution_count": 81,
      "outputs": [
        {
          "output_type": "stream",
          "text": [
            "(318, 17)\n",
            "(107, 17)\n"
          ],
          "name": "stdout"
        }
      ]
    },
    {
      "cell_type": "code",
      "metadata": {
        "colab": {
          "base_uri": "https://localhost:8080/"
        },
        "id": "xD_zAC_IfsZP",
        "outputId": "35268bf9-3420-4907-98d2-140fcccf0bfd"
      },
      "source": [
        "print(y_train1.shape)\n",
        "print(y_test1.shape)"
      ],
      "execution_count": 82,
      "outputs": [
        {
          "output_type": "stream",
          "text": [
            "(318,)\n",
            "(107,)\n"
          ],
          "name": "stdout"
        }
      ]
    },
    {
      "cell_type": "code",
      "metadata": {
        "id": "rCbk0gzwY-WT"
      },
      "source": [
        "y_train2 = to_categorical(y_train1)\n",
        "y_test2 =  to_categorical(y_test1)"
      ],
      "execution_count": 83,
      "outputs": []
    },
    {
      "cell_type": "code",
      "metadata": {
        "colab": {
          "base_uri": "https://localhost:8080/",
          "height": 224
        },
        "id": "qhnfFF8xfwSy",
        "outputId": "82523d96-8e4a-444d-b2a5-bc43e0d807e2"
      },
      "source": [
        "# We will need to convert the Countries and Local variaables to one-hot encoded values \n",
        "x_train1.head()"
      ],
      "execution_count": 64,
      "outputs": [
        {
          "output_type": "execute_result",
          "data": {
            "text/html": [
              "<div>\n",
              "<style scoped>\n",
              "    .dataframe tbody tr th:only-of-type {\n",
              "        vertical-align: middle;\n",
              "    }\n",
              "\n",
              "    .dataframe tbody tr th {\n",
              "        vertical-align: top;\n",
              "    }\n",
              "\n",
              "    .dataframe thead th {\n",
              "        text-align: right;\n",
              "    }\n",
              "</style>\n",
              "<table border=\"1\" class=\"dataframe\">\n",
              "  <thead>\n",
              "    <tr style=\"text-align: right;\">\n",
              "      <th></th>\n",
              "      <th>dayofweek</th>\n",
              "      <th>quarter</th>\n",
              "      <th>Countries_Country_01</th>\n",
              "      <th>Countries_Country_02</th>\n",
              "      <th>Countries_Country_03</th>\n",
              "      <th>Local_Local_01</th>\n",
              "      <th>Local_Local_02</th>\n",
              "      <th>Local_Local_03</th>\n",
              "      <th>Local_Local_04</th>\n",
              "      <th>Local_Local_05</th>\n",
              "      <th>Local_Local_06</th>\n",
              "      <th>Local_Local_07</th>\n",
              "      <th>Local_Local_08</th>\n",
              "      <th>Local_Local_09</th>\n",
              "      <th>Local_Local_10</th>\n",
              "      <th>Local_Local_11</th>\n",
              "      <th>Local_Local_12</th>\n",
              "    </tr>\n",
              "  </thead>\n",
              "  <tbody>\n",
              "    <tr>\n",
              "      <th>358</th>\n",
              "      <td>2</td>\n",
              "      <td>1</td>\n",
              "      <td>1</td>\n",
              "      <td>0</td>\n",
              "      <td>0</td>\n",
              "      <td>0</td>\n",
              "      <td>0</td>\n",
              "      <td>0</td>\n",
              "      <td>0</td>\n",
              "      <td>0</td>\n",
              "      <td>1</td>\n",
              "      <td>0</td>\n",
              "      <td>0</td>\n",
              "      <td>0</td>\n",
              "      <td>0</td>\n",
              "      <td>0</td>\n",
              "      <td>0</td>\n",
              "    </tr>\n",
              "    <tr>\n",
              "      <th>319</th>\n",
              "      <td>2</td>\n",
              "      <td>1</td>\n",
              "      <td>0</td>\n",
              "      <td>1</td>\n",
              "      <td>0</td>\n",
              "      <td>0</td>\n",
              "      <td>0</td>\n",
              "      <td>0</td>\n",
              "      <td>0</td>\n",
              "      <td>0</td>\n",
              "      <td>0</td>\n",
              "      <td>0</td>\n",
              "      <td>1</td>\n",
              "      <td>0</td>\n",
              "      <td>0</td>\n",
              "      <td>0</td>\n",
              "      <td>0</td>\n",
              "    </tr>\n",
              "    <tr>\n",
              "      <th>351</th>\n",
              "      <td>2</td>\n",
              "      <td>1</td>\n",
              "      <td>1</td>\n",
              "      <td>0</td>\n",
              "      <td>0</td>\n",
              "      <td>1</td>\n",
              "      <td>0</td>\n",
              "      <td>0</td>\n",
              "      <td>0</td>\n",
              "      <td>0</td>\n",
              "      <td>0</td>\n",
              "      <td>0</td>\n",
              "      <td>0</td>\n",
              "      <td>0</td>\n",
              "      <td>0</td>\n",
              "      <td>0</td>\n",
              "      <td>0</td>\n",
              "    </tr>\n",
              "    <tr>\n",
              "      <th>361</th>\n",
              "      <td>4</td>\n",
              "      <td>1</td>\n",
              "      <td>0</td>\n",
              "      <td>1</td>\n",
              "      <td>0</td>\n",
              "      <td>0</td>\n",
              "      <td>0</td>\n",
              "      <td>0</td>\n",
              "      <td>0</td>\n",
              "      <td>1</td>\n",
              "      <td>0</td>\n",
              "      <td>0</td>\n",
              "      <td>0</td>\n",
              "      <td>0</td>\n",
              "      <td>0</td>\n",
              "      <td>0</td>\n",
              "      <td>0</td>\n",
              "    </tr>\n",
              "    <tr>\n",
              "      <th>404</th>\n",
              "      <td>6</td>\n",
              "      <td>2</td>\n",
              "      <td>1</td>\n",
              "      <td>0</td>\n",
              "      <td>0</td>\n",
              "      <td>0</td>\n",
              "      <td>0</td>\n",
              "      <td>0</td>\n",
              "      <td>1</td>\n",
              "      <td>0</td>\n",
              "      <td>0</td>\n",
              "      <td>0</td>\n",
              "      <td>0</td>\n",
              "      <td>0</td>\n",
              "      <td>0</td>\n",
              "      <td>0</td>\n",
              "      <td>0</td>\n",
              "    </tr>\n",
              "  </tbody>\n",
              "</table>\n",
              "</div>"
            ],
            "text/plain": [
              "     dayofweek  quarter  ...  Local_Local_11  Local_Local_12\n",
              "358          2        1  ...               0               0\n",
              "319          2        1  ...               0               0\n",
              "351          2        1  ...               0               0\n",
              "361          4        1  ...               0               0\n",
              "404          6        2  ...               0               0\n",
              "\n",
              "[5 rows x 17 columns]"
            ]
          },
          "metadata": {
            "tags": []
          },
          "execution_count": 64
        }
      ]
    },
    {
      "cell_type": "code",
      "metadata": {
        "colab": {
          "base_uri": "https://localhost:8080/",
          "height": 224
        },
        "id": "KCnfJbrlh82m",
        "outputId": "7eebfd45-720c-44ef-9e12-38d59e34664f"
      },
      "source": [
        "x_test1.head()"
      ],
      "execution_count": 65,
      "outputs": [
        {
          "output_type": "execute_result",
          "data": {
            "text/html": [
              "<div>\n",
              "<style scoped>\n",
              "    .dataframe tbody tr th:only-of-type {\n",
              "        vertical-align: middle;\n",
              "    }\n",
              "\n",
              "    .dataframe tbody tr th {\n",
              "        vertical-align: top;\n",
              "    }\n",
              "\n",
              "    .dataframe thead th {\n",
              "        text-align: right;\n",
              "    }\n",
              "</style>\n",
              "<table border=\"1\" class=\"dataframe\">\n",
              "  <thead>\n",
              "    <tr style=\"text-align: right;\">\n",
              "      <th></th>\n",
              "      <th>dayofweek</th>\n",
              "      <th>quarter</th>\n",
              "      <th>Countries_Country_01</th>\n",
              "      <th>Countries_Country_02</th>\n",
              "      <th>Countries_Country_03</th>\n",
              "      <th>Local_Local_01</th>\n",
              "      <th>Local_Local_02</th>\n",
              "      <th>Local_Local_03</th>\n",
              "      <th>Local_Local_04</th>\n",
              "      <th>Local_Local_05</th>\n",
              "      <th>Local_Local_06</th>\n",
              "      <th>Local_Local_07</th>\n",
              "      <th>Local_Local_08</th>\n",
              "      <th>Local_Local_09</th>\n",
              "      <th>Local_Local_10</th>\n",
              "      <th>Local_Local_11</th>\n",
              "      <th>Local_Local_12</th>\n",
              "    </tr>\n",
              "  </thead>\n",
              "  <tbody>\n",
              "    <tr>\n",
              "      <th>315</th>\n",
              "      <td>6</td>\n",
              "      <td>1</td>\n",
              "      <td>0</td>\n",
              "      <td>0</td>\n",
              "      <td>1</td>\n",
              "      <td>0</td>\n",
              "      <td>0</td>\n",
              "      <td>0</td>\n",
              "      <td>0</td>\n",
              "      <td>0</td>\n",
              "      <td>0</td>\n",
              "      <td>0</td>\n",
              "      <td>0</td>\n",
              "      <td>0</td>\n",
              "      <td>1</td>\n",
              "      <td>0</td>\n",
              "      <td>0</td>\n",
              "    </tr>\n",
              "    <tr>\n",
              "      <th>271</th>\n",
              "      <td>0</td>\n",
              "      <td>4</td>\n",
              "      <td>0</td>\n",
              "      <td>1</td>\n",
              "      <td>0</td>\n",
              "      <td>0</td>\n",
              "      <td>0</td>\n",
              "      <td>0</td>\n",
              "      <td>0</td>\n",
              "      <td>1</td>\n",
              "      <td>0</td>\n",
              "      <td>0</td>\n",
              "      <td>0</td>\n",
              "      <td>0</td>\n",
              "      <td>0</td>\n",
              "      <td>0</td>\n",
              "      <td>0</td>\n",
              "    </tr>\n",
              "    <tr>\n",
              "      <th>406</th>\n",
              "      <td>6</td>\n",
              "      <td>2</td>\n",
              "      <td>1</td>\n",
              "      <td>0</td>\n",
              "      <td>0</td>\n",
              "      <td>1</td>\n",
              "      <td>0</td>\n",
              "      <td>0</td>\n",
              "      <td>0</td>\n",
              "      <td>0</td>\n",
              "      <td>0</td>\n",
              "      <td>0</td>\n",
              "      <td>0</td>\n",
              "      <td>0</td>\n",
              "      <td>0</td>\n",
              "      <td>0</td>\n",
              "      <td>0</td>\n",
              "    </tr>\n",
              "    <tr>\n",
              "      <th>300</th>\n",
              "      <td>4</td>\n",
              "      <td>1</td>\n",
              "      <td>1</td>\n",
              "      <td>0</td>\n",
              "      <td>0</td>\n",
              "      <td>0</td>\n",
              "      <td>0</td>\n",
              "      <td>0</td>\n",
              "      <td>0</td>\n",
              "      <td>0</td>\n",
              "      <td>1</td>\n",
              "      <td>0</td>\n",
              "      <td>0</td>\n",
              "      <td>0</td>\n",
              "      <td>0</td>\n",
              "      <td>0</td>\n",
              "      <td>0</td>\n",
              "    </tr>\n",
              "    <tr>\n",
              "      <th>23</th>\n",
              "      <td>0</td>\n",
              "      <td>1</td>\n",
              "      <td>0</td>\n",
              "      <td>1</td>\n",
              "      <td>0</td>\n",
              "      <td>0</td>\n",
              "      <td>1</td>\n",
              "      <td>0</td>\n",
              "      <td>0</td>\n",
              "      <td>0</td>\n",
              "      <td>0</td>\n",
              "      <td>0</td>\n",
              "      <td>0</td>\n",
              "      <td>0</td>\n",
              "      <td>0</td>\n",
              "      <td>0</td>\n",
              "      <td>0</td>\n",
              "    </tr>\n",
              "  </tbody>\n",
              "</table>\n",
              "</div>"
            ],
            "text/plain": [
              "     dayofweek  quarter  ...  Local_Local_11  Local_Local_12\n",
              "315          6        1  ...               0               0\n",
              "271          0        4  ...               0               0\n",
              "406          6        2  ...               0               0\n",
              "300          4        1  ...               0               0\n",
              "23           0        1  ...               0               0\n",
              "\n",
              "[5 rows x 17 columns]"
            ]
          },
          "metadata": {
            "tags": []
          },
          "execution_count": 65
        }
      ]
    },
    {
      "cell_type": "code",
      "metadata": {
        "colab": {
          "base_uri": "https://localhost:8080/"
        },
        "id": "jAM2XFMtiwtz",
        "outputId": "31d5371b-ebac-4bf8-b094-c2ecc81bd468"
      },
      "source": [
        "y_train2"
      ],
      "execution_count": 84,
      "outputs": [
        {
          "output_type": "execute_result",
          "data": {
            "text/plain": [
              "array([[0., 0., 0., 0., 1.],\n",
              "       [0., 1., 0., 0., 0.],\n",
              "       [0., 0., 0., 0., 1.],\n",
              "       ...,\n",
              "       [0., 0., 0., 0., 1.],\n",
              "       [0., 0., 1., 0., 0.],\n",
              "       [0., 0., 0., 1., 0.]], dtype=float32)"
            ]
          },
          "metadata": {
            "tags": []
          },
          "execution_count": 84
        }
      ]
    },
    {
      "cell_type": "code",
      "metadata": {
        "colab": {
          "base_uri": "https://localhost:8080/"
        },
        "id": "UhiScamaGTbI",
        "outputId": "9cffad39-d402-4b80-dafb-15863fcfc926"
      },
      "source": [
        "y_test2"
      ],
      "execution_count": 86,
      "outputs": [
        {
          "output_type": "execute_result",
          "data": {
            "text/plain": [
              "array([[0., 1., 0., 0., 0.],\n",
              "       [0., 1., 0., 0., 0.],\n",
              "       [0., 0., 0., 1., 0.],\n",
              "       [0., 0., 0., 1., 0.],\n",
              "       [0., 1., 0., 0., 0.],\n",
              "       [0., 0., 1., 0., 0.],\n",
              "       [0., 0., 0., 1., 0.],\n",
              "       [0., 0., 0., 1., 0.],\n",
              "       [0., 0., 1., 0., 0.],\n",
              "       [0., 0., 1., 0., 0.],\n",
              "       [1., 0., 0., 0., 0.],\n",
              "       [0., 0., 1., 0., 0.],\n",
              "       [0., 0., 1., 0., 0.],\n",
              "       [0., 0., 0., 1., 0.],\n",
              "       [0., 0., 0., 1., 0.],\n",
              "       [1., 0., 0., 0., 0.],\n",
              "       [0., 0., 1., 0., 0.],\n",
              "       [0., 0., 0., 1., 0.],\n",
              "       [0., 0., 1., 0., 0.],\n",
              "       [0., 1., 0., 0., 0.],\n",
              "       [0., 1., 0., 0., 0.],\n",
              "       [0., 0., 1., 0., 0.],\n",
              "       [0., 1., 0., 0., 0.],\n",
              "       [0., 1., 0., 0., 0.],\n",
              "       [0., 1., 0., 0., 0.],\n",
              "       [0., 0., 1., 0., 0.],\n",
              "       [0., 1., 0., 0., 0.],\n",
              "       [0., 0., 0., 1., 0.],\n",
              "       [1., 0., 0., 0., 0.],\n",
              "       [1., 0., 0., 0., 0.],\n",
              "       [0., 1., 0., 0., 0.],\n",
              "       [1., 0., 0., 0., 0.],\n",
              "       [0., 0., 1., 0., 0.],\n",
              "       [0., 0., 0., 1., 0.],\n",
              "       [0., 1., 0., 0., 0.],\n",
              "       [0., 0., 0., 1., 0.],\n",
              "       [0., 1., 0., 0., 0.],\n",
              "       [0., 0., 0., 1., 0.],\n",
              "       [0., 0., 0., 1., 0.],\n",
              "       [0., 1., 0., 0., 0.],\n",
              "       [0., 0., 1., 0., 0.],\n",
              "       [0., 1., 0., 0., 0.],\n",
              "       [0., 0., 1., 0., 0.],\n",
              "       [0., 0., 1., 0., 0.],\n",
              "       [0., 0., 0., 1., 0.],\n",
              "       [0., 0., 1., 0., 0.],\n",
              "       [0., 1., 0., 0., 0.],\n",
              "       [0., 1., 0., 0., 0.],\n",
              "       [0., 0., 0., 0., 1.],\n",
              "       [0., 1., 0., 0., 0.],\n",
              "       [0., 0., 0., 1., 0.],\n",
              "       [0., 1., 0., 0., 0.],\n",
              "       [0., 0., 1., 0., 0.],\n",
              "       [0., 1., 0., 0., 0.],\n",
              "       [0., 1., 0., 0., 0.],\n",
              "       [0., 0., 0., 1., 0.],\n",
              "       [0., 0., 0., 1., 0.],\n",
              "       [0., 1., 0., 0., 0.],\n",
              "       [0., 1., 0., 0., 0.],\n",
              "       [0., 0., 0., 1., 0.],\n",
              "       [0., 0., 0., 1., 0.],\n",
              "       [0., 0., 0., 1., 0.],\n",
              "       [0., 0., 0., 0., 1.],\n",
              "       [0., 0., 1., 0., 0.],\n",
              "       [0., 0., 1., 0., 0.],\n",
              "       [0., 0., 0., 1., 0.],\n",
              "       [0., 0., 0., 1., 0.],\n",
              "       [0., 0., 0., 1., 0.],\n",
              "       [0., 0., 0., 1., 0.],\n",
              "       [1., 0., 0., 0., 0.],\n",
              "       [0., 1., 0., 0., 0.],\n",
              "       [0., 0., 1., 0., 0.],\n",
              "       [0., 1., 0., 0., 0.],\n",
              "       [0., 0., 0., 1., 0.],\n",
              "       [1., 0., 0., 0., 0.],\n",
              "       [1., 0., 0., 0., 0.],\n",
              "       [0., 0., 0., 1., 0.],\n",
              "       [1., 0., 0., 0., 0.],\n",
              "       [0., 0., 0., 1., 0.],\n",
              "       [0., 0., 1., 0., 0.],\n",
              "       [0., 0., 0., 1., 0.],\n",
              "       [0., 0., 0., 1., 0.],\n",
              "       [0., 0., 1., 0., 0.],\n",
              "       [0., 1., 0., 0., 0.],\n",
              "       [0., 0., 0., 1., 0.],\n",
              "       [0., 1., 0., 0., 0.],\n",
              "       [0., 0., 1., 0., 0.],\n",
              "       [0., 1., 0., 0., 0.],\n",
              "       [0., 0., 0., 0., 1.],\n",
              "       [0., 1., 0., 0., 0.],\n",
              "       [0., 0., 0., 1., 0.],\n",
              "       [0., 0., 0., 1., 0.],\n",
              "       [1., 0., 0., 0., 0.],\n",
              "       [1., 0., 0., 0., 0.],\n",
              "       [0., 0., 1., 0., 0.],\n",
              "       [0., 0., 0., 1., 0.],\n",
              "       [1., 0., 0., 0., 0.],\n",
              "       [0., 1., 0., 0., 0.],\n",
              "       [0., 0., 1., 0., 0.],\n",
              "       [0., 0., 0., 0., 1.],\n",
              "       [0., 0., 0., 1., 0.],\n",
              "       [0., 0., 0., 1., 0.],\n",
              "       [0., 1., 0., 0., 0.],\n",
              "       [0., 0., 0., 1., 0.],\n",
              "       [1., 0., 0., 0., 0.],\n",
              "       [0., 0., 1., 0., 0.],\n",
              "       [1., 0., 0., 0., 0.]], dtype=float32)"
            ]
          },
          "metadata": {
            "tags": []
          },
          "execution_count": 86
        }
      ]
    },
    {
      "cell_type": "code",
      "metadata": {
        "id": "eVqvq9vha-lS"
      },
      "source": [
        "# We will include 4 aspects - 1) Day of the week, 2) Quarter of the year 3) Country and 4) Location \n",
        "# However, since the Categories - Country and Local have been converted to onehot encoded values, the no. of columns have increased from 4 to 17 as seen above \n",
        "# Model1\n",
        "\n",
        "\n",
        "Length =17\n",
        "\n",
        "from tensorflow.python.framework.ops import disable_eager_execution\n",
        "disable_eager_execution()\n",
        "\n",
        "\n",
        "input_aug= Input(shape=(Length,)) \n",
        "input_aug1= tf.expand_dims(input_aug, axis=-1)  #  to add another dimension \n",
        "\n",
        "conv1= Conv1D(64, kernel_size=4,activation='relu')(input_aug1)\n",
        "#drop1=Dropout(0.15)(conv1) ---> did not add any/ much value to the model ac accuracy  \n",
        "conv2= Conv1D(128, kernel_size=10,activation='relu')(conv1)\n",
        "#drop2=Dropout(0.15)(conv2)--->did not add any/ much  value to the model \n",
        "flat1 = Flatten()(conv2)\n",
        "dense1= Dense(100,activation='relu')(flat1)\n",
        "output= Dense(5, activation='softmax')(dense1)\n",
        "\n",
        "aug_model = Model(inputs=input_aug, outputs=output)\n",
        "aug_model.compile(loss='categorical_crossentropy', optimizer='adam', metrics=['acc'])"
      ],
      "execution_count": 91,
      "outputs": []
    },
    {
      "cell_type": "code",
      "metadata": {
        "colab": {
          "base_uri": "https://localhost:8080/"
        },
        "id": "DyaxE1Xs9vVp",
        "outputId": "f9662d8f-a761-4e9f-f2e6-abda454c124e"
      },
      "source": [
        "# Let's look at the model summary \n",
        "print(aug_model.summary())"
      ],
      "execution_count": 89,
      "outputs": [
        {
          "output_type": "stream",
          "text": [
            "Model: \"model_3\"\n",
            "_________________________________________________________________\n",
            "Layer (type)                 Output Shape              Param #   \n",
            "=================================================================\n",
            "input_5 (InputLayer)         [(None, 17)]              0         \n",
            "_________________________________________________________________\n",
            "tf_op_layer_ExpandDims_4 (Te [(None, 17, 1)]           0         \n",
            "_________________________________________________________________\n",
            "conv1d_8 (Conv1D)            (None, 14, 64)            320       \n",
            "_________________________________________________________________\n",
            "conv1d_9 (Conv1D)            (None, 5, 128)            82048     \n",
            "_________________________________________________________________\n",
            "flatten_4 (Flatten)          (None, 640)               0         \n",
            "_________________________________________________________________\n",
            "dense_6 (Dense)              (None, 100)               64100     \n",
            "_________________________________________________________________\n",
            "dense_7 (Dense)              (None, 6)                 606       \n",
            "=================================================================\n",
            "Total params: 147,074\n",
            "Trainable params: 147,074\n",
            "Non-trainable params: 0\n",
            "_________________________________________________________________\n",
            "None\n"
          ],
          "name": "stdout"
        }
      ]
    },
    {
      "cell_type": "code",
      "metadata": {
        "id": "gu2Ub3m529K4"
      },
      "source": [
        "es = EarlyStopping(monitor='val_loss',verbose=1, patience=50)\n",
        "mc = ModelCheckpoint('best_model.h5',save_best_only=True,save_weights_only=True)"
      ],
      "execution_count": 75,
      "outputs": []
    },
    {
      "cell_type": "code",
      "metadata": {
        "colab": {
          "base_uri": "https://localhost:8080/"
        },
        "id": "MUTgPIRT9vYi",
        "outputId": "342962db-9ed5-4126-ee02-25dea2c38020"
      },
      "source": [
        "history =aug_model.fit(x_train1,y_train2,epochs=200,batch_size=150,validation_data=[x_test1,y_test2],callbacks=[es,mc])"
      ],
      "execution_count": 92,
      "outputs": [
        {
          "output_type": "stream",
          "text": [
            "Train on 318 samples, validate on 107 samples\n",
            "Epoch 1/200\n",
            "150/318 [=============>................] - ETA: 17s - loss: 1.6202 - acc: 0.1267"
          ],
          "name": "stdout"
        },
        {
          "output_type": "stream",
          "text": [
            "/usr/local/lib/python3.7/dist-packages/tensorflow/python/keras/engine/training.py:2426: UserWarning: `Model.state_updates` will be removed in a future version. This property should not be used in TensorFlow 2.0, as `updates` are applied automatically.\n",
            "  warnings.warn('`Model.state_updates` will be removed in a future version. '\n"
          ],
          "name": "stderr"
        },
        {
          "output_type": "stream",
          "text": [
            "318/318 [==============================] - 16s 51ms/sample - loss: 1.6063 - acc: 0.2327 - val_loss: 1.5394 - val_acc: 0.4299\n",
            "Epoch 2/200\n",
            "318/318 [==============================] - 0s 149us/sample - loss: 1.5394 - acc: 0.4214 - val_loss: 1.4658 - val_acc: 0.4019\n",
            "Epoch 3/200\n",
            "318/318 [==============================] - 0s 151us/sample - loss: 1.4707 - acc: 0.4214 - val_loss: 1.3865 - val_acc: 0.4112\n",
            "Epoch 4/200\n",
            "318/318 [==============================] - 0s 141us/sample - loss: 1.4067 - acc: 0.4214 - val_loss: 1.3273 - val_acc: 0.4112\n",
            "Epoch 5/200\n",
            "318/318 [==============================] - 0s 149us/sample - loss: 1.3654 - acc: 0.4214 - val_loss: 1.2885 - val_acc: 0.4953\n",
            "Epoch 6/200\n",
            "318/318 [==============================] - 0s 151us/sample - loss: 1.3262 - acc: 0.4497 - val_loss: 1.2836 - val_acc: 0.4953\n",
            "Epoch 7/200\n",
            "318/318 [==============================] - 0s 64us/sample - loss: 1.3071 - acc: 0.4403 - val_loss: 1.2944 - val_acc: 0.4953\n",
            "Epoch 8/200\n",
            "318/318 [==============================] - 0s 90us/sample - loss: 1.2838 - acc: 0.4528 - val_loss: 1.3233 - val_acc: 0.4579\n",
            "Epoch 9/200\n",
            "318/318 [==============================] - 0s 68us/sample - loss: 1.2773 - acc: 0.4686 - val_loss: 1.3459 - val_acc: 0.4486\n",
            "Epoch 10/200\n",
            "318/318 [==============================] - 0s 80us/sample - loss: 1.2712 - acc: 0.4686 - val_loss: 1.3493 - val_acc: 0.4486\n",
            "Epoch 11/200\n",
            "318/318 [==============================] - 0s 77us/sample - loss: 1.2571 - acc: 0.4717 - val_loss: 1.3538 - val_acc: 0.4579\n",
            "Epoch 12/200\n",
            "318/318 [==============================] - 0s 72us/sample - loss: 1.2486 - acc: 0.4623 - val_loss: 1.3606 - val_acc: 0.4393\n",
            "Epoch 13/200\n",
            "318/318 [==============================] - 0s 72us/sample - loss: 1.2436 - acc: 0.4497 - val_loss: 1.3550 - val_acc: 0.4112\n",
            "Epoch 14/200\n",
            "318/318 [==============================] - 0s 73us/sample - loss: 1.2406 - acc: 0.4560 - val_loss: 1.3446 - val_acc: 0.4486\n",
            "Epoch 15/200\n",
            "318/318 [==============================] - 0s 66us/sample - loss: 1.2334 - acc: 0.4623 - val_loss: 1.3410 - val_acc: 0.4579\n",
            "Epoch 16/200\n",
            "318/318 [==============================] - 0s 80us/sample - loss: 1.2242 - acc: 0.4780 - val_loss: 1.3511 - val_acc: 0.4486\n",
            "Epoch 17/200\n",
            "318/318 [==============================] - 0s 66us/sample - loss: 1.2140 - acc: 0.4780 - val_loss: 1.3546 - val_acc: 0.4486\n",
            "Epoch 18/200\n",
            "318/318 [==============================] - 0s 58us/sample - loss: 1.2087 - acc: 0.4748 - val_loss: 1.3544 - val_acc: 0.4579\n",
            "Epoch 19/200\n",
            "318/318 [==============================] - 0s 75us/sample - loss: 1.2038 - acc: 0.4748 - val_loss: 1.3631 - val_acc: 0.4673\n",
            "Epoch 20/200\n",
            "318/318 [==============================] - 0s 62us/sample - loss: 1.2080 - acc: 0.4874 - val_loss: 1.3710 - val_acc: 0.4673\n",
            "Epoch 21/200\n",
            "318/318 [==============================] - 0s 64us/sample - loss: 1.1976 - acc: 0.4780 - val_loss: 1.3911 - val_acc: 0.4673\n",
            "Epoch 22/200\n",
            "318/318 [==============================] - 0s 76us/sample - loss: 1.1995 - acc: 0.4843 - val_loss: 1.4158 - val_acc: 0.4206\n",
            "Epoch 23/200\n",
            "318/318 [==============================] - 0s 67us/sample - loss: 1.2081 - acc: 0.4748 - val_loss: 1.4187 - val_acc: 0.4299\n",
            "Epoch 24/200\n",
            "318/318 [==============================] - 0s 63us/sample - loss: 1.2045 - acc: 0.4874 - val_loss: 1.4063 - val_acc: 0.4299\n",
            "Epoch 25/200\n",
            "318/318 [==============================] - 0s 72us/sample - loss: 1.1896 - acc: 0.4874 - val_loss: 1.4019 - val_acc: 0.4486\n",
            "Epoch 26/200\n",
            "318/318 [==============================] - 0s 70us/sample - loss: 1.1823 - acc: 0.4937 - val_loss: 1.4088 - val_acc: 0.4486\n",
            "Epoch 27/200\n",
            "318/318 [==============================] - 0s 85us/sample - loss: 1.1776 - acc: 0.5031 - val_loss: 1.4250 - val_acc: 0.4112\n",
            "Epoch 28/200\n",
            "318/318 [==============================] - 0s 79us/sample - loss: 1.1763 - acc: 0.4969 - val_loss: 1.4295 - val_acc: 0.4019\n",
            "Epoch 29/200\n",
            "318/318 [==============================] - 0s 62us/sample - loss: 1.1759 - acc: 0.4843 - val_loss: 1.4273 - val_acc: 0.3832\n",
            "Epoch 30/200\n",
            "318/318 [==============================] - 0s 64us/sample - loss: 1.1710 - acc: 0.4843 - val_loss: 1.4178 - val_acc: 0.3925\n",
            "Epoch 31/200\n",
            "318/318 [==============================] - 0s 85us/sample - loss: 1.1581 - acc: 0.5063 - val_loss: 1.4104 - val_acc: 0.4206\n",
            "Epoch 32/200\n",
            "318/318 [==============================] - 0s 90us/sample - loss: 1.1639 - acc: 0.4969 - val_loss: 1.4155 - val_acc: 0.4019\n",
            "Epoch 33/200\n",
            "318/318 [==============================] - 0s 98us/sample - loss: 1.1576 - acc: 0.5031 - val_loss: 1.4479 - val_acc: 0.3645\n",
            "Epoch 34/200\n",
            "318/318 [==============================] - 0s 82us/sample - loss: 1.1625 - acc: 0.4843 - val_loss: 1.4853 - val_acc: 0.3925\n",
            "Epoch 35/200\n",
            "318/318 [==============================] - 0s 71us/sample - loss: 1.1654 - acc: 0.4874 - val_loss: 1.4614 - val_acc: 0.3738\n",
            "Epoch 36/200\n",
            "318/318 [==============================] - 0s 76us/sample - loss: 1.1545 - acc: 0.4906 - val_loss: 1.4468 - val_acc: 0.4112\n",
            "Epoch 37/200\n",
            "318/318 [==============================] - 0s 69us/sample - loss: 1.1446 - acc: 0.5063 - val_loss: 1.4379 - val_acc: 0.4299\n",
            "Epoch 38/200\n",
            "318/318 [==============================] - 0s 65us/sample - loss: 1.1423 - acc: 0.5157 - val_loss: 1.4327 - val_acc: 0.4112\n",
            "Epoch 39/200\n",
            "318/318 [==============================] - 0s 68us/sample - loss: 1.1370 - acc: 0.5189 - val_loss: 1.4292 - val_acc: 0.4112\n",
            "Epoch 40/200\n",
            "318/318 [==============================] - 0s 78us/sample - loss: 1.1391 - acc: 0.5126 - val_loss: 1.4361 - val_acc: 0.4299\n",
            "Epoch 41/200\n",
            "318/318 [==============================] - 0s 73us/sample - loss: 1.1329 - acc: 0.5094 - val_loss: 1.4580 - val_acc: 0.4299\n",
            "Epoch 42/200\n",
            "318/318 [==============================] - 0s 71us/sample - loss: 1.1275 - acc: 0.4969 - val_loss: 1.4611 - val_acc: 0.4206\n",
            "Epoch 43/200\n",
            "318/318 [==============================] - 0s 69us/sample - loss: 1.1247 - acc: 0.5063 - val_loss: 1.4540 - val_acc: 0.4112\n",
            "Epoch 44/200\n",
            "318/318 [==============================] - 0s 78us/sample - loss: 1.1316 - acc: 0.5157 - val_loss: 1.4627 - val_acc: 0.4112\n",
            "Epoch 45/200\n",
            "318/318 [==============================] - 0s 82us/sample - loss: 1.1233 - acc: 0.5252 - val_loss: 1.4815 - val_acc: 0.3925\n",
            "Epoch 46/200\n",
            "318/318 [==============================] - 0s 105us/sample - loss: 1.1162 - acc: 0.5220 - val_loss: 1.5106 - val_acc: 0.3832\n",
            "Epoch 47/200\n",
            "318/318 [==============================] - 0s 80us/sample - loss: 1.1176 - acc: 0.5189 - val_loss: 1.5471 - val_acc: 0.3925\n",
            "Epoch 48/200\n",
            "318/318 [==============================] - 0s 95us/sample - loss: 1.1169 - acc: 0.5283 - val_loss: 1.5677 - val_acc: 0.3925\n",
            "Epoch 49/200\n",
            "318/318 [==============================] - 0s 72us/sample - loss: 1.1157 - acc: 0.5094 - val_loss: 1.5374 - val_acc: 0.3832\n",
            "Epoch 50/200\n",
            "318/318 [==============================] - 0s 68us/sample - loss: 1.1109 - acc: 0.5094 - val_loss: 1.5156 - val_acc: 0.3925\n",
            "Epoch 51/200\n",
            "318/318 [==============================] - 0s 83us/sample - loss: 1.1074 - acc: 0.5220 - val_loss: 1.5243 - val_acc: 0.3925\n",
            "Epoch 52/200\n",
            "318/318 [==============================] - 0s 74us/sample - loss: 1.1053 - acc: 0.5094 - val_loss: 1.5400 - val_acc: 0.3925\n",
            "Epoch 53/200\n",
            "318/318 [==============================] - 0s 66us/sample - loss: 1.1002 - acc: 0.5063 - val_loss: 1.5501 - val_acc: 0.3832\n",
            "Epoch 54/200\n",
            "318/318 [==============================] - 0s 85us/sample - loss: 1.1006 - acc: 0.5283 - val_loss: 1.5467 - val_acc: 0.3925\n",
            "Epoch 55/200\n",
            "318/318 [==============================] - 0s 83us/sample - loss: 1.0983 - acc: 0.5377 - val_loss: 1.5355 - val_acc: 0.4019\n",
            "Epoch 56/200\n",
            "318/318 [==============================] - 0s 79us/sample - loss: 1.0945 - acc: 0.5346 - val_loss: 1.5241 - val_acc: 0.4206\n",
            "Epoch 00056: early stopping\n"
          ],
          "name": "stdout"
        }
      ]
    },
    {
      "cell_type": "code",
      "metadata": {
        "id": "ZCDARsNx5JPc"
      },
      "source": [
        "# let's try a normal Dense model \n",
        "\n",
        "Length =17\n",
        "\n",
        "from tensorflow.python.framework.ops import disable_eager_execution\n",
        "disable_eager_execution()\n",
        "\n",
        "\n",
        "input1_aug= Input(shape=(Length,))\n",
        "\n",
        "dense1= Dense(50,activation='relu')(input1_aug)\n",
        "#drop1=Dropout(0.15)(conv1) ---> did not add any/ much value to the model ac accuracy  \n",
        "dense2= Dense(50,activation='relu')(dense1)\n",
        "#drop2=Dropout(0.20)(dense2) --->did not add any/ much  value to the model \n",
        "#dense3= Dense(100,activation='relu')(dense2) --->did not add any/ much  value to the model\n",
        "#dense4= Dense(50,activation='relu')(dense2) --->did not add any/ much  value to the model\n",
        "dense5= Dense(25,activation='relu')(dense2)\n",
        "#drop2=Dropout(0.30)(dense5) #--->did not add any/ much  value to the model \n",
        "output= Dense(5, activation='softmax')(dense5)\n",
        "\n",
        "aug_model1 = Model(inputs=input1_aug, outputs=output)\n",
        "aug_model1.compile(loss='categorical_crossentropy', optimizer='adam', metrics=['acc'])"
      ],
      "execution_count": 96,
      "outputs": []
    },
    {
      "cell_type": "code",
      "metadata": {
        "id": "2SVaJ0id6B6u"
      },
      "source": [
        "es1= EarlyStopping(monitor='val_loss',verbose=1, patience=75)\n",
        "mc1= ModelCheckpoint('best_model1.h5',save_best_only=True,save_weights_only=True)"
      ],
      "execution_count": 94,
      "outputs": []
    },
    {
      "cell_type": "code",
      "metadata": {
        "colab": {
          "base_uri": "https://localhost:8080/"
        },
        "id": "TtHS10aC6CHq",
        "outputId": "5fae7810-1eec-4fe4-b137-acb6ea089051"
      },
      "source": [
        "history1 =aug_model1.fit(x_train1,y_train2,epochs=200,batch_size=150,validation_data=[x_test1,y_test2],callbacks=[es1,mc1])"
      ],
      "execution_count": 97,
      "outputs": [
        {
          "output_type": "stream",
          "text": [
            "Train on 318 samples, validate on 107 samples\n",
            "Epoch 1/200\n",
            "150/318 [=============>................] - ETA: 0s - loss: 1.5790 - acc: 0.2400"
          ],
          "name": "stdout"
        },
        {
          "output_type": "stream",
          "text": [
            "/usr/local/lib/python3.7/dist-packages/tensorflow/python/keras/engine/training.py:2426: UserWarning: `Model.state_updates` will be removed in a future version. This property should not be used in TensorFlow 2.0, as `updates` are applied automatically.\n",
            "  warnings.warn('`Model.state_updates` will be removed in a future version. '\n"
          ],
          "name": "stderr"
        },
        {
          "output_type": "stream",
          "text": [
            "318/318 [==============================] - 1s 2ms/sample - loss: 1.5809 - acc: 0.2579 - val_loss: 1.5513 - val_acc: 0.3084\n",
            "Epoch 2/200\n",
            "318/318 [==============================] - 0s 119us/sample - loss: 1.5550 - acc: 0.2893 - val_loss: 1.5378 - val_acc: 0.2617\n",
            "Epoch 3/200\n",
            "318/318 [==============================] - 0s 113us/sample - loss: 1.5354 - acc: 0.3459 - val_loss: 1.5266 - val_acc: 0.3084\n",
            "Epoch 4/200\n",
            "318/318 [==============================] - 0s 186us/sample - loss: 1.5185 - acc: 0.3585 - val_loss: 1.5147 - val_acc: 0.3271\n",
            "Epoch 5/200\n",
            "318/318 [==============================] - 0s 136us/sample - loss: 1.5034 - acc: 0.3365 - val_loss: 1.5020 - val_acc: 0.3271\n",
            "Epoch 6/200\n",
            "318/318 [==============================] - 0s 128us/sample - loss: 1.4896 - acc: 0.3459 - val_loss: 1.4902 - val_acc: 0.3178\n",
            "Epoch 7/200\n",
            "318/318 [==============================] - 0s 152us/sample - loss: 1.4774 - acc: 0.3428 - val_loss: 1.4816 - val_acc: 0.3271\n",
            "Epoch 8/200\n",
            "318/318 [==============================] - 0s 123us/sample - loss: 1.4663 - acc: 0.3396 - val_loss: 1.4733 - val_acc: 0.3364\n",
            "Epoch 9/200\n",
            "318/318 [==============================] - 0s 133us/sample - loss: 1.4561 - acc: 0.3333 - val_loss: 1.4636 - val_acc: 0.3271\n",
            "Epoch 10/200\n",
            "318/318 [==============================] - 0s 129us/sample - loss: 1.4457 - acc: 0.3396 - val_loss: 1.4551 - val_acc: 0.3271\n",
            "Epoch 11/200\n",
            "318/318 [==============================] - 0s 127us/sample - loss: 1.4358 - acc: 0.3459 - val_loss: 1.4469 - val_acc: 0.3271\n",
            "Epoch 12/200\n",
            "318/318 [==============================] - 0s 124us/sample - loss: 1.4268 - acc: 0.3428 - val_loss: 1.4390 - val_acc: 0.3271\n",
            "Epoch 13/200\n",
            "318/318 [==============================] - 0s 147us/sample - loss: 1.4181 - acc: 0.3585 - val_loss: 1.4305 - val_acc: 0.3364\n",
            "Epoch 14/200\n",
            "318/318 [==============================] - 0s 154us/sample - loss: 1.4102 - acc: 0.3616 - val_loss: 1.4227 - val_acc: 0.3364\n",
            "Epoch 15/200\n",
            "318/318 [==============================] - 0s 139us/sample - loss: 1.4033 - acc: 0.3585 - val_loss: 1.4171 - val_acc: 0.3458\n",
            "Epoch 16/200\n",
            "318/318 [==============================] - 0s 124us/sample - loss: 1.3955 - acc: 0.3585 - val_loss: 1.4156 - val_acc: 0.3364\n",
            "Epoch 17/200\n",
            "318/318 [==============================] - 0s 60us/sample - loss: 1.3873 - acc: 0.3648 - val_loss: 1.4168 - val_acc: 0.3271\n",
            "Epoch 18/200\n",
            "318/318 [==============================] - 0s 59us/sample - loss: 1.3794 - acc: 0.3648 - val_loss: 1.4206 - val_acc: 0.3364\n",
            "Epoch 19/200\n",
            "318/318 [==============================] - 0s 64us/sample - loss: 1.3731 - acc: 0.3616 - val_loss: 1.4228 - val_acc: 0.3364\n",
            "Epoch 20/200\n",
            "318/318 [==============================] - 0s 77us/sample - loss: 1.3659 - acc: 0.3585 - val_loss: 1.4222 - val_acc: 0.3551\n",
            "Epoch 21/200\n",
            "318/318 [==============================] - 0s 63us/sample - loss: 1.3564 - acc: 0.3774 - val_loss: 1.4219 - val_acc: 0.4206\n",
            "Epoch 22/200\n",
            "318/318 [==============================] - 0s 65us/sample - loss: 1.3469 - acc: 0.4057 - val_loss: 1.4219 - val_acc: 0.4112\n",
            "Epoch 23/200\n",
            "318/318 [==============================] - 0s 63us/sample - loss: 1.3404 - acc: 0.4403 - val_loss: 1.4204 - val_acc: 0.4206\n",
            "Epoch 24/200\n",
            "318/318 [==============================] - 0s 127us/sample - loss: 1.3322 - acc: 0.4371 - val_loss: 1.4154 - val_acc: 0.4112\n",
            "Epoch 25/200\n",
            "318/318 [==============================] - 0s 128us/sample - loss: 1.3248 - acc: 0.4403 - val_loss: 1.4101 - val_acc: 0.4206\n",
            "Epoch 26/200\n",
            "318/318 [==============================] - 0s 144us/sample - loss: 1.3155 - acc: 0.4497 - val_loss: 1.4050 - val_acc: 0.4299\n",
            "Epoch 27/200\n",
            "318/318 [==============================] - 0s 123us/sample - loss: 1.3079 - acc: 0.4623 - val_loss: 1.4001 - val_acc: 0.4206\n",
            "Epoch 28/200\n",
            "318/318 [==============================] - 0s 139us/sample - loss: 1.2978 - acc: 0.4560 - val_loss: 1.3965 - val_acc: 0.4206\n",
            "Epoch 29/200\n",
            "318/318 [==============================] - 0s 135us/sample - loss: 1.2883 - acc: 0.4686 - val_loss: 1.3929 - val_acc: 0.4112\n",
            "Epoch 30/200\n",
            "318/318 [==============================] - 0s 155us/sample - loss: 1.2776 - acc: 0.4654 - val_loss: 1.3870 - val_acc: 0.4112\n",
            "Epoch 31/200\n",
            "318/318 [==============================] - 0s 137us/sample - loss: 1.2679 - acc: 0.4748 - val_loss: 1.3843 - val_acc: 0.4019\n",
            "Epoch 32/200\n",
            "318/318 [==============================] - 0s 72us/sample - loss: 1.2615 - acc: 0.4686 - val_loss: 1.3844 - val_acc: 0.4112\n",
            "Epoch 33/200\n",
            "318/318 [==============================] - 0s 64us/sample - loss: 1.2530 - acc: 0.4811 - val_loss: 1.3871 - val_acc: 0.4206\n",
            "Epoch 34/200\n",
            "318/318 [==============================] - 0s 55us/sample - loss: 1.2459 - acc: 0.4906 - val_loss: 1.3888 - val_acc: 0.4299\n",
            "Epoch 35/200\n",
            "318/318 [==============================] - 0s 55us/sample - loss: 1.2383 - acc: 0.4811 - val_loss: 1.3915 - val_acc: 0.4206\n",
            "Epoch 36/200\n",
            "318/318 [==============================] - 0s 75us/sample - loss: 1.2348 - acc: 0.4748 - val_loss: 1.3929 - val_acc: 0.4206\n",
            "Epoch 37/200\n",
            "318/318 [==============================] - 0s 63us/sample - loss: 1.2314 - acc: 0.4717 - val_loss: 1.3925 - val_acc: 0.4206\n",
            "Epoch 38/200\n",
            "318/318 [==============================] - 0s 66us/sample - loss: 1.2291 - acc: 0.4811 - val_loss: 1.3961 - val_acc: 0.4393\n",
            "Epoch 39/200\n",
            "318/318 [==============================] - 0s 65us/sample - loss: 1.2238 - acc: 0.4811 - val_loss: 1.3952 - val_acc: 0.4393\n",
            "Epoch 40/200\n",
            "318/318 [==============================] - 0s 57us/sample - loss: 1.2178 - acc: 0.4937 - val_loss: 1.4015 - val_acc: 0.4393\n",
            "Epoch 41/200\n",
            "318/318 [==============================] - 0s 65us/sample - loss: 1.2135 - acc: 0.4874 - val_loss: 1.4069 - val_acc: 0.4206\n",
            "Epoch 42/200\n",
            "318/318 [==============================] - 0s 59us/sample - loss: 1.2094 - acc: 0.4843 - val_loss: 1.4109 - val_acc: 0.4112\n",
            "Epoch 43/200\n",
            "318/318 [==============================] - 0s 52us/sample - loss: 1.2076 - acc: 0.5000 - val_loss: 1.4212 - val_acc: 0.4112\n",
            "Epoch 44/200\n",
            "318/318 [==============================] - 0s 81us/sample - loss: 1.2074 - acc: 0.4874 - val_loss: 1.4327 - val_acc: 0.3832\n",
            "Epoch 45/200\n",
            "318/318 [==============================] - 0s 52us/sample - loss: 1.2043 - acc: 0.4843 - val_loss: 1.4371 - val_acc: 0.3738\n",
            "Epoch 46/200\n",
            "318/318 [==============================] - 0s 55us/sample - loss: 1.2003 - acc: 0.4843 - val_loss: 1.4346 - val_acc: 0.3832\n",
            "Epoch 47/200\n",
            "318/318 [==============================] - 0s 61us/sample - loss: 1.1957 - acc: 0.4843 - val_loss: 1.4307 - val_acc: 0.3925\n",
            "Epoch 48/200\n",
            "318/318 [==============================] - 0s 60us/sample - loss: 1.1939 - acc: 0.4780 - val_loss: 1.4268 - val_acc: 0.4019\n",
            "Epoch 49/200\n",
            "318/318 [==============================] - 0s 89us/sample - loss: 1.1925 - acc: 0.4843 - val_loss: 1.4203 - val_acc: 0.4299\n",
            "Epoch 50/200\n",
            "318/318 [==============================] - 0s 60us/sample - loss: 1.1897 - acc: 0.4969 - val_loss: 1.4135 - val_acc: 0.4393\n",
            "Epoch 51/200\n",
            "318/318 [==============================] - 0s 117us/sample - loss: 1.1886 - acc: 0.5031 - val_loss: 1.4105 - val_acc: 0.4393\n",
            "Epoch 52/200\n",
            "318/318 [==============================] - 0s 81us/sample - loss: 1.1835 - acc: 0.5063 - val_loss: 1.4146 - val_acc: 0.4486\n",
            "Epoch 53/200\n",
            "318/318 [==============================] - 0s 72us/sample - loss: 1.1800 - acc: 0.4969 - val_loss: 1.4273 - val_acc: 0.4486\n",
            "Epoch 54/200\n",
            "318/318 [==============================] - 0s 62us/sample - loss: 1.1852 - acc: 0.4843 - val_loss: 1.4421 - val_acc: 0.4393\n",
            "Epoch 55/200\n",
            "318/318 [==============================] - 0s 64us/sample - loss: 1.1885 - acc: 0.4811 - val_loss: 1.4451 - val_acc: 0.4019\n",
            "Epoch 56/200\n",
            "318/318 [==============================] - 0s 64us/sample - loss: 1.1794 - acc: 0.4811 - val_loss: 1.4482 - val_acc: 0.3832\n",
            "Epoch 57/200\n",
            "318/318 [==============================] - 0s 72us/sample - loss: 1.1741 - acc: 0.5063 - val_loss: 1.4500 - val_acc: 0.3832\n",
            "Epoch 58/200\n",
            "318/318 [==============================] - 0s 65us/sample - loss: 1.1694 - acc: 0.5094 - val_loss: 1.4488 - val_acc: 0.3925\n",
            "Epoch 59/200\n",
            "318/318 [==============================] - 0s 57us/sample - loss: 1.1644 - acc: 0.4969 - val_loss: 1.4469 - val_acc: 0.4112\n",
            "Epoch 60/200\n",
            "318/318 [==============================] - 0s 56us/sample - loss: 1.1636 - acc: 0.5094 - val_loss: 1.4486 - val_acc: 0.4393\n",
            "Epoch 61/200\n",
            "318/318 [==============================] - 0s 75us/sample - loss: 1.1667 - acc: 0.4969 - val_loss: 1.4530 - val_acc: 0.4486\n",
            "Epoch 62/200\n",
            "318/318 [==============================] - 0s 57us/sample - loss: 1.1651 - acc: 0.4969 - val_loss: 1.4535 - val_acc: 0.4299\n",
            "Epoch 63/200\n",
            "318/318 [==============================] - 0s 74us/sample - loss: 1.1606 - acc: 0.5000 - val_loss: 1.4556 - val_acc: 0.4019\n",
            "Epoch 64/200\n",
            "318/318 [==============================] - 0s 75us/sample - loss: 1.1584 - acc: 0.5094 - val_loss: 1.4594 - val_acc: 0.4299\n",
            "Epoch 65/200\n",
            "318/318 [==============================] - 0s 67us/sample - loss: 1.1567 - acc: 0.5063 - val_loss: 1.4602 - val_acc: 0.4486\n",
            "Epoch 66/200\n",
            "318/318 [==============================] - 0s 54us/sample - loss: 1.1500 - acc: 0.4937 - val_loss: 1.4604 - val_acc: 0.3925\n",
            "Epoch 67/200\n",
            "318/318 [==============================] - 0s 56us/sample - loss: 1.1453 - acc: 0.4874 - val_loss: 1.4591 - val_acc: 0.4019\n",
            "Epoch 68/200\n",
            "318/318 [==============================] - 0s 56us/sample - loss: 1.1448 - acc: 0.5000 - val_loss: 1.4505 - val_acc: 0.4206\n",
            "Epoch 69/200\n",
            "318/318 [==============================] - 0s 57us/sample - loss: 1.1463 - acc: 0.5031 - val_loss: 1.4433 - val_acc: 0.4299\n",
            "Epoch 70/200\n",
            "318/318 [==============================] - 0s 72us/sample - loss: 1.1475 - acc: 0.4937 - val_loss: 1.4413 - val_acc: 0.4393\n",
            "Epoch 71/200\n",
            "318/318 [==============================] - 0s 72us/sample - loss: 1.1478 - acc: 0.4937 - val_loss: 1.4402 - val_acc: 0.4393\n",
            "Epoch 72/200\n",
            "318/318 [==============================] - 0s 63us/sample - loss: 1.1487 - acc: 0.4969 - val_loss: 1.4432 - val_acc: 0.4393\n",
            "Epoch 73/200\n",
            "318/318 [==============================] - 0s 56us/sample - loss: 1.1438 - acc: 0.4906 - val_loss: 1.4477 - val_acc: 0.4393\n",
            "Epoch 74/200\n",
            "318/318 [==============================] - 0s 75us/sample - loss: 1.1364 - acc: 0.5031 - val_loss: 1.4548 - val_acc: 0.4299\n",
            "Epoch 75/200\n",
            "318/318 [==============================] - 0s 72us/sample - loss: 1.1322 - acc: 0.4969 - val_loss: 1.4613 - val_acc: 0.4206\n",
            "Epoch 76/200\n",
            "318/318 [==============================] - 0s 63us/sample - loss: 1.1303 - acc: 0.5063 - val_loss: 1.4647 - val_acc: 0.4299\n",
            "Epoch 77/200\n",
            "318/318 [==============================] - 0s 80us/sample - loss: 1.1290 - acc: 0.5031 - val_loss: 1.4665 - val_acc: 0.4299\n",
            "Epoch 78/200\n",
            "318/318 [==============================] - 0s 82us/sample - loss: 1.1254 - acc: 0.5031 - val_loss: 1.4714 - val_acc: 0.4019\n",
            "Epoch 79/200\n",
            "318/318 [==============================] - 0s 89us/sample - loss: 1.1231 - acc: 0.5000 - val_loss: 1.4789 - val_acc: 0.4393\n",
            "Epoch 80/200\n",
            "318/318 [==============================] - 0s 74us/sample - loss: 1.1222 - acc: 0.5126 - val_loss: 1.4878 - val_acc: 0.4299\n",
            "Epoch 81/200\n",
            "318/318 [==============================] - 0s 62us/sample - loss: 1.1210 - acc: 0.5031 - val_loss: 1.4861 - val_acc: 0.4299\n",
            "Epoch 82/200\n",
            "318/318 [==============================] - 0s 69us/sample - loss: 1.1191 - acc: 0.5157 - val_loss: 1.4841 - val_acc: 0.4206\n",
            "Epoch 83/200\n",
            "318/318 [==============================] - 0s 73us/sample - loss: 1.1168 - acc: 0.5220 - val_loss: 1.4834 - val_acc: 0.4299\n",
            "Epoch 84/200\n",
            "318/318 [==============================] - 0s 67us/sample - loss: 1.1154 - acc: 0.5283 - val_loss: 1.4892 - val_acc: 0.4299\n",
            "Epoch 85/200\n",
            "318/318 [==============================] - 0s 92us/sample - loss: 1.1141 - acc: 0.5283 - val_loss: 1.4980 - val_acc: 0.4299\n",
            "Epoch 86/200\n",
            "318/318 [==============================] - 0s 73us/sample - loss: 1.1128 - acc: 0.5220 - val_loss: 1.5065 - val_acc: 0.4112\n",
            "Epoch 87/200\n",
            "318/318 [==============================] - 0s 108us/sample - loss: 1.1130 - acc: 0.5377 - val_loss: 1.5069 - val_acc: 0.4019\n",
            "Epoch 88/200\n",
            "318/318 [==============================] - 0s 72us/sample - loss: 1.1102 - acc: 0.5157 - val_loss: 1.4991 - val_acc: 0.4206\n",
            "Epoch 89/200\n",
            "318/318 [==============================] - 0s 94us/sample - loss: 1.1066 - acc: 0.5346 - val_loss: 1.4937 - val_acc: 0.4486\n",
            "Epoch 90/200\n",
            "318/318 [==============================] - 0s 54us/sample - loss: 1.1043 - acc: 0.5377 - val_loss: 1.4916 - val_acc: 0.4486\n",
            "Epoch 91/200\n",
            "318/318 [==============================] - 0s 58us/sample - loss: 1.1031 - acc: 0.5314 - val_loss: 1.4934 - val_acc: 0.4486\n",
            "Epoch 92/200\n",
            "318/318 [==============================] - 0s 69us/sample - loss: 1.1030 - acc: 0.5346 - val_loss: 1.5009 - val_acc: 0.4486\n",
            "Epoch 93/200\n",
            "318/318 [==============================] - 0s 57us/sample - loss: 1.1037 - acc: 0.5377 - val_loss: 1.5089 - val_acc: 0.4486\n",
            "Epoch 94/200\n",
            "318/318 [==============================] - 0s 60us/sample - loss: 1.1036 - acc: 0.5346 - val_loss: 1.5144 - val_acc: 0.4673\n",
            "Epoch 95/200\n",
            "318/318 [==============================] - 0s 63us/sample - loss: 1.1021 - acc: 0.5377 - val_loss: 1.5164 - val_acc: 0.4486\n",
            "Epoch 96/200\n",
            "318/318 [==============================] - 0s 59us/sample - loss: 1.0993 - acc: 0.5377 - val_loss: 1.5200 - val_acc: 0.4112\n",
            "Epoch 97/200\n",
            "318/318 [==============================] - 0s 68us/sample - loss: 1.0972 - acc: 0.5252 - val_loss: 1.5217 - val_acc: 0.4393\n",
            "Epoch 98/200\n",
            "318/318 [==============================] - 0s 72us/sample - loss: 1.0968 - acc: 0.5252 - val_loss: 1.5184 - val_acc: 0.4393\n",
            "Epoch 99/200\n",
            "318/318 [==============================] - 0s 99us/sample - loss: 1.0963 - acc: 0.5314 - val_loss: 1.5111 - val_acc: 0.4206\n",
            "Epoch 100/200\n",
            "318/318 [==============================] - 0s 64us/sample - loss: 1.0936 - acc: 0.5283 - val_loss: 1.5102 - val_acc: 0.4206\n",
            "Epoch 101/200\n",
            "318/318 [==============================] - 0s 61us/sample - loss: 1.0911 - acc: 0.5283 - val_loss: 1.5151 - val_acc: 0.4206\n",
            "Epoch 102/200\n",
            "318/318 [==============================] - 0s 61us/sample - loss: 1.0866 - acc: 0.5252 - val_loss: 1.5247 - val_acc: 0.4112\n",
            "Epoch 103/200\n",
            "318/318 [==============================] - 0s 65us/sample - loss: 1.0861 - acc: 0.5283 - val_loss: 1.5298 - val_acc: 0.4019\n",
            "Epoch 104/200\n",
            "318/318 [==============================] - 0s 80us/sample - loss: 1.0838 - acc: 0.5409 - val_loss: 1.5253 - val_acc: 0.4019\n",
            "Epoch 105/200\n",
            "318/318 [==============================] - 0s 76us/sample - loss: 1.0841 - acc: 0.5409 - val_loss: 1.5283 - val_acc: 0.4112\n",
            "Epoch 106/200\n",
            "318/318 [==============================] - 0s 70us/sample - loss: 1.0842 - acc: 0.5440 - val_loss: 1.5293 - val_acc: 0.4206\n",
            "Epoch 00106: early stopping\n"
          ],
          "name": "stdout"
        }
      ]
    },
    {
      "cell_type": "markdown",
      "metadata": {
        "id": "Q4228e27d5Pc"
      },
      "source": [
        "Let's add the Bert Model"
      ]
    },
    {
      "cell_type": "code",
      "metadata": {
        "id": "wTgZPeMLd2ZQ"
      },
      "source": [
        "!wget --quiet https://raw.githubusercontent.com/tensorflow/models/master/official/nlp/bert/tokenization.py"
      ],
      "execution_count": 108,
      "outputs": []
    },
    {
      "cell_type": "code",
      "metadata": {
        "colab": {
          "base_uri": "https://localhost:8080/"
        },
        "id": "xHQDKdJqqMEL",
        "outputId": "00108044-4a25-4aa5-d9a4-386758ae643b"
      },
      "source": [
        "!pip install sentencepiece"
      ],
      "execution_count": 109,
      "outputs": [
        {
          "output_type": "stream",
          "text": [
            "Collecting sentencepiece\n",
            "  Downloading sentencepiece-0.1.96-cp37-cp37m-manylinux_2_17_x86_64.manylinux2014_x86_64.whl (1.2 MB)\n",
            "\u001b[?25l\r\u001b[K     |▎                               | 10 kB 24.3 MB/s eta 0:00:01\r\u001b[K     |▌                               | 20 kB 30.4 MB/s eta 0:00:01\r\u001b[K     |▉                               | 30 kB 27.2 MB/s eta 0:00:01\r\u001b[K     |█                               | 40 kB 19.0 MB/s eta 0:00:01\r\u001b[K     |█▍                              | 51 kB 15.7 MB/s eta 0:00:01\r\u001b[K     |█▋                              | 61 kB 16.0 MB/s eta 0:00:01\r\u001b[K     |██                              | 71 kB 13.0 MB/s eta 0:00:01\r\u001b[K     |██▏                             | 81 kB 14.3 MB/s eta 0:00:01\r\u001b[K     |██▍                             | 92 kB 12.3 MB/s eta 0:00:01\r\u001b[K     |██▊                             | 102 kB 12.7 MB/s eta 0:00:01\r\u001b[K     |███                             | 112 kB 12.7 MB/s eta 0:00:01\r\u001b[K     |███▎                            | 122 kB 12.7 MB/s eta 0:00:01\r\u001b[K     |███▌                            | 133 kB 12.7 MB/s eta 0:00:01\r\u001b[K     |███▉                            | 143 kB 12.7 MB/s eta 0:00:01\r\u001b[K     |████                            | 153 kB 12.7 MB/s eta 0:00:01\r\u001b[K     |████▎                           | 163 kB 12.7 MB/s eta 0:00:01\r\u001b[K     |████▋                           | 174 kB 12.7 MB/s eta 0:00:01\r\u001b[K     |████▉                           | 184 kB 12.7 MB/s eta 0:00:01\r\u001b[K     |█████▏                          | 194 kB 12.7 MB/s eta 0:00:01\r\u001b[K     |█████▍                          | 204 kB 12.7 MB/s eta 0:00:01\r\u001b[K     |█████▊                          | 215 kB 12.7 MB/s eta 0:00:01\r\u001b[K     |██████                          | 225 kB 12.7 MB/s eta 0:00:01\r\u001b[K     |██████▏                         | 235 kB 12.7 MB/s eta 0:00:01\r\u001b[K     |██████▌                         | 245 kB 12.7 MB/s eta 0:00:01\r\u001b[K     |██████▊                         | 256 kB 12.7 MB/s eta 0:00:01\r\u001b[K     |███████                         | 266 kB 12.7 MB/s eta 0:00:01\r\u001b[K     |███████▎                        | 276 kB 12.7 MB/s eta 0:00:01\r\u001b[K     |███████▋                        | 286 kB 12.7 MB/s eta 0:00:01\r\u001b[K     |███████▉                        | 296 kB 12.7 MB/s eta 0:00:01\r\u001b[K     |████████                        | 307 kB 12.7 MB/s eta 0:00:01\r\u001b[K     |████████▍                       | 317 kB 12.7 MB/s eta 0:00:01\r\u001b[K     |████████▋                       | 327 kB 12.7 MB/s eta 0:00:01\r\u001b[K     |█████████                       | 337 kB 12.7 MB/s eta 0:00:01\r\u001b[K     |█████████▏                      | 348 kB 12.7 MB/s eta 0:00:01\r\u001b[K     |█████████▌                      | 358 kB 12.7 MB/s eta 0:00:01\r\u001b[K     |█████████▊                      | 368 kB 12.7 MB/s eta 0:00:01\r\u001b[K     |██████████                      | 378 kB 12.7 MB/s eta 0:00:01\r\u001b[K     |██████████▎                     | 389 kB 12.7 MB/s eta 0:00:01\r\u001b[K     |██████████▌                     | 399 kB 12.7 MB/s eta 0:00:01\r\u001b[K     |██████████▉                     | 409 kB 12.7 MB/s eta 0:00:01\r\u001b[K     |███████████                     | 419 kB 12.7 MB/s eta 0:00:01\r\u001b[K     |███████████▍                    | 430 kB 12.7 MB/s eta 0:00:01\r\u001b[K     |███████████▋                    | 440 kB 12.7 MB/s eta 0:00:01\r\u001b[K     |███████████▉                    | 450 kB 12.7 MB/s eta 0:00:01\r\u001b[K     |████████████▏                   | 460 kB 12.7 MB/s eta 0:00:01\r\u001b[K     |████████████▍                   | 471 kB 12.7 MB/s eta 0:00:01\r\u001b[K     |████████████▊                   | 481 kB 12.7 MB/s eta 0:00:01\r\u001b[K     |█████████████                   | 491 kB 12.7 MB/s eta 0:00:01\r\u001b[K     |█████████████▎                  | 501 kB 12.7 MB/s eta 0:00:01\r\u001b[K     |█████████████▌                  | 512 kB 12.7 MB/s eta 0:00:01\r\u001b[K     |█████████████▊                  | 522 kB 12.7 MB/s eta 0:00:01\r\u001b[K     |██████████████                  | 532 kB 12.7 MB/s eta 0:00:01\r\u001b[K     |██████████████▎                 | 542 kB 12.7 MB/s eta 0:00:01\r\u001b[K     |██████████████▋                 | 552 kB 12.7 MB/s eta 0:00:01\r\u001b[K     |██████████████▉                 | 563 kB 12.7 MB/s eta 0:00:01\r\u001b[K     |███████████████▏                | 573 kB 12.7 MB/s eta 0:00:01\r\u001b[K     |███████████████▍                | 583 kB 12.7 MB/s eta 0:00:01\r\u001b[K     |███████████████▋                | 593 kB 12.7 MB/s eta 0:00:01\r\u001b[K     |████████████████                | 604 kB 12.7 MB/s eta 0:00:01\r\u001b[K     |████████████████▏               | 614 kB 12.7 MB/s eta 0:00:01\r\u001b[K     |████████████████▌               | 624 kB 12.7 MB/s eta 0:00:01\r\u001b[K     |████████████████▊               | 634 kB 12.7 MB/s eta 0:00:01\r\u001b[K     |█████████████████               | 645 kB 12.7 MB/s eta 0:00:01\r\u001b[K     |█████████████████▎              | 655 kB 12.7 MB/s eta 0:00:01\r\u001b[K     |█████████████████▌              | 665 kB 12.7 MB/s eta 0:00:01\r\u001b[K     |█████████████████▉              | 675 kB 12.7 MB/s eta 0:00:01\r\u001b[K     |██████████████████              | 686 kB 12.7 MB/s eta 0:00:01\r\u001b[K     |██████████████████▍             | 696 kB 12.7 MB/s eta 0:00:01\r\u001b[K     |██████████████████▋             | 706 kB 12.7 MB/s eta 0:00:01\r\u001b[K     |███████████████████             | 716 kB 12.7 MB/s eta 0:00:01\r\u001b[K     |███████████████████▏            | 727 kB 12.7 MB/s eta 0:00:01\r\u001b[K     |███████████████████▍            | 737 kB 12.7 MB/s eta 0:00:01\r\u001b[K     |███████████████████▊            | 747 kB 12.7 MB/s eta 0:00:01\r\u001b[K     |████████████████████            | 757 kB 12.7 MB/s eta 0:00:01\r\u001b[K     |████████████████████▎           | 768 kB 12.7 MB/s eta 0:00:01\r\u001b[K     |████████████████████▌           | 778 kB 12.7 MB/s eta 0:00:01\r\u001b[K     |████████████████████▉           | 788 kB 12.7 MB/s eta 0:00:01\r\u001b[K     |█████████████████████           | 798 kB 12.7 MB/s eta 0:00:01\r\u001b[K     |█████████████████████▎          | 808 kB 12.7 MB/s eta 0:00:01\r\u001b[K     |█████████████████████▋          | 819 kB 12.7 MB/s eta 0:00:01\r\u001b[K     |█████████████████████▉          | 829 kB 12.7 MB/s eta 0:00:01\r\u001b[K     |██████████████████████▏         | 839 kB 12.7 MB/s eta 0:00:01\r\u001b[K     |██████████████████████▍         | 849 kB 12.7 MB/s eta 0:00:01\r\u001b[K     |██████████████████████▊         | 860 kB 12.7 MB/s eta 0:00:01\r\u001b[K     |███████████████████████         | 870 kB 12.7 MB/s eta 0:00:01\r\u001b[K     |███████████████████████▏        | 880 kB 12.7 MB/s eta 0:00:01\r\u001b[K     |███████████████████████▌        | 890 kB 12.7 MB/s eta 0:00:01\r\u001b[K     |███████████████████████▊        | 901 kB 12.7 MB/s eta 0:00:01\r\u001b[K     |████████████████████████        | 911 kB 12.7 MB/s eta 0:00:01\r\u001b[K     |████████████████████████▎       | 921 kB 12.7 MB/s eta 0:00:01\r\u001b[K     |████████████████████████▋       | 931 kB 12.7 MB/s eta 0:00:01\r\u001b[K     |████████████████████████▉       | 942 kB 12.7 MB/s eta 0:00:01\r\u001b[K     |█████████████████████████       | 952 kB 12.7 MB/s eta 0:00:01\r\u001b[K     |█████████████████████████▍      | 962 kB 12.7 MB/s eta 0:00:01\r\u001b[K     |█████████████████████████▋      | 972 kB 12.7 MB/s eta 0:00:01\r\u001b[K     |██████████████████████████      | 983 kB 12.7 MB/s eta 0:00:01\r\u001b[K     |██████████████████████████▏     | 993 kB 12.7 MB/s eta 0:00:01\r\u001b[K     |██████████████████████████▌     | 1.0 MB 12.7 MB/s eta 0:00:01\r\u001b[K     |██████████████████████████▊     | 1.0 MB 12.7 MB/s eta 0:00:01\r\u001b[K     |███████████████████████████     | 1.0 MB 12.7 MB/s eta 0:00:01\r\u001b[K     |███████████████████████████▎    | 1.0 MB 12.7 MB/s eta 0:00:01\r\u001b[K     |███████████████████████████▌    | 1.0 MB 12.7 MB/s eta 0:00:01\r\u001b[K     |███████████████████████████▉    | 1.1 MB 12.7 MB/s eta 0:00:01\r\u001b[K     |████████████████████████████    | 1.1 MB 12.7 MB/s eta 0:00:01\r\u001b[K     |████████████████████████████▍   | 1.1 MB 12.7 MB/s eta 0:00:01\r\u001b[K     |████████████████████████████▋   | 1.1 MB 12.7 MB/s eta 0:00:01\r\u001b[K     |████████████████████████████▉   | 1.1 MB 12.7 MB/s eta 0:00:01\r\u001b[K     |█████████████████████████████▏  | 1.1 MB 12.7 MB/s eta 0:00:01\r\u001b[K     |█████████████████████████████▍  | 1.1 MB 12.7 MB/s eta 0:00:01\r\u001b[K     |█████████████████████████████▊  | 1.1 MB 12.7 MB/s eta 0:00:01\r\u001b[K     |██████████████████████████████  | 1.1 MB 12.7 MB/s eta 0:00:01\r\u001b[K     |██████████████████████████████▎ | 1.1 MB 12.7 MB/s eta 0:00:01\r\u001b[K     |██████████████████████████████▌ | 1.2 MB 12.7 MB/s eta 0:00:01\r\u001b[K     |██████████████████████████████▊ | 1.2 MB 12.7 MB/s eta 0:00:01\r\u001b[K     |███████████████████████████████ | 1.2 MB 12.7 MB/s eta 0:00:01\r\u001b[K     |███████████████████████████████▎| 1.2 MB 12.7 MB/s eta 0:00:01\r\u001b[K     |███████████████████████████████▋| 1.2 MB 12.7 MB/s eta 0:00:01\r\u001b[K     |███████████████████████████████▉| 1.2 MB 12.7 MB/s eta 0:00:01\r\u001b[K     |████████████████████████████████| 1.2 MB 12.7 MB/s \n",
            "\u001b[?25hInstalling collected packages: sentencepiece\n",
            "Successfully installed sentencepiece-0.1.96\n"
          ],
          "name": "stdout"
        }
      ]
    },
    {
      "cell_type": "code",
      "metadata": {
        "colab": {
          "base_uri": "https://localhost:8080/"
        },
        "id": "ppW4tdvNd2iA",
        "outputId": "99b143a1-3103-4b33-a735-e25cae9284b6"
      },
      "source": [
        "\n",
        "bert_model_name = 'small_bert/bert_en_uncased_L-8_H-768_A-12'  #@param [\"bert_en_uncased_L-12_H-768_A-12\", \"bert_en_cased_L-12_H-768_A-12\", \"bert_multi_cased_L-12_H-768_A-12\", \"small_bert/bert_en_uncased_L-2_H-128_A-2\", \"small_bert/bert_en_uncased_L-2_H-256_A-4\", \"small_bert/bert_en_uncased_L-2_H-512_A-8\", \"small_bert/bert_en_uncased_L-2_H-768_A-12\", \"small_bert/bert_en_uncased_L-4_H-128_A-2\", \"small_bert/bert_en_uncased_L-4_H-256_A-4\", \"small_bert/bert_en_uncased_L-4_H-512_A-8\", \"small_bert/bert_en_uncased_L-4_H-768_A-12\", \"small_bert/bert_en_uncased_L-6_H-128_A-2\", \"small_bert/bert_en_uncased_L-6_H-256_A-4\", \"small_bert/bert_en_uncased_L-6_H-512_A-8\", \"small_bert/bert_en_uncased_L-6_H-768_A-12\", \"small_bert/bert_en_uncased_L-8_H-128_A-2\", \"small_bert/bert_en_uncased_L-8_H-256_A-4\", \"small_bert/bert_en_uncased_L-8_H-512_A-8\", \"small_bert/bert_en_uncased_L-8_H-768_A-12\", \"small_bert/bert_en_uncased_L-10_H-128_A-2\", \"small_bert/bert_en_uncased_L-10_H-256_A-4\", \"small_bert/bert_en_uncased_L-10_H-512_A-8\", \"small_bert/bert_en_uncased_L-10_H-768_A-12\", \"small_bert/bert_en_uncased_L-12_H-128_A-2\", \"small_bert/bert_en_uncased_L-12_H-256_A-4\", \"small_bert/bert_en_uncased_L-12_H-512_A-8\", \"small_bert/bert_en_uncased_L-12_H-768_A-12\", \"albert_en_base\", \"electra_small\", \"electra_base\", \"experts_pubmed\", \"experts_wiki_books\", \"talking-heads_base\"]\n",
        "\n",
        "map_name_to_handle = {\n",
        "    'bert_en_uncased_L-12_H-768_A-12':\n",
        "        'https://tfhub.dev/tensorflow/bert_en_uncased_L-12_H-768_A-12/3',\n",
        "    'bert_en_cased_L-12_H-768_A-12':\n",
        "        'https://tfhub.dev/tensorflow/bert_en_cased_L-12_H-768_A-12/3',\n",
        "    'bert_multi_cased_L-12_H-768_A-12':\n",
        "        'https://tfhub.dev/tensorflow/bert_multi_cased_L-12_H-768_A-12/3',\n",
        "    'small_bert/bert_en_uncased_L-2_H-128_A-2':\n",
        "        'https://tfhub.dev/tensorflow/small_bert/bert_en_uncased_L-2_H-128_A-2/1',\n",
        "    'small_bert/bert_en_uncased_L-2_H-256_A-4':\n",
        "        'https://tfhub.dev/tensorflow/small_bert/bert_en_uncased_L-2_H-256_A-4/1',\n",
        "    'small_bert/bert_en_uncased_L-2_H-512_A-8':\n",
        "        'https://tfhub.dev/tensorflow/small_bert/bert_en_uncased_L-2_H-512_A-8/1',\n",
        "    'small_bert/bert_en_uncased_L-2_H-768_A-12':\n",
        "        'https://tfhub.dev/tensorflow/small_bert/bert_en_uncased_L-2_H-768_A-12/1',\n",
        "    'small_bert/bert_en_uncased_L-4_H-128_A-2':\n",
        "        'https://tfhub.dev/tensorflow/small_bert/bert_en_uncased_L-4_H-128_A-2/1',\n",
        "    'small_bert/bert_en_uncased_L-4_H-256_A-4':\n",
        "        'https://tfhub.dev/tensorflow/small_bert/bert_en_uncased_L-4_H-256_A-4/1',\n",
        "    'small_bert/bert_en_uncased_L-4_H-512_A-8':\n",
        "        'https://tfhub.dev/tensorflow/small_bert/bert_en_uncased_L-4_H-512_A-8/1',\n",
        "    'small_bert/bert_en_uncased_L-4_H-768_A-12':\n",
        "        'https://tfhub.dev/tensorflow/small_bert/bert_en_uncased_L-4_H-768_A-12/1',\n",
        "    'small_bert/bert_en_uncased_L-6_H-128_A-2':\n",
        "        'https://tfhub.dev/tensorflow/small_bert/bert_en_uncased_L-6_H-128_A-2/1',\n",
        "    'small_bert/bert_en_uncased_L-6_H-256_A-4':\n",
        "        'https://tfhub.dev/tensorflow/small_bert/bert_en_uncased_L-6_H-256_A-4/1',\n",
        "    'small_bert/bert_en_uncased_L-6_H-512_A-8':\n",
        "        'https://tfhub.dev/tensorflow/small_bert/bert_en_uncased_L-6_H-512_A-8/1',\n",
        "    'small_bert/bert_en_uncased_L-6_H-768_A-12':\n",
        "        'https://tfhub.dev/tensorflow/small_bert/bert_en_uncased_L-6_H-768_A-12/1',\n",
        "    'small_bert/bert_en_uncased_L-8_H-128_A-2':\n",
        "        'https://tfhub.dev/tensorflow/small_bert/bert_en_uncased_L-8_H-128_A-2/1',\n",
        "    'small_bert/bert_en_uncased_L-8_H-256_A-4':\n",
        "        'https://tfhub.dev/tensorflow/small_bert/bert_en_uncased_L-8_H-256_A-4/1',\n",
        "    'small_bert/bert_en_uncased_L-8_H-512_A-8':\n",
        "        'https://tfhub.dev/tensorflow/small_bert/bert_en_uncased_L-8_H-512_A-8/1',\n",
        "    'small_bert/bert_en_uncased_L-8_H-768_A-12':\n",
        "        'https://tfhub.dev/tensorflow/small_bert/bert_en_uncased_L-8_H-768_A-12/1',\n",
        "    'small_bert/bert_en_uncased_L-10_H-128_A-2':\n",
        "        'https://tfhub.dev/tensorflow/small_bert/bert_en_uncased_L-10_H-128_A-2/1',\n",
        "    'small_bert/bert_en_uncased_L-10_H-256_A-4':\n",
        "        'https://tfhub.dev/tensorflow/small_bert/bert_en_uncased_L-10_H-256_A-4/1',\n",
        "    'small_bert/bert_en_uncased_L-10_H-512_A-8':\n",
        "        'https://tfhub.dev/tensorflow/small_bert/bert_en_uncased_L-10_H-512_A-8/1',\n",
        "    'small_bert/bert_en_uncased_L-10_H-768_A-12':\n",
        "        'https://tfhub.dev/tensorflow/small_bert/bert_en_uncased_L-10_H-768_A-12/1',\n",
        "    'small_bert/bert_en_uncased_L-12_H-128_A-2':\n",
        "        'https://tfhub.dev/tensorflow/small_bert/bert_en_uncased_L-12_H-128_A-2/1',\n",
        "    'small_bert/bert_en_uncased_L-12_H-256_A-4':\n",
        "        'https://tfhub.dev/tensorflow/small_bert/bert_en_uncased_L-12_H-256_A-4/1',\n",
        "    'small_bert/bert_en_uncased_L-12_H-512_A-8':\n",
        "        'https://tfhub.dev/tensorflow/small_bert/bert_en_uncased_L-12_H-512_A-8/1',\n",
        "    'small_bert/bert_en_uncased_L-12_H-768_A-12':\n",
        "        'https://tfhub.dev/tensorflow/small_bert/bert_en_uncased_L-12_H-768_A-12/1',\n",
        "    'albert_en_base':\n",
        "        'https://tfhub.dev/tensorflow/albert_en_base/2',\n",
        "    'electra_small':\n",
        "        'https://tfhub.dev/google/electra_small/2',\n",
        "    'electra_base':\n",
        "        'https://tfhub.dev/google/electra_base/2',\n",
        "    'experts_pubmed':\n",
        "        'https://tfhub.dev/google/experts/bert/pubmed/2',\n",
        "    'experts_wiki_books':\n",
        "        'https://tfhub.dev/google/experts/bert/wiki_books/2',\n",
        "    'talking-heads_base':\n",
        "        'https://tfhub.dev/tensorflow/talkheads_ggelu_bert_en_base/1',\n",
        "}\n",
        "\n",
        "map_model_to_preprocess = {\n",
        "    'bert_en_uncased_L-12_H-768_A-12':\n",
        "        'https://tfhub.dev/tensorflow/bert_en_uncased_preprocess/3',\n",
        "    'bert_en_cased_L-12_H-768_A-12':\n",
        "        'https://tfhub.dev/tensorflow/bert_en_cased_preprocess/3',\n",
        "    'small_bert/bert_en_uncased_L-2_H-128_A-2':\n",
        "        'https://tfhub.dev/tensorflow/bert_en_uncased_preprocess/3',\n",
        "    'small_bert/bert_en_uncased_L-2_H-256_A-4':\n",
        "        'https://tfhub.dev/tensorflow/bert_en_uncased_preprocess/3',\n",
        "    'small_bert/bert_en_uncased_L-2_H-512_A-8':\n",
        "        'https://tfhub.dev/tensorflow/bert_en_uncased_preprocess/3',\n",
        "    'small_bert/bert_en_uncased_L-2_H-768_A-12':\n",
        "        'https://tfhub.dev/tensorflow/bert_en_uncased_preprocess/3',\n",
        "    'small_bert/bert_en_uncased_L-4_H-128_A-2':\n",
        "        'https://tfhub.dev/tensorflow/bert_en_uncased_preprocess/3',\n",
        "    'small_bert/bert_en_uncased_L-4_H-256_A-4':\n",
        "        'https://tfhub.dev/tensorflow/bert_en_uncased_preprocess/3',\n",
        "    'small_bert/bert_en_uncased_L-4_H-512_A-8':\n",
        "        'https://tfhub.dev/tensorflow/bert_en_uncased_preprocess/3',\n",
        "    'small_bert/bert_en_uncased_L-4_H-768_A-12':\n",
        "        'https://tfhub.dev/tensorflow/bert_en_uncased_preprocess/3',\n",
        "    'small_bert/bert_en_uncased_L-6_H-128_A-2':\n",
        "        'https://tfhub.dev/tensorflow/bert_en_uncased_preprocess/3',\n",
        "    'small_bert/bert_en_uncased_L-6_H-256_A-4':\n",
        "        'https://tfhub.dev/tensorflow/bert_en_uncased_preprocess/3',\n",
        "    'small_bert/bert_en_uncased_L-6_H-512_A-8':\n",
        "        'https://tfhub.dev/tensorflow/bert_en_uncased_preprocess/3',\n",
        "    'small_bert/bert_en_uncased_L-6_H-768_A-12':\n",
        "        'https://tfhub.dev/tensorflow/bert_en_uncased_preprocess/3',\n",
        "    'small_bert/bert_en_uncased_L-8_H-128_A-2':\n",
        "        'https://tfhub.dev/tensorflow/bert_en_uncased_preprocess/3',\n",
        "    'small_bert/bert_en_uncased_L-8_H-256_A-4':\n",
        "        'https://tfhub.dev/tensorflow/bert_en_uncased_preprocess/3',\n",
        "    'small_bert/bert_en_uncased_L-8_H-512_A-8':\n",
        "        'https://tfhub.dev/tensorflow/bert_en_uncased_preprocess/3',\n",
        "    'small_bert/bert_en_uncased_L-8_H-768_A-12':\n",
        "        'https://tfhub.dev/tensorflow/bert_en_uncased_preprocess/3',\n",
        "    'small_bert/bert_en_uncased_L-10_H-128_A-2':\n",
        "        'https://tfhub.dev/tensorflow/bert_en_uncased_preprocess/3',\n",
        "    'small_bert/bert_en_uncased_L-10_H-256_A-4':\n",
        "        'https://tfhub.dev/tensorflow/bert_en_uncased_preprocess/3',\n",
        "    'small_bert/bert_en_uncased_L-10_H-512_A-8':\n",
        "        'https://tfhub.dev/tensorflow/bert_en_uncased_preprocess/3',\n",
        "    'small_bert/bert_en_uncased_L-10_H-768_A-12':\n",
        "        'https://tfhub.dev/tensorflow/bert_en_uncased_preprocess/3',\n",
        "    'small_bert/bert_en_uncased_L-12_H-128_A-2':\n",
        "        'https://tfhub.dev/tensorflow/bert_en_uncased_preprocess/3',\n",
        "    'small_bert/bert_en_uncased_L-12_H-256_A-4':\n",
        "        'https://tfhub.dev/tensorflow/bert_en_uncased_preprocess/3',\n",
        "    'small_bert/bert_en_uncased_L-12_H-512_A-8':\n",
        "        'https://tfhub.dev/tensorflow/bert_en_uncased_preprocess/3',\n",
        "    'small_bert/bert_en_uncased_L-12_H-768_A-12':\n",
        "        'https://tfhub.dev/tensorflow/bert_en_uncased_preprocess/3',\n",
        "    'bert_multi_cased_L-12_H-768_A-12':\n",
        "        'https://tfhub.dev/tensorflow/bert_multi_cased_preprocess/3',\n",
        "    'albert_en_base':\n",
        "        'https://tfhub.dev/tensorflow/albert_en_preprocess/3',\n",
        "    'electra_small':\n",
        "        'https://tfhub.dev/tensorflow/bert_en_uncased_preprocess/3',\n",
        "    'electra_base':\n",
        "        'https://tfhub.dev/tensorflow/bert_en_uncased_preprocess/3',\n",
        "    'experts_pubmed':\n",
        "        'https://tfhub.dev/tensorflow/bert_en_uncased_preprocess/3',\n",
        "    'experts_wiki_books':\n",
        "        'https://tfhub.dev/tensorflow/bert_en_uncased_preprocess/3',\n",
        "    'talking-heads_base':\n",
        "        'https://tfhub.dev/tensorflow/bert_en_uncased_preprocess/3',\n",
        "}\n",
        "\n",
        "tfhub_handle_encoder = map_name_to_handle[bert_model_name]\n",
        "tfhub_handle_preprocess = map_model_to_preprocess[bert_model_name]\n",
        "\n",
        "print(f'BERT model selected           : {tfhub_handle_encoder}')\n",
        "print(f'Preprocess model auto-selected: {tfhub_handle_preprocess}')"
      ],
      "execution_count": 98,
      "outputs": [
        {
          "output_type": "stream",
          "text": [
            "BERT model selected           : https://tfhub.dev/tensorflow/small_bert/bert_en_uncased_L-8_H-768_A-12/1\n",
            "Preprocess model auto-selected: https://tfhub.dev/tensorflow/bert_en_uncased_preprocess/3\n"
          ],
          "name": "stdout"
        }
      ]
    },
    {
      "cell_type": "code",
      "metadata": {
        "colab": {
          "base_uri": "https://localhost:8080/"
        },
        "id": "_gOS_E7cd2qB",
        "outputId": "4e9fd9d9-7f5e-4074-963c-451d71246b4d"
      },
      "source": [
        "tfhub_handle_encoder = map_name_to_handle[bert_model_name]\n",
        "tfhub_handle_preprocess = map_model_to_preprocess[bert_model_name]\n",
        "\n",
        "print(f'BERT model selected           : {tfhub_handle_encoder}')\n",
        "print(f'Preprocess model auto-selected: {tfhub_handle_preprocess}')"
      ],
      "execution_count": 99,
      "outputs": [
        {
          "output_type": "stream",
          "text": [
            "BERT model selected           : https://tfhub.dev/tensorflow/small_bert/bert_en_uncased_L-8_H-768_A-12/1\n",
            "Preprocess model auto-selected: https://tfhub.dev/tensorflow/bert_en_uncased_preprocess/3\n"
          ],
          "name": "stdout"
        }
      ]
    },
    {
      "cell_type": "code",
      "metadata": {
        "colab": {
          "base_uri": "https://localhost:8080/"
        },
        "id": "A_lDEaydd20a",
        "outputId": "a1416361-c7ba-4e66-f26e-f8edc78c0cae"
      },
      "source": [
        "pip install bert-tensorflow"
      ],
      "execution_count": 117,
      "outputs": [
        {
          "output_type": "stream",
          "text": [
            "Requirement already satisfied: bert-tensorflow in /usr/local/lib/python3.7/dist-packages (1.0.4)\n",
            "Requirement already satisfied: six in /usr/local/lib/python3.7/dist-packages (from bert-tensorflow) (1.15.0)\n"
          ],
          "name": "stdout"
        }
      ]
    },
    {
      "cell_type": "code",
      "metadata": {
        "id": "bH-L-GB0CAvW",
        "colab": {
          "base_uri": "https://localhost:8080/",
          "height": 180
        },
        "outputId": "d4acbc3f-ca7f-46ef-de42-233b128f0e3b"
      },
      "source": [
        "import tensorflow  as tf \n",
        "tf.enable_eager_execution()"
      ],
      "execution_count": 116,
      "outputs": [
        {
          "output_type": "error",
          "ename": "AttributeError",
          "evalue": "ignored",
          "traceback": [
            "\u001b[0;31m---------------------------------------------------------------------------\u001b[0m",
            "\u001b[0;31mAttributeError\u001b[0m                            Traceback (most recent call last)",
            "\u001b[0;32m<ipython-input-116-98621da3096e>\u001b[0m in \u001b[0;36m<module>\u001b[0;34m()\u001b[0m\n\u001b[1;32m      1\u001b[0m \u001b[0;32mimport\u001b[0m \u001b[0mtensorflow\u001b[0m  \u001b[0;32mas\u001b[0m \u001b[0mtf\u001b[0m\u001b[0;34m\u001b[0m\u001b[0;34m\u001b[0m\u001b[0m\n\u001b[0;32m----> 2\u001b[0;31m \u001b[0mtf\u001b[0m\u001b[0;34m.\u001b[0m\u001b[0menable_eager_execution\u001b[0m\u001b[0;34m(\u001b[0m\u001b[0;34m)\u001b[0m\u001b[0;34m\u001b[0m\u001b[0;34m\u001b[0m\u001b[0m\n\u001b[0m",
            "\u001b[0;31mAttributeError\u001b[0m: module 'tensorflow' has no attribute 'enable_eager_execution'"
          ]
        }
      ]
    },
    {
      "cell_type": "code",
      "metadata": {
        "id": "Ll-hWzSld2vp"
      },
      "source": [
        "import tensorflow_hub as hub\n",
        "import bert\n",
        "import tokenization\n",
        "bert_layer = hub.KerasLayer('https://tfhub.dev/tensorflow/small_bert/bert_en_uncased_L-8_H-768_A-12/1', trainable=True)"
      ],
      "execution_count": 114,
      "outputs": []
    },
    {
      "cell_type": "code",
      "metadata": {
        "id": "HI98i36Ud24F",
        "colab": {
          "base_uri": "https://localhost:8080/",
          "height": 350
        },
        "outputId": "5c999343-1f5f-48eb-ec90-4af75b6a3eb5"
      },
      "source": [
        "vocab_file = bert_layer.resolved_object.vocab_file.asset_path.numpy()\n",
        "do_lower_case = bert_layer.resolved_object.do_lower_case.numpy()\n",
        "tokenizer = tokenization.FullTokenizer(vocab_file, do_lower_case)\n",
        "\n",
        "def bert_encode(texts, tokenizer, max_len=512):\n",
        "    all_tokens = []\n",
        "    all_masks = []\n",
        "    all_segments = []\n",
        "    \n",
        "    for text in texts:\n",
        "        text = tokenizer.tokenize(text)\n",
        "            \n",
        "        text = text[:max_len-2]\n",
        "        input_sequence = [\"[CLS]\"] + text + [\"[SEP]\"]\n",
        "        pad_len = max_len - len(input_sequence)\n",
        "        \n",
        "        tokens = tokenizer.convert_tokens_to_ids(input_sequence) + [0] * pad_len\n",
        "        pad_masks = [1] * len(input_sequence) + [0] * pad_len\n",
        "        segment_ids = [0] * max_len\n",
        "        \n",
        "        all_tokens.append(tokens)\n",
        "        all_masks.append(pad_masks)\n",
        "        all_segments.append(segment_ids)\n",
        "    \n",
        "    return np.array(all_tokens), np.array(all_masks), np.array(all_segments)"
      ],
      "execution_count": 120,
      "outputs": [
        {
          "output_type": "error",
          "ename": "AttributeError",
          "evalue": "ignored",
          "traceback": [
            "\u001b[0;31m---------------------------------------------------------------------------\u001b[0m",
            "\u001b[0;31mAttributeError\u001b[0m                            Traceback (most recent call last)",
            "\u001b[0;32m<ipython-input-120-b0384c28b654>\u001b[0m in \u001b[0;36m<module>\u001b[0;34m()\u001b[0m\n\u001b[0;32m----> 1\u001b[0;31m \u001b[0mvocab_file\u001b[0m \u001b[0;34m=\u001b[0m \u001b[0mbert_layer\u001b[0m\u001b[0;34m.\u001b[0m\u001b[0mresolved_object\u001b[0m\u001b[0;34m.\u001b[0m\u001b[0mvocab_file\u001b[0m\u001b[0;34m.\u001b[0m\u001b[0masset_path\u001b[0m\u001b[0;34m.\u001b[0m\u001b[0mnumpy\u001b[0m\u001b[0;34m(\u001b[0m\u001b[0;34m)\u001b[0m\u001b[0;34m\u001b[0m\u001b[0;34m\u001b[0m\u001b[0m\n\u001b[0m\u001b[1;32m      2\u001b[0m \u001b[0mdo_lower_case\u001b[0m \u001b[0;34m=\u001b[0m \u001b[0mbert_layer\u001b[0m\u001b[0;34m.\u001b[0m\u001b[0mresolved_object\u001b[0m\u001b[0;34m.\u001b[0m\u001b[0mdo_lower_case\u001b[0m\u001b[0;34m.\u001b[0m\u001b[0mnumpy\u001b[0m\u001b[0;34m(\u001b[0m\u001b[0;34m)\u001b[0m\u001b[0;34m\u001b[0m\u001b[0;34m\u001b[0m\u001b[0m\n\u001b[1;32m      3\u001b[0m \u001b[0mtokenizer\u001b[0m \u001b[0;34m=\u001b[0m \u001b[0mtokenization\u001b[0m\u001b[0;34m.\u001b[0m\u001b[0mFullTokenizer\u001b[0m\u001b[0;34m(\u001b[0m\u001b[0mvocab_file\u001b[0m\u001b[0;34m,\u001b[0m \u001b[0mdo_lower_case\u001b[0m\u001b[0;34m)\u001b[0m\u001b[0;34m\u001b[0m\u001b[0;34m\u001b[0m\u001b[0m\n\u001b[1;32m      4\u001b[0m \u001b[0;34m\u001b[0m\u001b[0m\n\u001b[1;32m      5\u001b[0m \u001b[0;32mdef\u001b[0m \u001b[0mbert_encode\u001b[0m\u001b[0;34m(\u001b[0m\u001b[0mtexts\u001b[0m\u001b[0;34m,\u001b[0m \u001b[0mtokenizer\u001b[0m\u001b[0;34m,\u001b[0m \u001b[0mmax_len\u001b[0m\u001b[0;34m=\u001b[0m\u001b[0;36m512\u001b[0m\u001b[0;34m)\u001b[0m\u001b[0;34m:\u001b[0m\u001b[0;34m\u001b[0m\u001b[0;34m\u001b[0m\u001b[0m\n",
            "\u001b[0;32m/usr/local/lib/python3.7/dist-packages/tensorflow/python/framework/ops.py\u001b[0m in \u001b[0;36m__getattr__\u001b[0;34m(self, name)\u001b[0m\n\u001b[1;32m    399\u001b[0m         \u001b[0;32mimport\u001b[0m \u001b[0mtensorflow\u001b[0m\u001b[0;34m.\u001b[0m\u001b[0mpython\u001b[0m\u001b[0;34m.\u001b[0m\u001b[0mops\u001b[0m\u001b[0;34m.\u001b[0m\u001b[0mnumpy_ops\u001b[0m\u001b[0;34m.\u001b[0m\u001b[0mnp_config\u001b[0m\u001b[0;34m\u001b[0m\u001b[0;34m\u001b[0m\u001b[0m\n\u001b[1;32m    400\u001b[0m         np_config.enable_numpy_behavior()\"\"\".format(type(self).__name__, name))\n\u001b[0;32m--> 401\u001b[0;31m     \u001b[0mself\u001b[0m\u001b[0;34m.\u001b[0m\u001b[0m__getattribute__\u001b[0m\u001b[0;34m(\u001b[0m\u001b[0mname\u001b[0m\u001b[0;34m)\u001b[0m\u001b[0;34m\u001b[0m\u001b[0;34m\u001b[0m\u001b[0m\n\u001b[0m\u001b[1;32m    402\u001b[0m \u001b[0;34m\u001b[0m\u001b[0m\n\u001b[1;32m    403\u001b[0m   \u001b[0;34m@\u001b[0m\u001b[0mstaticmethod\u001b[0m\u001b[0;34m\u001b[0m\u001b[0;34m\u001b[0m\u001b[0m\n",
            "\u001b[0;31mAttributeError\u001b[0m: 'Tensor' object has no attribute 'numpy'"
          ]
        }
      ]
    },
    {
      "cell_type": "code",
      "metadata": {
        "id": "taPDgt7Ud27u"
      },
      "source": [
        "#bert_results = bert_layer({'input_word_ids':tf.convert_to_tensor(encoded_text[0], dtype=tf.int32, name='input_word_ids'),\n",
        "                                                 #'input_mask': tf.convert_to_tensor(encoded_text[1], dtype=tf.int32, name='input_mask'), \n",
        "                                                 #'input_type_ids': tf.convert_to_tensor(encoded_text[2], dtype=tf.int32, name='input_type_ids')})"
      ],
      "execution_count": 103,
      "outputs": []
    },
    {
      "cell_type": "code",
      "metadata": {
        "id": "WAHB6cEAErU2",
        "colab": {
          "base_uri": "https://localhost:8080/",
          "height": 214
        },
        "outputId": "977e9058-c9bb-46aa-f5b6-863b91b96def"
      },
      "source": [
        "bert_results = bert_layer({'input_word_ids':tf.convert_to_tensor(encoded_text[0], dtype=tf.int32, name='input_word_ids'),\n",
        "                                                 'input_mask': tf.convert_to_tensor(encoded_text[1], dtype=tf.int32, name='input_mask'), \n",
        "                                                 'input_type_ids': tf.convert_to_tensor(encoded_text[2], dtype=tf.int32, name='input_type_ids')})\n",
        "\n"
      ],
      "execution_count": 104,
      "outputs": [
        {
          "output_type": "error",
          "ename": "NameError",
          "evalue": "ignored",
          "traceback": [
            "\u001b[0;31m---------------------------------------------------------------------------\u001b[0m",
            "\u001b[0;31mNameError\u001b[0m                                 Traceback (most recent call last)",
            "\u001b[0;32m<ipython-input-104-698c5e8e7bb4>\u001b[0m in \u001b[0;36m<module>\u001b[0;34m()\u001b[0m\n\u001b[0;32m----> 1\u001b[0;31m bert_results = bert_layer({'input_word_ids':tf.convert_to_tensor(encoded_text[0], dtype=tf.int32, name='input_word_ids'),\n\u001b[0m\u001b[1;32m      2\u001b[0m                                                  \u001b[0;34m'input_mask'\u001b[0m\u001b[0;34m:\u001b[0m \u001b[0mtf\u001b[0m\u001b[0;34m.\u001b[0m\u001b[0mconvert_to_tensor\u001b[0m\u001b[0;34m(\u001b[0m\u001b[0mencoded_text\u001b[0m\u001b[0;34m[\u001b[0m\u001b[0;36m1\u001b[0m\u001b[0;34m]\u001b[0m\u001b[0;34m,\u001b[0m \u001b[0mdtype\u001b[0m\u001b[0;34m=\u001b[0m\u001b[0mtf\u001b[0m\u001b[0;34m.\u001b[0m\u001b[0mint32\u001b[0m\u001b[0;34m,\u001b[0m \u001b[0mname\u001b[0m\u001b[0;34m=\u001b[0m\u001b[0;34m'input_mask'\u001b[0m\u001b[0;34m)\u001b[0m\u001b[0;34m,\u001b[0m\u001b[0;34m\u001b[0m\u001b[0;34m\u001b[0m\u001b[0m\n\u001b[1;32m      3\u001b[0m                                                  'input_type_ids': tf.convert_to_tensor(encoded_text[2], dtype=tf.int32, name='input_type_ids')})\n\u001b[1;32m      4\u001b[0m \u001b[0;34m\u001b[0m\u001b[0m\n",
            "\u001b[0;31mNameError\u001b[0m: name 'bert_layer' is not defined"
          ]
        }
      ]
    },
    {
      "cell_type": "code",
      "metadata": {
        "id": "np-9XNyqd2_z"
      },
      "source": [
        "def build_model(bert_layer, max_len=512):\n",
        "    input_word_ids = tf.keras.Input(shape=(max_len,), dtype=tf.int32, name=\"input_word_ids\")\n",
        "    input_mask = tf.keras.Input(shape=(max_len,), dtype=tf.int32, name=\"input_mask\")\n",
        "    segment_ids = tf.keras.Input(shape=(max_len,), dtype=tf.int32, name=\"input_type_ids\")\n",
        "\n",
        "    output = bert_layer({'input_word_ids':input_word_ids,\n",
        "                                                 'input_mask': input_mask, \n",
        "                                                 'input_type_ids': segment_ids})\n",
        "    clf_output = output['pooled_output']\n",
        "    net = tf.keras.layers.Dense(64, activation='relu')(clf_output)\n",
        "    net = tf.keras.layers.Dropout(0.2)(net)\n",
        "    net = tf.keras.layers.Dense(32, activation='relu')(net)\n",
        "    net = tf.keras.layers.Dropout(0.2)(net)\n",
        "    out = tf.keras.layers.Dense(5, activation='softmax')(net)\n",
        "    \n",
        "    model = tf.keras.models.Model(inputs=[input_word_ids, input_mask, segment_ids], outputs=out)\n",
        "    model.compile(tf.keras.optimizers.Adam(learning_rate=1e-5), loss='categorical_crossentropy', metrics=['accuracy'])\n",
        "    \n",
        "    return model"
      ],
      "execution_count": null,
      "outputs": []
    },
    {
      "cell_type": "code",
      "metadata": {
        "id": "wyjqlTZXd3De"
      },
      "source": [
        "# let's load the data \n",
        "concat_inputdata =pd.read_csv('Data Set - industrial_safety_and_health_database_with_accidents_description.csv')"
      ],
      "execution_count": null,
      "outputs": []
    },
    {
      "cell_type": "code",
      "metadata": {
        "id": "5IdjZ6bpuItg"
      },
      "source": [
        "# As per the exploratory data analysis, we noted that from the time data, only 'day of the week' and 'quarter' had significance, and therefore we will only use those 2 parameters for our model augmentation  \n",
        "\n",
        "concat_inputdata.Data = pd.to_datetime(concat_inputdata.Data)\n",
        "\n",
        "concat_inputdata['dayofweek']=concat_inputdata['Data'].dt.dayofweek\n",
        "concat_inputdata['quarter']=concat_inputdata['Data'].dt.quarter"
      ],
      "execution_count": null,
      "outputs": []
    },
    {
      "cell_type": "code",
      "metadata": {
        "id": "zdxC6NeZvFGQ"
      },
      "source": [
        "# Let's reorder the data\n",
        "\n",
        "concat_inputdata1=concat_inputdata[['dayofweek', 'quarter','Countries', 'Local','Industry Sector', 'Accident Level', 'Potential Accident Level','Genre', 'Employee or Third Party',\n",
        "                     'Critical Risk','Description']]"
      ],
      "execution_count": null,
      "outputs": []
    },
    {
      "cell_type": "code",
      "metadata": {
        "colab": {
          "base_uri": "https://localhost:8080/",
          "height": 204
        },
        "id": "4xYHX57Rvgvj",
        "outputId": "507f9d77-7661-4977-ceb2-68cb7ed70323"
      },
      "source": [
        "concat_inputdata1.head()"
      ],
      "execution_count": null,
      "outputs": [
        {
          "output_type": "execute_result",
          "data": {
            "text/html": [
              "<div>\n",
              "<style scoped>\n",
              "    .dataframe tbody tr th:only-of-type {\n",
              "        vertical-align: middle;\n",
              "    }\n",
              "\n",
              "    .dataframe tbody tr th {\n",
              "        vertical-align: top;\n",
              "    }\n",
              "\n",
              "    .dataframe thead th {\n",
              "        text-align: right;\n",
              "    }\n",
              "</style>\n",
              "<table border=\"1\" class=\"dataframe\">\n",
              "  <thead>\n",
              "    <tr style=\"text-align: right;\">\n",
              "      <th></th>\n",
              "      <th>dayofweek</th>\n",
              "      <th>quarter</th>\n",
              "      <th>Countries</th>\n",
              "      <th>Local</th>\n",
              "      <th>Industry Sector</th>\n",
              "      <th>Accident Level</th>\n",
              "      <th>Potential Accident Level</th>\n",
              "      <th>Genre</th>\n",
              "      <th>Employee or Third Party</th>\n",
              "      <th>Critical Risk</th>\n",
              "      <th>Description</th>\n",
              "    </tr>\n",
              "  </thead>\n",
              "  <tbody>\n",
              "    <tr>\n",
              "      <th>0</th>\n",
              "      <td>4</td>\n",
              "      <td>1</td>\n",
              "      <td>Country_01</td>\n",
              "      <td>Local_01</td>\n",
              "      <td>Mining</td>\n",
              "      <td>I</td>\n",
              "      <td>IV</td>\n",
              "      <td>Male</td>\n",
              "      <td>Third Party</td>\n",
              "      <td>Pressed</td>\n",
              "      <td>While removing the drill rod of the Jumbo 08 f...</td>\n",
              "    </tr>\n",
              "    <tr>\n",
              "      <th>1</th>\n",
              "      <td>5</td>\n",
              "      <td>1</td>\n",
              "      <td>Country_02</td>\n",
              "      <td>Local_02</td>\n",
              "      <td>Mining</td>\n",
              "      <td>I</td>\n",
              "      <td>IV</td>\n",
              "      <td>Male</td>\n",
              "      <td>Employee</td>\n",
              "      <td>Pressurized Systems</td>\n",
              "      <td>During the activation of a sodium sulphide pum...</td>\n",
              "    </tr>\n",
              "    <tr>\n",
              "      <th>2</th>\n",
              "      <td>2</td>\n",
              "      <td>1</td>\n",
              "      <td>Country_01</td>\n",
              "      <td>Local_03</td>\n",
              "      <td>Mining</td>\n",
              "      <td>I</td>\n",
              "      <td>III</td>\n",
              "      <td>Male</td>\n",
              "      <td>Third Party (Remote)</td>\n",
              "      <td>Manual Tools</td>\n",
              "      <td>In the sub-station MILPO located at level +170...</td>\n",
              "    </tr>\n",
              "    <tr>\n",
              "      <th>3</th>\n",
              "      <td>4</td>\n",
              "      <td>1</td>\n",
              "      <td>Country_01</td>\n",
              "      <td>Local_04</td>\n",
              "      <td>Mining</td>\n",
              "      <td>I</td>\n",
              "      <td>I</td>\n",
              "      <td>Male</td>\n",
              "      <td>Third Party</td>\n",
              "      <td>Others</td>\n",
              "      <td>Being 9:45 am. approximately in the Nv. 1880 C...</td>\n",
              "    </tr>\n",
              "    <tr>\n",
              "      <th>4</th>\n",
              "      <td>6</td>\n",
              "      <td>1</td>\n",
              "      <td>Country_01</td>\n",
              "      <td>Local_04</td>\n",
              "      <td>Mining</td>\n",
              "      <td>IV</td>\n",
              "      <td>IV</td>\n",
              "      <td>Male</td>\n",
              "      <td>Third Party</td>\n",
              "      <td>Others</td>\n",
              "      <td>Approximately at 11:45 a.m. in circumstances t...</td>\n",
              "    </tr>\n",
              "  </tbody>\n",
              "</table>\n",
              "</div>"
            ],
            "text/plain": [
              "   dayofweek  ...                                        Description\n",
              "0          4  ...  While removing the drill rod of the Jumbo 08 f...\n",
              "1          5  ...  During the activation of a sodium sulphide pum...\n",
              "2          2  ...  In the sub-station MILPO located at level +170...\n",
              "3          4  ...  Being 9:45 am. approximately in the Nv. 1880 C...\n",
              "4          6  ...  Approximately at 11:45 a.m. in circumstances t...\n",
              "\n",
              "[5 rows x 11 columns]"
            ]
          },
          "metadata": {
            "tags": []
          },
          "execution_count": 23
        }
      ]
    },
    {
      "cell_type": "code",
      "metadata": {
        "id": "u6RBf3rivjQy"
      },
      "source": [
        "# we Will need to first split the predictor and label variables; predictor variables can be split into two sets- i.e. 1 with the sentence group and the other with the augmented variables for pre-processing  \n",
        "\n",
        "X_concat1=pd.DataFrame(concat_inputdata1['Description'])\n",
        "X_concat2=pd.DataFrame(concat_inputdata1[['dayofweek','quarter','Countries','Local']])\n",
        "Y1=pd.DataFrame(concat_inputdata1['Potential Accident Level'])"
      ],
      "execution_count": null,
      "outputs": []
    },
    {
      "cell_type": "code",
      "metadata": {
        "colab": {
          "base_uri": "https://localhost:8080/",
          "height": 419
        },
        "id": "slO5Vvhl3wZY",
        "outputId": "e20f62f0-1e69-42a5-93fb-288c377f6d9c"
      },
      "source": [
        "X_concat1"
      ],
      "execution_count": null,
      "outputs": [
        {
          "output_type": "execute_result",
          "data": {
            "text/html": [
              "<div>\n",
              "<style scoped>\n",
              "    .dataframe tbody tr th:only-of-type {\n",
              "        vertical-align: middle;\n",
              "    }\n",
              "\n",
              "    .dataframe tbody tr th {\n",
              "        vertical-align: top;\n",
              "    }\n",
              "\n",
              "    .dataframe thead th {\n",
              "        text-align: right;\n",
              "    }\n",
              "</style>\n",
              "<table border=\"1\" class=\"dataframe\">\n",
              "  <thead>\n",
              "    <tr style=\"text-align: right;\">\n",
              "      <th></th>\n",
              "      <th>Description</th>\n",
              "    </tr>\n",
              "  </thead>\n",
              "  <tbody>\n",
              "    <tr>\n",
              "      <th>0</th>\n",
              "      <td>While removing the drill rod of the Jumbo 08 f...</td>\n",
              "    </tr>\n",
              "    <tr>\n",
              "      <th>1</th>\n",
              "      <td>During the activation of a sodium sulphide pum...</td>\n",
              "    </tr>\n",
              "    <tr>\n",
              "      <th>2</th>\n",
              "      <td>In the sub-station MILPO located at level +170...</td>\n",
              "    </tr>\n",
              "    <tr>\n",
              "      <th>3</th>\n",
              "      <td>Being 9:45 am. approximately in the Nv. 1880 C...</td>\n",
              "    </tr>\n",
              "    <tr>\n",
              "      <th>4</th>\n",
              "      <td>Approximately at 11:45 a.m. in circumstances t...</td>\n",
              "    </tr>\n",
              "    <tr>\n",
              "      <th>...</th>\n",
              "      <td>...</td>\n",
              "    </tr>\n",
              "    <tr>\n",
              "      <th>420</th>\n",
              "      <td>Being approximately 5:00 a.m. approximately, w...</td>\n",
              "    </tr>\n",
              "    <tr>\n",
              "      <th>421</th>\n",
              "      <td>The collaborator moved from the infrastructure...</td>\n",
              "    </tr>\n",
              "    <tr>\n",
              "      <th>422</th>\n",
              "      <td>During the environmental monitoring activity i...</td>\n",
              "    </tr>\n",
              "    <tr>\n",
              "      <th>423</th>\n",
              "      <td>The Employee performed the activity of strippi...</td>\n",
              "    </tr>\n",
              "    <tr>\n",
              "      <th>424</th>\n",
              "      <td>At 10:00 a.m., when the assistant cleaned the ...</td>\n",
              "    </tr>\n",
              "  </tbody>\n",
              "</table>\n",
              "<p>425 rows × 1 columns</p>\n",
              "</div>"
            ],
            "text/plain": [
              "                                           Description\n",
              "0    While removing the drill rod of the Jumbo 08 f...\n",
              "1    During the activation of a sodium sulphide pum...\n",
              "2    In the sub-station MILPO located at level +170...\n",
              "3    Being 9:45 am. approximately in the Nv. 1880 C...\n",
              "4    Approximately at 11:45 a.m. in circumstances t...\n",
              "..                                                 ...\n",
              "420  Being approximately 5:00 a.m. approximately, w...\n",
              "421  The collaborator moved from the infrastructure...\n",
              "422  During the environmental monitoring activity i...\n",
              "423  The Employee performed the activity of strippi...\n",
              "424  At 10:00 a.m., when the assistant cleaned the ...\n",
              "\n",
              "[425 rows x 1 columns]"
            ]
          },
          "metadata": {
            "tags": []
          },
          "execution_count": 40
        }
      ]
    },
    {
      "cell_type": "code",
      "metadata": {
        "id": "BZlWTBte2SZ8"
      },
      "source": [
        "import sys\n",
        "import os\n",
        "\n",
        "py_file_location = \"/content/drive/My Drive/Capstone Project\"\n",
        "sys.path.append(os.path.abspath(py_file_location))"
      ],
      "execution_count": null,
      "outputs": []
    },
    {
      "cell_type": "code",
      "metadata": {
        "colab": {
          "base_uri": "https://localhost:8080/",
          "height": 204
        },
        "id": "5C8w2Myg2Ve9",
        "outputId": "0eef85f7-d93b-415b-d663-237ac171520f"
      },
      "source": [
        "Y1.head()"
      ],
      "execution_count": null,
      "outputs": [
        {
          "output_type": "execute_result",
          "data": {
            "text/html": [
              "<div>\n",
              "<style scoped>\n",
              "    .dataframe tbody tr th:only-of-type {\n",
              "        vertical-align: middle;\n",
              "    }\n",
              "\n",
              "    .dataframe tbody tr th {\n",
              "        vertical-align: top;\n",
              "    }\n",
              "\n",
              "    .dataframe thead th {\n",
              "        text-align: right;\n",
              "    }\n",
              "</style>\n",
              "<table border=\"1\" class=\"dataframe\">\n",
              "  <thead>\n",
              "    <tr style=\"text-align: right;\">\n",
              "      <th></th>\n",
              "      <th>Potential Accident Level</th>\n",
              "    </tr>\n",
              "  </thead>\n",
              "  <tbody>\n",
              "    <tr>\n",
              "      <th>0</th>\n",
              "      <td>IV</td>\n",
              "    </tr>\n",
              "    <tr>\n",
              "      <th>1</th>\n",
              "      <td>IV</td>\n",
              "    </tr>\n",
              "    <tr>\n",
              "      <th>2</th>\n",
              "      <td>III</td>\n",
              "    </tr>\n",
              "    <tr>\n",
              "      <th>3</th>\n",
              "      <td>I</td>\n",
              "    </tr>\n",
              "    <tr>\n",
              "      <th>4</th>\n",
              "      <td>IV</td>\n",
              "    </tr>\n",
              "  </tbody>\n",
              "</table>\n",
              "</div>"
            ],
            "text/plain": [
              "  Potential Accident Level\n",
              "0                       IV\n",
              "1                       IV\n",
              "2                      III\n",
              "3                        I\n",
              "4                       IV"
            ]
          },
          "metadata": {
            "tags": []
          },
          "execution_count": 44
        }
      ]
    },
    {
      "cell_type": "code",
      "metadata": {
        "id": "0aBbtDgQ4NR2"
      },
      "source": [
        "Y1['label'] = Y1['Potential Accident Level'].replace({'I' :0, 'II':1, 'III':2, 'IV':3, 'V':4, 'VI':4})"
      ],
      "execution_count": null,
      "outputs": []
    },
    {
      "cell_type": "code",
      "metadata": {
        "colab": {
          "base_uri": "https://localhost:8080/"
        },
        "id": "Wv0MLcNU5HZ7",
        "outputId": "6ccaf0b4-b087-4dbd-c4eb-ffedda2ccd19"
      },
      "source": [
        "Y2=Y1['label']\n",
        "Y2.head()"
      ],
      "execution_count": null,
      "outputs": [
        {
          "output_type": "execute_result",
          "data": {
            "text/plain": [
              "0    3\n",
              "1    3\n",
              "2    2\n",
              "3    0\n",
              "4    3\n",
              "Name: label, dtype: int64"
            ]
          },
          "metadata": {
            "tags": []
          },
          "execution_count": 79
        }
      ]
    },
    {
      "cell_type": "code",
      "metadata": {
        "colab": {
          "base_uri": "https://localhost:8080/",
          "height": 419
        },
        "id": "fISN237e5M0J",
        "outputId": "71078af5-5d2f-40d4-d078-3d2450cb62f7"
      },
      "source": [
        "from tensorflow.keras.utils import to_categorical\n",
        "Y2=pd.DataFrame(to_categorical(Y2))\n",
        "Y2"
      ],
      "execution_count": null,
      "outputs": [
        {
          "output_type": "execute_result",
          "data": {
            "text/html": [
              "<div>\n",
              "<style scoped>\n",
              "    .dataframe tbody tr th:only-of-type {\n",
              "        vertical-align: middle;\n",
              "    }\n",
              "\n",
              "    .dataframe tbody tr th {\n",
              "        vertical-align: top;\n",
              "    }\n",
              "\n",
              "    .dataframe thead th {\n",
              "        text-align: right;\n",
              "    }\n",
              "</style>\n",
              "<table border=\"1\" class=\"dataframe\">\n",
              "  <thead>\n",
              "    <tr style=\"text-align: right;\">\n",
              "      <th></th>\n",
              "      <th>0</th>\n",
              "      <th>1</th>\n",
              "      <th>2</th>\n",
              "      <th>3</th>\n",
              "      <th>4</th>\n",
              "    </tr>\n",
              "  </thead>\n",
              "  <tbody>\n",
              "    <tr>\n",
              "      <th>0</th>\n",
              "      <td>0.0</td>\n",
              "      <td>0.0</td>\n",
              "      <td>0.0</td>\n",
              "      <td>1.0</td>\n",
              "      <td>0.0</td>\n",
              "    </tr>\n",
              "    <tr>\n",
              "      <th>1</th>\n",
              "      <td>0.0</td>\n",
              "      <td>0.0</td>\n",
              "      <td>0.0</td>\n",
              "      <td>1.0</td>\n",
              "      <td>0.0</td>\n",
              "    </tr>\n",
              "    <tr>\n",
              "      <th>2</th>\n",
              "      <td>0.0</td>\n",
              "      <td>0.0</td>\n",
              "      <td>1.0</td>\n",
              "      <td>0.0</td>\n",
              "      <td>0.0</td>\n",
              "    </tr>\n",
              "    <tr>\n",
              "      <th>3</th>\n",
              "      <td>1.0</td>\n",
              "      <td>0.0</td>\n",
              "      <td>0.0</td>\n",
              "      <td>0.0</td>\n",
              "      <td>0.0</td>\n",
              "    </tr>\n",
              "    <tr>\n",
              "      <th>4</th>\n",
              "      <td>0.0</td>\n",
              "      <td>0.0</td>\n",
              "      <td>0.0</td>\n",
              "      <td>1.0</td>\n",
              "      <td>0.0</td>\n",
              "    </tr>\n",
              "    <tr>\n",
              "      <th>...</th>\n",
              "      <td>...</td>\n",
              "      <td>...</td>\n",
              "      <td>...</td>\n",
              "      <td>...</td>\n",
              "      <td>...</td>\n",
              "    </tr>\n",
              "    <tr>\n",
              "      <th>420</th>\n",
              "      <td>0.0</td>\n",
              "      <td>0.0</td>\n",
              "      <td>1.0</td>\n",
              "      <td>0.0</td>\n",
              "      <td>0.0</td>\n",
              "    </tr>\n",
              "    <tr>\n",
              "      <th>421</th>\n",
              "      <td>0.0</td>\n",
              "      <td>1.0</td>\n",
              "      <td>0.0</td>\n",
              "      <td>0.0</td>\n",
              "      <td>0.0</td>\n",
              "    </tr>\n",
              "    <tr>\n",
              "      <th>422</th>\n",
              "      <td>0.0</td>\n",
              "      <td>1.0</td>\n",
              "      <td>0.0</td>\n",
              "      <td>0.0</td>\n",
              "      <td>0.0</td>\n",
              "    </tr>\n",
              "    <tr>\n",
              "      <th>423</th>\n",
              "      <td>0.0</td>\n",
              "      <td>1.0</td>\n",
              "      <td>0.0</td>\n",
              "      <td>0.0</td>\n",
              "      <td>0.0</td>\n",
              "    </tr>\n",
              "    <tr>\n",
              "      <th>424</th>\n",
              "      <td>0.0</td>\n",
              "      <td>1.0</td>\n",
              "      <td>0.0</td>\n",
              "      <td>0.0</td>\n",
              "      <td>0.0</td>\n",
              "    </tr>\n",
              "  </tbody>\n",
              "</table>\n",
              "<p>425 rows × 5 columns</p>\n",
              "</div>"
            ],
            "text/plain": [
              "       0    1    2    3    4\n",
              "0    0.0  0.0  0.0  1.0  0.0\n",
              "1    0.0  0.0  0.0  1.0  0.0\n",
              "2    0.0  0.0  1.0  0.0  0.0\n",
              "3    1.0  0.0  0.0  0.0  0.0\n",
              "4    0.0  0.0  0.0  1.0  0.0\n",
              "..   ...  ...  ...  ...  ...\n",
              "420  0.0  0.0  1.0  0.0  0.0\n",
              "421  0.0  1.0  0.0  0.0  0.0\n",
              "422  0.0  1.0  0.0  0.0  0.0\n",
              "423  0.0  1.0  0.0  0.0  0.0\n",
              "424  0.0  1.0  0.0  0.0  0.0\n",
              "\n",
              "[425 rows x 5 columns]"
            ]
          },
          "metadata": {
            "tags": []
          },
          "execution_count": 80
        }
      ]
    },
    {
      "cell_type": "code",
      "metadata": {
        "colab": {
          "base_uri": "https://localhost:8080/"
        },
        "id": "8LxMUDHXxfyi",
        "outputId": "878ac7d5-9361-4370-cd1d-01678810b364"
      },
      "source": [
        "import pre_processor\n",
        "from pre_processor import pre_process_data"
      ],
      "execution_count": null,
      "outputs": [
        {
          "output_type": "stream",
          "text": [
            "[nltk_data] Downloading package wordnet to /root/nltk_data...\n",
            "[nltk_data]   Unzipping corpora/wordnet.zip.\n",
            "[nltk_data] Downloading package stopwords to /root/nltk_data...\n",
            "[nltk_data]   Unzipping corpora/stopwords.zip.\n"
          ],
          "name": "stdout"
        }
      ]
    },
    {
      "cell_type": "code",
      "metadata": {
        "id": "PbrTXhvS3NOM"
      },
      "source": [
        "x= pre_process_data()\n",
        "\n",
        "X_concat1[\"CleanDescription\"] = x.pre_process(X_concat1['Description'], \n",
        "                    lower_flag=1,\n",
        "                    remove_spaces_flag=1, \n",
        "                    remove_new_line_flag=1,\n",
        "                    remove_special_char_flag=1,  \n",
        "                    remove_numbers_flag=1,  \n",
        "                    replace_appos_flag=1,\n",
        "                    remove_stop_words_flag=1,  \n",
        "                    remove_single_letter_word_flag=1,\n",
        "                    remove_two_letter_word_flag=1,\n",
        "                    lemmatize_the_words_flag=0, \n",
        "                    stem_the_words_flag=0)"
      ],
      "execution_count": null,
      "outputs": []
    },
    {
      "cell_type": "code",
      "metadata": {
        "colab": {
          "base_uri": "https://localhost:8080/",
          "height": 204
        },
        "id": "HJBOvuTD3-cz",
        "outputId": "426d66fe-fb31-4022-a69f-70a3aa3d51b0"
      },
      "source": [
        "X_concat1.head()"
      ],
      "execution_count": null,
      "outputs": [
        {
          "output_type": "execute_result",
          "data": {
            "text/html": [
              "<div>\n",
              "<style scoped>\n",
              "    .dataframe tbody tr th:only-of-type {\n",
              "        vertical-align: middle;\n",
              "    }\n",
              "\n",
              "    .dataframe tbody tr th {\n",
              "        vertical-align: top;\n",
              "    }\n",
              "\n",
              "    .dataframe thead th {\n",
              "        text-align: right;\n",
              "    }\n",
              "</style>\n",
              "<table border=\"1\" class=\"dataframe\">\n",
              "  <thead>\n",
              "    <tr style=\"text-align: right;\">\n",
              "      <th></th>\n",
              "      <th>Description</th>\n",
              "      <th>CleanDescription</th>\n",
              "    </tr>\n",
              "  </thead>\n",
              "  <tbody>\n",
              "    <tr>\n",
              "      <th>0</th>\n",
              "      <td>While removing the drill rod of the Jumbo 08 f...</td>\n",
              "      <td>removing drill rod jumbo maintenance superviso...</td>\n",
              "    </tr>\n",
              "    <tr>\n",
              "      <th>1</th>\n",
              "      <td>During the activation of a sodium sulphide pum...</td>\n",
              "      <td>activation sodium sulphide pump piping uncoupl...</td>\n",
              "    </tr>\n",
              "    <tr>\n",
              "      <th>2</th>\n",
              "      <td>In the sub-station MILPO located at level +170...</td>\n",
              "      <td>substation milpo located level collaborator ex...</td>\n",
              "    </tr>\n",
              "    <tr>\n",
              "      <th>3</th>\n",
              "      <td>Being 9:45 am. approximately in the Nv. 1880 C...</td>\n",
              "      <td>approximately cx personnel begins task unlocki...</td>\n",
              "    </tr>\n",
              "    <tr>\n",
              "      <th>4</th>\n",
              "      <td>Approximately at 11:45 a.m. in circumstances t...</td>\n",
              "      <td>approximately circumstances mechanics anthony ...</td>\n",
              "    </tr>\n",
              "  </tbody>\n",
              "</table>\n",
              "</div>"
            ],
            "text/plain": [
              "                                         Description                                   CleanDescription\n",
              "0  While removing the drill rod of the Jumbo 08 f...  removing drill rod jumbo maintenance superviso...\n",
              "1  During the activation of a sodium sulphide pum...  activation sodium sulphide pump piping uncoupl...\n",
              "2  In the sub-station MILPO located at level +170...  substation milpo located level collaborator ex...\n",
              "3  Being 9:45 am. approximately in the Nv. 1880 C...  approximately cx personnel begins task unlocki...\n",
              "4  Approximately at 11:45 a.m. in circumstances t...  approximately circumstances mechanics anthony ..."
            ]
          },
          "metadata": {
            "tags": []
          },
          "execution_count": 61
        }
      ]
    },
    {
      "cell_type": "code",
      "metadata": {
        "id": "qXZ8NZQZ52lq"
      },
      "source": [
        "input1_contact=pd.DataFrame(X_concat1.CleanDescription)"
      ],
      "execution_count": null,
      "outputs": []
    },
    {
      "cell_type": "code",
      "metadata": {
        "colab": {
          "base_uri": "https://localhost:8080/",
          "height": 204
        },
        "id": "CcjjezFS55aF",
        "outputId": "6c405358-f415-4203-e08e-629f028b70f3"
      },
      "source": [
        "input1_contact.head()"
      ],
      "execution_count": null,
      "outputs": [
        {
          "output_type": "execute_result",
          "data": {
            "text/html": [
              "<div>\n",
              "<style scoped>\n",
              "    .dataframe tbody tr th:only-of-type {\n",
              "        vertical-align: middle;\n",
              "    }\n",
              "\n",
              "    .dataframe tbody tr th {\n",
              "        vertical-align: top;\n",
              "    }\n",
              "\n",
              "    .dataframe thead th {\n",
              "        text-align: right;\n",
              "    }\n",
              "</style>\n",
              "<table border=\"1\" class=\"dataframe\">\n",
              "  <thead>\n",
              "    <tr style=\"text-align: right;\">\n",
              "      <th></th>\n",
              "      <th>CleanDescription</th>\n",
              "    </tr>\n",
              "  </thead>\n",
              "  <tbody>\n",
              "    <tr>\n",
              "      <th>0</th>\n",
              "      <td>removing drill rod jumbo maintenance superviso...</td>\n",
              "    </tr>\n",
              "    <tr>\n",
              "      <th>1</th>\n",
              "      <td>activation sodium sulphide pump piping uncoupl...</td>\n",
              "    </tr>\n",
              "    <tr>\n",
              "      <th>2</th>\n",
              "      <td>substation milpo located level collaborator ex...</td>\n",
              "    </tr>\n",
              "    <tr>\n",
              "      <th>3</th>\n",
              "      <td>approximately cx personnel begins task unlocki...</td>\n",
              "    </tr>\n",
              "    <tr>\n",
              "      <th>4</th>\n",
              "      <td>approximately circumstances mechanics anthony ...</td>\n",
              "    </tr>\n",
              "  </tbody>\n",
              "</table>\n",
              "</div>"
            ],
            "text/plain": [
              "                                    CleanDescription\n",
              "0  removing drill rod jumbo maintenance superviso...\n",
              "1  activation sodium sulphide pump piping uncoupl...\n",
              "2  substation milpo located level collaborator ex...\n",
              "3  approximately cx personnel begins task unlocki...\n",
              "4  approximately circumstances mechanics anthony ..."
            ]
          },
          "metadata": {
            "tags": []
          },
          "execution_count": 64
        }
      ]
    },
    {
      "cell_type": "code",
      "metadata": {
        "id": "k0wKf_5755j3"
      },
      "source": [
        "# Let's precprocess the other part of the data\n",
        "# let's convert the country and local columns in the dataset into one-hot encoded values before splitting the data\n",
        "\n",
        "cat_cols1=['Countries','Local']\n",
        "input2_contact= pd.get_dummies(X_concat2, columns = cat_cols1)"
      ],
      "execution_count": null,
      "outputs": []
    },
    {
      "cell_type": "code",
      "metadata": {
        "colab": {
          "base_uri": "https://localhost:8080/",
          "height": 224
        },
        "id": "LYvB9Liq55n0",
        "outputId": "0e6e2ed5-b2b2-4d5f-9d34-db4913197def"
      },
      "source": [
        "input2_contact.head()"
      ],
      "execution_count": null,
      "outputs": [
        {
          "output_type": "execute_result",
          "data": {
            "text/html": [
              "<div>\n",
              "<style scoped>\n",
              "    .dataframe tbody tr th:only-of-type {\n",
              "        vertical-align: middle;\n",
              "    }\n",
              "\n",
              "    .dataframe tbody tr th {\n",
              "        vertical-align: top;\n",
              "    }\n",
              "\n",
              "    .dataframe thead th {\n",
              "        text-align: right;\n",
              "    }\n",
              "</style>\n",
              "<table border=\"1\" class=\"dataframe\">\n",
              "  <thead>\n",
              "    <tr style=\"text-align: right;\">\n",
              "      <th></th>\n",
              "      <th>dayofweek</th>\n",
              "      <th>quarter</th>\n",
              "      <th>Countries_Country_01</th>\n",
              "      <th>Countries_Country_02</th>\n",
              "      <th>Countries_Country_03</th>\n",
              "      <th>Local_Local_01</th>\n",
              "      <th>Local_Local_02</th>\n",
              "      <th>Local_Local_03</th>\n",
              "      <th>Local_Local_04</th>\n",
              "      <th>Local_Local_05</th>\n",
              "      <th>Local_Local_06</th>\n",
              "      <th>Local_Local_07</th>\n",
              "      <th>Local_Local_08</th>\n",
              "      <th>Local_Local_09</th>\n",
              "      <th>Local_Local_10</th>\n",
              "      <th>Local_Local_11</th>\n",
              "      <th>Local_Local_12</th>\n",
              "    </tr>\n",
              "  </thead>\n",
              "  <tbody>\n",
              "    <tr>\n",
              "      <th>0</th>\n",
              "      <td>4</td>\n",
              "      <td>1</td>\n",
              "      <td>1</td>\n",
              "      <td>0</td>\n",
              "      <td>0</td>\n",
              "      <td>1</td>\n",
              "      <td>0</td>\n",
              "      <td>0</td>\n",
              "      <td>0</td>\n",
              "      <td>0</td>\n",
              "      <td>0</td>\n",
              "      <td>0</td>\n",
              "      <td>0</td>\n",
              "      <td>0</td>\n",
              "      <td>0</td>\n",
              "      <td>0</td>\n",
              "      <td>0</td>\n",
              "    </tr>\n",
              "    <tr>\n",
              "      <th>1</th>\n",
              "      <td>5</td>\n",
              "      <td>1</td>\n",
              "      <td>0</td>\n",
              "      <td>1</td>\n",
              "      <td>0</td>\n",
              "      <td>0</td>\n",
              "      <td>1</td>\n",
              "      <td>0</td>\n",
              "      <td>0</td>\n",
              "      <td>0</td>\n",
              "      <td>0</td>\n",
              "      <td>0</td>\n",
              "      <td>0</td>\n",
              "      <td>0</td>\n",
              "      <td>0</td>\n",
              "      <td>0</td>\n",
              "      <td>0</td>\n",
              "    </tr>\n",
              "    <tr>\n",
              "      <th>2</th>\n",
              "      <td>2</td>\n",
              "      <td>1</td>\n",
              "      <td>1</td>\n",
              "      <td>0</td>\n",
              "      <td>0</td>\n",
              "      <td>0</td>\n",
              "      <td>0</td>\n",
              "      <td>1</td>\n",
              "      <td>0</td>\n",
              "      <td>0</td>\n",
              "      <td>0</td>\n",
              "      <td>0</td>\n",
              "      <td>0</td>\n",
              "      <td>0</td>\n",
              "      <td>0</td>\n",
              "      <td>0</td>\n",
              "      <td>0</td>\n",
              "    </tr>\n",
              "    <tr>\n",
              "      <th>3</th>\n",
              "      <td>4</td>\n",
              "      <td>1</td>\n",
              "      <td>1</td>\n",
              "      <td>0</td>\n",
              "      <td>0</td>\n",
              "      <td>0</td>\n",
              "      <td>0</td>\n",
              "      <td>0</td>\n",
              "      <td>1</td>\n",
              "      <td>0</td>\n",
              "      <td>0</td>\n",
              "      <td>0</td>\n",
              "      <td>0</td>\n",
              "      <td>0</td>\n",
              "      <td>0</td>\n",
              "      <td>0</td>\n",
              "      <td>0</td>\n",
              "    </tr>\n",
              "    <tr>\n",
              "      <th>4</th>\n",
              "      <td>6</td>\n",
              "      <td>1</td>\n",
              "      <td>1</td>\n",
              "      <td>0</td>\n",
              "      <td>0</td>\n",
              "      <td>0</td>\n",
              "      <td>0</td>\n",
              "      <td>0</td>\n",
              "      <td>1</td>\n",
              "      <td>0</td>\n",
              "      <td>0</td>\n",
              "      <td>0</td>\n",
              "      <td>0</td>\n",
              "      <td>0</td>\n",
              "      <td>0</td>\n",
              "      <td>0</td>\n",
              "      <td>0</td>\n",
              "    </tr>\n",
              "  </tbody>\n",
              "</table>\n",
              "</div>"
            ],
            "text/plain": [
              "   dayofweek  quarter  ...  Local_Local_11  Local_Local_12\n",
              "0          4        1  ...               0               0\n",
              "1          5        1  ...               0               0\n",
              "2          2        1  ...               0               0\n",
              "3          4        1  ...               0               0\n",
              "4          6        1  ...               0               0\n",
              "\n",
              "[5 rows x 17 columns]"
            ]
          },
          "metadata": {
            "tags": []
          },
          "execution_count": 71
        }
      ]
    },
    {
      "cell_type": "code",
      "metadata": {
        "id": "vlme15zS55rr"
      },
      "source": [
        "# let's concatenate the predictor variables and then split the data\n",
        "\n",
        "input_combined=input1_contact.join(input2_contact)"
      ],
      "execution_count": null,
      "outputs": []
    },
    {
      "cell_type": "code",
      "metadata": {
        "colab": {
          "base_uri": "https://localhost:8080/",
          "height": 411
        },
        "id": "9aLPrs4h8AFd",
        "outputId": "ecbb7d5f-ceb9-4564-e8e4-83437b7e40e8"
      },
      "source": [
        "input_combined.head()"
      ],
      "execution_count": null,
      "outputs": [
        {
          "output_type": "execute_result",
          "data": {
            "text/html": [
              "<div>\n",
              "<style scoped>\n",
              "    .dataframe tbody tr th:only-of-type {\n",
              "        vertical-align: middle;\n",
              "    }\n",
              "\n",
              "    .dataframe tbody tr th {\n",
              "        vertical-align: top;\n",
              "    }\n",
              "\n",
              "    .dataframe thead th {\n",
              "        text-align: right;\n",
              "    }\n",
              "</style>\n",
              "<table border=\"1\" class=\"dataframe\">\n",
              "  <thead>\n",
              "    <tr style=\"text-align: right;\">\n",
              "      <th></th>\n",
              "      <th>CleanDescription</th>\n",
              "      <th>dayofweek</th>\n",
              "      <th>quarter</th>\n",
              "      <th>Countries_Country_01</th>\n",
              "      <th>Countries_Country_02</th>\n",
              "      <th>Countries_Country_03</th>\n",
              "      <th>Local_Local_01</th>\n",
              "      <th>Local_Local_02</th>\n",
              "      <th>Local_Local_03</th>\n",
              "      <th>Local_Local_04</th>\n",
              "      <th>Local_Local_05</th>\n",
              "      <th>Local_Local_06</th>\n",
              "      <th>Local_Local_07</th>\n",
              "      <th>Local_Local_08</th>\n",
              "      <th>Local_Local_09</th>\n",
              "      <th>Local_Local_10</th>\n",
              "      <th>Local_Local_11</th>\n",
              "      <th>Local_Local_12</th>\n",
              "    </tr>\n",
              "  </thead>\n",
              "  <tbody>\n",
              "    <tr>\n",
              "      <th>0</th>\n",
              "      <td>removing drill rod jumbo maintenance superviso...</td>\n",
              "      <td>4</td>\n",
              "      <td>1</td>\n",
              "      <td>1</td>\n",
              "      <td>0</td>\n",
              "      <td>0</td>\n",
              "      <td>1</td>\n",
              "      <td>0</td>\n",
              "      <td>0</td>\n",
              "      <td>0</td>\n",
              "      <td>0</td>\n",
              "      <td>0</td>\n",
              "      <td>0</td>\n",
              "      <td>0</td>\n",
              "      <td>0</td>\n",
              "      <td>0</td>\n",
              "      <td>0</td>\n",
              "      <td>0</td>\n",
              "    </tr>\n",
              "    <tr>\n",
              "      <th>1</th>\n",
              "      <td>activation sodium sulphide pump piping uncoupl...</td>\n",
              "      <td>5</td>\n",
              "      <td>1</td>\n",
              "      <td>0</td>\n",
              "      <td>1</td>\n",
              "      <td>0</td>\n",
              "      <td>0</td>\n",
              "      <td>1</td>\n",
              "      <td>0</td>\n",
              "      <td>0</td>\n",
              "      <td>0</td>\n",
              "      <td>0</td>\n",
              "      <td>0</td>\n",
              "      <td>0</td>\n",
              "      <td>0</td>\n",
              "      <td>0</td>\n",
              "      <td>0</td>\n",
              "      <td>0</td>\n",
              "    </tr>\n",
              "    <tr>\n",
              "      <th>2</th>\n",
              "      <td>substation milpo located level collaborator ex...</td>\n",
              "      <td>2</td>\n",
              "      <td>1</td>\n",
              "      <td>1</td>\n",
              "      <td>0</td>\n",
              "      <td>0</td>\n",
              "      <td>0</td>\n",
              "      <td>0</td>\n",
              "      <td>1</td>\n",
              "      <td>0</td>\n",
              "      <td>0</td>\n",
              "      <td>0</td>\n",
              "      <td>0</td>\n",
              "      <td>0</td>\n",
              "      <td>0</td>\n",
              "      <td>0</td>\n",
              "      <td>0</td>\n",
              "      <td>0</td>\n",
              "    </tr>\n",
              "    <tr>\n",
              "      <th>3</th>\n",
              "      <td>approximately cx personnel begins task unlocki...</td>\n",
              "      <td>4</td>\n",
              "      <td>1</td>\n",
              "      <td>1</td>\n",
              "      <td>0</td>\n",
              "      <td>0</td>\n",
              "      <td>0</td>\n",
              "      <td>0</td>\n",
              "      <td>0</td>\n",
              "      <td>1</td>\n",
              "      <td>0</td>\n",
              "      <td>0</td>\n",
              "      <td>0</td>\n",
              "      <td>0</td>\n",
              "      <td>0</td>\n",
              "      <td>0</td>\n",
              "      <td>0</td>\n",
              "      <td>0</td>\n",
              "    </tr>\n",
              "    <tr>\n",
              "      <th>4</th>\n",
              "      <td>approximately circumstances mechanics anthony ...</td>\n",
              "      <td>6</td>\n",
              "      <td>1</td>\n",
              "      <td>1</td>\n",
              "      <td>0</td>\n",
              "      <td>0</td>\n",
              "      <td>0</td>\n",
              "      <td>0</td>\n",
              "      <td>0</td>\n",
              "      <td>1</td>\n",
              "      <td>0</td>\n",
              "      <td>0</td>\n",
              "      <td>0</td>\n",
              "      <td>0</td>\n",
              "      <td>0</td>\n",
              "      <td>0</td>\n",
              "      <td>0</td>\n",
              "      <td>0</td>\n",
              "    </tr>\n",
              "  </tbody>\n",
              "</table>\n",
              "</div>"
            ],
            "text/plain": [
              "                                    CleanDescription  ...  Local_Local_12\n",
              "0  removing drill rod jumbo maintenance superviso...  ...               0\n",
              "1  activation sodium sulphide pump piping uncoupl...  ...               0\n",
              "2  substation milpo located level collaborator ex...  ...               0\n",
              "3  approximately cx personnel begins task unlocki...  ...               0\n",
              "4  approximately circumstances mechanics anthony ...  ...               0\n",
              "\n",
              "[5 rows x 18 columns]"
            ]
          },
          "metadata": {
            "tags": []
          },
          "execution_count": 73
        }
      ]
    },
    {
      "cell_type": "code",
      "metadata": {
        "id": "KxNhsYLc8DcI"
      },
      "source": [
        "# Let's split the dataset\n",
        "\n",
        "from sklearn.model_selection import train_test_split\n",
        "\n",
        "x_train21, X_test21, y_train21, y_test21 = train_test_split(input_combined,Y2, test_size=0.25, random_state=200)"
      ],
      "execution_count": null,
      "outputs": []
    },
    {
      "cell_type": "code",
      "metadata": {
        "colab": {
          "base_uri": "https://localhost:8080/"
        },
        "id": "irmWno-_8fXN",
        "outputId": "b4336496-20df-485f-bc76-fec222769be6"
      },
      "source": [
        "print(x_train21.shape)\n",
        "print(X_test21.shape)"
      ],
      "execution_count": null,
      "outputs": [
        {
          "output_type": "stream",
          "text": [
            "(318, 18)\n",
            "(107, 18)\n"
          ],
          "name": "stdout"
        }
      ]
    },
    {
      "cell_type": "code",
      "metadata": {
        "colab": {
          "base_uri": "https://localhost:8080/"
        },
        "id": "u1zziupB8nS6",
        "outputId": "b53a0979-e391-46e2-dd1f-79bf7e95dcd4"
      },
      "source": [
        "print(y_train21.shape)\n",
        "print(y_test21.shape)"
      ],
      "execution_count": null,
      "outputs": [
        {
          "output_type": "stream",
          "text": [
            "(318, 5)\n",
            "(107, 5)\n"
          ],
          "name": "stdout"
        }
      ]
    },
    {
      "cell_type": "code",
      "metadata": {
        "colab": {
          "base_uri": "https://localhost:8080/"
        },
        "id": "vVMTbOYm9D9q",
        "outputId": "6cbc5dce-e6dd-43e8-a219-eff089f45840"
      },
      "source": [
        "x_train21.columns"
      ],
      "execution_count": null,
      "outputs": [
        {
          "output_type": "execute_result",
          "data": {
            "text/plain": [
              "Index(['CleanDescription', 'dayofweek', 'quarter', 'Countries_Country_01',\n",
              "       'Countries_Country_02', 'Countries_Country_03', 'Local_Local_01',\n",
              "       'Local_Local_02', 'Local_Local_03', 'Local_Local_04', 'Local_Local_05',\n",
              "       'Local_Local_06', 'Local_Local_07', 'Local_Local_08', 'Local_Local_09',\n",
              "       'Local_Local_10', 'Local_Local_11', 'Local_Local_12'],\n",
              "      dtype='object')"
            ]
          },
          "metadata": {
            "tags": []
          },
          "execution_count": 84
        }
      ]
    },
    {
      "cell_type": "code",
      "metadata": {
        "id": "7CwmsunD87OW"
      },
      "source": [
        "#split the input data again - train\n",
        "\n",
        "xtrain_input1=x_train21['CleanDescription']\n",
        "xtrain_input2=x_train21.drop('CleanDescription',axis=1,inplace=False)"
      ],
      "execution_count": null,
      "outputs": []
    },
    {
      "cell_type": "code",
      "metadata": {
        "id": "On7yaGA19jru"
      },
      "source": [
        "#split the input data again - test\n",
        "\n",
        "xtest_input1=X_test21['CleanDescription']\n",
        "xtest_input2=X_test21.drop('CleanDescription',axis=1,inplace=False)"
      ],
      "execution_count": null,
      "outputs": []
    },
    {
      "cell_type": "code",
      "metadata": {
        "id": "T_ohaUBcAADh"
      },
      "source": [
        "max_len = 100\n",
        "train_input =bert_encode(xtrain_input1, tokenizer, max_len=max_len)"
      ],
      "execution_count": null,
      "outputs": []
    },
    {
      "cell_type": "code",
      "metadata": {
        "id": "fA41S04GAl0Q"
      },
      "source": [
        "test_input = bert_encode(xtest_input1, tokenizer, max_len=max_len)"
      ],
      "execution_count": null,
      "outputs": []
    },
    {
      "cell_type": "code",
      "metadata": {
        "id": "eME_WBR4-Gt4"
      },
      "source": [
        "# We will use the vanilla neural network as it does seem to perform slightly better than the conv1d network \n",
        "\n",
        "Length2 =17\n",
        "\n",
        "input2= Input(shape=(Length2,))\n",
        "\n",
        "dense11= Dense(50,activation='relu')(input2) \n",
        "dense21= Dense(50,activation='relu')(dense11)\n",
        "dense31= Dense(25,activation='relu')(dense21)"
      ],
      "execution_count": null,
      "outputs": []
    },
    {
      "cell_type": "code",
      "metadata": {
        "id": "o-uaAaIVBBwW"
      },
      "source": [
        "Length1=100\n",
        "#input1= Input(shape=(Length1,))\n",
        "input1=[input_word_ids, input_mask, segment_ids]"
      ],
      "execution_count": null,
      "outputs": []
    },
    {
      "cell_type": "code",
      "metadata": {
        "id": "Wr696nc3_B0i"
      },
      "source": [
        "from keras.layers.merge import Concatenate"
      ],
      "execution_count": null,
      "outputs": []
    },
    {
      "cell_type": "code",
      "metadata": {
        "id": "WTnDDIY0COx6"
      },
      "source": [
        "input_word_ids =tf.keras.Input(shape=(max_len,), dtype=tf.int32, name=\"input_word_ids\")\n",
        "input_mask = tf.keras.Input(shape=(max_len,), dtype=tf.int32, name=\"input_mask\")\n",
        "segment_ids =tf.keras.Input(shape=(max_len,), dtype=tf.int32, name=\"input_type_ids\")\n",
        "\n",
        "output = bert_layer({'input_word_ids':input_word_ids,'input_mask': input_mask,'input_type_ids': segment_ids})\n",
        "clf_output = output['pooled_output']"
      ],
      "execution_count": null,
      "outputs": []
    },
    {
      "cell_type": "code",
      "metadata": {
        "id": "ReRKFHjOHTO-"
      },
      "source": [
        "concat_layer = Concatenate()([clf_output,dense31])\n",
        "dense_layer= Dense(50, activation='relu')(concat_layer)\n",
        "output = Dense(5, activation='softmax')(dense_layer)\n",
        "\n",
        "model = Model(inputs=[input1,input2], outputs=output)"
      ],
      "execution_count": null,
      "outputs": []
    },
    {
      "cell_type": "code",
      "metadata": {
        "id": "azBtXasmHTRe"
      },
      "source": [
        "model.compile(loss='categorical_crossentropy', optimizer='adam', metrics=['acc'])"
      ],
      "execution_count": null,
      "outputs": []
    },
    {
      "cell_type": "code",
      "metadata": {
        "id": "H1wzp2ARHTT2",
        "colab": {
          "base_uri": "https://localhost:8080/"
        },
        "outputId": "f6658b3c-c63c-4566-9acb-71a5e3661b4b"
      },
      "source": [
        "print(model.summary())"
      ],
      "execution_count": null,
      "outputs": [
        {
          "output_type": "stream",
          "text": [
            "Model: \"model_10\"\n",
            "__________________________________________________________________________________________________\n",
            "Layer (type)                    Output Shape         Param #     Connected to                     \n",
            "==================================================================================================\n",
            "input_4 (InputLayer)            [(None, 17)]         0                                            \n",
            "__________________________________________________________________________________________________\n",
            "dense_6 (Dense)                 (None, 50)           900         input_4[0][0]                    \n",
            "__________________________________________________________________________________________________\n",
            "input_mask (InputLayer)         [(None, 100)]        0                                            \n",
            "__________________________________________________________________________________________________\n",
            "input_type_ids (InputLayer)     [(None, 100)]        0                                            \n",
            "__________________________________________________________________________________________________\n",
            "input_word_ids (InputLayer)     [(None, 100)]        0                                            \n",
            "__________________________________________________________________________________________________\n",
            "dense_7 (Dense)                 (None, 50)           2550        dense_6[0][0]                    \n",
            "__________________________________________________________________________________________________\n",
            "keras_layer_1 (KerasLayer)      {'sequence_output':  81130753    input_mask[0][0]                 \n",
            "                                                                 input_type_ids[0][0]             \n",
            "                                                                 input_word_ids[0][0]             \n",
            "__________________________________________________________________________________________________\n",
            "dense_8 (Dense)                 (None, 25)           1275        dense_7[0][0]                    \n",
            "__________________________________________________________________________________________________\n",
            "tf.concat_9 (TFOpLambda)        (None, 793)          0           keras_layer_1[4][9]              \n",
            "                                                                 dense_8[0][0]                    \n",
            "__________________________________________________________________________________________________\n",
            "dense_28 (Dense)                (None, 50)           39700       tf.concat_9[0][0]                \n",
            "__________________________________________________________________________________________________\n",
            "dense_29 (Dense)                (None, 6)            306         dense_28[0][0]                   \n",
            "==================================================================================================\n",
            "Total params: 81,175,484\n",
            "Trainable params: 81,175,483\n",
            "Non-trainable params: 1\n",
            "__________________________________________________________________________________________________\n",
            "None\n"
          ],
          "name": "stdout"
        }
      ]
    },
    {
      "cell_type": "code",
      "metadata": {
        "id": "6Ved0qqEHTWQ",
        "colab": {
          "base_uri": "https://localhost:8080/"
        },
        "outputId": "fa91d2d6-b514-4335-9d8c-361799613a2a"
      },
      "source": [
        "# the accuracy is not great and lesser than the plan vanilla NN and CONV1d network\n",
        "# We sill drop the augmented / additional features from the model - i.e. day of the week, quarter, Country and Location\n",
        "\n",
        "history = model.fit(x=[train_input,xtrain_input2], y=y_train21, epochs=20, verbose=1, validation_split=0.2)"
      ],
      "execution_count": null,
      "outputs": [
        {
          "output_type": "stream",
          "text": [
            "Epoch 1/20\n",
            "8/8 [==============================] - 3s 370ms/step - loss: 1.5520 - acc: 0.2559 - val_loss: 1.5970 - val_acc: 0.2344\n",
            "Epoch 2/20\n",
            "8/8 [==============================] - 2s 289ms/step - loss: 1.5499 - acc: 0.2992 - val_loss: 1.8848 - val_acc: 0.2344\n",
            "Epoch 3/20\n",
            "8/8 [==============================] - 2s 290ms/step - loss: 1.6494 - acc: 0.2953 - val_loss: 1.6876 - val_acc: 0.2344\n",
            "Epoch 4/20\n",
            "8/8 [==============================] - 2s 288ms/step - loss: 1.5453 - acc: 0.3346 - val_loss: 1.5364 - val_acc: 0.4062\n",
            "Epoch 5/20\n",
            "8/8 [==============================] - 2s 290ms/step - loss: 1.5489 - acc: 0.3346 - val_loss: 1.4821 - val_acc: 0.3906\n",
            "Epoch 6/20\n",
            "8/8 [==============================] - 2s 288ms/step - loss: 1.4921 - acc: 0.3110 - val_loss: 1.4641 - val_acc: 0.4219\n",
            "Epoch 7/20\n",
            "8/8 [==============================] - 2s 290ms/step - loss: 1.4607 - acc: 0.3504 - val_loss: 1.4567 - val_acc: 0.4531\n",
            "Epoch 8/20\n",
            "8/8 [==============================] - 2s 289ms/step - loss: 1.4474 - acc: 0.3819 - val_loss: 1.3993 - val_acc: 0.3750\n",
            "Epoch 9/20\n",
            "8/8 [==============================] - 2s 289ms/step - loss: 1.4170 - acc: 0.3661 - val_loss: 1.3569 - val_acc: 0.3594\n",
            "Epoch 10/20\n",
            "8/8 [==============================] - 2s 289ms/step - loss: 1.4212 - acc: 0.3937 - val_loss: 1.5509 - val_acc: 0.3594\n",
            "Epoch 11/20\n",
            "8/8 [==============================] - 2s 289ms/step - loss: 1.4491 - acc: 0.3937 - val_loss: 1.3175 - val_acc: 0.3750\n",
            "Epoch 12/20\n",
            "8/8 [==============================] - 2s 289ms/step - loss: 1.4397 - acc: 0.3701 - val_loss: 1.4417 - val_acc: 0.3906\n",
            "Epoch 13/20\n",
            "8/8 [==============================] - 2s 289ms/step - loss: 1.4831 - acc: 0.3937 - val_loss: 1.5671 - val_acc: 0.3594\n",
            "Epoch 14/20\n",
            "8/8 [==============================] - 2s 288ms/step - loss: 1.4557 - acc: 0.3622 - val_loss: 1.2995 - val_acc: 0.4219\n",
            "Epoch 15/20\n",
            "8/8 [==============================] - 2s 288ms/step - loss: 1.2908 - acc: 0.4567 - val_loss: 1.3365 - val_acc: 0.3906\n",
            "Epoch 16/20\n",
            "8/8 [==============================] - 2s 288ms/step - loss: 1.2966 - acc: 0.4567 - val_loss: 1.3046 - val_acc: 0.4531\n",
            "Epoch 17/20\n",
            "8/8 [==============================] - 2s 287ms/step - loss: 1.2895 - acc: 0.4528 - val_loss: 1.2756 - val_acc: 0.4531\n",
            "Epoch 18/20\n",
            "8/8 [==============================] - 2s 290ms/step - loss: 1.2538 - acc: 0.4764 - val_loss: 1.2730 - val_acc: 0.4062\n",
            "Epoch 19/20\n",
            "8/8 [==============================] - 2s 309ms/step - loss: 1.2509 - acc: 0.5039 - val_loss: 1.3324 - val_acc: 0.4531\n",
            "Epoch 20/20\n",
            "8/8 [==============================] - 2s 288ms/step - loss: 1.2419 - acc: 0.4606 - val_loss: 1.3192 - val_acc: 0.4531\n"
          ],
          "name": "stdout"
        }
      ]
    },
    {
      "cell_type": "code",
      "metadata": {
        "id": "5cKmn1jtHTYZ"
      },
      "source": [
        ""
      ],
      "execution_count": null,
      "outputs": []
    }
  ]
}