{
 "cells": [
  {
   "cell_type": "code",
   "execution_count": 1,
   "metadata": {},
   "outputs": [],
   "source": [
    "import pandas as pd\n",
    "import numpy as np\n",
    "import matplotlib.pyplot as plt"
   ]
  },
  {
   "cell_type": "code",
   "execution_count": 2,
   "metadata": {},
   "outputs": [],
   "source": [
    "df = pd.read_csv(\"accident_info.csv\")"
   ]
  },
  {
   "cell_type": "code",
   "execution_count": 3,
   "metadata": {},
   "outputs": [
    {
     "data": {
      "text/plain": [
       "(425, 11)"
      ]
     },
     "execution_count": 3,
     "metadata": {},
     "output_type": "execute_result"
    }
   ],
   "source": [
    "df.shape"
   ]
  },
  {
   "cell_type": "code",
   "execution_count": 4,
   "metadata": {},
   "outputs": [
    {
     "data": {
      "text/html": [
       "<div>\n",
       "<style scoped>\n",
       "    .dataframe tbody tr th:only-of-type {\n",
       "        vertical-align: middle;\n",
       "    }\n",
       "\n",
       "    .dataframe tbody tr th {\n",
       "        vertical-align: top;\n",
       "    }\n",
       "\n",
       "    .dataframe thead th {\n",
       "        text-align: right;\n",
       "    }\n",
       "</style>\n",
       "<table border=\"1\" class=\"dataframe\">\n",
       "  <thead>\n",
       "    <tr style=\"text-align: right;\">\n",
       "      <th></th>\n",
       "      <th>Unnamed: 0</th>\n",
       "      <th>Data</th>\n",
       "      <th>Countries</th>\n",
       "      <th>Local</th>\n",
       "      <th>Industry Sector</th>\n",
       "      <th>Accident Level</th>\n",
       "      <th>Potential Accident Level</th>\n",
       "      <th>Genre</th>\n",
       "      <th>Employee or Third Party</th>\n",
       "      <th>Critical Risk</th>\n",
       "      <th>Description</th>\n",
       "    </tr>\n",
       "  </thead>\n",
       "  <tbody>\n",
       "    <tr>\n",
       "      <th>0</th>\n",
       "      <td>0</td>\n",
       "      <td>2016-01-01 00:00:00</td>\n",
       "      <td>Country_01</td>\n",
       "      <td>Local_01</td>\n",
       "      <td>Mining</td>\n",
       "      <td>I</td>\n",
       "      <td>IV</td>\n",
       "      <td>Male</td>\n",
       "      <td>Third Party</td>\n",
       "      <td>Pressed</td>\n",
       "      <td>While removing the drill rod of the Jumbo 08 f...</td>\n",
       "    </tr>\n",
       "    <tr>\n",
       "      <th>1</th>\n",
       "      <td>1</td>\n",
       "      <td>2016-01-02 00:00:00</td>\n",
       "      <td>Country_02</td>\n",
       "      <td>Local_02</td>\n",
       "      <td>Mining</td>\n",
       "      <td>I</td>\n",
       "      <td>IV</td>\n",
       "      <td>Male</td>\n",
       "      <td>Employee</td>\n",
       "      <td>Pressurized Systems</td>\n",
       "      <td>During the activation of a sodium sulphide pum...</td>\n",
       "    </tr>\n",
       "    <tr>\n",
       "      <th>2</th>\n",
       "      <td>2</td>\n",
       "      <td>2016-01-06 00:00:00</td>\n",
       "      <td>Country_01</td>\n",
       "      <td>Local_03</td>\n",
       "      <td>Mining</td>\n",
       "      <td>I</td>\n",
       "      <td>III</td>\n",
       "      <td>Male</td>\n",
       "      <td>Third Party (Remote)</td>\n",
       "      <td>Manual Tools</td>\n",
       "      <td>In the sub-station MILPO located at level +170...</td>\n",
       "    </tr>\n",
       "    <tr>\n",
       "      <th>3</th>\n",
       "      <td>3</td>\n",
       "      <td>2016-01-08 00:00:00</td>\n",
       "      <td>Country_01</td>\n",
       "      <td>Local_04</td>\n",
       "      <td>Mining</td>\n",
       "      <td>I</td>\n",
       "      <td>I</td>\n",
       "      <td>Male</td>\n",
       "      <td>Third Party</td>\n",
       "      <td>Others</td>\n",
       "      <td>Being 9:45 am. approximately in the Nv. 1880 C...</td>\n",
       "    </tr>\n",
       "    <tr>\n",
       "      <th>4</th>\n",
       "      <td>4</td>\n",
       "      <td>2016-01-10 00:00:00</td>\n",
       "      <td>Country_01</td>\n",
       "      <td>Local_04</td>\n",
       "      <td>Mining</td>\n",
       "      <td>IV</td>\n",
       "      <td>IV</td>\n",
       "      <td>Male</td>\n",
       "      <td>Third Party</td>\n",
       "      <td>Others</td>\n",
       "      <td>Approximately at 11:45 a.m. in circumstances t...</td>\n",
       "    </tr>\n",
       "  </tbody>\n",
       "</table>\n",
       "</div>"
      ],
      "text/plain": [
       "   Unnamed: 0                 Data   Countries     Local Industry Sector  \\\n",
       "0           0  2016-01-01 00:00:00  Country_01  Local_01          Mining   \n",
       "1           1  2016-01-02 00:00:00  Country_02  Local_02          Mining   \n",
       "2           2  2016-01-06 00:00:00  Country_01  Local_03          Mining   \n",
       "3           3  2016-01-08 00:00:00  Country_01  Local_04          Mining   \n",
       "4           4  2016-01-10 00:00:00  Country_01  Local_04          Mining   \n",
       "\n",
       "  Accident Level Potential Accident Level Genre Employee or Third Party  \\\n",
       "0              I                       IV  Male             Third Party   \n",
       "1              I                       IV  Male                Employee   \n",
       "2              I                      III  Male    Third Party (Remote)   \n",
       "3              I                        I  Male             Third Party   \n",
       "4             IV                       IV  Male             Third Party   \n",
       "\n",
       "         Critical Risk                                        Description  \n",
       "0              Pressed  While removing the drill rod of the Jumbo 08 f...  \n",
       "1  Pressurized Systems  During the activation of a sodium sulphide pum...  \n",
       "2         Manual Tools  In the sub-station MILPO located at level +170...  \n",
       "3               Others  Being 9:45 am. approximately in the Nv. 1880 C...  \n",
       "4               Others  Approximately at 11:45 a.m. in circumstances t...  "
      ]
     },
     "execution_count": 4,
     "metadata": {},
     "output_type": "execute_result"
    }
   ],
   "source": [
    "df.head()"
   ]
  },
  {
   "cell_type": "code",
   "execution_count": 5,
   "metadata": {},
   "outputs": [
    {
     "data": {
      "text/plain": [
       "'Being 9:45 am. approximately in the Nv. 1880 CX-695 OB7, the personnel begins the task of unlocking the Soquet bolts of the BHB machine, when they were in the penultimate bolt they identified that the hexagonal head was worn, proceeding Mr. Cristóbal - Auxiliary assistant to climb to the platform to exert pressure with your hand on the \"DADO\" key, to prevent it from coming out of the bolt; in those moments two collaborators rotate with the lever in anti-clockwise direction, leaving the key of the bolt, hitting the palm of the left hand, causing the injury.'"
      ]
     },
     "execution_count": 5,
     "metadata": {},
     "output_type": "execute_result"
    }
   ],
   "source": [
    "df.Description[3]"
   ]
  },
  {
   "cell_type": "code",
   "execution_count": 6,
   "metadata": {},
   "outputs": [
    {
     "data": {
      "text/html": [
       "<div>\n",
       "<style scoped>\n",
       "    .dataframe tbody tr th:only-of-type {\n",
       "        vertical-align: middle;\n",
       "    }\n",
       "\n",
       "    .dataframe tbody tr th {\n",
       "        vertical-align: top;\n",
       "    }\n",
       "\n",
       "    .dataframe thead th {\n",
       "        text-align: right;\n",
       "    }\n",
       "</style>\n",
       "<table border=\"1\" class=\"dataframe\">\n",
       "  <thead>\n",
       "    <tr style=\"text-align: right;\">\n",
       "      <th></th>\n",
       "      <th>Unnamed: 0</th>\n",
       "      <th>Data</th>\n",
       "      <th>Countries</th>\n",
       "      <th>Local</th>\n",
       "      <th>Accident Level</th>\n",
       "      <th>Potential Accident Level</th>\n",
       "      <th>Genre</th>\n",
       "      <th>Employee or Third Party</th>\n",
       "      <th>Critical Risk</th>\n",
       "      <th>Description</th>\n",
       "    </tr>\n",
       "    <tr>\n",
       "      <th>Industry Sector</th>\n",
       "      <th></th>\n",
       "      <th></th>\n",
       "      <th></th>\n",
       "      <th></th>\n",
       "      <th></th>\n",
       "      <th></th>\n",
       "      <th></th>\n",
       "      <th></th>\n",
       "      <th></th>\n",
       "      <th></th>\n",
       "    </tr>\n",
       "  </thead>\n",
       "  <tbody>\n",
       "    <tr>\n",
       "      <th>Metals</th>\n",
       "      <td>134</td>\n",
       "      <td>134</td>\n",
       "      <td>134</td>\n",
       "      <td>134</td>\n",
       "      <td>134</td>\n",
       "      <td>134</td>\n",
       "      <td>134</td>\n",
       "      <td>134</td>\n",
       "      <td>134</td>\n",
       "      <td>134</td>\n",
       "    </tr>\n",
       "    <tr>\n",
       "      <th>Mining</th>\n",
       "      <td>241</td>\n",
       "      <td>241</td>\n",
       "      <td>241</td>\n",
       "      <td>241</td>\n",
       "      <td>241</td>\n",
       "      <td>241</td>\n",
       "      <td>241</td>\n",
       "      <td>241</td>\n",
       "      <td>241</td>\n",
       "      <td>241</td>\n",
       "    </tr>\n",
       "    <tr>\n",
       "      <th>Others</th>\n",
       "      <td>50</td>\n",
       "      <td>50</td>\n",
       "      <td>50</td>\n",
       "      <td>50</td>\n",
       "      <td>50</td>\n",
       "      <td>50</td>\n",
       "      <td>50</td>\n",
       "      <td>50</td>\n",
       "      <td>50</td>\n",
       "      <td>50</td>\n",
       "    </tr>\n",
       "  </tbody>\n",
       "</table>\n",
       "</div>"
      ],
      "text/plain": [
       "                 Unnamed: 0  Data  Countries  Local  Accident Level  \\\n",
       "Industry Sector                                                       \n",
       "Metals                  134   134        134    134             134   \n",
       "Mining                  241   241        241    241             241   \n",
       "Others                   50    50         50     50              50   \n",
       "\n",
       "                 Potential Accident Level  Genre  Employee or Third Party  \\\n",
       "Industry Sector                                                             \n",
       "Metals                                134    134                      134   \n",
       "Mining                                241    241                      241   \n",
       "Others                                 50     50                       50   \n",
       "\n",
       "                 Critical Risk  Description  \n",
       "Industry Sector                              \n",
       "Metals                     134          134  \n",
       "Mining                     241          241  \n",
       "Others                      50           50  "
      ]
     },
     "execution_count": 6,
     "metadata": {},
     "output_type": "execute_result"
    }
   ],
   "source": [
    "df.groupby('Industry Sector').count()"
   ]
  },
  {
   "cell_type": "code",
   "execution_count": 7,
   "metadata": {},
   "outputs": [
    {
     "data": {
      "text/plain": [
       "0    While removing the drill rod of the Jumbo 08 f...\n",
       "1    During the activation of a sodium sulphide pum...\n",
       "2    In the sub-station MILPO located at level +170...\n",
       "3    Being 9:45 am. approximately in the Nv. 1880 C...\n",
       "4    Approximately at 11:45 a.m. in circumstances t...\n",
       "Name: Description, dtype: object"
      ]
     },
     "execution_count": 7,
     "metadata": {},
     "output_type": "execute_result"
    }
   ],
   "source": [
    "df.Description.head()"
   ]
  },
  {
   "cell_type": "code",
   "execution_count": 8,
   "metadata": {},
   "outputs": [
    {
     "name": "stderr",
     "output_type": "stream",
     "text": [
      "[nltk_data] Downloading package wordnet to /Users/chethee/nltk_data...\n",
      "[nltk_data]   Package wordnet is already up-to-date!\n",
      "[nltk_data] Downloading package stopwords to\n",
      "[nltk_data]     /Users/chethee/nltk_data...\n",
      "[nltk_data]   Package stopwords is already up-to-date!\n"
     ]
    }
   ],
   "source": [
    "import pre_processor as pp"
   ]
  },
  {
   "cell_type": "code",
   "execution_count": 9,
   "metadata": {},
   "outputs": [],
   "source": [
    "import model_efficiency as me"
   ]
  },
  {
   "cell_type": "code",
   "execution_count": 37,
   "metadata": {},
   "outputs": [],
   "source": [
    "from sklearn.model_selection import train_test_split\n",
    "from sklearn.metrics import accuracy_score, classification_report"
   ]
  },
  {
   "cell_type": "code",
   "execution_count": 11,
   "metadata": {},
   "outputs": [],
   "source": [
    "prepare_data = pp.pre_process_data()"
   ]
  },
  {
   "cell_type": "code",
   "execution_count": 12,
   "metadata": {},
   "outputs": [],
   "source": [
    "df['modified_description'] = prepare_data.pre_process(df.Description,                    \n",
    "                                                        lower_flag=1, \n",
    "                                                        remove_spaces_flag=1, \n",
    "                                                        remove_new_line_flag=1,\n",
    "                                                        remove_special_char_flag=1,  \n",
    "                                                        remove_single_letter_word_flag=1,\n",
    "                                                        remove_two_letter_word_flag=1,\n",
    "                                                        remove_numbers_flag=1,  \n",
    "                                                        remove_stop_words_flag=1,  \n",
    "                                                        replace_appos_flag=1,\n",
    "                                                        lemmatize_the_words_flag=0, \n",
    "                                                        stem_the_words_flag=0)"
   ]
  },
  {
   "cell_type": "code",
   "execution_count": 13,
   "metadata": {},
   "outputs": [
    {
     "data": {
      "text/plain": [
       "0    removing drill rod jumbo maintenance superviso...\n",
       "1    activation sodium sulphide pump piping uncoupl...\n",
       "2    substation milpo located level collaborator ex...\n",
       "3    approximately cx personnel begins task unlocki...\n",
       "4    approximately circumstances mechanics anthony ...\n",
       "Name: modified_description, dtype: object"
      ]
     },
     "execution_count": 13,
     "metadata": {},
     "output_type": "execute_result"
    }
   ],
   "source": [
    "df['modified_description'].head()"
   ]
  },
  {
   "cell_type": "code",
   "execution_count": 14,
   "metadata": {},
   "outputs": [
    {
     "data": {
      "text/plain": [
       "0     IV\n",
       "1     IV\n",
       "2    III\n",
       "3      I\n",
       "4     IV\n",
       "Name: Potential Accident Level, dtype: object"
      ]
     },
     "execution_count": 14,
     "metadata": {},
     "output_type": "execute_result"
    }
   ],
   "source": [
    "df['Potential Accident Level'].head()"
   ]
  },
  {
   "cell_type": "code",
   "execution_count": 15,
   "metadata": {},
   "outputs": [
    {
     "data": {
      "text/plain": [
       "array(['IV', 'III', 'I', 'II', 'V', 'VI'], dtype=object)"
      ]
     },
     "execution_count": 15,
     "metadata": {},
     "output_type": "execute_result"
    }
   ],
   "source": [
    "df['Potential Accident Level'].unique()"
   ]
  },
  {
   "cell_type": "code",
   "execution_count": 16,
   "metadata": {},
   "outputs": [],
   "source": [
    "df['PAL_label'] = df['Potential Accident Level'].replace({'I' :0, 'II':1, 'III':2, 'IV':3, 'V':4, 'VI':4})"
   ]
  },
  {
   "cell_type": "code",
   "execution_count": 17,
   "metadata": {},
   "outputs": [
    {
     "data": {
      "text/plain": [
       "array([3, 2, 0, 1, 4])"
      ]
     },
     "execution_count": 17,
     "metadata": {},
     "output_type": "execute_result"
    }
   ],
   "source": [
    "df.PAL_label.unique()"
   ]
  },
  {
   "cell_type": "code",
   "execution_count": 18,
   "metadata": {},
   "outputs": [],
   "source": [
    "X_train, X_test, y_train, y_test = train_test_split(df.modified_description.values, df.PAL_label.values, test_size=0.2, random_state=53)"
   ]
  },
  {
   "cell_type": "code",
   "execution_count": 19,
   "metadata": {},
   "outputs": [
    {
     "name": "stdout",
     "output_type": "stream",
     "text": [
      "training dataset length: 340\n",
      "test dataset length: 85\n"
     ]
    }
   ],
   "source": [
    "print('training dataset length: {}'.format(X_train.shape[0]))\n",
    "print('test dataset length: {}'.format(X_test.shape[0]))"
   ]
  },
  {
   "cell_type": "code",
   "execution_count": 20,
   "metadata": {},
   "outputs": [
    {
     "name": "stdout",
     "output_type": "stream",
     "text": [
      "{0, 1, 2, 3, 4}\n"
     ]
    }
   ],
   "source": [
    "print(set(y_train))"
   ]
  },
  {
   "cell_type": "markdown",
   "metadata": {},
   "source": [
    "### Building Neural Network"
   ]
  },
  {
   "cell_type": "code",
   "execution_count": 21,
   "metadata": {},
   "outputs": [],
   "source": [
    "import tensorflow as tf\n",
    "from keras.utils.np_utils import to_categorical\n",
    "from tensorflow.keras.callbacks import ModelCheckpoint, EarlyStopping, ReduceLROnPlateau, TensorBoard\n",
    "from tensorflow.keras.preprocessing.text import Tokenizer\n",
    "from tensorflow.keras.preprocessing.sequence import pad_sequences\n",
    "from tensorflow.keras.models import Sequential\n",
    "from tensorflow.keras.layers import Dense, Dropout, BatchNormalization, Activation, Flatten,Embedding\n",
    "from tensorflow.keras.optimizers import Adam, SGD"
   ]
  },
  {
   "cell_type": "code",
   "execution_count": null,
   "metadata": {},
   "outputs": [],
   "source": []
  },
  {
   "cell_type": "markdown",
   "metadata": {},
   "source": [
    "#### Creating Sequences and padding for data"
   ]
  },
  {
   "cell_type": "code",
   "execution_count": 22,
   "metadata": {},
   "outputs": [],
   "source": [
    "embedding_dim = 50\n",
    "max_length = 500\n",
    "trunc_type='post'\n",
    "padding_type='post'\n",
    "oov_tok = \"<OOV>\""
   ]
  },
  {
   "cell_type": "code",
   "execution_count": 23,
   "metadata": {},
   "outputs": [],
   "source": [
    "tokenizer = Tokenizer(num_words=5000, oov_token=oov_tok)\n",
    "tokenizer.fit_on_texts(df.modified_description.values)\n",
    "word_index = tokenizer.word_index\n",
    "\n",
    "X_train_sequences = tokenizer.texts_to_sequences(X_train)\n",
    "X_train_padded = pad_sequences(X_train_sequences, maxlen = max_length, padding=padding_type, truncating=trunc_type)\n",
    "\n",
    "X_test_sequences = tokenizer.texts_to_sequences(X_test)\n",
    "X_test_padded = pad_sequences(X_test_sequences, maxlen = max_length, padding=padding_type, truncating=trunc_type)"
   ]
  },
  {
   "cell_type": "code",
   "execution_count": 24,
   "metadata": {},
   "outputs": [
    {
     "data": {
      "text/plain": [
       "2987"
      ]
     },
     "execution_count": 24,
     "metadata": {},
     "output_type": "execute_result"
    }
   ],
   "source": [
    "len(word_index)"
   ]
  },
  {
   "cell_type": "code",
   "execution_count": 25,
   "metadata": {},
   "outputs": [],
   "source": [
    "vocab_size = len(word_index)"
   ]
  },
  {
   "cell_type": "code",
   "execution_count": 26,
   "metadata": {},
   "outputs": [
    {
     "name": "stdout",
     "output_type": "stream",
     "text": [
      "{0, 1, 2, 3, 4}\n"
     ]
    }
   ],
   "source": [
    "print(set(y_train))"
   ]
  },
  {
   "cell_type": "code",
   "execution_count": 27,
   "metadata": {},
   "outputs": [],
   "source": [
    "y_train_cat = to_categorical(y_train,5)\n",
    "y_test_cat = to_categorical(y_test,5)"
   ]
  },
  {
   "cell_type": "code",
   "execution_count": 28,
   "metadata": {},
   "outputs": [
    {
     "name": "stdout",
     "output_type": "stream",
     "text": [
      "[[0. 0. 1. 0. 0.]\n",
      " [1. 0. 0. 0. 0.]\n",
      " [0. 0. 1. 0. 0.]]\n"
     ]
    }
   ],
   "source": [
    "print(y_train_cat[0:3])"
   ]
  },
  {
   "cell_type": "code",
   "execution_count": null,
   "metadata": {},
   "outputs": [],
   "source": []
  },
  {
   "cell_type": "code",
   "execution_count": 29,
   "metadata": {},
   "outputs": [],
   "source": [
    "def model_nn():\n",
    "    model = Sequential()\n",
    "    model.add(Embedding(vocab_size+1, embedding_dim, input_length=max_length))\n",
    "    model.add(Flatten())\n",
    "    model.add(Dense(256, activation='relu'))\n",
    "    model.add(Dropout(0.2))\n",
    "    model.add(Dense(128, activation='relu'))\n",
    "    model.add(Dropout(0.2))\n",
    "    model.add(Dense(5, activation='softmax'))\n",
    "    adam=Adam(lr=0.001)\n",
    "    model.compile(loss='categorical_crossentropy', optimizer=adam, metrics=['accuracy'])\n",
    "    return model"
   ]
  },
  {
   "cell_type": "code",
   "execution_count": 30,
   "metadata": {},
   "outputs": [],
   "source": [
    "def model_train(x_train,y_train,x_val, y_val):\n",
    "    esc = EarlyStopping(patience=5, verbose=1, monitor='val_loss')\n",
    "    rlp = ReduceLROnPlateau(min_lr=0.00001, factor=0.1, patience=3, monitor='val_loss', verbose=1)\n",
    "    mc = ModelCheckpoint(\"model\", save_best=True, save_weights_only=True)\n",
    "    cl_model = model_nn()\n",
    "    history = cl_model.fit(x_train, y_train, validation_data=(x_val, y_val), callbacks=[ esc, rlp, mc], batch_size=50, epochs =30 , verbose = 1)\n",
    "    return cl_model, history"
   ]
  },
  {
   "cell_type": "code",
   "execution_count": 31,
   "metadata": {},
   "outputs": [
    {
     "name": "stdout",
     "output_type": "stream",
     "text": [
      "Epoch 1/30\n",
      "7/7 [==============================] - 2s 213ms/step - loss: 1.6176 - accuracy: 0.2387 - val_loss: 1.4875 - val_accuracy: 0.3647\n",
      "Epoch 2/30\n",
      "7/7 [==============================] - 1s 98ms/step - loss: 1.5626 - accuracy: 0.2668 - val_loss: 1.4901 - val_accuracy: 0.3647\n",
      "Epoch 3/30\n",
      "7/7 [==============================] - 1s 82ms/step - loss: 1.4833 - accuracy: 0.3634 - val_loss: 1.4743 - val_accuracy: 0.3647\n",
      "Epoch 4/30\n",
      "7/7 [==============================] - 1s 75ms/step - loss: 1.4873 - accuracy: 0.3517 - val_loss: 1.4657 - val_accuracy: 0.3647\n",
      "Epoch 5/30\n",
      "7/7 [==============================] - 1s 86ms/step - loss: 1.4586 - accuracy: 0.3697 - val_loss: 1.4703 - val_accuracy: 0.3647\n",
      "Epoch 6/30\n",
      "7/7 [==============================] - 1s 101ms/step - loss: 1.3942 - accuracy: 0.4097 - val_loss: 1.4352 - val_accuracy: 0.3647\n",
      "Epoch 7/30\n",
      "7/7 [==============================] - 1s 162ms/step - loss: 1.2849 - accuracy: 0.4581 - val_loss: 1.4036 - val_accuracy: 0.4353\n",
      "Epoch 8/30\n",
      "7/7 [==============================] - 1s 75ms/step - loss: 1.1757 - accuracy: 0.6051 - val_loss: 1.3618 - val_accuracy: 0.3882\n",
      "Epoch 9/30\n",
      "7/7 [==============================] - 0s 71ms/step - loss: 0.9313 - accuracy: 0.6542 - val_loss: 1.3855 - val_accuracy: 0.4471\n",
      "Epoch 10/30\n",
      "7/7 [==============================] - 1s 77ms/step - loss: 0.7084 - accuracy: 0.8442 - val_loss: 1.3184 - val_accuracy: 0.3765\n",
      "Epoch 11/30\n",
      "7/7 [==============================] - 1s 85ms/step - loss: 0.5204 - accuracy: 0.8978 - val_loss: 1.3148 - val_accuracy: 0.4000\n",
      "Epoch 12/30\n",
      "7/7 [==============================] - 0s 67ms/step - loss: 0.2956 - accuracy: 0.9589 - val_loss: 1.3591 - val_accuracy: 0.3765\n",
      "Epoch 13/30\n",
      "7/7 [==============================] - 1s 74ms/step - loss: 0.1869 - accuracy: 0.9786 - val_loss: 1.3918 - val_accuracy: 0.4118\n",
      "Epoch 14/30\n",
      "7/7 [==============================] - 0s 68ms/step - loss: 0.1032 - accuracy: 0.9928 - val_loss: 1.4158 - val_accuracy: 0.3882\n",
      "\n",
      "Epoch 00014: ReduceLROnPlateau reducing learning rate to 0.00010000000474974513.\n",
      "Epoch 15/30\n",
      "7/7 [==============================] - 1s 96ms/step - loss: 0.0656 - accuracy: 1.0000 - val_loss: 1.4270 - val_accuracy: 0.4000\n",
      "Epoch 16/30\n",
      "7/7 [==============================] - 1s 90ms/step - loss: 0.0651 - accuracy: 0.9851 - val_loss: 1.4128 - val_accuracy: 0.3882\n",
      "Epoch 00016: early stopping\n"
     ]
    }
   ],
   "source": [
    "cl_model, history=model_train(X_train_padded,y_train_cat, X_test_padded, y_test_cat)"
   ]
  },
  {
   "cell_type": "code",
   "execution_count": 32,
   "metadata": {},
   "outputs": [
    {
     "data": {
      "image/png": "[encoded data removed]",
      "text/plain": [
       "<Figure size 432x288 with 1 Axes>"
      ]
     },
     "metadata": {
      "needs_background": "light"
     },
     "output_type": "display_data"
    }
   ],
   "source": [
    "plt.plot(history.history['loss'])\n",
    "plt.plot(history.history['val_loss'])\n",
    "plt.title('model loss')\n",
    "plt.ylabel('loss')\n",
    "plt.xlabel('epoch')\n",
    "plt.legend(['train', 'test'], loc='upper left')\n",
    "plt.show()"
   ]
  },
  {
   "cell_type": "code",
   "execution_count": 33,
   "metadata": {},
   "outputs": [],
   "source": [
    "pred = (np.argmax(cl_model.predict(X_test_padded), axis=-1))"
   ]
  },
  {
   "cell_type": "code",
   "execution_count": 34,
   "metadata": {},
   "outputs": [
    {
     "data": {
      "image/png": "[encoded data removed]",
      "text/plain": [
       "<Figure size 432x288 with 2 Axes>"
      ]
     },
     "metadata": {
      "needs_background": "light"
     },
     "output_type": "display_data"
    }
   ],
   "source": [
    "me.fn_confusion_matrix(title=\"Model 4: Neural Network\",y_test=y_test, y_predict= pred)"
   ]
  },
  {
   "cell_type": "code",
   "execution_count": 35,
   "metadata": {},
   "outputs": [],
   "source": [
    "y_test=pd.DataFrame(y_test).replace({0:'I', 1:'II', 2:'III', 3:'IV', 4:'V'})\n",
    "pred=pd.DataFrame(pred).replace({0:'I', 1:'II', 2:'III', 3:'IV', 4:'V'})"
   ]
  },
  {
   "cell_type": "code",
   "execution_count": 38,
   "metadata": {},
   "outputs": [
    {
     "name": "stdout",
     "output_type": "stream",
     "text": [
      "              precision    recall  f1-score   support\n",
      "\n",
      "           I       1.00      0.18      0.31        11\n",
      "          II       0.00      0.00      0.00        14\n",
      "         III       0.29      0.65      0.41        23\n",
      "          IV       0.50      0.48      0.49        31\n",
      "           V       0.50      0.17      0.25         6\n",
      "\n",
      "    accuracy                           0.39        85\n",
      "   macro avg       0.46      0.30      0.29        85\n",
      "weighted avg       0.43      0.39      0.35        85\n",
      "\n"
     ]
    },
    {
     "name": "stderr",
     "output_type": "stream",
     "text": [
      "/Users/chethee/opt/anaconda3/lib/python3.8/site-packages/sklearn/metrics/_classification.py:1221: UndefinedMetricWarning: Precision and F-score are ill-defined and being set to 0.0 in labels with no predicted samples. Use `zero_division` parameter to control this behavior.\n",
      "  _warn_prf(average, modifier, msg_start, len(result))\n"
     ]
    }
   ],
   "source": [
    "print(classification_report(y_test,pred))"
   ]
  },
  {
   "cell_type": "code",
   "execution_count": null,
   "metadata": {},
   "outputs": [],
   "source": []
  }
 ],
 "metadata": {
  "kernelspec": {
   "display_name": "Python 3",
   "language": "python",
   "name": "python3"
  },
  "language_info": {
   "codemirror_mode": {
    "name": "ipython",
    "version": 3
   },
   "file_extension": ".py",
   "mimetype": "text/x-python",
   "name": "python",
   "nbconvert_exporter": "python",
   "pygments_lexer": "ipython3",
   "version": "3.8.3"
  }
 },
 "nbformat": 4,
 "nbformat_minor": 4
}
